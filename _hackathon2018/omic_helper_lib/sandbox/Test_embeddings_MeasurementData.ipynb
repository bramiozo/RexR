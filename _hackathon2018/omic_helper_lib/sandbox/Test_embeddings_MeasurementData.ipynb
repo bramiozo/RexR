{
 "cells": [
  {
   "cell_type": "markdown",
   "metadata": {},
   "source": [
    "# Embeddings to test\n",
    "\n",
    "* UMAP\n",
    "* t-SNE\n",
    "* Parametric UMAP (part of UMAP)\n",
    "* DenseMap (part of UMAP)\n",
    "* [PacMap](https://github.com/YingfanWang/PaCMAP)\n",
    "* [TriMap](https://github.com/eamid/trimap)\n",
    "* PCA\n",
    "* Laplacian eigenmaps\n",
    "* MDS\n",
    "* Isomap\n",
    "* [MDE](https://github.com/cvxgrp/pymde)\n",
    "* [PHATE](https://github.com/KrishnaswamyLab/PHATE)\n",
    "* ForceAtlas2\n",
    "* dbMAP\n",
    "\n",
    "\n",
    "# Experiments\n",
    "\n",
    "* distance/distance-rank preservation with varying ```n_neighbors```, ```n_components``` and ```min_dist```, measured with Pearson's corr.\n",
    "* hierarchical embedding: original -> 1000d -> 100d -> 2d\n",
    "* negative test: does it magically create clusters? Test using a high dimensional Gaussian\n",
    "\n",
    "\n",
    "Metrics:\n",
    "* Spearman rank correlation between samples\n",
    "* Pearson correlation of distances\n",
    "* Distance correlation of distances\n",
    "* Average Jaccard distance\n",
    "* kNN accuracy and recall\n"
   ]
  },
  {
   "cell_type": "code",
   "execution_count": 1,
   "metadata": {},
   "outputs": [
    {
     "name": "stdout",
     "output_type": "stream",
     "text": [
      "None\n",
      "None\n"
     ]
    }
   ],
   "source": [
    "%load_ext autoreload\n",
    "%autoreload 1\n",
    "%aimport omic_helpers\n",
    "%matplotlib inline\n",
    "\n",
    "from omic_helpers.graph import embedding as graph_embedding\n",
    "from omic_helpers.graph import clustering as graph_clustering\n",
    "\n",
    "\n",
    "from sklearn import datasets\n",
    "from sklearn.preprocessing import StandardScaler, QuantileTransformer, RobustScaler, MinMaxScaler, FunctionTransformer\n",
    "from matplotlib import pyplot as plt\n",
    "import seaborn as sns\n",
    "import numpy as np\n",
    "from scipy.stats import chisquare, chi2_contingency, pearsonr\n",
    "from scipy.stats import kendalltau,spearmanr, weightedtau, theilslopes, wilcoxon, ttest_rel\n",
    "from scipy.spatial import distance\n",
    "import dcor\n",
    "\n",
    "import umap\n",
    "import pacmap\n",
    "import trimap\n",
    "import pymde\n",
    "import dbmap\n",
    "import numba\n",
    "import ugtm\n",
    "\n",
    "import pandas as pd\n",
    "import seaborn as sns\n",
    "import skfuzzy as  fuzz\n",
    "\n",
    "from sklearn.pipeline import Pipeline\n",
    "\n",
    "from sklearn.decomposition import PCA, KernelPCA, SparsePCA, NMF, FactorAnalysis\n",
    "from sklearn.manifold import Isomap, MDS, SpectralEmbedding\n",
    "from sklearn.manifold import LocallyLinearEmbedding as LLE, TSNE, smacof, trustworthiness\n",
    "from tqdm import tqdm\n",
    "\n",
    "from scipy.sparse import csr_matrix\n",
    "\n",
    "import gc"
   ]
  },
  {
   "cell_type": "code",
   "execution_count": 2,
   "metadata": {},
   "outputs": [],
   "source": [
    "from sklearn.random_projection import GaussianRandomProjection as GRP\n",
    "from sklearn.random_projection import johnson_lindenstrauss_min_dim as min_dim\n",
    "\n",
    "from sklearn.kernel_approximation import Nystroem"
   ]
  },
  {
   "cell_type": "code",
   "execution_count": 3,
   "metadata": {},
   "outputs": [],
   "source": [
    "from sklearn.metrics import rand_score, adjusted_mutual_info_score, adjusted_rand_score\n",
    "from sklearn.metrics import calinski_harabasz_score, davies_bouldin_score\n",
    "from sklearn.neighbors import KNeighborsClassifier as KNN, NeighborhoodComponentsAnalysis as NCA\n",
    "from sklearn.cluster import KMeans"
   ]
  },
  {
   "cell_type": "code",
   "execution_count": 4,
   "metadata": {},
   "outputs": [],
   "source": [
    "def get_intra_sample_distances(X, how='euclidean'):\n",
    "    if how == 'euclidean':  \n",
    "        return distance.pdist(X)\n",
    "\n",
    "# from trimap paper \n",
    "def global_score(X, Y):\n",
    "    \"\"\"\n",
    "    Global score, wrt PCA\n",
    "    Input\n",
    "    ------\n",
    "    X: Instance matrix\n",
    "    Y: Embedding\n",
    "    \"\"\"\n",
    "\n",
    "    def global_loss_(X, Y):\n",
    "        # least squares loss of embedding\n",
    "        X = X - np.mean(X, axis=0)\n",
    "        Y = Y - np.mean(Y, axis=0)\n",
    "        A = X.T @ (Y @ np.linalg.inv(Y.T @ Y))\n",
    "        return np.mean(np.power(X.T - A @ Y.T, 2))\n",
    "\n",
    "    n_dims = Y.shape[1]\n",
    "    Y_pca = PCA(n_components=n_dims).fit_transform(X)\n",
    "    gs_pca = global_loss_(X, Y_pca)\n",
    "    gs_emb = global_loss_(X, Y)\n",
    "    return np.exp(-(gs_emb - gs_pca) / gs_pca)"
   ]
  },
  {
   "cell_type": "markdown",
   "metadata": {},
   "source": [
    "- [x] \n",
    " * [Sammon mapping](https://arxiv.org/pdf/2009.08136.pdf): \n",
    " * landmark maximum variance unfolding \n",
    " * Landmark MDS\n",
    " * [GSOM](https://github.com/CDAC-lab/pygsom/tree/master/gsom):  -> never mind this is a clustering method..\n",
    " * SMACOF\n",
    " * KernelPCA, PCA, SparsePCA\n",
    " * Factor Analysis\n",
    " * Isomap\n",
    " * Spectral Embedding/Laplacian eigenmap\n",
    " * UMAP\n",
    " * PacMap\n",
    " * t-SNE\n",
    " * dbMAP\n",
    " * Sammon\n",
    " * LLE\n",
    " * NMF\n",
    " * MDS\n",
    " * Trimap\n",
    " * NCA with k-means/medoids as labels\n",
    " \n",
    "- [ ]\n",
    " * [Generative Topographic Mapping (GTM)](https://ugtm.readthedocs.io/en/latest/eGTM_transformer.html)\n",
    " * [IVIS](https://github.com/beringresearch/ivis): [paper](https://www.nature.com/articles/s41598-019-45301-0)\n",
    " * [FactorizedEmbeddings](https://github.com/TrofimovAssya/FactorizedEmbeddings): [paper](https://academic.oup.com/bioinformatics/article/36/Supplement_1/i417/5870511)\n",
    " * [Diffeomap](): diffeomorphic dimensionality reduction Diffeomap\n",
    " * HOPE: karateclub\n",
    "    * custom autoencoder \n",
    "    * RankVisu\n",
    "    * FastMap MDS: https://github.com/shawn-davis/FastMapy\n",
    "    * MetricMap\n",
    "    * SparseMap: https://github.com/vene/sparsemap\n",
    "    * growing curvilinear component analysis\n",
    "    * curvilinear distance analysis\n",
    "    * autoencoder NeuroScale\n",
    "    * PHATE\n",
    "    * GPLVM\n",
    "    * FA\n",
    "    * Nonlinear PCA\n",
    "    * SDNE \n",
    "    * GCN\n",
    "    * Graph Factorisation\n",
    "    * [opt-SNE](https://github.com/omiq-ai/Multicore-opt-SNE): \n",
    "    *  Poincare embedding : https://github.com/facebookresearch/poincare-embeddings\n",
    "    * NN-graph/Parametric UMAP -> GraphSage/Node2Vec/etc.. see NetworkX and karateclub!\n",
    "    * https://github.com/benedekrozemberczki/karateclub\n",
    "    * [GEM benchmark](https://github.com/palash1992/GEM-Benchmark), [GEM git](https://github.com/palash1992/GEM), [GEM paper](https://www.sciencedirect.com/science/article/pii/S0950705118301540)\n",
    "\n",
    "\n",
    "\n",
    "# testsuite\n",
    "* distance preservation, \n",
    "* trustworthiness, \n",
    "* topology preservation (https://github.com/scikit-tda, https://github.com/giotto-ai/giotto-tda)\n",
    "\n",
    "\n",
    "# Ideas\n",
    "\n",
    "* Use Bolt to accelerate NN-search: https://github.com/dblalock/bolt\n",
    "* benchmarks: https://www.nature.com/articles/s41598-019-45301-0\n",
    "* add custom encoder: https://discuss.pytorch.org/t/extracting-reduced-dimension-data-from-autoencoder-in-pytorch/56581\n"
   ]
  },
  {
   "cell_type": "markdown",
   "metadata": {},
   "source": [
    "# Test on genomic data"
   ]
  },
  {
   "cell_type": "code",
   "execution_count": 5,
   "metadata": {},
   "outputs": [],
   "source": [
    "# RNA expression data from ~1000 lung cancer patients\n",
    "RNAex = pd.read_feather(\"/media/bramiozo/DATA-FAST/genetic_expression/lung_cancer_2021/TCGA/Lung/Lung_RNAex.feather\")\n",
    "RNAex.set_index('index', inplace=True)\n",
    "RNAex = RNAex.loc[:, RNAex.columns[RNAex.var(axis=0)>0].values]"
   ]
  },
  {
   "cell_type": "code",
   "execution_count": 6,
   "metadata": {},
   "outputs": [
    {
     "data": {
      "text/plain": [
       "200"
      ]
     },
     "execution_count": 6,
     "metadata": {},
     "output_type": "execute_result"
    }
   ],
   "source": [
    "min_dim(RNAex.shape[0], eps=0.75)"
   ]
  },
  {
   "cell_type": "code",
   "execution_count": 7,
   "metadata": {},
   "outputs": [
    {
     "data": {
      "text/plain": [
       "[]"
      ]
     },
     "execution_count": 7,
     "metadata": {},
     "output_type": "execute_result"
    }
   ],
   "source": [
    "fig, ax = plt.subplots(figsize=(14,5))\n",
    "eps_range = np.arange(1, 100, 1)/100\n",
    "min_dims = [min_dim(RNAex.shape[0], eps=_eps) for _eps in eps_range]\n",
    "sns.lineplot(eps_range, min_dims, ax=ax)\n",
    "ax.axhline(1000, color='black')\n",
    "ax.semilogy()"
   ]
  },
  {
   "cell_type": "code",
   "execution_count": 8,
   "metadata": {},
   "outputs": [
    {
     "name": "stdout",
     "output_type": "stream",
     "text": [
      "TRIMAP(n_inliers=10, n_outliers=5, n_random=5, distance=euclidean, lr=0.015, n_iters=5000, weight_adj=500.0, apply_pca=True, opt_method=dbd, verbose=True, return_seq=False)\n"
     ]
    }
   ],
   "source": [
    "num_samples = 1000\n",
    "sample_size = 250\n",
    "sample_selection = np.random.randint(0,num_samples, sample_size)\n",
    "n_landmarks = 75\n",
    "\n",
    "n_n = 47\n",
    "reduce_dim = 25\n",
    "scaler = StandardScaler\n",
    "embedder_type = 'dbmap'\n",
    "\n",
    "\n",
    "embedder = {}\n",
    "embedder['nystrom'] = Nystroem(kernel='rbf', n_components=reduce_dim, random_state=1234)\n",
    "embedder['umap'] = umap.UMAP(n_components=reduce_dim, densmap=False, metric='euclidean',\n",
    "                             n_neighbors=n_n, min_dist=0., disconnection_distance=None)\n",
    "embedder['trimap'] = trimap.TRIMAP(n_dims=reduce_dim, n_iters=5000, lr=0.015);\n",
    "embedder['pacmap'] = pacmap.PaCMAP(n_dims=reduce_dim, n_neighbors=n_n)\n",
    "embedder['SpectralEmbedding'] = SpectralEmbedding(n_components=reduce_dim, n_neighbors=n_n)\n",
    "embedder['Isomap'] = Isomap(n_components=reduce_dim, n_neighbors=n_n)\n",
    "embedder['MDS'] = MDS(n_components=reduce_dim, metric='euclidean')\n",
    "embedder['KernelPCA'] = KernelPCA(n_components=reduce_dim, kernel='sigmoid')\n",
    "embedder['PCA'] = PCA(n_components=reduce_dim)\n",
    "embedder['SparsePCA'] = SparsePCA(n_components=reduce_dim, alpha=0.0001, n_jobs=8)\n",
    "embedder['FA'] = FactorAnalysis(n_components=reduce_dim, max_iter=1000)\n",
    "embedder['dbmap'] = dbmap.diffusion.Diffusor(n_components=120, ann_dist='euclidean')\n",
    "embedder['LLE'] = LLE(n_components=reduce_dim, n_neighbors=n_n, method='ltsa')\n",
    "embedder['NMF'] = NMF(n_components=reduce_dim, max_iter=10000)\n",
    "embedder['TSNE'] = TSNE(n_components=3, perplexity=50)\n",
    "embedder['Sammon'] = graph_embedding.Sammon(n_components=reduce_dim, n_neighbors=n_n,\n",
    "                                            max_iterations=250, learning_rate=0.1, init_type='PCA')\n",
    "embedder['MVU'] = graph_embedding.MaximumVarianceUnfolding(n_components=2, n_neighbors=n_n)\n",
    "embedder['LMVU'] = graph_embedding.LandmarkMaximumVarianceUnfolding(n_components=reduce_dim, \n",
    "                                                                     n_neighbors=n_n, \n",
    "                                                                     n_landmarks=n_landmarks)\n",
    "embedder['LMDS'] = graph_embedding.LandmarkMultiDimensionalScaling(n_components=reduce_dim,\n",
    "                                                                     n_landmarks=n_landmarks)\n",
    "embedder['GPR'] = GRP(n_components=reduce_dim, random_state=3231, eps=0.8)\n",
    "embedder['NCA'] = NCA(n_components=reduce_dim, random_state=3231)\n",
    "embedder['GTM'] = ugtm.ugtm_sklearn.eGTM(k=16, m=4, s=0.3, regul=0.1, \n",
    "                                        random_state=1234, niter=200, model='means')"
   ]
  },
  {
   "cell_type": "code",
   "execution_count": 10,
   "metadata": {},
   "outputs": [
    {
     "name": "stdout",
     "output_type": "stream",
     "text": [
      "Sparse input. Proceding without converting...\n",
      "Index-time parameters M: 30 n_threads: 10 efConstruction: 100 post:0\n",
      "Indexing time = 23.198467 (sec)\n",
      "Query-time parameter efSearch: 100\n",
      "kNN time total=13.231073 (sec), per query=0.011657 (sec), per query adjusted for thread number=0.116573 (sec)\n",
      "Automatically selected and multiscaled 93 diffusion components.\n",
      "Diffusion time = 38.859558 (sec), per sample=0.034237 (sec), per sample adjusted for thread number=0.342375 (sec)\n",
      "Input data is <class 'numpy.ndarray'> .Converting input to sparse...\n",
      "Index-time parameters M: 30 n_threads: 10 efConstruction: 100 post:0\n",
      "Indexing time = 0.101618 (sec)\n",
      "Query-time parameter efSearch: 100\n",
      "kNN time total=0.016962 (sec), per query=0.000015 (sec), per query adjusted for thread number=0.000149 (sec)\n",
      "Automatically selected and multiscaled 128 diffusion components.\n",
      "Diffusion time = 2.199420 (sec), per sample=0.001938 (sec), per sample adjusted for thread number=0.019378 (sec)\n"
     ]
    }
   ],
   "source": [
    "if embedder_type == 'dbmap':\n",
    "    pipe = Pipeline([('scaler', scaler()), \n",
    "                     ('prepmap', embedder['dbmap']), \n",
    "                     ('reducer', embedder['umap'])])\n",
    "    tts = embedder['dbmap'].fit_transform(csr_matrix(RNAex.values))\n",
    "    RNAembedded =np.array(pipe.fit_transform(tts))\n",
    "elif embedder_type == 'NMF':    \n",
    "    nonnegger = lambda x: x + 2*np.abs(np.min(x, axis=0))\n",
    "    nonnegger_F = FunctionTransformer(func=nonnegger)\n",
    "\n",
    "    pipe = Pipeline([('scaler', scaler()), \n",
    "                     ('nngr', nonnegger_F), \n",
    "                     ('reducer', embedder['NMF'])])\n",
    "    RNAembedded = pipe.fit_transform(RNAex)\n",
    "elif embedder_type == 'SMACOF':\n",
    "    try:\n",
    "        dissimilarities;\n",
    "    except NameError:\n",
    "        # np.abs(np.log(similarities))\n",
    "        #dissimilarities = 1 - spearmanr(RNAex.values, axis=1)[0]\n",
    "        dissimilarities = distance.squareform(distance.pdist(RNAex.values, metric='seuclidean'))\n",
    "    RNAembedded = smacof(dissimilarities, n_components=reduce_dim, max_iter=300, eps=1e-3, n_jobs=4)[0]\n",
    "elif embedder_type == 'NCA':\n",
    "    pipe = Pipeline([('scaler', scaler()), \n",
    "                     ('reducer', embedder[embedder_type])]) \n",
    "    km = KMeans(n_clusters=25).fit(StandardScaler().fit_transform(RNAex))\n",
    "    y = km.labels_\n",
    "    RNAembedded = pipe.fit_transform(RNAex, y)\n",
    "else:\n",
    "    pipe = Pipeline([('scaler', scaler()), \n",
    "                     ('reducer', embedder[embedder_type])])\n",
    "    RNAembedded = pipe.fit_transform(RNAex)"
   ]
  },
  {
   "cell_type": "code",
   "execution_count": 11,
   "metadata": {},
   "outputs": [
    {
     "data": {
      "text/plain": [
       "Text(0.5, 1.0, 'RNAex distance preservation')"
      ]
     },
     "execution_count": 11,
     "metadata": {},
     "output_type": "execute_result"
    }
   ],
   "source": [
    "dist_or = get_intra_sample_distances(RNAex.iloc[sample_selection,:])\n",
    "dist_emb = get_intra_sample_distances(RNAembedded[sample_selection,:])\n",
    "\n",
    "dists = {'d_or': dist_or, 'd_emb': dist_emb}\n",
    "dist_preservation_overall = {'dataset': 'RNAex', \n",
    "                          'corr':dcor.distance_correlation(dist_or, dist_emb)}\n",
    "\n",
    "fig, ax = plt.subplots(figsize=(14,9))\n",
    "ax.scatter(x=dists['d_or'], y=dists['d_emb'], color='black', alpha=0.01)\n",
    "mx,my = max(dists['d_or']), max(dists['d_emb'])\n",
    "ax.plot([0,mx], [0, my], ls='--', c='blue')\n",
    "ax.set_title('RNAex distance preservation')\n",
    "\n",
    "# topology preservation?"
   ]
  },
  {
   "cell_type": "code",
   "execution_count": 12,
   "metadata": {},
   "outputs": [
    {
     "data": {
      "text/plain": [
       "KMeans(n_clusters=20)"
      ]
     },
     "execution_count": 12,
     "metadata": {},
     "output_type": "execute_result"
    }
   ],
   "source": [
    "# Rand/MI clustering\n",
    "kclusterer1 = KMeans(n_clusters=20)\n",
    "kclusterer1.fit(scaler().fit_transform(RNAex))"
   ]
  },
  {
   "cell_type": "code",
   "execution_count": 13,
   "metadata": {},
   "outputs": [
    {
     "name": "stdout",
     "output_type": "stream",
     "text": [
      "Distance preservation overall {'dataset': 'RNAex', 'corr': 0.1885600657905727}\n",
      "Intra-distance trustworthiness 0.9472908857088133\n",
      "Rand score 0.8865192022313901\n",
      "Adjusted Rand score 0.2470692282908527\n",
      "Adjusted MI score 0.4410178729711857\n",
      "Calinski-Harabasz ratio, lower than 1 means better clustering for embedding 0.21422651029418335\n",
      "David-Bouldin ratio, higher than 1 means better clustering for embedding 1.86323426622765\n",
      "Relative L2-loss 0.4852598554762117\n"
     ]
    }
   ],
   "source": [
    "# ADD kNN accuracy/recall \n",
    "# ADD add Fuzzy Partitioning Coefficient (with decreasing dimensionality FPC should decay)\n",
    "\n",
    "kclusterer2 = KMeans(n_clusters=20)\n",
    "kclusterer2.fit(RNAembedded)\n",
    "\n",
    "r_score =rand_score(kclusterer1.labels_, kclusterer2.labels_)\n",
    "ar_score = adjusted_rand_score(kclusterer1.labels_, kclusterer2.labels_)\n",
    "mi_score = adjusted_mutual_info_score(kclusterer1.labels_, kclusterer2.labels_)\n",
    "ch_score1 = calinski_harabasz_score(RNAex, kclusterer1.labels_)\n",
    "ch_score2 = calinski_harabasz_score(RNAembedded, kclusterer2.labels_)\n",
    "\n",
    "db_score1 = davies_bouldin_score(RNAex, kclusterer1.labels_)\n",
    "db_score2 = davies_bouldin_score(RNAembedded, kclusterer2.labels_)\n",
    "\n",
    "print(\"Distance preservation overall\", dist_preservation_overall)\n",
    "print(\"Intra-distance trustworthiness\", trustworthiness(RNAex, RNAembedded))\n",
    "print(\"Rand score\", r_score)\n",
    "print(\"Adjusted Rand score\", ar_score)\n",
    "print(\"Adjusted MI score\", mi_score)\n",
    "print(\"Calinski-Harabasz ratio, lower than 1 means better clustering for embedding\", ch_score1/ch_score2)\n",
    "print(\"David-Bouldin ratio, higher than 1 means better clustering for embedding\", db_score1/db_score2)\n",
    "print(\"Relative L2-loss\", global_score(RNAex.values, RNAembedded))"
   ]
  },
  {
   "cell_type": "code",
   "execution_count": 14,
   "metadata": {},
   "outputs": [],
   "source": [
    "plot_df = pd.DataFrame(data=RNAembedded, columns=['d'+'_'+str(i) for i in range(reduce_dim)], index=RNAex.index)\n",
    "meta = pd.read_feather(\"/media/bramiozo/DATA-FAST/genetic_expression/lung_cancer_2021/TCGA/Lung/Lung_meta.feather\")\n",
    "meta.set_index('SampleID', inplace=True)\n",
    "plot_df = plot_df.join(meta[['Diagnosis', 'Response']], how='left')"
   ]
  },
  {
   "cell_type": "code",
   "execution_count": 15,
   "metadata": {},
   "outputs": [],
   "source": [
    "reduce_dim_ = min([6, reduce_dim])\n",
    "if reduce_dim_>2:\n",
    "    num_rows = int(np.ceil((reduce_dim_)**2/3))\n",
    "    fig, ax = plt.subplots(ncols=3, nrows=num_rows, figsize=(18, 5*num_rows))\n",
    "    k = 0\n",
    "    for ki in range(reduce_dim_):\n",
    "        for kj in range(reduce_dim_): \n",
    "            i = int(k/3)\n",
    "            j = k%3\n",
    "            if num_rows > 1:\n",
    "                sns.scatterplot(data=plot_df, x='d_'+str(ki), y='d_'+str(kj), ax=ax[i,j], hue='Diagnosis', alpha=0.25)\n",
    "            else:\n",
    "                sns.scatterplot(data=plot_df, x='d_'+str(ki), y='d_'+str(kj), ax=ax[k], hue='Diagnosis', alpha=0.25)\n",
    "            k += 1\n",
    "else:\n",
    "    sns.scatterplot(data=plot_df, x='d_0', y='d_1', hue='Diagnosis', alpha=0.25)\n",
    "plt.show()"
   ]
  },
  {
   "cell_type": "code",
   "execution_count": 16,
   "metadata": {},
   "outputs": [
    {
     "name": "stderr",
     "output_type": "stream",
     "text": [
      "100%|██████████| 18/18 [00:00<00:00, 39.28it/s]\n"
     ]
    }
   ],
   "source": [
    "fpcs_embedded = []\n",
    "for ncenters in tqdm(range(2, 20)):\n",
    "    _, _, _, _, _, _, fpc = fuzz.cluster.cmeans(RNAembedded, ncenters, 3, error=0.005, maxiter=1000, init=None)\n",
    "    fpcs_embedded.append({'fpc': fpc, 'n_clusters': ncenters})"
   ]
  },
  {
   "cell_type": "code",
   "execution_count": 26,
   "metadata": {},
   "outputs": [
    {
     "name": "stderr",
     "output_type": "stream",
     "text": [
      "100%|██████████| 18/18 [00:07<00:00,  2.26it/s]\n"
     ]
    }
   ],
   "source": [
    "fpcs_full = []\n",
    "for ncenters in tqdm(range(2, 20)):    \n",
    "    _, _, _, _, _, _, fpc = fuzz.cluster.cmeans(RNAex, \n",
    "                                                ncenters, 3, \n",
    "                                                error=0.005, \n",
    "                                                maxiter=1500,)\n",
    "    fpcs_full.append({'fpc': fpc, 'n_clusters': ncenters})"
   ]
  },
  {
   "cell_type": "code",
   "execution_count": 29,
   "metadata": {},
   "outputs": [],
   "source": [
    "sns.lineplot(data=pd.DataFrame(fpcs_full), y='fpc', x='n_clusters', label='full data')\n",
    "sns.lineplot(data=pd.DataFrame(fpcs_embedded), y='fpc', x='n_clusters', label='embedded data')\n",
    "plt.legend()\n",
    "plt.title(\"Fuzzy partitioning coefficient\")\n",
    "plt.show()"
   ]
  },
  {
   "cell_type": "markdown",
   "metadata": {},
   "source": [
    "## Benchmarking\n",
    "\n",
    "* dimensionality versus scores"
   ]
  },
  {
   "cell_type": "code",
   "execution_count": null,
   "metadata": {},
   "outputs": [],
   "source": [
    "dims = np.arange(2, 20, 1) # reduced dimensions\n",
    "km = 10 # k-means clusters\n",
    "_eps = 0.1\n",
    "distance_metric = 'pearson' # pearson, spearmanr, dcor\n",
    "n_neighbors = np.arange(7, 117 ,11)\n",
    "\n",
    "num_samples = 1000\n",
    "sample_size = 250\n",
    "sample_selection = np.random.randint(0,num_samples, sample_size)\n",
    "dist_or = get_intra_sample_distances(RNAex.iloc[sample_selection,:])\n",
    "    \n",
    "embedder_type = 'pacmap'\n",
    "\n",
    "clusterer_base = KMeans(n_clusters=km)\n",
    "clusterer_base.fit(scaler().fit_transform(RNAex))\n",
    "ch_score1 = calinski_harabasz_score(RNAex, clusterer_base.labels_)\n",
    "db_score1 = davies_bouldin_score(RNAex, clusterer_base.labels_)\n",
    "\n",
    "scores = []\n",
    "if embedder_type in ['PCA', 'KernelPCA']:\n",
    "    n_neighbors = [1]\n",
    "for nn in tqdm(n_neighbors):\n",
    "    for dim in tqdm(dims):    \n",
    "        _embedder = embedder[embedder_type]\n",
    "        if embedder_type in ['trimap', 'pacmap']:\n",
    "            _embedder.n_dims = dim\n",
    "        else:\n",
    "            _embedder.n_components = dim\n",
    "\n",
    "        _embedder.n_neighbors = nn\n",
    "\n",
    "        ref_embedder = GRP(n_components=dim, random_state=None, eps=_eps) # _eps\n",
    "\n",
    "        pipe = Pipeline([('scaler', scaler()), \n",
    "                         ('reducer', _embedder)])\n",
    "\n",
    "        ref_pipe = Pipeline([('scaler', scaler()), \n",
    "                         ('reducer', ref_embedder)])\n",
    "\n",
    "        embedding = pipe.fit_transform(RNAex)\n",
    "        ref_embedding = ref_pipe.fit_transform(RNAex)\n",
    "\n",
    "        clusterer = KMeans(n_clusters=km)\n",
    "        clusterer.fit(embedding)\n",
    "\n",
    "        ref_clusterer = KMeans(n_clusters=km)\n",
    "        ref_clusterer.fit(ref_embedding)\n",
    "\n",
    "        ####################\n",
    "        # get metrics ######\n",
    "        ####################\n",
    "\n",
    "        dist_emb = get_intra_sample_distances(embedding[sample_selection,:])\n",
    "        if distance_metric=='dcor':\n",
    "            dist_cor = dcor.distance_correlation(dist_or, dist_emb)\n",
    "        elif distance_metric=='pearson':\n",
    "            dist_cor = pearsonr(dist_or, dist_emb)[0]\n",
    "        elif distance_metric=='spearman':\n",
    "            dist_cor = spearmanr(dist_or, dist_emb)[0]\n",
    "        \n",
    "        trust = trustworthiness(RNAex, embedding)\n",
    "\n",
    "        r_score =rand_score(clusterer_base.labels_, clusterer.labels_)\n",
    "        ar_score = adjusted_rand_score(clusterer_base.labels_, clusterer.labels_)\n",
    "        mi_score = adjusted_mutual_info_score(clusterer_base.labels_, clusterer.labels_)\n",
    "\n",
    "        ch_score2 = calinski_harabasz_score(embedding, clusterer.labels_)\n",
    "        db_score2 = davies_bouldin_score(embedding, clusterer.labels_)\n",
    "\n",
    "        rel_ch_score = ch_score1/ch_score2\n",
    "        rel_db_score = db_score1/db_score2\n",
    "\n",
    "        scores.append({'dim':dim, 'dist_cor': dist_cor, 'trust': trust,\n",
    "                       'rand': r_score, 'adj_rand': ar_score, 'adj_mi': mi_score,\n",
    "                       'ch_score': ch_score2, 'db_score': db_score2, \n",
    "                       'rel_ch_score': rel_ch_score , 'rel_db_score': rel_db_score,   \n",
    "                       'neighbors': nn, 'embedder': embedder_type})\n",
    "\n",
    "\n",
    "        dist_emb = get_intra_sample_distances(ref_embedding[sample_selection,:])\n",
    "        dist_cor = dcor.distance_correlation(dist_or, dist_emb)\n",
    "\n",
    "        trust = trustworthiness(RNAex, ref_embedding)\n",
    "\n",
    "        r_score =rand_score(clusterer_base.labels_, ref_clusterer.labels_)\n",
    "        ar_score = adjusted_rand_score(clusterer_base.labels_, ref_clusterer.labels_)\n",
    "        mi_score = adjusted_mutual_info_score(clusterer_base.labels_, ref_clusterer.labels_)\n",
    "\n",
    "        ch_score2 = calinski_harabasz_score(ref_embedding, ref_clusterer.labels_)\n",
    "        db_score2 = davies_bouldin_score(ref_embedding, ref_clusterer.labels_)\n",
    "\n",
    "        rel_ch_score = ch_score1/ch_score2\n",
    "        rel_db_score = db_score1/db_score2\n",
    "\n",
    "        scores.append({'dim':dim, 'dist_cor': dist_cor, 'trust': trust,\n",
    "                       'rand': r_score, 'adj_rand': ar_score, 'adj_mi': mi_score,\n",
    "                       'ch_score': ch_score2, 'db_score': db_score2,                    \n",
    "                       'rel_ch_score': rel_ch_score , 'rel_db_score': rel_db_score,   \n",
    "                       'neighbors': nn, 'embedder': 'GRP'})\n",
    "scores_df = pd.DataFrame(scores)"
   ]
  },
  {
   "cell_type": "code",
   "execution_count": null,
   "metadata": {},
   "outputs": [],
   "source": [
    "fig, ax = plt.subplots(ncols=3, nrows=3, figsize=(17,18))\n",
    "sns.lineplot(data=scores_df, x='dim', y='dist_cor', hue='embedder', ax=ax[0,0])\n",
    "sns.lineplot(data=scores_df, x='dim', y='trust', hue='embedder', ax=ax[0,1])\n",
    "sns.lineplot(data=scores_df, x='dim', y='rand', hue='embedder', ax=ax[0,2])\n",
    "\n",
    "sns.lineplot(data=scores_df, x='dim', y='adj_rand', hue='embedder', ax=ax[1,0])\n",
    "sns.lineplot(data=scores_df, x='dim', y='adj_mi', hue='embedder', ax=ax[1,1])\n",
    "sns.lineplot(data=scores_df, x='dim', y='ch_score', hue='embedder', ax=ax[1,2])\n",
    "\n",
    "sns.lineplot(data=scores_df, x='dim', y='db_score', hue='embedder', ax=ax[2,0])\n",
    "sns.lineplot(data=scores_df, x='dim', y='rel_ch_score', hue='embedder', ax=ax[2,1])\n",
    "sns.lineplot(data=scores_df, x='dim', y='rel_db_score', hue='embedder', ax=ax[2,2])\n",
    "\n",
    "fig.suptitle(f\"Embedder type: {embedder_type}\")"
   ]
  },
  {
   "cell_type": "markdown",
   "metadata": {},
   "source": [
    "\n",
    "# Neural networks for embeddings\n",
    "\n",
    "work in progress"
   ]
  },
  {
   "cell_type": "code",
   "execution_count": 8,
   "metadata": {},
   "outputs": [],
   "source": [
    "import torch\n",
    "import torch.nn as nn\n",
    "import torch.nn.functional as F\n",
    "import torch.optim as optim\n",
    "from torch.utils.data import DataLoader, Dataset\n",
    "from torch import Tensor\n",
    "from torchvision import datasets"
   ]
  },
  {
   "cell_type": "code",
   "execution_count": 9,
   "metadata": {},
   "outputs": [
    {
     "name": "stdout",
     "output_type": "stream",
     "text": [
      "Using: cuda\n"
     ]
    }
   ],
   "source": [
    "# utility functions\n",
    "def get_device():\n",
    "    if torch.cuda.is_available():\n",
    "        device = 'cuda'\n",
    "    else:\n",
    "        device = 'cpu'\n",
    "    return device\n",
    "\n",
    "device = get_device()\n",
    "print(f\"Using: {device}\")"
   ]
  },
  {
   "cell_type": "code",
   "execution_count": 55,
   "metadata": {},
   "outputs": [],
   "source": [
    "class DenseEncoder(nn.Module):\n",
    "    def __init__(self, in_features, out_features, layer_sizes, dropout_ratio=0.25):\n",
    "        super(DenseEncoder, self).__init__()\n",
    "        \n",
    "        layer_sizes = [in_features] + layer_sizes\n",
    "        \n",
    "        self.seq= nn.Sequential()       \n",
    "        for idx in range(0, len(layer_sizes)-1):\n",
    "            self.seq.add_module('ENC_fc_'+str(idx), nn.Linear(in_features=layer_sizes[idx], \n",
    "                                                              out_features=layer_sizes[idx+1]))\n",
    "            self.seq.add_module('ENC_relu_'+str(idx), nn.ReLU())\n",
    "            self.seq.add_module('ENC_dropout'+str(idx), nn.Dropout(dropout_ratio))\n",
    "        self.seq.add_module('ENC_fcF', nn.Linear(in_features=layer_sizes[-1], out_features=out_features))\n",
    "        \n",
    "    def forward(self, x):\n",
    "        return self.seq(x)\n",
    "\n",
    "class DenseDecoder(nn.Module):\n",
    "    def __init__(self, in_features, out_features, layer_sizes):\n",
    "        super(DenseDecoder, self).__init__()\n",
    "        \n",
    "        layer_sizes = list(reversed(layer_sizes))\n",
    "        layer_sizes = [out_features] + layer_sizes\n",
    "        \n",
    "        self.seq= nn.Sequential()\n",
    "        for idx in range(0, len(layer_sizes)-1):\n",
    "            self.seq.add_module('DEC_fc_'+str(idx), nn.Linear(in_features=layer_sizes[idx], \n",
    "                                                              out_features=layer_sizes[idx+1]))\n",
    "            self.seq.add_module('DEC_relu_'+str(idx), nn.ReLU())\n",
    "        self.seq.add_module('DEC_fcF', nn.Linear(in_features=layer_sizes[-1], out_features=in_features))\n",
    "        \n",
    "    def forward(self, x):\n",
    "        return self.seq(x)\n",
    "    \n",
    "class DenseAE(nn.Module):\n",
    "    \n",
    "    def __init__(self, **kwargs):\n",
    "        super(DenseAE, self).__init__()\n",
    "        self.encoder = DenseEncoder(in_features=kwargs['in_features'], \n",
    "                                    out_features=kwargs['out_features'],\n",
    "                                    layer_sizes=kwargs['layer_sizes'])\n",
    "        self.decoder = DenseDecoder(in_features=kwargs['in_features'], \n",
    "                                    out_features=kwargs['out_features'],\n",
    "                                    layer_sizes=kwargs['layer_sizes'])\n",
    "\n",
    "    def forward(self, x):\n",
    "        return self.decoder(self.encoder(x))"
   ]
  },
  {
   "cell_type": "code",
   "execution_count": 56,
   "metadata": {},
   "outputs": [],
   "source": [
    "class ConvEncoder(nn.Module):\n",
    "    def __init__(self, in_features, out_features, layer_sizes):\n",
    "        super(ConvEncoder, self).__init__()\n",
    "        \n",
    "        self.seq = nn.Sequential(\n",
    "            nn.Conv1d(in_channels=1, out_channels=32, kernel_size=8, stride=4, padding=0, \n",
    "                      bias=False),\n",
    "            nn.ReLU(),\n",
    "            nn.Conv1d(in_channels=32, out_channels=64, kernel_size=4, stride=2, padding=0, \n",
    "                      bias=False),\n",
    "            nn.ReLU(),\n",
    "            nn.Conv1d(in_channels=64, out_channels=out_features, kernel_size=3, stride=1, padding=0, \n",
    "                      bias=True)\n",
    "        )\n",
    "        \n",
    "    def forward(self, x):\n",
    "        return self.seq(x) \n",
    "\n",
    "class ConvDecoder(nn.Module):\n",
    "    def __init__(self, in_features, out_features, layer_sizes):\n",
    "        super(ConvDecoder, self).__init__()\n",
    "        \n",
    "        self.seq = nn.Sequential(\n",
    "            nn.ConvTranspose1d(in_channels=out_features, out_channels=64, kernel_size=3, stride=1, padding=0, \n",
    "                               bias=False),\n",
    "            nn.ReLU(),\n",
    "            nn.ConvTranspose1d(in_channels=64, out_channels=32, kernel_size=4, stride=2, padding=0, \n",
    "                               bias=False),\n",
    "            nn.ReLU(),\n",
    "            nn.ConvTranspose1d(in_channels=32, out_channels=1, kernel_size=8, stride=4, padding=0, \n",
    "                               bias=True),\n",
    "            nn.ReLU()\n",
    "        )\n",
    "        \n",
    "    def forward(self, x):\n",
    "        return self.seq(x) \n",
    "    \n",
    "class ConvAE(nn.Module):\n",
    "    \n",
    "    def __init__(self, **kwargs):\n",
    "        super(ConvAE, self).__init__()\n",
    "        self.encoder = ConvEncoder(in_features=kwargs['in_features'], \n",
    "                                    out_features=kwargs['out_features'],\n",
    "                                    layer_sizes=kwargs['layer_sizes'])\n",
    "        self.decoder = ConvDecoder(in_features=kwargs['in_features'], \n",
    "                                    out_features=kwargs['out_features'],\n",
    "                                    layer_sizes=kwargs['layer_sizes'])\n",
    "\n",
    "    def forward(self, x):\n",
    "        return self.decoder(self.encoder(x))"
   ]
  },
  {
   "cell_type": "code",
   "execution_count": null,
   "metadata": {},
   "outputs": [],
   "source": [
    "# VAE"
   ]
  },
  {
   "cell_type": "code",
   "execution_count": 12,
   "metadata": {},
   "outputs": [],
   "source": [
    "class MixedColumnarDataset(Dataset):\n",
    "    \"\"\"Dataset class for column dataset.\n",
    "    Args:\n",
    "       cats (list of str): List of the name of columns contain\n",
    "                           categorical variables.\n",
    "       conts (list of str): List of the name of columns which \n",
    "                           contain continuous variables.\n",
    "       y (Tensor, optional): Target variables.\n",
    "    \"\"\"\n",
    "    def __init__(self, df, cat_flds):       \n",
    "        conts = [c.values for n,c in df.items()]\n",
    "        \n",
    "        n = len(conts[0])\n",
    "        self.conts = np.stack(conts, 1).astype(np.float32) if conts else np.zeros((n,1))\n",
    "        self.len = len(df)\n",
    "        \n",
    "    def __len__(self): \n",
    "        return self.len   \n",
    "    \n",
    "    def __getitem__(self, idx):\n",
    "        return self.conts[idx]\n",
    "    \n",
    "outputs = None\n",
    "def get_embeddings(model, x, ntype = 'dense'):\n",
    "    if ntype == 'dense':\n",
    "        return model.encoder.forward(Tensor(x).cuda()).cpu().detach().numpy()\n",
    "    elif ntype == 'conv':\n",
    "        return model.encoder.forward(Tensor(x).unsqueeze(1).cuda()).cpu().detach().numpy()\n",
    "\n",
    "def train(net, trainloader, optimizer, NUM_EPOCHS, ntype='conv'):\n",
    "    train_loss = []\n",
    "    for epoch in range(NUM_EPOCHS):\n",
    "        running_loss = 0.0\n",
    "        for data in trainloader:\n",
    "            if ntype=='conv':\n",
    "                dataTensor = Tensor(data).unsqueeze(1)\n",
    "                optimizer.zero_grad()            \n",
    "                outputs = n_net(dataTensor.cuda())\n",
    "                loss = criterion(outputs, dataTensor.cuda())\n",
    "            else:\n",
    "                optimizer.zero_grad()            \n",
    "                outputs = n_net(Tensor(data).cuda())\n",
    "                loss = criterion(outputs, data.cuda())                \n",
    "            \n",
    "            loss.backward()\n",
    "            optimizer.step()\n",
    "            running_loss += loss.item()\n",
    "        \n",
    "        loss = running_loss / len(trainloader)\n",
    "        train_loss.append(loss)\n",
    "        print(f\"-------------Train loss: {loss}, epoch: {epoch}\")\n",
    "\n",
    "    return train_loss"
   ]
  },
  {
   "cell_type": "code",
   "execution_count": 38,
   "metadata": {},
   "outputs": [],
   "source": [
    "RNAex_normalised = pd.DataFrame(data=MinMaxScaler().fit_transform(np.log(RNAex.values+1)), \n",
    "                                columns=RNAex.columns.tolist())"
   ]
  },
  {
   "cell_type": "code",
   "execution_count": 57,
   "metadata": {},
   "outputs": [],
   "source": [
    "nntype='dense'\n",
    "if nntype == 'dense':\n",
    "    n_net = DenseAE(in_features=RNAex.shape[1], out_features=8, layer_sizes=[48,32,32])\n",
    "    n_net.to(device)\n",
    "elif nntype == 'conv':\n",
    "    n_net = ConvAE(in_features=RNAex.shape[1], out_features=8, layer_sizes=[64,32,32,16])\n",
    "    n_net.to(device)"
   ]
  },
  {
   "cell_type": "code",
   "execution_count": 69,
   "metadata": {},
   "outputs": [],
   "source": [
    "NUM_EPOCHS = 100\n",
    "LEARNING_RATE = 5e-5\n",
    "\n",
    "criterion = nn.MSELoss()\n",
    "net_optimizer = optim.Adam(n_net.parameters(), lr=LEARNING_RATE, weight_decay=0)"
   ]
  },
  {
   "cell_type": "code",
   "execution_count": 70,
   "metadata": {},
   "outputs": [],
   "source": [
    "train_dl = DataLoader(MixedColumnarDataset(RNAex_normalised, []), batch_size=96, shuffle=True)"
   ]
  },
  {
   "cell_type": "code",
   "execution_count": null,
   "metadata": {},
   "outputs": [],
   "source": [
    "train_loss = train(n_net, train_dl, net_optimizer, NUM_EPOCHS, ntype=nntype)\n",
    "torch.cuda.empty_cache()\n",
    "ae_embs = get_embeddings(n_net, RNAex_normalised.values, ntype=nntype)"
   ]
  },
  {
   "cell_type": "code",
   "execution_count": 73,
   "metadata": {},
   "outputs": [
    {
     "data": {
      "text/plain": [
       "<AxesSubplot:xlabel='d_1', ylabel='d_2'>"
      ]
     },
     "execution_count": 73,
     "metadata": {},
     "output_type": "execute_result"
    },
    {
     "data": {
      "image/png": "[encoded data removed]",
      "text/plain": [
       "<Figure size 432x288 with 1 Axes>"
      ]
     },
     "metadata": {
      "needs_background": "light"
     },
     "output_type": "display_data"
    }
   ],
   "source": [
    "plot_df = pd.DataFrame(data=ae_embs, columns=['d_'+str(i) for i in range(8)], index=RNAex.index)\n",
    "meta = pd.read_feather(\"/media/bramiozo/DATA-FAST/genetic_expression/lung_cancer_2021/TCGA/Lung/Lung_meta.feather\")\n",
    "meta.set_index('SampleID', inplace=True)\n",
    "plot_df = plot_df.join(meta[['Diagnosis', 'Response']], how='left')\n",
    "sns.scatterplot(data=plot_df, x='d_1', y='d_2', hue='Diagnosis', alpha=0.15)"
   ]
  },
  {
   "cell_type": "code",
   "execution_count": 80,
   "metadata": {},
   "outputs": [
    {
     "name": "stdout",
     "output_type": "stream",
     "text": [
      "Distance preservation overall {'dataset': 'RNAex', 'corr': 0.37245995146171595}\n",
      "Intra-distance trustworthiness 0.7368883121147329\n",
      "Rand score 0.694367915219604\n",
      "Adjusted Rand score 0.27375788180239347\n",
      "Adjusted MI score 0.40015047305337825\n",
      "Calinski-Harabasz ratio, lower than 1 means better clustering for embedding 0.02884254649759499\n",
      "David-Bouldin ratio, higher than 1 means better clustering for embedding 3.8883397543568066\n",
      "Relative L2-loss 0.5207016863928956\n"
     ]
    }
   ],
   "source": [
    "kclusterer2 = KMeans(n_clusters=10)\n",
    "kclusterer2.fit(ae_embs)\n",
    "\n",
    "dist_or = get_intra_sample_distances(RNAex.iloc[sample_selection,:])\n",
    "dist_emb = get_intra_sample_distances(ae_embs[sample_selection,:])\n",
    "\n",
    "dists = {'d_or': dist_or, 'd_emb': dist_emb}\n",
    "dist_preservation_overall = {'dataset': 'RNAex', \n",
    "                          'corr':dcor.distance_correlation(dist_or, dist_emb)}\n",
    "\n",
    "r_score =rand_score(kclusterer1.labels_, kclusterer2.labels_)\n",
    "ar_score = adjusted_rand_score(kclusterer1.labels_, kclusterer2.labels_)\n",
    "mi_score = adjusted_mutual_info_score(kclusterer1.labels_, kclusterer2.labels_)\n",
    "ch_score1 = calinski_harabasz_score(RNAex, kclusterer1.labels_)\n",
    "ch_score2 = calinski_harabasz_score(ae_embs, kclusterer2.labels_)\n",
    "\n",
    "db_score1 = davies_bouldin_score(RNAex, kclusterer1.labels_)\n",
    "db_score2 = davies_bouldin_score(ae_embs, kclusterer2.labels_)\n",
    "\n",
    "print(\"Distance preservation overall\", dist_preservation_overall)\n",
    "print(\"Intra-distance trustworthiness\", trustworthiness(RNAex, ae_embs))\n",
    "print(\"Rand score\", r_score)\n",
    "print(\"Adjusted Rand score\", ar_score)\n",
    "print(\"Adjusted MI score\", mi_score)\n",
    "print(\"Calinski-Harabasz ratio, lower than 1 means better clustering for embedding\", ch_score1/ch_score2)\n",
    "print(\"David-Bouldin ratio, higher than 1 means better clustering for embedding\", db_score1/db_score2)\n",
    "print(\"Relative L2-loss\", global_score(RNAex.values, ae_embs))"
   ]
  },
  {
   "cell_type": "markdown",
   "metadata": {},
   "source": [
    "The distance correlation/preservation and the trustworthiness metrics are not suitable metrics to qualify embeddings as they cannot distinguish between neighborhoods in the original space. Even if points are projected randomly they can have similar distances in lower dimensional space, in fact the higher the dimensionality of the embeddeds space the more possibilities there are to randomly obtain similar intra-point distances.\n",
    "\n",
    "We would expect that if we increase the embedded dimensions we get closer to the performance of random projections in terms of intra-distance preservations."
   ]
  },
  {
   "cell_type": "markdown",
   "metadata": {},
   "source": [
    "# Test on CELLDYN data"
   ]
  },
  {
   "cell_type": "code",
   "execution_count": null,
   "metadata": {},
   "outputs": [],
   "source": []
  },
  {
   "cell_type": "markdown",
   "metadata": {},
   "source": [
    "# Semi-supervised UMAP\n",
    "\n",
    "The main flavor is to add labels for the different clusters we know we want to \n",
    "see. This can be based on a clustering on a sample set of the original data (perhaps also a selection of features).\n",
    "\n",
    "Possible methods:\n",
    "* SS-UMAP\n",
    "* NCA\n",
    "* knn-based SSL, or fuzzy-c based SSL with multi-label\n",
    "* SSL-trained neural network\n",
    "* SS-WDA (Wasserstein discriminant analysis)\n",
    "\n",
    "Labels can be:\n",
    "* k-means/medoids clusters on the original dataset\n",
    "* phenotypes"
   ]
  },
  {
   "cell_type": "code",
   "execution_count": null,
   "metadata": {},
   "outputs": [],
   "source": []
  },
  {
   "cell_type": "markdown",
   "metadata": {},
   "source": [
    "# Parametric UMAP\n",
    "\n",
    "* Create nearest-neighbor graph with fuzzy simplicials\n",
    "* Apply graph embedder"
   ]
  },
  {
   "cell_type": "code",
   "execution_count": null,
   "metadata": {},
   "outputs": [],
   "source": []
  },
  {
   "cell_type": "markdown",
   "metadata": {},
   "source": [
    "# Anchored embedding"
   ]
  },
  {
   "cell_type": "code",
   "execution_count": null,
   "metadata": {},
   "outputs": [],
   "source": []
  },
  {
   "cell_type": "markdown",
   "metadata": {},
   "source": [
    "# Distance preserving embedding\n",
    "\n",
    "* Siamese twins networks\n",
    "* distance as outcome\n",
    "* pairs as input\n",
    "\n",
    "The method IVIS seems to use this idea."
   ]
  },
  {
   "cell_type": "code",
   "execution_count": null,
   "metadata": {},
   "outputs": [],
   "source": []
  },
  {
   "cell_type": "markdown",
   "metadata": {},
   "source": [
    "# Ranking based embedder"
   ]
  },
  {
   "cell_type": "code",
   "execution_count": null,
   "metadata": {},
   "outputs": [],
   "source": []
  },
  {
   "cell_type": "markdown",
   "metadata": {},
   "source": [
    "# Multi-patch UMAP\n",
    "\n",
    "The core assumption of UMAP is that all points lie on the same manifold. What if we split our data in dense patches prior to the creation of the fuzzy simplicials? \n",
    "\n",
    "To make this tractable this split should be computationally in-expensive. One way to go about is to treat overlapping regions with a sufficient number of samples as patches. The embeddings associated with these patches can later be combined.\n",
    "\n"
   ]
  },
  {
   "cell_type": "markdown",
   "metadata": {},
   "source": [
    "# Multi-sample UMAP\n",
    "\n",
    "\n",
    "* $N$ sampled UMAP embedders with/without minimal perturbations\n",
    "* aligned using Procrustes\n",
    "* uniform scaling\n",
    "* concensus distance determination"
   ]
  },
  {
   "cell_type": "code",
   "execution_count": null,
   "metadata": {},
   "outputs": [],
   "source": []
  },
  {
   "cell_type": "markdown",
   "metadata": {},
   "source": [
    "# Landmarkbased embeddings coupled to sparse exemplar finders\n",
    "\n",
    "Instead of random landmarks we can use exemplars based on \n",
    "* points closest to centroids\n",
    "* exemplars based on e.g. affinity propagation"
   ]
  },
  {
   "cell_type": "code",
   "execution_count": null,
   "metadata": {},
   "outputs": [],
   "source": []
  }
 ],
 "metadata": {
  "interpreter": {
   "hash": "d5a14f050fb035b48dd4bb6477ca57635d0b683745fc30c1f601aba2e74fe38c"
  },
  "kernelspec": {
   "display_name": "Python 3.8.10 64-bit ('long': venv)",
   "language": "python",
   "name": "python3810jvsc74a57bd0d5a14f050fb035b48dd4bb6477ca57635d0b683745fc30c1f601aba2e74fe38c"
  },
  "language_info": {
   "codemirror_mode": {
    "name": "ipython",
    "version": 3
   },
   "file_extension": ".py",
   "mimetype": "text/x-python",
   "name": "python",
   "nbconvert_exporter": "python",
   "pygments_lexer": "ipython3",
   "version": "3.8.10"
  }
 },
 "nbformat": 4,
 "nbformat_minor": 4
}
