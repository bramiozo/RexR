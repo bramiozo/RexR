{
 "cells": [
  {
   "cell_type": "code",
   "execution_count": 2,
   "metadata": {},
   "outputs": [
    {
     "name": "stdout",
     "output_type": "stream",
     "text": [
      "The autoreload extension is already loaded. To reload it, use:\n",
      "  %reload_ext autoreload\n"
     ]
    }
   ],
   "source": [
    "import numpy as np\n",
    "import pandas as pd\n",
    "import seaborn as sns\n",
    "import matplotlib.pyplot as plt\n",
    "import pymc3\n",
    "\n",
    "%load_ext autoreload\n",
    "%autoreload 2\n",
    "%matplotlib inline\n",
    "%config InlineBackend.figure_format = 'retina'\n",
    "\n",
    "sns.set_style('white')\n",
    "sns.set_context('talk')"
   ]
  },
  {
   "cell_type": "markdown",
   "metadata": {},
   "source": [
    "Main concepts:\n",
    "* Bayes rule\n",
    "* Prior and Posterior distributions\n",
    "* Sampling and Monte Carlo simulations\n",
    "* Stochastic processes\n",
    "* Bayesian Inference\n",
    "* Bayesian Modeling"
   ]
  },
  {
   "cell_type": "markdown",
   "metadata": {},
   "source": [
    "Bayes rule: $$p(\\mathbf{w}\\vert D) = \\frac{p(D\\vert \\mathbf{w})\\, p(\\mathbf{w})}{p(D)} $$\n",
    "=>\n",
    "\n",
    "Probability that our dependent variables are $\\mathbf{w}$ given some distribution of our independent variables $D$ **=** \n",
    "* (probability that our data  $D$ is distributed like this given these values $\\mathbf{w}$) **TIMES** \n",
    "* (probability that our dependent variables have the values $\\mathbf{w}$) **DIVIDED BY** \n",
    "* (probability that our data is distributed like $D$)\n",
    "\n",
    "\n",
    "Conceptually: probabilistic programming assumes that the output variable is not exact but rather probabilistic \n",
    "* where we can either assume a posterior distribution for which the parameters have to be **inferred**\n",
    "* or we make no such assumption and we obtain a posterior distribution through **sampling**"
   ]
  },
  {
   "cell_type": "code",
   "execution_count": null,
   "metadata": {},
   "outputs": [],
   "source": []
  }
 ],
 "metadata": {
  "kernelspec": {
   "display_name": "Python 3",
   "language": "python",
   "name": "python3"
  },
  "language_info": {
   "codemirror_mode": {
    "name": "ipython",
    "version": 3
   },
   "file_extension": ".py",
   "mimetype": "text/x-python",
   "name": "python",
   "nbconvert_exporter": "python",
   "pygments_lexer": "ipython3",
   "version": "3.6.9"
  }
 },
 "nbformat": 4,
 "nbformat_minor": 2
}
