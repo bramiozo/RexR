{
 "cells": [
  {
   "cell_type": "markdown",
   "metadata": {},
   "source": [
    "# Multi-Omic analysis\n",
    "\n",
    "Given multiple datasets, each representing a different part of the chain between genomics and proteomics we \n",
    "seek to find biological pathways that drive or inhibit certain phenotypes.\n",
    "\n",
    "The goal is to integrate these datasets such that the whole is more than the sum of the parts.\n",
    "\n",
    "Ritchie et al. (Methods of integrating data to uncover genotype-phenotype interactions) describe the following ways to integrate multi-omic data\n",
    "\n",
    "* Pathway or knowledge-based integration\n",
    "* Concatenation-based: combine all datasets\n",
    "* Model-based: create models per datasets, then combine models\n",
    "* Transformation-based\n",
    "\n",
    "We can also think of \n",
    "* Reduced normalised concatenation\n",
    "* Model-based inter-omic transformation\n",
    "\n",
    "Another subdivision is given by early, intermediate and late integration of omics with respect\n",
    "to the identification of clusters/classes.\n",
    "\n",
    "Per omic we collect important features, by\n",
    "* comparing the non-parametric distributions over the different classifications\n",
    "* simply counting the occurrences and setting a cut-off point\n",
    "* using the importances of the classification models as filters\n",
    "* checking the summed weights of linear and non-linear dimensionality reducers\n",
    "\n",
    "We then have the choice to collect these features\n",
    "*  greedily: all remaining omic features\n",
    "*  non-greedily: only overlapping features (by gene)\n",
    "\n",
    "To find inter **and** intra-omic connections we can resort to a similarity measure. \n",
    "\n",
    "\n",
    "\n",
    "## Tools \n",
    "\n",
    "A zoo of techniques exist:\n",
    "\n",
    "* sparse CCA (sCCA)\n",
    "* sparse ICA (sICA)\n",
    "* sparse PLS (sPLS)\n",
    "* sparse PCA (sPCA)\n",
    "* multiple co-inertia analysis (MCIA)\n",
    "* **Similarity Network Fusion (SNF)**\n",
    "* **Multi-Omic Factor Analysis (MOFA)**\n",
    "* joint-NMF (jNMF)\n",
    "* iNMF\n",
    "* Affinity Network Fusion (ANF)\n",
    "* **Weighted Gene-Co expression Network Analysis (WGCNA)**\n",
    "* joint graphical LASSO \n",
    "* Inter-battery factor analysis (IBFA)\n",
    "* Cross-modal factor analysis (CFA)\n",
    "* Joint and individual variation explained (JIVE)\n",
    "* Redundancy analysis (RDA)\n",
    "* Canonical Correspondence analysis\n",
    "* Bayesian concensus clustering (BCC)\n",
    "* joint Affinity Propagation\n",
    "* iCluster\n",
    "* PARADIGM\n",
    "* NEMO\n",
    "* T-SVD\n",
    "* Multiple Dataset Integration (MDI)\n",
    "* Pattern Fusion Analysis (PFA)\n",
    "* Multiple Factor Analysis (MFA)\n",
    "\n",
    "\n",
    "before we can appreciate these techniques and delf into them we first need to get some basic intuition of \n",
    "what multi-omics data means in practice."
   ]
  },
  {
   "cell_type": "markdown",
   "metadata": {},
   "source": [
    "# Basic intuition\n",
    "\n"
   ]
  },
  {
   "cell_type": "markdown",
   "metadata": {},
   "source": [
    "## Similarity Network Fusion"
   ]
  },
  {
   "cell_type": "markdown",
   "metadata": {},
   "source": [
    "Unsupervised. Meant for **disease sub-typing**. Mixing of patient clusters from different datasets.\n",
    "\n",
    "![image](../_images/SimilarityNetworkFusion.png)"
   ]
  },
  {
   "cell_type": "markdown",
   "metadata": {},
   "source": [
    "## Multi-omics Factor Analysis"
   ]
  },
  {
   "cell_type": "markdown",
   "metadata": {},
   "source": [
    "Unsupervised. Meant for **pathway analysis** and multi-omics dimension reduction.\n",
    "\n",
    "![image](../_images/mofa_overview.png)"
   ]
  },
  {
   "cell_type": "markdown",
   "metadata": {},
   "source": [
    "## Weighted Gene-Co expression Network Analysis"
   ]
  },
  {
   "cell_type": "markdown",
   "metadata": {},
   "source": [
    "Single-omics high-dimensional dimension reduction, through pairwise similarities. Extraction of eigengenes.\n",
    "--> similar to Affinity Propagation and same parts of Markov Clustering but with fuzzy cluster assignment.\n",
    "\n",
    "See WGCNA more as a suite of tools in R that aim to give a comprehensive overview of the correlations from the perspective of different ontologies.\n",
    "\n",
    "![image](../_images/WGCNA.png)"
   ]
  },
  {
   "cell_type": "code",
   "execution_count": 23,
   "metadata": {},
   "outputs": [],
   "source": [
    "import pandas as pd\n",
    "from tqdm import tqdm\n",
    "import os\n",
    "from scipy import spatial\n",
    "from scipy import sparse\n",
    "import numpy as np"
   ]
  },
  {
   "cell_type": "code",
   "execution_count": 3,
   "metadata": {},
   "outputs": [],
   "source": [
    "os.chdir('/media/bramiozo/DATA-FAST/genetic_expression')"
   ]
  },
  {
   "cell_type": "code",
   "execution_count": 36,
   "metadata": {},
   "outputs": [],
   "source": [
    "def _iterative_self_correlator(X, **kwargs):   \n",
    "    ran = X.shape[1-axis]\n",
    "    for c1 in range(ran):\n",
    "        for c2 in range(c1+1,ran): \n",
    "            similarity = 1-spatial.distance.cdist(X[:,c1:c1+1].T, \n",
    "                                                X[:,c2:c2+1].T,\n",
    "                                                metric)[0][0]\n",
    "            if abs(similarity)>min_corr:\n",
    "                yield distance, c1, c2\n",
    "\n",
    "def intra_correlator(X, min_corr=0.5, metric='cosine'):\n",
    "    get_corrs = _iterative_self_correlator(X, min_corr=min_corr, metric=metric)\n",
    "    dv, c1v, c2v = [], [], []\n",
    "    for _c in get_corrs:\n",
    "        dv.append(_c[0])\n",
    "        c1v.append(_c[1])\n",
    "        c2v.append(_c[2])\n",
    "    return spatial.coo_matrx(dv, (c1v, c2v))\n",
    "\n",
    "\n",
    "# https://deepgraph.readthedocs.io/en/latest/tutorials/pairwise_correlations.html\n",
    "# https://cupy.dev/"
   ]
  },
  {
   "cell_type": "markdown",
   "metadata": {},
   "source": [
    "# Casus: lung cancer type differentiation\n",
    "\n",
    "* Squamous cell carcinoma: 500 patients, age, gender\n",
    "* Adenoma carcinoma: 500 patients, age, gender\n",
    "\n",
    "The Cancer Genome Atlas. "
   ]
  },
  {
   "cell_type": "markdown",
   "metadata": {},
   "source": [
    "## DNA mutation"
   ]
  },
  {
   "cell_type": "code",
   "execution_count": 15,
   "metadata": {},
   "outputs": [],
   "source": [
    "mutation = pd.read_feather('hackathon_2/Lung_mutation.feather')\n",
    "mutation.set_index('Sample_ID', inplace=True)"
   ]
  },
  {
   "cell_type": "markdown",
   "metadata": {},
   "source": [
    "## DNA Copy Number Variation"
   ]
  },
  {
   "cell_type": "code",
   "execution_count": 7,
   "metadata": {},
   "outputs": [
    {
     "name": "stdout",
     "output_type": "stream",
     "text": [
      "(1017, 24791)\n"
     ]
    }
   ],
   "source": [
    "CNV = pd.read_feather('hackathon_2/Lung_CNV.feather')\n",
    "CNV.set_index('index', inplace=True)\n",
    "print(CNV.shape)"
   ]
  },
  {
   "cell_type": "markdown",
   "metadata": {},
   "source": [
    "## RNA expression"
   ]
  },
  {
   "cell_type": "code",
   "execution_count": 4,
   "metadata": {},
   "outputs": [
    {
     "name": "stdout",
     "output_type": "stream",
     "text": [
      "(1135, 60465)\n"
     ]
    }
   ],
   "source": [
    "RNAex=pd.read_feather('hackathon_2/Lung_RNAex.feather')\n",
    "RNAex.set_index('index', inplace=True)\n",
    "print(RNAex.shape)"
   ]
  },
  {
   "cell_type": "code",
   "execution_count": null,
   "metadata": {},
   "outputs": [
    {
     "name": "stderr",
     "output_type": "stream",
     "text": [
      " 32%|███▏      | 19119/60465 [4:28:21<8:24:30,  1.37it/s] "
     ]
    }
   ],
   "source": [
    "scorr, ir, jr = iterative_self_correlator(RNAex.values, axis=0)"
   ]
  },
  {
   "cell_type": "markdown",
   "metadata": {},
   "source": [
    "## microRNA"
   ]
  },
  {
   "cell_type": "code",
   "execution_count": 9,
   "metadata": {},
   "outputs": [
    {
     "name": "stdout",
     "output_type": "stream",
     "text": [
      "(875, 2153)\n"
     ]
    }
   ],
   "source": [
    "mRNA=pd.read_feather('hackathon_2/Lung_mRNA.feather')\n",
    "mRNA.set_index('index', inplace=True)\n",
    "print(mRNA.shape)"
   ]
  },
  {
   "cell_type": "markdown",
   "metadata": {},
   "source": [
    "## Methylation"
   ]
  },
  {
   "cell_type": "code",
   "execution_count": 16,
   "metadata": {},
   "outputs": [
    {
     "name": "stdout",
     "output_type": "stream",
     "text": [
      "(907, 311381)\n"
     ]
    }
   ],
   "source": [
    "methylation=pd.read_feather('hackathon_2/Lung_methylation.feather')\n",
    "methylation.set_index('index', inplace=True)\n",
    "print(methylation.shape)"
   ]
  },
  {
   "cell_type": "markdown",
   "metadata": {},
   "source": [
    "## Proteomics\n"
   ]
  },
  {
   "cell_type": "code",
   "execution_count": 11,
   "metadata": {},
   "outputs": [
    {
     "name": "stdout",
     "output_type": "stream",
     "text": [
      "(693, 276)\n"
     ]
    }
   ],
   "source": [
    "Proteome = pd.read_feather('hackathon_2/Lung_proteome.feather')\n",
    "Proteome.set_index('index', inplace=True)\n",
    "print(Proteome.shape)"
   ]
  },
  {
   "cell_type": "markdown",
   "metadata": {},
   "source": [
    "## Metadata"
   ]
  },
  {
   "cell_type": "code",
   "execution_count": 12,
   "metadata": {},
   "outputs": [
    {
     "name": "stdout",
     "output_type": "stream",
     "text": [
      "(1019, 46)\n"
     ]
    }
   ],
   "source": [
    "Meta = pd.read_feather('hackathon_2/Lung_meta.feather')\n",
    "Meta.set_index('SampleID', inplace=True)\n",
    "print(Meta.shape)"
   ]
  },
  {
   "cell_type": "markdown",
   "metadata": {},
   "source": [
    "# Multi-omics analysis"
   ]
  },
  {
   "cell_type": "markdown",
   "metadata": {},
   "source": [
    "## reduction"
   ]
  },
  {
   "cell_type": "markdown",
   "metadata": {},
   "source": [
    "## concatenation"
   ]
  },
  {
   "cell_type": "markdown",
   "metadata": {},
   "source": [
    "## SNF \n",
    "[SNF](https://github.com/rmarkello/snfpy)"
   ]
  },
  {
   "cell_type": "markdown",
   "metadata": {},
   "source": [
    "## MOFA\n",
    "\n",
    "[MOFA2](https://github.com/bioFAM/MOFA2)"
   ]
  },
  {
   "cell_type": "markdown",
   "metadata": {},
   "source": [
    "## Discussion"
   ]
  }
 ],
 "metadata": {
  "kernelspec": {
   "display_name": "Python 3 (multi_omics)",
   "language": "python",
   "name": "multi_omics"
  },
  "language_info": {
   "codemirror_mode": {
    "name": "ipython",
    "version": 3
   },
   "file_extension": ".py",
   "mimetype": "text/x-python",
   "name": "python",
   "nbconvert_exporter": "python",
   "pygments_lexer": "ipython3",
   "version": "3.8.5"
  }
 },
 "nbformat": 4,
 "nbformat_minor": 4
}
