{
 "cells": [
  {
   "cell_type": "code",
   "execution_count": 1,
   "metadata": {},
   "outputs": [],
   "source": [
    "import vaex as vx\n",
    "import pandas as pd\n",
    "import pyarrow.parquet as pq\n",
    "import numpy as np\n",
    "import scipy as sc\n",
    "from scipy.interpolate import PchipInterpolator as minterp\n",
    "import scipy.stats as stats\n",
    "import seaborn as sns\n",
    "from matplotlib import pyplot as plt\n",
    "from tqdm import tqdm\n",
    "\n",
    "import os\n",
    "import sys\n",
    "import re\n",
    "from numba import jit\n",
    "from collections import Counter\n",
    "from collections import namedtuple\n",
    "from collections import defaultdict\n",
    "\n",
    "from sklearn.covariance import OAS\n",
    "from sklearn.covariance import GraphicalLassoCV\n",
    "from sklearn.covariance import LedoitWolf\n",
    "from sklearn.covariance import EmpiricalCovariance\n",
    "\n",
    "from _helpers import _helpers as hlp"
   ]
  },
  {
   "cell_type": "markdown",
   "metadata": {},
   "source": [
    "# ERV differentiation\n",
    "\n",
    "Two main research questions:\n",
    "1. Are ERV's differentially expressed in SCC versus AC?\n",
    "2. Are ERV's involved in immune surveillance in lung cancer\n",
    "\n",
    "We have to \n",
    "* identify ERV's in Adeno and SCC\n",
    "* identify granzy mand perforin expression per subtype\n",
    "* identify IFN gene expression per subtype\n",
    "* silencing of ERV by methylation in normal tissue\n",
    "\n"
   ]
  },
  {
   "cell_type": "code",
   "execution_count": 2,
   "metadata": {},
   "outputs": [],
   "source": [
    "max_nans_perc = 0.1"
   ]
  },
  {
   "cell_type": "code",
   "execution_count": 3,
   "metadata": {},
   "outputs": [],
   "source": [
    "os.chdir('/media/koekiemonster/DATA-FAST/genetic_expression/hackathon_2/Lung/')"
   ]
  },
  {
   "cell_type": "code",
   "execution_count": 4,
   "metadata": {},
   "outputs": [],
   "source": [
    "dd = {}\n",
    "dd['RNAex'] = vx.open('Lung_GeneExpression.hdf5')\n",
    "dd['mutation'] = vx.open('Lung_Mutation.hdf5')\n",
    "dd['methylation'] = vx.open('Lung_Methylation.hdf5')\n",
    "dd['methylation_meta'] = vx.open('HumanMethylation450_meta.hdf5')\n",
    "dd['CNV'] = vx.open('Lung_CNV.hdf5')\n",
    "\n",
    "meta = pd.read_csv('Lung_Phenotype_Metadata.txt', sep='\\t')\n",
    "meta = meta.loc[~pd.isna(meta.Diagnosis)]\n",
    "meta = meta[~meta.SampleID.duplicated(keep='last')]\n",
    "meta.set_index('SampleID', inplace=True)"
   ]
  },
  {
   "cell_type": "code",
   "execution_count": 5,
   "metadata": {},
   "outputs": [
    {
     "data": {
      "text/plain": [
       "Index(['PatientID', 'Diagnosis', 'Sample Type', 'Gender', 'Ethnicity',\n",
       "       'Age At Diagnosis (Days)', 'Age At Diagnosis (Years)', 'Vital Status ',\n",
       "       'Overall Survival Status', 'Time To Overall Survival (Days)',\n",
       "       'Time To Overall Survival From Treatment (Days)', 'Relapse Status',\n",
       "       'Time To Relapse From Diagnosis (Days)', 'Event Status',\n",
       "       'Time To Event From Diagnosis (Days)', 'Karnofsky Score',\n",
       "       'Smoking Status', 'Pack Years', 'Histological Type', 'Morphology',\n",
       "       'Site Of Resection', 'Tumor Location', 'Anatomic Location In Lung',\n",
       "       'Tumor Stage', 'T-stage', 'N-stage', 'M-stage', 'R-stage',\n",
       "       'Cancer Status After Resection', 'Drug Therapy Type', 'Drug Name',\n",
       "       'Time To Drug Therapy (Days)', 'Radiation Therapy',\n",
       "       'Time To Radiation Therapy (Days)', 'Reponse To Therapy',\n",
       "       'Time To Therapy (Days)', 'Therapy Ongoing', 'New Tumor Event',\n",
       "       'New Tumor Event Type', 'Time To New Tumor Event (Days)'],\n",
       "      dtype='object')"
      ]
     },
     "execution_count": 5,
     "metadata": {},
     "output_type": "execute_result"
    }
   ],
   "source": [
    "meta.columns"
   ]
  },
  {
   "cell_type": "code",
   "execution_count": 6,
   "metadata": {},
   "outputs": [],
   "source": [
    "erv_genes = [_gene for _gene in dd['RNAex'].Gene.unique() if 'ERV' in _gene]\n",
    "erv_genes += [_gene for _gene in dd['methylation'].Gene.unique() if 'ERV' in _gene]\n",
    "erv_genes = list(set(erv_genes))"
   ]
  },
  {
   "cell_type": "code",
   "execution_count": 7,
   "metadata": {},
   "outputs": [],
   "source": [
    "# https://www.ncbi.nlm.nih.gov/pmc/articles/PMC5942792/\n",
    "neutro_gene_list = ['DEFA4', 'DEFA3', 'MMP8', 'CEACAM6', 'CEACAM8', 'LTF', 'MPO', 'ARG1', 'MSHA3']\n",
    "neutro_genes = [_gene for _gene in dd['RNAex'].Gene.unique() if _gene in neutro_gene_list]\n",
    "neutro_genes += [_gene for _gene in dd['methylation'].Gene.unique() if _gene in neutro_gene_list]\n",
    "neutro_genes = list(set(neutro_genes))\n",
    "# https://www.jimmunol.org/content/175/12/7837.long, http://www.informatics.jax.org/go/term/GO:0033077\n",
    "t_cell_gene_list = ['CXCR5', 'CXCR3', 'CCR3', 'CCR5', 'CRTH2', 'CCR6', 'CCR7', 'CD3D', 'CD3E', 'CD3G', 'ATG5']\n",
    "tcell_genes = [_gene for _gene in dd['RNAex'].Gene.unique() if _gene in t_cell_gene_list]\n",
    "tcell_genes += [_gene for _gene in dd['methylation'].Gene.unique() if _gene in t_cell_gene_list]\n",
    "tcell_genes = list(set(tcell_genes))\n",
    "# https://www.ncbi.nlm.nih.gov/pmc/articles/PMC3219766/, https://www.sciencedirect.com/science/article/pii/S1521690X17300301?via%3Dihub\n",
    "thyroid_gene_list = ['PDE8B', 'DIO1', 'DIO2', 'CAPZB', 'TSHR', 'THRA', 'THRB', 'MCT8', 'MCT10', 'NTCP', \n",
    "                    'SLC10A1', 'SLC10A2', 'SLC16A10', 'LAT1', 'LAT2', 'OATP1A2', 'OATP1B1', 'OATP1B3', 'OATP1C1']\n",
    "thyroid_genes = [_gene for _gene in dd['RNAex'].Gene.unique() if _gene in thyroid_gene_list]\n",
    "thyroid_genes += [_gene for _gene in dd['methylation'].Gene.unique() if _gene in thyroid_gene_list]\n",
    "thyroid_genes = list(set(tcell_genes))\n",
    "# https://www.sciencedaily.com/releases/2016/08/160822125438.htm, \n",
    "thymus_gene_list = ['FOXN1']"
   ]
  },
  {
   "cell_type": "code",
   "execution_count": 8,
   "metadata": {},
   "outputs": [],
   "source": [
    "# external\n",
    "os.chdir('/media/koekiemonster/home/bramiozo/DEV/GIT/RexR/_hackathon2018/_meta_data/gene_types/')\n",
    "for idx, _file in enumerate(os.listdir(\".\")):\n",
    "    if _file.split(\".\")[1] in ['txt']: \n",
    "        _genes = pd.read_csv(_file, sep=\"\\t\", index_col=False)\n",
    "        _genes['gene_class'] = _file.split(\".\")[0]\n",
    "        try:\n",
    "            ext_genes = pd.concat([ext_genes, _genes[['Symbol', 'gene_class']]]) if idx>0 else _genes[['Symbol', 'gene_class']]\n",
    "        except Exception as e:\n",
    "            print('Exception:',e, '\\n', 'For file:', _file)"
   ]
  },
  {
   "cell_type": "code",
   "execution_count": 9,
   "metadata": {},
   "outputs": [],
   "source": [
    "for idx, _class in enumerate(ext_genes.gene_class.unique()):\n",
    "    tmp = ext_genes.loc[ext_genes.gene_class==_class].drop_duplicates()\n",
    "    cleaned_genes = pd.concat([cleaned_genes, tmp]) if idx>0 else tmp\n",
    "cleaned_genes.reset_index(drop=True, inplace=True)\n",
    "ext_genes = cleaned_genes"
   ]
  },
  {
   "cell_type": "code",
   "execution_count": 10,
   "metadata": {},
   "outputs": [],
   "source": [
    "thyroid = pd.DataFrame(data=[(_gen, 'thyroid') for _gen in thyroid_genes], columns=['Symbol', 'gene_class'])\n",
    "tcell = pd.DataFrame(data=[(_gen, 'tcell') for _gen in tcell_genes], columns=['Symbol', 'gene_class'])\n",
    "thymus = pd.DataFrame(data=[(_gen, 'thymus') for _gen in thymus_gene_list], columns=['Symbol', 'gene_class'])\n",
    "neutro = pd.DataFrame(data=[(_gen, 'neutro') for _gen in neutro_genes], columns=['Symbol', 'gene_class'])\n",
    "erv = pd.DataFrame(data=[(_gen, 'erv') for _gen in erv_genes], columns=['Symbol', 'gene_class'])\n",
    "ext_genes = pd.concat([ext_genes, thyroid, tcell, erv, thymus, neutro])\n",
    "ext_genes['Symbol'] = ext_genes.Symbol.str.upper()\n",
    "ext_genes = ext_genes.groupby('Symbol')['gene_class'].apply(lambda x: \"|\".join(x)).reset_index()"
   ]
  },
  {
   "cell_type": "code",
   "execution_count": 11,
   "metadata": {},
   "outputs": [],
   "source": [
    "gene_list = ext_genes.Symbol.unique().tolist()"
   ]
  },
  {
   "cell_type": "code",
   "execution_count": 23,
   "metadata": {},
   "outputs": [],
   "source": [
    "#ext_genes.to_csv(\"selected_genes.csv\", sep=\"\\t\", index=False)"
   ]
  },
  {
   "cell_type": "code",
   "execution_count": null,
   "metadata": {},
   "outputs": [
    {
     "name": "stderr",
     "output_type": "stream",
     "text": [
      "100%|██████████| 995/995 [03:38<00:00,  4.55it/s]\n",
      "100%|██████████| 995/995 [03:42<00:00,  4.47it/s]\n",
      "  0%|          | 0/995 [00:00<?, ?it/s]"
     ]
    }
   ],
   "source": [
    "df_erv = {}\n",
    "for _key in dd:  \n",
    "    d = dd[_key]\n",
    "    print(\"Processing:\", _key)\n",
    "    if 'Gene' in d.columns:\n",
    "        temps = []\n",
    "        for _gene in tqdm(gene_list):\n",
    "            temps.append(d[d.Gene.str.upper() == _gene].to_pandas_df())            \n",
    "        df_erv[_key] = pd.concat(temps, axis=0)\n",
    "var_cols = {}"
   ]
  },
  {
   "cell_type": "code",
   "execution_count": null,
   "metadata": {},
   "outputs": [],
   "source": [
    "probe_map = df_erv['methylation'][['probeID', 'Chr', 'Start', 'Stop', 'Strand', 'Gene', 'Relation_CpG_Island']].reset_index().drop('index', axis=1)\n",
    "df_erv['methylation'] = df_erv['methylation'].drop(['Chr', 'Start', 'Stop', 'Strand', 'Gene', 'Relation_CpG_Island'], axis=1)\n",
    "df_erv['methylation'].set_index('probeID', inplace=True)\n",
    "df_erv['methylation'] = df_erv['methylation'].transpose()\n",
    "\n",
    "max_nans = int(max_nans_perc*df_erv['methylation'].shape[0])\n",
    "df_erv['methylation'].index = [re.sub(r'_', '-', _old_key) for _old_key in df_erv['methylation'].index.tolist()]\n",
    "df_erv['methylation'] = df_erv['methylation'].loc[:, df_erv['methylation'].columns[df_erv['methylation'].isna().sum()\\\n",
    "                                                                                   <max_nans].tolist()]\n",
    "var_cols['methylation'] = df_erv['methylation'].columns.tolist()"
   ]
  },
  {
   "cell_type": "code",
   "execution_count": null,
   "metadata": {},
   "outputs": [],
   "source": [
    "exp_map = df_erv['RNAex'][['Gene', 'Chr', 'Start', 'Stop', 'Strand']].reset_index().drop('index', axis=1)\n",
    "df_erv['RNAex'] = df_erv['RNAex'].drop(['Chr', 'Start', 'Stop', 'Strand'], axis=1)\n",
    "df_erv['RNAex'].set_index('Gene', inplace=True)\n",
    "df_erv['RNAex'] = df_erv['RNAex'].transpose()\n",
    "\n",
    "max_nans = int(max_nans_perc*df_erv['RNAex'].shape[0])\n",
    "df_erv['RNAex'].index = [re.sub(r'_', '-', _old_key) for _old_key in df_erv['RNAex'].index.tolist()]\n",
    "df_erv['RNAex'] = df_erv['RNAex'].loc[:, df_erv['RNAex'].columns[df_erv['RNAex'].isna().sum()\\\n",
    "                                                                                   <max_nans].tolist()]\n",
    "var_cols['RNAex'] = df_erv['RNAex'].columns.tolist()"
   ]
  },
  {
   "cell_type": "code",
   "execution_count": null,
   "metadata": {},
   "outputs": [],
   "source": [
    "df_erv['mutation'] = df_erv['mutation'][df_erv['mutation'].Effect!='upstream_gene_variant']\n",
    "mut_map = df_erv['mutation'][['Amino_Acid_Change', 'Gene', 'Chr', 'Start', 'Stop', 'Ref', 'Alt']].reset_index().drop('index', axis=1)\n",
    "df_erv['mutation'] = df_erv['mutation'].drop(['Gene', 'Chr', 'Start', 'Stop', 'Ref', 'Alt'], axis=1)\n",
    "df_erv['mutation'] = df_erv['mutation'].reset_index().drop('index', axis=1)\n",
    "df_erv['mutation'] = df_erv['mutation'].rename(index=str, columns={'Sample_ID': 'SampleID'})\n",
    "df_erv['mutation'].set_index('SampleID', inplace=True)\n",
    "var_cols['mutation'] = df_erv['mutation'].columns.tolist()"
   ]
  },
  {
   "cell_type": "code",
   "execution_count": null,
   "metadata": {},
   "outputs": [],
   "source": [
    "cnv_map = df_erv['CNV'][['Gene', 'Chr', 'Start', 'Stop', 'Strand']]\n",
    "df_erv['CNV'] = df_erv['CNV'].drop(['Chr', 'Start', 'Stop', 'Strand'], axis=1)\n",
    "df_erv['CNV'] = df_erv['CNV'].set_index('Gene')\n",
    "df_erv['CNV'] = df_erv['CNV'].transpose()\n",
    "df_erv['CNV'].index = [re.sub(r'_', '-', _old_key) for _old_key in df_erv['CNV'].index.tolist()]\n",
    "var_cols['CNV'] = df_erv['CNV'].columns.tolist()"
   ]
  },
  {
   "cell_type": "code",
   "execution_count": null,
   "metadata": {},
   "outputs": [],
   "source": [
    "meta_cols = ['Gender', 'Diagnosis', 'Age At Diagnosis (Years)', 'Overall Survival Status', 'Pack Years', 'Smoking Status']\n",
    "meta_cols = meta_cols + ['New Tumor Event', 'Radiation Therapy', 'Reponse To Therapy', 'Drug Therapy Type']\n",
    "\n",
    "stage_map = {'stage i': 'stage 1', 'stage ia': 'stage 1', 'stage ib': 'stage 1',\n",
    "             'stage ii': 'stage 2', 'stage iia': 'stage 2', 'stage iib': 'stage 2',\n",
    "             'stage iii': 'stage 3','stage iiia': 'stage 3', 'stage iiib': 'stage 3',\n",
    "             'stage iv' : 'stage 4'}\n",
    "meta['Stage'] = meta['Tumor Stage'].map(stage_map)\n",
    "########\n",
    "smoke_map = {'Current Reformed Smoker < or = 15 yrs': 'reformed', \n",
    "             'Current Reformed Smoker for > 15 yrs': 'reformed',\n",
    "             'Current Reformed Smoker, Duration Not Specified': 'reformed',\n",
    "             'Current Smoker': 'current',\n",
    "             'Lifelong Non-Smoker': 'non-smoker'}\n",
    "meta['Smoking'] = meta['Smoking Status'].map(smoke_map)\n",
    "########\n",
    "response_map = {'Progressive Disease': 'no',\n",
    "                'Complete Remission/Response': 'yes',\n",
    "                'Stable Disease': 'no',\n",
    "                'Partial Remission/Response': 'yes'}\n",
    "meta['Response'] = meta['Reponse To Therapy'].map(response_map)\n",
    "meta_cols = list(set(meta_cols + ['Stage', 'Smoking', 'Response']))\n",
    "\n",
    "for _key in df_erv:\n",
    "    df_erv[_key] = df_erv[_key].join(meta[meta_cols])"
   ]
  },
  {
   "cell_type": "code",
   "execution_count": null,
   "metadata": {},
   "outputs": [],
   "source": [
    "df_erv.keys()"
   ]
  },
  {
   "cell_type": "markdown",
   "metadata": {},
   "source": [
    "# Check differentiation per feature"
   ]
  },
  {
   "cell_type": "code",
   "execution_count": null,
   "metadata": {},
   "outputs": [],
   "source": [
    "#probe_map # probID -> Gene\n",
    "#ext_genes # Symbol -> gene_class"
   ]
  },
  {
   "cell_type": "markdown",
   "metadata": {},
   "source": [
    "## Methylation"
   ]
  },
  {
   "cell_type": "code",
   "execution_count": null,
   "metadata": {},
   "outputs": [],
   "source": [
    "len(var_cols['methylation'])"
   ]
  },
  {
   "cell_type": "code",
   "execution_count": null,
   "metadata": {},
   "outputs": [],
   "source": [
    "i=9999\n",
    "meta_col = 'Diagnosis' # \n",
    "meta_vals = df_erv['methylation'][meta_col].unique().tolist()\n",
    "val_series = []\n",
    "probe = var_cols['methylation'][i]\n",
    "gene = probe_map.loc[probe_map.probeID==probe]['Gene'].values[0]\n",
    "gene_class = ext_genes.loc[ext_genes.Symbol==gene]['gene_class'].values[0]\n",
    "for _meta_col_val in meta_vals:\n",
    "    if pd.isna(_meta_col_val)==False:\n",
    "        x = df_erv['methylation'].loc[df_erv['methylation'][meta_col]==_meta_col_val, probe]\n",
    "        x.plot.hist(bins=20, alpha=0.5, density=True, label=_meta_col_val)\n",
    "        x.plot.kde(color='black', label='')\n",
    "        val_series.append(x)\n",
    "plt.title(meta_col+' , '+var_cols['methylation'][i]+' ,  '+gene+' , '+gene_class)\n",
    "plt.legend()\n",
    "plt.xlim(0., 1.1)"
   ]
  },
  {
   "cell_type": "code",
   "execution_count": null,
   "metadata": {},
   "outputs": [],
   "source": [
    "# Wasserstein distance per gene class\n",
    "dist_list_diag = []\n",
    "for _probe in tqdm(var_cols['methylation']):\n",
    "    v1 = df_erv['methylation'].loc[df_erv['methylation']['Diagnosis']=='Lung Adenocarcinoma', _probe]\n",
    "    v2 = df_erv['methylation'].loc[df_erv['methylation']['Diagnosis']=='Lung Squamous Cell Carcinoma', _probe]\n",
    "    \n",
    "    try:\n",
    "        cd1 = _cdf_distanceB(v1, v2)\n",
    "        cd2 = _cdf_distanceG(v1, v2)\n",
    "    except ValueError as e:\n",
    "        v1 = np.isfinite(v1)\n",
    "        v2 = np.isfinite(v2)\n",
    "        cd1 = _cdf_distanceB(v1, v2)\n",
    "        cd2 = _cdf_distanceG(v1, v2)\n",
    "    dist_list_diag.append({'probe': _probe, \n",
    "                      'Bdist1': cd1[0],\n",
    "                      'Bdist2': cd1[1],\n",
    "                      'Bdist3': cd1[2],\n",
    "                      'Gdist1': cd2[0], \n",
    "                      'Gdist2': cd2[1],\n",
    "                      'Gdist3': cd2[2],\n",
    "                      'wass1' : stats.wasserstein_distance(v1,v2),\n",
    "                      'wass2' : stats.energy_distance(v1,v2),\n",
    "                      'statdistKS': _scaled_stat_distance(v1,v2)\n",
    "                      })"
   ]
  },
  {
   "cell_type": "code",
   "execution_count": null,
   "metadata": {},
   "outputs": [],
   "source": [
    "dist_list_response = []\n",
    "for _probe in tqdm(var_cols['methylation']):\n",
    "    v1 = df_erv['methylation'].loc[df_erv['methylation']['Response']=='yes', _probe]\n",
    "    v2 = df_erv['methylation'].loc[df_erv['methylation']['Response']=='no', _probe]\n",
    "    \n",
    "    try:\n",
    "        cd1 = _cdf_distanceB(v1, v2)\n",
    "        cd2 = _cdf_distanceG(v1, v2)\n",
    "    except ValueError as e:\n",
    "        v1 = np.isfinite(v1)\n",
    "        v2 = np.isfinite(v2)\n",
    "        cd1 = _cdf_distanceB(v1, v2)\n",
    "        cd2 = _cdf_distanceG(v1, v2)\n",
    "    dist_list_response.append({'probe': _probe, \n",
    "                      'Bdist1': cd1[0],\n",
    "                      'Bdist2': cd1[1],\n",
    "                      'Bdist3': cd1[2],\n",
    "                      'Gdist1': cd2[0], \n",
    "                      'Gdist2': cd2[1],\n",
    "                      'Gdist3': cd2[2],\n",
    "                      'wass1' : stats.wasserstein_distance(v1,v2),\n",
    "                      'wass2' : stats.energy_distance(v1,v2),\n",
    "                      'statdistKS': _scaled_stat_distance(v1,v2)\n",
    "                      })"
   ]
  },
  {
   "cell_type": "code",
   "execution_count": null,
   "metadata": {},
   "outputs": [],
   "source": [
    "dist_list_df = pd.DataFrame(dist_list_response)\n",
    "dist_list_df = dist_list_df.merge(probe_map[['probeID', 'Gene']], how='inner', left_on='probe', right_on='probeID')\n",
    "dist_list_df = dist_list_df.merge(ext_genes, how='inner', left_on='Gene', right_on='Symbol')\n",
    "agg_by_gene = dist_list_df.groupby('Gene').mean()"
   ]
  },
  {
   "cell_type": "code",
   "execution_count": null,
   "metadata": {},
   "outputs": [],
   "source": [
    "fig, ax = plt.subplots(ncols=2, nrows=2, figsize=(24,18))\n",
    "dist_list_df.sort_values(by='statdistKS', ascending=False)[:1000].groupby('gene_class').size().plot.bar(ax=ax[0,0])\n",
    "dist_list_df.sort_values(by='statdistKS', ascending=True)[:1000].groupby('gene_class').size().plot.bar(ax=ax[0,1])\n",
    "sns.scatterplot(data=dist_list_df, x='wass1', y='statdistKS', hue='gene_class', alpha=0.3, ax=ax[1,0])\n",
    "sns.scatterplot(data=dist_list_df, x='wass1', y='wass2', hue='gene_class', alpha=0.3, ax=ax[1,1])\n",
    "plt.suptitle(\"Lung cancer response methylation differentiation\")"
   ]
  },
  {
   "cell_type": "markdown",
   "metadata": {},
   "source": [
    "# Sample to sample similarity"
   ]
  },
  {
   "cell_type": "markdown",
   "metadata": {},
   "source": [
    "## Cross correlation\n",
    "* quantile transformation\n",
    "* cross correlations -> distribution\n",
    "\n"
   ]
  },
  {
   "cell_type": "markdown",
   "metadata": {},
   "source": [
    "## Graph analysis\n",
    "\n",
    "### graph clustering\n",
    "\n",
    "### graph embedding"
   ]
  },
  {
   "cell_type": "markdown",
   "metadata": {},
   "source": [
    "# Statistical properties of target groups"
   ]
  },
  {
   "cell_type": "code",
   "execution_count": null,
   "metadata": {},
   "outputs": [],
   "source": [
    "'''\n",
    "Univariated intra-distribution characterisations:\n",
    "    * [x] skewness\n",
    "    * [x] kurtosis\n",
    "    * normality test\n",
    "        * [x] q-qnorm metrics\n",
    "        * [x] Shapiro-Wilk\n",
    "        * [x] Anderson-Darling\n",
    "        * [x] Jarque-Bera\n",
    "        * [x] Gel-Gastwirth test, see https://ideas.repec.org/a/eee/ecolet/v99y2008i1p30-32.html\n",
    "        * [x] KS-goodness of fit\n",
    "'''\n",
    "\n",
    "'''\n",
    " function add_stat_agg(df, agg_val='Diagnosis')\n",
    "'''\n",
    "\n",
    "stat_cat = defaultdict(dict)\n",
    "stat_cat['methylation']['skewness'] = df_erv['methylation']\\\n",
    "                            .loc[:, var_cols['methylation']+['Diagnosis']]\\\n",
    "                            .groupby('Diagnosis')\\\n",
    "                            .apply(lambda x: _stanmom(x, mom=3, logscale=True)).transpose()\n",
    "\n",
    "stat_cat['methylation']['kurtosis'] = df_erv['methylation']\\\n",
    "                            .loc[:, var_cols['methylation']+['Diagnosis']]\\\n",
    "                            .groupby('Diagnosis')\\\n",
    "                            .apply(lambda x: _stanmom(x, mom=4, logscale=True)).transpose()\n",
    "\n",
    "stat_cat['methylation']['qqnorm'] = df_erv['methylation'].loc[:, var_cols['methylation']+['Diagnosis']]\\\n",
    "                     .groupby('Diagnosis')\\\n",
    "                     .apply(lambda x: _qq(x, minkowski=2)).reset_index(level=1)\n",
    "stat_cat['methylation']['qqnorm'] = stat_cat['methylation']['qqnorm'].drop('level_1', axis=1)\n",
    "stat_cat['methylation']['qqnorm'] = stat_cat['methylation']['qqnorm'].transpose()\n",
    "\n",
    "stat_cat['methylation']['mean'] = df_erv['methylation'].loc[:, var_cols['methylation']+['Diagnosis']]\\\n",
    "                     .groupby('Diagnosis')\\\n",
    "                     .mean().transpose()\n",
    "\n",
    "stat_cat['methylation']['median'] = df_erv['methylation'].loc[:, var_cols['methylation']+['Diagnosis']]\\\n",
    "                     .groupby('Diagnosis')\\\n",
    "                     .median().transpose()\n",
    "\n",
    "stat_cat['methylation']['q75'] = df_erv['methylation'].loc[:, var_cols['methylation']+['Diagnosis']]\\\n",
    "                     .groupby('Diagnosis')\\\n",
    "                     .quantile(0.75).transpose()\n",
    "\n",
    "stat_cat['methylation']['q25'] = df_erv['methylation'].loc[:, var_cols['methylation']+['Diagnosis']]\\\n",
    "                     .groupby('Diagnosis')\\\n",
    "                     .quantile(0.25).transpose()\n",
    "\n",
    "stat_cat['methylation']['AD'] = df_erv['methylation'].loc[:, var_cols['methylation']+['Diagnosis']]\\\n",
    "                     .groupby('Diagnosis')\\\n",
    "                     .apply(lambda x: stat_test_arr(x, test='AD')).reset_index(level=1)\n",
    "stat_cat['methylation']['AD'] = stat_cat['methylation']['AD'].drop('level_1', axis=1)\n",
    "stat_cat['methylation']['AD'] = stat_cat['methylation']['AD'].transpose()\n",
    "\n",
    "stat_cat['methylation']['SW'] = df_erv['methylation'].loc[:, var_cols['methylation']+['Diagnosis']]\\\n",
    "                     .groupby('Diagnosis')\\\n",
    "                     .apply(lambda x: stat_test_arr(x, test='SW')).reset_index(level=1)\n",
    "stat_cat['methylation']['SW'] = stat_cat['methylation']['SW'].drop('level_1', axis=1)\n",
    "stat_cat['methylation']['SW'] = stat_cat['methylation']['SW'].transpose()\n",
    "\n",
    "\n",
    "stat_cat['methylation']['JB'] = df_erv['methylation'].loc[:, var_cols['methylation']+['Diagnosis']]\\\n",
    "                     .groupby('Diagnosis')\\\n",
    "                     .apply(lambda x: stat_test_arr(x, test='JB')).reset_index(level=1)\n",
    "stat_cat['methylation']['JB'] = stat_cat['methylation']['JB'].drop('level_1', axis=1)\n",
    "stat_cat['methylation']['JB'] = stat_cat['methylation']['JB'].transpose()\n",
    "\n",
    "stat_cat['methylation']['RJB'] = df_erv['methylation'].loc[:, var_cols['methylation']+['Diagnosis']]\\\n",
    "                     .groupby('Diagnosis')\\\n",
    "                     .apply(lambda x: _rjb(x, C1=6, C2=64)).transpose()"
   ]
  },
  {
   "cell_type": "code",
   "execution_count": null,
   "metadata": {},
   "outputs": [],
   "source": [
    "'''\n",
    "Univariate inter-distribution distance:    \n",
    "        * _information_change: KL, Cross, Shannon\n",
    "        * Kolmogorov-Smirnov (also normality test)\n",
    "        * Pearson's chi-squared test (only if all vars are binned and categorised)\n",
    "        * Mann-Whitney U\n",
    "        * Brunner Munzel\n",
    "        * Bonett-Seier test\n",
    "        * Kruskall Wallis\n",
    "        * FDR-BH-ANOVA\n",
    "        * total variation distance\n",
    "        * Hellinger distance\n",
    "        * Bhattacharyya distance\n",
    "        * KS goodness of fit\n",
    "        * [x] q-q distances (CvM, nth-Wasserstein, etc.)\n",
    "        * [x] CDF distance \n",
    "        \n",
    "    \n",
    "        function add_inter_dist(df, split_cols, split_val='Diagnosis')\n",
    "'''\n",
    "\n"
   ]
  },
  {
   "cell_type": "code",
   "execution_count": null,
   "metadata": {},
   "outputs": [],
   "source": [
    "'''\n",
    "also see: https://towardsdatascience.com/select-features-for-omics-integration-511390b7e7fd\n",
    "inter-class separation scores:\n",
    " - ElasticNet - binomial\n",
    " - LR\n",
    " - PLS-DA\n",
    " - LDA\n",
    " - bi-GAM\n",
    "'''"
   ]
  },
  {
   "cell_type": "code",
   "execution_count": null,
   "metadata": {},
   "outputs": [],
   "source": [
    "# we extract the weights as weights for the similarity check later"
   ]
  },
  {
   "cell_type": "code",
   "execution_count": null,
   "metadata": {},
   "outputs": [],
   "source": [
    "'''\n",
    "    similarity -> dissimilarity:\n",
    "    * d = 1 - s\n",
    "    * d = sqrt(s(x,x)+s(y,y)-2s(x,y))\n",
    "    * d= -log(s(x,y))\n",
    "'''\n",
    "\n",
    "'''\n",
    "    dissimilarity -> similarity:\n",
    "    * s = exp(-d(x,y)/sigma)\n",
    "    * s = 1/(1+d(x,y))\n",
    "    * s = 1/2*(d^2(x,c) + d^2(y,c)-d^2(x,y))\n",
    "    \n",
    "'''"
   ]
  },
  {
   "cell_type": "code",
   "execution_count": null,
   "metadata": {},
   "outputs": [],
   "source": []
  },
  {
   "cell_type": "code",
   "execution_count": null,
   "metadata": {},
   "outputs": [],
   "source": [
    "v1 = np.array(df_erv['methylation'][var_cols['methylation']].iloc[41,:])\n",
    "v2 = np.array(df_erv['methylation'][var_cols['methylation']].iloc[151,:])\n",
    "indexsort = np.argsort(v1)\n",
    "\n",
    "fig, ax = plt.subplots(ncols=2, figsize=(18,7))\n",
    "ax[0].plot(v1[indexsort])\n",
    "ax[0].plot(v2[indexsort])\n",
    "ax[1].plot(v1[indexsort], v2[indexsort])\n",
    "\n",
    "print(_corr(v1, v2, fun=sc.stats.spearmanr), _corr(v1, v2, fun=sc.stats.pearsonr), _corr(v1, v2, fun=sc.stats.f_oneway))\n",
    "w = np.ones(shape=v1.shape)\n",
    "print(_wcorr(v1, v2, w))\n",
    "print(_continuous_sim(v1, v2, fun=sc.spatial.distance.cosine, centered=True, w=w))"
   ]
  },
  {
   "cell_type": "code",
   "execution_count": null,
   "metadata": {},
   "outputs": [],
   "source": [
    "'''\n",
    "Pairwise distance:\n",
    "    * Manhattan distance (only if all vars are binned and categorised)\n",
    "    * Euclidean distance\n",
    "    * Pearson  distance To be consistent with data protection laws, we’re asking you to take a moment to review key points of our Privacy Policy, which covers all Google services and describes how we use data and what options you have. We'll need you to do this today.\n",
    "NL\n",
    "\n",
    "    * Kendall distance \n",
    "    * Spearman distance\n",
    "    * 1-Cosine distance (pseudometric)\n",
    "    * Mahalanobis distance\n",
    "'''"
   ]
  },
  {
   "cell_type": "code",
   "execution_count": null,
   "metadata": {},
   "outputs": [],
   "source": [
    "# get inter-dataset feature-feature similarity \n",
    "\n",
    "# get sample-sample similarity\n",
    "# cluster samples \n",
    "\n",
    "# use NN to find similar patient clusters https://github.com/spotify/annoy\n",
    "\n",
    "## make N s-s-s bins \n",
    "\n",
    "\n",
    "# R: mixOmics, https://journals.plos.org/ploscompbiol/article?id=10.1371/journal.pcbi.1005752\n",
    "# DIABLO: https://www.biorxiv.org/content/10.1101/067611v2\n",
    "# Multiscale, multifactorial response network (MMRN)\n",
    "# https://www.nature.com/articles/s41467-019-08794-x.pdf\n",
    "# https://www.sciencedirect.com/science/article/pii/S2452310018301197#undfig1\n",
    "# https://www.cell.com/cell-systems/fulltext/S2405-4712(17)30548-3\n",
    "# https://bmcbioinformatics.biomedcentral.com/articles/10.1186/1471-2105-12-253"
   ]
  },
  {
   "cell_type": "code",
   "execution_count": null,
   "metadata": {},
   "outputs": [],
   "source": [
    "# what combination of dimensions makes samples from different target groups most dissimilar?\n",
    "# two target groups: AdenoCarcinoma and SquamousCellCarcinoma\n",
    "# maximize wasserstein distance\n",
    "# maximize information gain."
   ]
  },
  {
   "cell_type": "markdown",
   "metadata": {},
   "source": [
    "## Check class/survival differentiation per feature combination \n",
    "\n",
    "\n",
    "Another way to check differentiation between groups is to compare the survival curve changes per feature. \n",
    "We do this by splitting the groups on the feature medians."
   ]
  },
  {
   "cell_type": "code",
   "execution_count": null,
   "metadata": {},
   "outputs": [],
   "source": []
  },
  {
   "cell_type": "markdown",
   "metadata": {},
   "source": [
    "## Check differentiation class/survival with/without ERV mutations"
   ]
  },
  {
   "cell_type": "code",
   "execution_count": null,
   "metadata": {},
   "outputs": [],
   "source": []
  },
  {
   "cell_type": "markdown",
   "metadata": {},
   "source": [
    "## Weighted, supervised UMAP for identifying clusters"
   ]
  },
  {
   "cell_type": "code",
   "execution_count": null,
   "metadata": {},
   "outputs": [],
   "source": []
  },
  {
   "cell_type": "markdown",
   "metadata": {},
   "source": [
    "## Hausdorff distance between sample groups\n",
    "See the [wiki](https://en.wikipedia.org/wiki/Hausdorff_distance).\n",
    "\n",
    "SciPy has a function readily available, see [directed Hausdorff](https://docs.scipy.org/doc/scipy/reference/generated/scipy.spatial.distance.directed_hausdorff.html)\n"
   ]
  },
  {
   "cell_type": "code",
   "execution_count": null,
   "metadata": {},
   "outputs": [],
   "source": []
  },
  {
   "cell_type": "markdown",
   "metadata": {},
   "source": [
    "## Check activation of neutrofil/T-cell genes in relation to efficacy of immunotherapy"
   ]
  },
  {
   "cell_type": "code",
   "execution_count": null,
   "metadata": {},
   "outputs": [],
   "source": [
    "result_map = {'Complete Remission/Response': 1, \n",
    "              'Stable Disease': 0, \n",
    "              'Progressive Disease': 0,\n",
    "              'Partial Remission/Response': 1}\n",
    "\n",
    "neutro_probes = probe_map.loc[probe_map.Gene.isin(neutro_gene_list), 'probeID'].unique().tolist()\n",
    "tcell_probes = probe_map.loc[probe_map.Gene.isin(tcell_genes), 'probeID'].unique().tolist()\n",
    "erv_probes = probe_map.loc[probe_map.Gene.isin(erv_genes), 'probeID'].unique().tolist()\n",
    "\n",
    "neutro_probes  = set(neutro_probes) & set(df_erv['methylation'].columns.tolist())\n",
    "tcell_probes = set(tcell_probes) & set(df_erv['methylation'].columns.tolist())\n",
    "erv_probes = set(erv_probes) & set(df_erv['methylation'].columns.tolist())\n",
    "df_erv['methylation']['RTT'] = df_erv['methylation']['Reponse To Therapy'].map(result_map)\n",
    "\n",
    "neutro_rna =  set(neutro_gene_list) & set(df_erv['RNAex'].columns.tolist())\n",
    "tcell_rna = set(tcell_genes) & set(df_erv['RNAex'].columns.tolist())\n",
    "erv_rna = set(erv_genes) & set(df_erv['RNAex'].columns.tolist())\n",
    "\n",
    "df_erv['RNAex']['RTT'] = df_erv['RNAex']['Reponse To Therapy'].map(result_map)"
   ]
  },
  {
   "cell_type": "code",
   "execution_count": null,
   "metadata": {},
   "outputs": [],
   "source": [
    "fig, ax = plt.subplots(ncols=3, figsize=(18,5))\n",
    "df_erv['methylation'].loc[df_erv['methylation'].Diagnosis=='Lung Adenocarcinoma', erv_probes]\\\n",
    "                                                    .mean(axis=0).plot.hist(bins=20, histtype='step', ax=ax[0], label='Adeno')\n",
    "df_erv['methylation'].loc[df_erv['methylation'].Diagnosis=='Lung Squamous Cell Carcinoma', erv_probes]\\\n",
    "                                                    .mean(axis=0).plot.hist(bins=20, histtype='step', ax=ax[0], label='SCC')\n",
    "\n",
    "df_erv['methylation'].loc[df_erv['methylation'].Diagnosis=='Lung Adenocarcinoma', neutro_probes]\\\n",
    "                                                    .mean(axis=0).plot.hist(bins=20, histtype='step', ax=ax[1], label='Adeno')\n",
    "df_erv['methylation'].loc[df_erv['methylation'].Diagnosis=='Lung Squamous Cell Carcinoma', neutro_probes]\\\n",
    "                                                    .mean(axis=0).plot.hist(bins=20, histtype='step', ax=ax[1], label='SCC')\n",
    "\n",
    "df_erv['methylation'].loc[df_erv['methylation'].Diagnosis=='Lung Adenocarcinoma', tcell_probes]\\\n",
    "                                                    .mean(axis=0).plot.hist(bins=20, histtype='step', ax=ax[2], label='Adeno')\n",
    "df_erv['methylation'].loc[df_erv['methylation'].Diagnosis=='Lung Squamous Cell Carcinoma', tcell_probes]\\\n",
    "                                                    .mean(axis=0).plot.hist(bins=20, histtype='step', ax=ax[2], label='SCC')\n",
    "\n",
    "ax[0].set_title('Mean probe values for ERV')\n",
    "ax[1].set_title('Mean probe values for neutrophils')\n",
    "ax[2].set_title('Mean probe values for t-cells')\n",
    "ax[0].legend(loc=2)\n",
    "ax[1].legend(loc=2)\n",
    "ax[2].legend(loc=2)"
   ]
  },
  {
   "cell_type": "code",
   "execution_count": null,
   "metadata": {},
   "outputs": [],
   "source": [
    "fig, ax = plt.subplots(ncols=3, figsize=(18,5))\n",
    "df_erv['RNAex'].loc[df_erv['RNAex'].Diagnosis=='Lung Adenocarcinoma', erv_rna]\\\n",
    "                                                    .mean(axis=0).plot.hist(bins=5, histtype='step', ax=ax[0], label='Adeno')\n",
    "df_erv['RNAex'].loc[df_erv['RNAex'].Diagnosis=='Lung Squamous Cell Carcinoma', erv_rna]\\\n",
    "                                                    .mean(axis=0).plot.hist(bins=5, histtype='step', ax=ax[0], label='SCC')\n",
    "\n",
    "df_erv['RNAex'].loc[df_erv['RNAex'].Diagnosis=='Lung Adenocarcinoma', neutro_rna]\\\n",
    "                                                    .mean(axis=0).plot.hist(bins=5, histtype='step', ax=ax[1], label='Adeno')\n",
    "df_erv['RNAex'].loc[df_erv['RNAex'].Diagnosis=='Lung Squamous Cell Carcinoma', neutro_rna]\\\n",
    "                                                    .mean(axis=0).plot.hist(bins=5, histtype='step', ax=ax[1], label='SCC')\n",
    "\n",
    "df_erv['RNAex'].loc[df_erv['RNAex'].Diagnosis=='Lung Adenocarcinoma', tcell_rna]\\\n",
    "                                                    .mean(axis=0).plot.hist(bins=5, histtype='step', ax=ax[2], label='Adeno')\n",
    "df_erv['RNAex'].loc[df_erv['RNAex'].Diagnosis=='Lung Squamous Cell Carcinoma', tcell_rna]\\\n",
    "                                                    .mean(axis=0).plot.hist(bins=5, histtype='step', ax=ax[2], label='SCC')\n",
    "\n",
    "ax[0].set_title('Mean RNAexp values for ERV')\n",
    "ax[1].set_title('Mean RNAexp values for neutrophils')\n",
    "ax[2].set_title('Mean RNAexp values for t-cells')\n",
    "ax[0].legend(loc=1)\n",
    "ax[1].legend(loc=1)\n",
    "ax[2].legend(loc=2)"
   ]
  },
  {
   "cell_type": "code",
   "execution_count": null,
   "metadata": {},
   "outputs": [],
   "source": [
    "fig, ax = plt.subplots(ncols=3, figsize=(18,5))\n",
    "df_erv['RNAex'].loc[df_erv['RNAex'].RTT==0, erv_rna]\\\n",
    "                                                    .mean(axis=0).plot.hist(bins=5, histtype='step', ax=ax[0], label='NR')\n",
    "df_erv['RNAex'].loc[df_erv['RNAex'].RTT==1, erv_rna]\\\n",
    "                                                    .mean(axis=0).plot.hist(bins=5, histtype='step', ax=ax[0], label='R')\n",
    "\n",
    "df_erv['RNAex'].loc[df_erv['RNAex'].RTT==0, neutro_rna]\\\n",
    "                                                    .mean(axis=0).plot.hist(bins=5, histtype='step', ax=ax[1], label='NR')\n",
    "df_erv['RNAex'].loc[df_erv['RNAex'].RTT==1, neutro_rna]\\\n",
    "                                                    .mean(axis=0).plot.hist(bins=5, histtype='step', ax=ax[1], label='R')\n",
    "\n",
    "df_erv['RNAex'].loc[df_erv['RNAex'].RTT==0, tcell_rna]\\\n",
    "                                                    .mean(axis=0).plot.hist(bins=5, histtype='step', ax=ax[2], label='NR')\n",
    "df_erv['RNAex'].loc[df_erv['RNAex'].RTT==1, tcell_rna]\\\n",
    "                                                    .mean(axis=0).plot.hist(bins=5, histtype='step', ax=ax[2], label='R')\n",
    "\n",
    "ax[0].set_title('Mean RNAexp values for ERV')\n",
    "ax[1].set_title('Mean RNAexp values for neutrophils')\n",
    "ax[2].set_title('Mean RNAexp values for t-cells')\n",
    "ax[0].legend(loc=1)\n",
    "ax[1].legend(loc=1)\n",
    "ax[2].legend(loc=2)"
   ]
  },
  {
   "cell_type": "code",
   "execution_count": null,
   "metadata": {},
   "outputs": [],
   "source": [
    "# relationship between ERV/T-cell/Neutrophils"
   ]
  },
  {
   "cell_type": "code",
   "execution_count": null,
   "metadata": {},
   "outputs": [],
   "source": [
    "# Graph embeddings \n",
    "\n",
    "# Patient-to-patient clusters\n",
    "## try MCL with Hadamard product and sum of logs\n",
    "\n",
    "# ICA/CCA"
   ]
  }
 ],
 "metadata": {
  "kernelspec": {
   "display_name": "Python 3",
   "language": "python",
   "name": "python3"
  },
  "language_info": {
   "codemirror_mode": {
    "name": "ipython",
    "version": 3
   },
   "file_extension": ".py",
   "mimetype": "text/x-python",
   "name": "python",
   "nbconvert_exporter": "python",
   "pygments_lexer": "ipython3",
   "version": "3.6.9"
  }
 },
 "nbformat": 4,
 "nbformat_minor": 4
}
