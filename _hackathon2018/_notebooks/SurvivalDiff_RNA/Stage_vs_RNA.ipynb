{
 "cells": [
  {
   "cell_type": "code",
   "execution_count": 1,
   "metadata": {},
   "outputs": [
    {
     "data": {
      "text/html": [
       "        <script type=\"text/javascript\">\n",
       "        window.PlotlyConfig = {MathJaxConfig: 'local'};\n",
       "        if (window.MathJax) {MathJax.Hub.Config({SVG: {font: \"STIX-Web\"}});}\n",
       "        if (typeof require !== 'undefined') {\n",
       "        require.undef(\"plotly\");\n",
       "        requirejs.config({\n",
       "            paths: {\n",
       "                'plotly': ['https://cdn.plot.ly/plotly-latest.min']\n",
       "            }\n",
       "        });\n",
       "        require(['plotly'], function(Plotly) {\n",
       "            window._Plotly = Plotly;\n",
       "        });\n",
       "        }\n",
       "        </script>\n",
       "        "
      ]
     },
     "metadata": {},
     "output_type": "display_data"
    }
   ],
   "source": [
    "# load in melanoma/lung, map cancer stage to ordinal scale, identify correlating RNA expressions\n",
    "\n",
    "# MIC, Pearson, Spearman, Distance correlation, monotonic_alignment, pca/fa\n",
    "\n",
    "import omic_helpers\n",
    "import numpy as np\n",
    "import scipy as sc\n",
    "import pandas as pd\n",
    "import vaex as vx\n",
    "import seaborn as sn\n",
    "\n",
    "import ipyvolume as ipv\n",
    "import plotly\n",
    "import plotly.graph_objs as go\n",
    "plotly.offline.init_notebook_mode(connected=True)\n",
    "cm = sn.light_palette(\"green\", as_cmap=True)\n",
    "\n",
    "import sys, os, gc\n",
    "from collections import defaultdict"
   ]
  },
  {
   "cell_type": "code",
   "execution_count": 2,
   "metadata": {},
   "outputs": [],
   "source": [
    "pd.set_option('display.max_rows', 500)\n",
    "pd.set_option('display.max_columns', 500)\n",
    "pd.set_option('display.width', 1000)"
   ]
  },
  {
   "cell_type": "code",
   "execution_count": 3,
   "metadata": {},
   "outputs": [],
   "source": [
    "def plot3d(xlist, title=\"\", names=[]):\n",
    "    fig = go.Figure(layout={'title': title})\n",
    "    for idx, x in enumerate(xlist):\n",
    "        name = names[idx]\n",
    "        fig.add_trace(go.Scatter3d(\n",
    "            x=x[:,0],\n",
    "            y=x[:,1],\n",
    "            z=x[:,2],\n",
    "            mode='markers',\n",
    "            marker={\n",
    "                'size': 9,\n",
    "                'opacity': 0.25,\n",
    "            },\n",
    "            name=name\n",
    "        )\n",
    "        )\n",
    "    layout = go.Layout(\n",
    "        margin={'l': 0, 'r': 0, 'b': 0, 't': 0}\n",
    "    )\n",
    "    plotly.offline.iplot(fig)"
   ]
  },
  {
   "cell_type": "code",
   "execution_count": 4,
   "metadata": {},
   "outputs": [],
   "source": [
    "os.chdir('/media/bramiozo/DATA-FAST/genetic_expression/hackathon_2')"
   ]
  },
  {
   "cell_type": "code",
   "execution_count": 5,
   "metadata": {},
   "outputs": [],
   "source": [
    "ctype='Lung'"
   ]
  },
  {
   "cell_type": "code",
   "execution_count": 26,
   "metadata": {},
   "outputs": [],
   "source": [
    "ds = {}\n",
    "ds['RNAex'] = pd.read_csv(ctype+'/'+ctype+'_GeneExpression.txt', sep='\\t')\n",
    "ds['mutation'] = pd.read_csv(ctype+'/'+ctype+'_Mutation.txt', sep='\\t')\n",
    "#ds['methylation'] = vx.open(ctype+'Lung_Methylation.hdf5')\n",
    "#ds['methylation_meta'] = vx.open(ctype+'HumanMethylation450_meta.hdf5')\n",
    "#ds['CNV'] = vx.open(ctype+'Lung_CNV.hdf5')"
   ]
  },
  {
   "cell_type": "code",
   "execution_count": 27,
   "metadata": {},
   "outputs": [],
   "source": [
    "miRNA = pd.read_csv(ctype+'/'+ctype+'_miRNA.txt', sep=\"\\t\")\n",
    "mimamap = miRNA[['MIMATID', 'Name', 'Chr', 'Start', 'Stop', 'Strand']]\n",
    "miRNA.drop(['Name', 'Chr', 'Start', 'Stop', 'Strand'], axis=1, inplace=True)\n",
    "miRNA = miRNA.set_index('MIMATID').transpose()\n",
    "\n",
    "proteome = pd.read_csv(ctype+'/'+ctype+\"_Proteome.txt\", sep=\"\\t\")\n",
    "#proteome = proteome.set_index('sample').transpose()\n",
    "\n",
    "meta = pd.read_csv(ctype+'/'+ctype+'_Phenotype_Metadata.txt', sep='\\t')\n",
    "meta = meta[~meta.SampleID.duplicated(keep='last')]\n",
    "meta['SampleID']  = meta.SampleID.str.replace(\"\\-\", \"_\")\n",
    "meta.set_index('SampleID', inplace=True)"
   ]
  },
  {
   "cell_type": "code",
   "execution_count": 28,
   "metadata": {},
   "outputs": [],
   "source": [
    "meta_cols = ['Gender', 'Diagnosis', 'Age At Diagnosis (Years)', \n",
    "             'Overall Survival Status', 'Pack Years', 'Smoking Status',\n",
    "             'Time To Overall Survival (Days)']\n",
    "meta_cols = meta_cols + ['New Tumor Event', 'Radiation Therapy', 'Reponse To Therapy', 'Drug Therapy Type']\n",
    "\n",
    "stage_map = {'stage i': 1, 'stage ia': 1.5, 'stage ib': 1.75,\n",
    "             'stage ii': 2, 'stage iia': 2.5, 'stage iib': 2.75,\n",
    "             'stage iii': 3,'stage iiia': 3.5, 'stage iiib': 3.75,\n",
    "             'stage iv' : 4}\n",
    "meta['Stage'] = meta['Tumor Stage'].map(stage_map)\n",
    "########\n",
    "if ctype=='Lung':\n",
    "    smoke_map = {'Current Reformed Smoker < or = 15 yrs': 'reformed', \n",
    "                 'Current Reformed Smoker for > 15 yrs': 'reformed',\n",
    "                 'Current Reformed Smoker, Duration Not Specified': 'reformed',\n",
    "                 'Current Smoker': 'current',\n",
    "                 'Lifelong Non-Smoker': 'non-smoker'}\n",
    "    meta['Smoking'] = meta['Smoking Status'].map(smoke_map)\n",
    "########\n",
    "response_map = {'Progressive Disease': 0,\n",
    "                'Complete Remission/Response': 1,\n",
    "                'Stable Disease': 0,\n",
    "                'Partial Remission/Response': 1}\n",
    "meta['Response'] = meta['Response To Therapy'].map(response_map)\n",
    "\n",
    "meta.dropna(subset=['Overall Survival Status'], inplace=True)\n",
    "meta['Overall Survival Status'] =  meta['Overall Survival Status'].astype(int)\n",
    "\n",
    "gender_map = {'male': 0, 'female': 1}\n",
    "meta['Gender'] = meta['Gender'].map(gender_map)\n",
    "\n",
    "meta_cols = list(set(meta_cols + ['Stage', 'Smoking', 'Response', 'Sample Type']))\n",
    "meta.reset_index(inplace=True)\n",
    "meta['SampleID'] = meta.SampleID.apply(lambda x: x.replace(\"_\", \"-\"))\n",
    "meta.set_index('SampleID', inplace=True)"
   ]
  },
  {
   "cell_type": "code",
   "execution_count": 29,
   "metadata": {},
   "outputs": [],
   "source": [
    "ds['RNAex'].Gene = ds['RNAex'].Gene.str.upper()\n",
    "ds['RNAex'].sort_values(by='Gene', inplace=True)\n",
    "ds['RNAex'].Start = ds['RNAex'].Start.astype(str)\n",
    "ds['RNAex'].Stop = ds['RNAex'].Stop.astype(str)\n",
    "ds['RNAex'].Strand = ds['RNAex'].Strand.astype(str)\n",
    "ds['RNAex']['rnaID'] = ds['RNAex'][['Gene', 'Chr', 'Start', 'Stop', 'Strand']].apply(lambda x:\n",
    "                                                                                     \"_\".join(x), axis=1)\n",
    "rnamap = ds['RNAex'][['rnaID', 'Gene', 'Chr', 'Start', 'Stop', 'Strand']]\n",
    "rnamap['rnaID'].reset_index(drop=True, inplace=True)\n",
    "rnamap.drop_duplicates(subset=['Gene', 'Chr', 'Start', 'Stop', 'Strand'])\n",
    "ds['RNAex'].drop(['Gene', 'Chr', 'Start', 'Stop', 'Strand'], axis=1, inplace=True)\n",
    "ds['RNAex'] = ds['RNAex'].set_index('rnaID').transpose()\n",
    "gc.collect()\n",
    "rnamap.set_index('rnaID', inplace=True)"
   ]
  },
  {
   "cell_type": "markdown",
   "metadata": {},
   "source": [
    "## RNA expression diff analysis"
   ]
  },
  {
   "cell_type": "code",
   "execution_count": 31,
   "metadata": {},
   "outputs": [],
   "source": [
    "X = ds['RNAex'].join(meta[['Stage']], how='inner')"
   ]
  },
  {
   "cell_type": "code",
   "execution_count": 32,
   "metadata": {},
   "outputs": [],
   "source": [
    "X.dropna(subset=['Stage'], inplace=True)\n",
    "Y = X[['Stage']]\n",
    "X.drop(['Stage'], axis=1, inplace=True)"
   ]
  },
  {
   "cell_type": "code",
   "execution_count": 36,
   "metadata": {},
   "outputs": [
    {
     "ename": "TypeError",
     "evalue": "spearman_scores() got an unexpected keyword argument 'return_df'",
     "output_type": "error",
     "traceback": [
      "\u001b[0;31m---------------------------------------------------------------------------\u001b[0m",
      "\u001b[0;31mTypeError\u001b[0m                                 Traceback (most recent call last)",
      "\u001b[0;32m<ipython-input-36-e48c70370e7a>\u001b[0m in \u001b[0;36m<module>\u001b[0;34m\u001b[0m\n\u001b[1;32m      1\u001b[0m \u001b[0mtarget\u001b[0m \u001b[0;34m=\u001b[0m \u001b[0;34m'Stage'\u001b[0m\u001b[0;34m\u001b[0m\u001b[0;34m\u001b[0m\u001b[0m\n\u001b[1;32m      2\u001b[0m \u001b[0mlincorr_dict\u001b[0m \u001b[0;34m=\u001b[0m \u001b[0mdict\u001b[0m\u001b[0;34m(\u001b[0m\u001b[0;34m)\u001b[0m\u001b[0;34m\u001b[0m\u001b[0;34m\u001b[0m\u001b[0m\n\u001b[0;32m----> 3\u001b[0;31m \u001b[0mlincorr_dict\u001b[0m\u001b[0;34m[\u001b[0m\u001b[0;34m'spearman'\u001b[0m\u001b[0;34m]\u001b[0m\u001b[0;34m=\u001b[0m \u001b[0momic_helpers\u001b[0m\u001b[0;34m.\u001b[0m\u001b[0momic_helpers\u001b[0m\u001b[0;34m.\u001b[0m\u001b[0mspearman_scores\u001b[0m\u001b[0;34m(\u001b[0m\u001b[0mX\u001b[0m\u001b[0;34m,\u001b[0m\u001b[0mY\u001b[0m\u001b[0;34m[\u001b[0m\u001b[0mtarget\u001b[0m\u001b[0;34m]\u001b[0m\u001b[0;34m,\u001b[0m \u001b[0mreturn_df\u001b[0m\u001b[0;34m=\u001b[0m\u001b[0;32mTrue\u001b[0m\u001b[0;34m,\u001b[0m \u001b[0mcorrection\u001b[0m\u001b[0;34m=\u001b[0m\u001b[0;34m'bonferroni'\u001b[0m\u001b[0;34m)\u001b[0m\u001b[0;34m\u001b[0m\u001b[0;34m\u001b[0m\u001b[0m\n\u001b[0m\u001b[1;32m      4\u001b[0m \u001b[0mlincorr_dict\u001b[0m\u001b[0;34m[\u001b[0m\u001b[0;34m'pearson'\u001b[0m\u001b[0;34m]\u001b[0m\u001b[0;34m=\u001b[0m \u001b[0momic_helpers\u001b[0m\u001b[0;34m.\u001b[0m\u001b[0mpearson_scores\u001b[0m\u001b[0;34m(\u001b[0m\u001b[0mX\u001b[0m\u001b[0;34m,\u001b[0m\u001b[0mY\u001b[0m\u001b[0;34m[\u001b[0m\u001b[0mtarget\u001b[0m\u001b[0;34m]\u001b[0m\u001b[0;34m,\u001b[0m \u001b[0mreturn_df\u001b[0m\u001b[0;34m=\u001b[0m\u001b[0;32mTrue\u001b[0m\u001b[0;34m,\u001b[0m \u001b[0mcorrection\u001b[0m\u001b[0;34m=\u001b[0m\u001b[0;34m'bonferroni'\u001b[0m\u001b[0;34m)\u001b[0m\u001b[0;34m\u001b[0m\u001b[0;34m\u001b[0m\u001b[0m\n\u001b[1;32m      5\u001b[0m \u001b[0mlincorr_dict\u001b[0m\u001b[0;34m[\u001b[0m\u001b[0;34m'monotonic_aligned'\u001b[0m\u001b[0;34m]\u001b[0m \u001b[0;34m=\u001b[0m \u001b[0momic_helpers\u001b[0m\u001b[0;34m.\u001b[0m\u001b[0mmonotonic_alignment\u001b[0m\u001b[0;34m(\u001b[0m\u001b[0mX\u001b[0m\u001b[0;34m,\u001b[0m\u001b[0mY\u001b[0m\u001b[0;34m[\u001b[0m\u001b[0;34m[\u001b[0m\u001b[0mtarget\u001b[0m\u001b[0;34m]\u001b[0m\u001b[0;34m]\u001b[0m\u001b[0;34m,\u001b[0m \u001b[0mreturn_df\u001b[0m\u001b[0;34m=\u001b[0m\u001b[0;32mTrue\u001b[0m\u001b[0;34m)\u001b[0m\u001b[0;34m\u001b[0m\u001b[0;34m\u001b[0m\u001b[0m\n",
      "\u001b[0;31mTypeError\u001b[0m: spearman_scores() got an unexpected keyword argument 'return_df'"
     ]
    }
   ],
   "source": [
    "target = 'Stage'\n",
    "lincorr_dict = dict()\n",
    "lincorr_dict['spearman']= omic_helpers.spearman_scores(X,Y[target], return_df=True, correction='bonferroni')\n",
    "lincorr_dict['pearson']= omic_helpers.pearson_scores(X,Y[target], return_df=True, correction='bonferroni')\n",
    "lincorr_dict['monotonic_aligned'] = omic_helpers.monotonic_alignment(X,Y[[target]], return_df=True)\n",
    "lincorr_dict['distance_correlation'] = omic_helpers.distcorr(X, Y[[target]], per_column=True,\n",
    "                                                             return_df=True, columns=['distance_correlation'])\n",
    "lincorr_dict['mine'] = omic_helpers.mic_scores(X, Y[target], return_df=True)\n",
    "lincorr = pd.concat(list(lincorr_dict.values()), axis=1)\n",
    "lincorr.sort_values(by='distance_correlation', ascending=False, inplace=True)"
   ]
  },
  {
   "cell_type": "code",
   "execution_count": null,
   "metadata": {},
   "outputs": [],
   "source": [
    "scores = pd.DataFrame(data=lincorr_dict['spearman'], index=X.columns, columns=['score', 'pval'])\n",
    "scores.dropna(inplace=True)\n",
    "scores = scores.join(rnamap, how='inner')"
   ]
  },
  {
   "cell_type": "code",
   "execution_count": null,
   "metadata": {},
   "outputs": [],
   "source": [
    "scores.sort_values(by='score', ascending=False)[:30]"
   ]
  },
  {
   "cell_type": "code",
   "execution_count": null,
   "metadata": {},
   "outputs": [],
   "source": []
  }
 ],
 "metadata": {
  "kernelspec": {
   "display_name": "Python 3 (multi_omics)",
   "language": "python",
   "name": "multi_omics"
  },
  "language_info": {
   "codemirror_mode": {
    "name": "ipython",
    "version": 3
   },
   "file_extension": ".py",
   "mimetype": "text/x-python",
   "name": "python",
   "nbconvert_exporter": "python",
   "pygments_lexer": "ipython3",
   "version": "3.8.2"
  }
 },
 "nbformat": 4,
 "nbformat_minor": 4
}
