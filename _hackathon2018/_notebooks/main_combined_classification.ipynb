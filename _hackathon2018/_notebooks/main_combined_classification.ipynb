{
 "cells": [
  {
   "cell_type": "markdown",
   "metadata": {},
   "source": [
    "# Combining omics for classification of phenotypes\n",
    "\n",
    "Ritchie et al. (Methods of integrating data to uncover genotype-phenotype interactions) describe the following ways to integrate multi-omic data\n",
    "\n",
    "* Concatenation-based: combine all datasets\n",
    "* Model-based: create models per datasets, then combine models\n",
    "* Transformation-based: \n",
    "\n",
    "We present a fourth and a fifth multi-omic method\n",
    "* Reduced normalised concatenation\n",
    "* Model-based inter-omic transformation\n",
    "\n",
    "Per sub-omic we collect important features, by\n",
    "* comparing the non-parametric distributions over the different classifications\n",
    "* simply counting the occurrences and setting a cut-off point\n",
    "* using the importances of the classification models as filters\n",
    "\n",
    "We then have the choice to collect these features\n",
    "*  greedily\n",
    "*  non-greedily\n",
    "\n",
    "To find inter **and** intra-omic connections we can resort to a similarity measure. "
   ]
  },
  {
   "cell_type": "markdown",
   "metadata": {},
   "source": [
    "## Load libraries.."
   ]
  },
  {
   "cell_type": "code",
   "execution_count": 1,
   "metadata": {},
   "outputs": [
    {
     "name": "stderr",
     "output_type": "stream",
     "text": [
      "/usr/local/lib/python3.6/dist-packages/ggplot/utils.py:81: FutureWarning: pandas.tslib is deprecated and will be removed in a future version.\n",
      "You can access Timestamp as pandas.Timestamp\n",
      "  pd.tslib.Timestamp,\n",
      "/usr/local/lib/python3.6/dist-packages/ggplot/stats/smoothers.py:4: FutureWarning: The pandas.lib module is deprecated and will be removed in a future version. These are private functions and can be accessed from pandas._libs.lib instead\n",
      "  from pandas.lib import Timestamp\n",
      "/usr/local/lib/python3.6/dist-packages/statsmodels/compat/pandas.py:56: FutureWarning: The pandas.core.datetools module is deprecated and will be removed in a future version. Please use the pandas.tseries module instead.\n",
      "  from pandas.core import datetools\n",
      "/usr/local/lib/python3.6/dist-packages/h5py/__init__.py:36: FutureWarning: Conversion of the second argument of issubdtype from `float` to `np.floating` is deprecated. In future, it will be treated as `np.float64 == np.dtype(float).type`.\n",
      "  from ._conv import register_converters as _register_converters\n",
      "Using TensorFlow backend.\n"
     ]
    }
   ],
   "source": [
    "import seaborn as sns\n",
    "from ggplot import *\n",
    "from matplotlib import pyplot as plt\n",
    "import bokeh\n",
    "\n",
    "import pandas as pd\n",
    "import dask.dataframe as dd\n",
    "import numpy as np\n",
    "import scipy as sc\n",
    "import statsmodels as sm\n",
    "import networkx as nx\n",
    "\n",
    "import sklearn as sk\n",
    "import tensorflow as tf\n",
    "import keras\n",
    "import lightgbm as lgbm\n",
    "import tpot\n",
    "\n",
    "import sys\n",
    "import os\n",
    "import gc\n",
    "\n",
    "\n",
    "pd.options.display.max_rows = 30\n",
    "pd.options.display.max_columns = 50\n",
    "pd.options.display.float_format = '{:.1f}'.format"
   ]
  },
  {
   "cell_type": "markdown",
   "metadata": {},
   "source": [
    "## Load in data.."
   ]
  },
  {
   "cell_type": "code",
   "execution_count": 5,
   "metadata": {},
   "outputs": [],
   "source": [
    "def read_table(name, loc=\"gc\"):\n",
    "    if loc==\"gc\":\n",
    "        file_root = \"https://storage.googleapis.com/genx_2018/\"\n",
    "    elif loc==\"local\":\n",
    "        file_root = \"/media/koekiemonster/DATA-FAST/genetic_expression/hackathon_2/Melanoma/\"\n",
    "    return pd.read_table(file_root + name, sep=\"\\t\")"
   ]
  },
  {
   "cell_type": "code",
   "execution_count": 117,
   "metadata": {},
   "outputs": [],
   "source": [
    "data_methylation = read_table(\"Melanoma_Methylation.txt\", loc=\"local\")"
   ]
  },
  {
   "cell_type": "code",
   "execution_count": 149,
   "metadata": {},
   "outputs": [
    {
     "name": "stderr",
     "output_type": "stream",
     "text": [
      "/usr/local/lib/python3.6/dist-packages/IPython/core/interactiveshell.py:2903: DtypeWarning: Columns (1,4) have mixed types. Specify dtype option on import or set low_memory=False.\n",
      "  if self.run_code(code, result):\n",
      "/usr/local/lib/python3.6/dist-packages/IPython/core/interactiveshell.py:2903: DtypeWarning: Columns (4) have mixed types. Specify dtype option on import or set low_memory=False.\n",
      "  if self.run_code(code, result):\n"
     ]
    }
   ],
   "source": [
    "data_mutation = read_table(\"Melanoma_Mutation.txt\", loc=\"local\")\n",
    "data_cnv = read_table(\"Melanoma_CNV.txt\", loc=\"local\")\n",
    "data_RNA = read_table(\"Melanoma_GeneExpression.txt\", loc=\"local\")\n",
    "data_miRNA = read_table(\"Melanoma_miRNA.txt\", loc=\"local\")\n",
    "data_protein = read_table(\"Melanoma_Proteome.txt\", loc=\"local\")"
   ]
  },
  {
   "cell_type": "markdown",
   "metadata": {},
   "source": [
    "## create sub-omics "
   ]
  },
  {
   "cell_type": "markdown",
   "metadata": {},
   "source": [
    "### Methylation data"
   ]
  },
  {
   "cell_type": "code",
   "execution_count": 7,
   "metadata": {},
   "outputs": [
    {
     "data": {
      "text/html": [
       "<div>\n",
       "<style scoped>\n",
       "    .dataframe tbody tr th:only-of-type {\n",
       "        vertical-align: middle;\n",
       "    }\n",
       "\n",
       "    .dataframe tbody tr th {\n",
       "        vertical-align: top;\n",
       "    }\n",
       "\n",
       "    .dataframe thead th {\n",
       "        text-align: right;\n",
       "    }\n",
       "</style>\n",
       "<table border=\"1\" class=\"dataframe\">\n",
       "  <thead>\n",
       "    <tr style=\"text-align: right;\">\n",
       "      <th></th>\n",
       "      <th></th>\n",
       "      <th>probeID</th>\n",
       "    </tr>\n",
       "    <tr>\n",
       "      <th>Strand</th>\n",
       "      <th>Relation_CpG_Island</th>\n",
       "      <th></th>\n",
       "    </tr>\n",
       "  </thead>\n",
       "  <tbody>\n",
       "    <tr>\n",
       "      <th rowspan=\"5\" valign=\"top\">+</th>\n",
       "      <th>Island</th>\n",
       "      <td>44246</td>\n",
       "    </tr>\n",
       "    <tr>\n",
       "      <th>N_Shelf</th>\n",
       "      <td>9788</td>\n",
       "    </tr>\n",
       "    <tr>\n",
       "      <th>N_Shore</th>\n",
       "      <td>21200</td>\n",
       "    </tr>\n",
       "    <tr>\n",
       "      <th>S_Shelf</th>\n",
       "      <td>8439</td>\n",
       "    </tr>\n",
       "    <tr>\n",
       "      <th>S_Shore</th>\n",
       "      <td>15899</td>\n",
       "    </tr>\n",
       "    <tr>\n",
       "      <th rowspan=\"5\" valign=\"top\">-</th>\n",
       "      <th>Island</th>\n",
       "      <td>44514</td>\n",
       "    </tr>\n",
       "    <tr>\n",
       "      <th>N_Shelf</th>\n",
       "      <td>9191</td>\n",
       "    </tr>\n",
       "    <tr>\n",
       "      <th>N_Shore</th>\n",
       "      <td>20276</td>\n",
       "    </tr>\n",
       "    <tr>\n",
       "      <th>S_Shelf</th>\n",
       "      <td>8834</td>\n",
       "    </tr>\n",
       "    <tr>\n",
       "      <th>S_Shore</th>\n",
       "      <td>16121</td>\n",
       "    </tr>\n",
       "  </tbody>\n",
       "</table>\n",
       "</div>"
      ],
      "text/plain": [
       "                            probeID\n",
       "Strand Relation_CpG_Island         \n",
       "+      Island                 44246\n",
       "       N_Shelf                 9788\n",
       "       N_Shore                21200\n",
       "       S_Shelf                 8439\n",
       "       S_Shore                15899\n",
       "-      Island                 44514\n",
       "       N_Shelf                 9191\n",
       "       N_Shore                20276\n",
       "       S_Shelf                 8834\n",
       "       S_Shore                16121"
      ]
     },
     "execution_count": 7,
     "metadata": {},
     "output_type": "execute_result"
    }
   ],
   "source": [
    "# types of mutations, strand, etc.\n",
    "data_methylation[['Relation_CpG_Island', 'Strand', 'probeID']].\\\n",
    "                                        groupby(by=['Strand', 'Relation_CpG_Island']).count()"
   ]
  },
  {
   "cell_type": "code",
   "execution_count": 9,
   "metadata": {},
   "outputs": [
    {
     "data": {
      "text/html": [
       "<div>\n",
       "<style scoped>\n",
       "    .dataframe tbody tr th:only-of-type {\n",
       "        vertical-align: middle;\n",
       "    }\n",
       "\n",
       "    .dataframe tbody tr th {\n",
       "        vertical-align: top;\n",
       "    }\n",
       "\n",
       "    .dataframe thead th {\n",
       "        text-align: right;\n",
       "    }\n",
       "</style>\n",
       "<table border=\"1\" class=\"dataframe\">\n",
       "  <thead>\n",
       "    <tr style=\"text-align: right;\">\n",
       "      <th></th>\n",
       "      <th>probeID</th>\n",
       "    </tr>\n",
       "    <tr>\n",
       "      <th>Chr</th>\n",
       "      <th></th>\n",
       "    </tr>\n",
       "  </thead>\n",
       "  <tbody>\n",
       "    <tr>\n",
       "      <th>chr1</th>\n",
       "      <td>46856</td>\n",
       "    </tr>\n",
       "    <tr>\n",
       "      <th>chr10</th>\n",
       "      <td>24365</td>\n",
       "    </tr>\n",
       "    <tr>\n",
       "      <th>chr11</th>\n",
       "      <td>28794</td>\n",
       "    </tr>\n",
       "    <tr>\n",
       "      <th>chr12</th>\n",
       "      <td>24539</td>\n",
       "    </tr>\n",
       "    <tr>\n",
       "      <th>chr13</th>\n",
       "      <td>12285</td>\n",
       "    </tr>\n",
       "    <tr>\n",
       "      <th>chr14</th>\n",
       "      <td>15074</td>\n",
       "    </tr>\n",
       "    <tr>\n",
       "      <th>chr15</th>\n",
       "      <td>15258</td>\n",
       "    </tr>\n",
       "    <tr>\n",
       "      <th>chr16</th>\n",
       "      <td>21969</td>\n",
       "    </tr>\n",
       "    <tr>\n",
       "      <th>chr17</th>\n",
       "      <td>27876</td>\n",
       "    </tr>\n",
       "    <tr>\n",
       "      <th>chr18</th>\n",
       "      <td>5922</td>\n",
       "    </tr>\n",
       "    <tr>\n",
       "      <th>chr19</th>\n",
       "      <td>25521</td>\n",
       "    </tr>\n",
       "    <tr>\n",
       "      <th>chr2</th>\n",
       "      <td>34810</td>\n",
       "    </tr>\n",
       "    <tr>\n",
       "      <th>chr20</th>\n",
       "      <td>10379</td>\n",
       "    </tr>\n",
       "    <tr>\n",
       "      <th>chr21</th>\n",
       "      <td>4243</td>\n",
       "    </tr>\n",
       "    <tr>\n",
       "      <th>chr22</th>\n",
       "      <td>8549</td>\n",
       "    </tr>\n",
       "    <tr>\n",
       "      <th>chr3</th>\n",
       "      <td>25159</td>\n",
       "    </tr>\n",
       "    <tr>\n",
       "      <th>chr4</th>\n",
       "      <td>20454</td>\n",
       "    </tr>\n",
       "    <tr>\n",
       "      <th>chr5</th>\n",
       "      <td>24327</td>\n",
       "    </tr>\n",
       "    <tr>\n",
       "      <th>chr6</th>\n",
       "      <td>36611</td>\n",
       "    </tr>\n",
       "    <tr>\n",
       "      <th>chr7</th>\n",
       "      <td>30013</td>\n",
       "    </tr>\n",
       "    <tr>\n",
       "      <th>chr8</th>\n",
       "      <td>20949</td>\n",
       "    </tr>\n",
       "    <tr>\n",
       "      <th>chr9</th>\n",
       "      <td>9861</td>\n",
       "    </tr>\n",
       "    <tr>\n",
       "      <th>chrX</th>\n",
       "      <td>11230</td>\n",
       "    </tr>\n",
       "    <tr>\n",
       "      <th>chrY</th>\n",
       "      <td>416</td>\n",
       "    </tr>\n",
       "  </tbody>\n",
       "</table>\n",
       "</div>"
      ],
      "text/plain": [
       "       probeID\n",
       "Chr           \n",
       "chr1     46856\n",
       "chr10    24365\n",
       "chr11    28794\n",
       "chr12    24539\n",
       "chr13    12285\n",
       "chr14    15074\n",
       "chr15    15258\n",
       "chr16    21969\n",
       "chr17    27876\n",
       "chr18     5922\n",
       "chr19    25521\n",
       "chr2     34810\n",
       "chr20    10379\n",
       "chr21     4243\n",
       "chr22     8549\n",
       "chr3     25159\n",
       "chr4     20454\n",
       "chr5     24327\n",
       "chr6     36611\n",
       "chr7     30013\n",
       "chr8     20949\n",
       "chr9      9861\n",
       "chrX     11230\n",
       "chrY       416"
      ]
     },
     "execution_count": 9,
     "metadata": {},
     "output_type": "execute_result"
    }
   ],
   "source": [
    "# types of mutations, strand, etc.\n",
    "data_methylation[['Chr', 'probeID']].\\\n",
    "                                        groupby(by=['Chr']).count()"
   ]
  },
  {
   "cell_type": "code",
   "execution_count": 118,
   "metadata": {},
   "outputs": [],
   "source": [
    "data_methylation = data_methylation[np.isfinite(data_methylation.Start)]\n",
    "data_methylation = data_methylation[np.isfinite(data_methylation.Stop)]\n",
    "\n",
    "data_methylation.Start = data_methylation.Start.astype(int).astype(str)\n",
    "data_methylation.Stop = data_methylation.Stop.astype(int).astype(str)\n",
    "data_methylation.Chr = data_methylation.Chr.astype(str)\n",
    "data_methylation.Gene = data_methylation.Gene.astype(str)\n",
    "\n",
    "data_methylation['GenX'] = data_methylation[['Gene', 'Chr', 'Start', 'Stop']].apply(lambda x: '.'.join(x), axis=1)\n",
    "data_methylation.drop('probeID', axis=1, inplace=True)\n",
    "data_methylation.drop(['Chr', 'Start', 'Stop', 'Gene'], axis=1, inplace=True)\n",
    "data_methylation.dropna(thresh=4, axis=0, inplace=True)"
   ]
  },
  {
   "cell_type": "code",
   "execution_count": 165,
   "metadata": {},
   "outputs": [],
   "source": [
    "def get_transposed(df):\n",
    "    transposed  = df.T\n",
    "    new_index = transposed.iloc[-1,:].tolist()\n",
    "    transposed.columns = new_index\n",
    "    return transposed.drop('GenX', axis=0, inplace=False)"
   ]
  },
  {
   "cell_type": "code",
   "execution_count": 120,
   "metadata": {},
   "outputs": [
    {
     "data": {
      "text/plain": [
       "288"
      ]
     },
     "execution_count": 120,
     "metadata": {},
     "output_type": "execute_result"
    }
   ],
   "source": [
    "dict_methylation={'Strand_plus_CpG_Island': get_transposed(data_methylation.loc[(data_methylation.Strand==\"+\")\n",
    "                            & (data_methylation.Relation_CpG_Island=='Island')]\\\n",
    "                              .drop(['Strand', 'Relation_CpG_Island'], axis=1)),\n",
    "                  'Strand_plus_CpG_Nshelf': get_transposed(data_methylation.loc[(data_methylation.Strand==\"+\")\n",
    "                            & (data_methylation.Relation_CpG_Island=='N_Shelf')]\\\n",
    "                              .drop(['Strand', 'Relation_CpG_Island'], axis=1)),\n",
    "                  'Strand_plus_CpG_Nshore': get_transposed(data_methylation.loc[(data_methylation.Strand==\"+\")\n",
    "                            & (data_methylation.Relation_CpG_Island=='N_Shore')]\\\n",
    "                              .drop(['Strand', 'Relation_CpG_Island'], axis=1)),                  \n",
    "                  'Strand_plus_CpG_Sshelf': get_transposed(data_methylation.loc[(data_methylation.Strand==\"+\")\n",
    "                            & (data_methylation.Relation_CpG_Island=='S_Shelf')]\\\n",
    "                              .drop(['Strand', 'Relation_CpG_Island'], axis=1)),\n",
    "                  'Strand_plus_CpG_Sshore': get_transposed(data_methylation.loc[(data_methylation.Strand==\"+\")\n",
    "                            & (data_methylation.Relation_CpG_Island=='S_Shore')]\\\n",
    "                              .drop(['Strand', 'Relation_CpG_Island'], axis=1)),\n",
    "                  'Strand_plus_CpG_NaN': get_transposed(data_methylation.loc[(data_methylation.Strand==\"+\")\n",
    "                            & (data_methylation.Relation_CpG_Island.isna())]\\\n",
    "                              .drop(['Strand', 'Relation_CpG_Island'], axis=1)),  \n",
    "                  'Strand_min_CpG_Island': get_transposed(data_methylation.loc[(data_methylation.Strand==\"-\")\n",
    "                            & (data_methylation.Relation_CpG_Island=='Island')]\\\n",
    "                              .drop(['Strand', 'Relation_CpG_Island'], axis=1)),\n",
    "                  'Strand_min_CpG_Nshelf': get_transposed(data_methylation.loc[(data_methylation.Strand==\"-\")\n",
    "                            & (data_methylation.Relation_CpG_Island=='N_Shelf')]\\\n",
    "                              .drop(['Strand', 'Relation_CpG_Island'], axis=1)),\n",
    "                  'Strand_min_CpG_Nshore': get_transposed(data_methylation.loc[(data_methylation.Strand==\"-\")\n",
    "                            & (data_methylation.Relation_CpG_Island=='N_Shore')]\\\n",
    "                              .drop(['Strand', 'Relation_CpG_Island'], axis=1)),                  \n",
    "                  'Strand_min_CpG_Sshelf': get_transposed(data_methylation.loc[(data_methylation.Strand==\"-\")\n",
    "                            & (data_methylation.Relation_CpG_Island=='S_Shelf')]\\\n",
    "                              .drop(['Strand', 'Relation_CpG_Island'], axis=1)),\n",
    "                  'Strand_min_CpG_Sshore': get_transposed(data_methylation.loc[(data_methylation.Strand==\"-\")\n",
    "                            & (data_methylation.Relation_CpG_Island=='S_Shore')]\\\n",
    "                              .drop(['Strand', 'Relation_CpG_Island'], axis=1)),\n",
    "                  'Strand_min_CpG_NaN': get_transposed(data_methylation.loc[(data_methylation.Strand==\"-\")\n",
    "                            & (data_methylation.Relation_CpG_Island.isna())]\\\n",
    "                              .drop(['Strand', 'Relation_CpG_Island'], axis=1)),                    \n",
    "                 }\n",
    "del data_methylation\n",
    "gc.collect()"
   ]
  },
  {
   "cell_type": "markdown",
   "metadata": {},
   "source": [
    "### Mutation data"
   ]
  },
  {
   "cell_type": "code",
   "execution_count": 170,
   "metadata": {},
   "outputs": [],
   "source": [
    "data_mutation = data_mutation[np.isfinite(data_mutation.Start)]\n",
    "data_mutation = data_mutation[np.isfinite(data_mutation.Stop)]\n",
    "\n",
    "data_mutation.Start = data_mutation.Start.astype(int).astype(str)\n",
    "data_mutation.Stop = data_mutation.Stop.astype(int).astype(str)\n",
    "data_mutation.Chr = data_mutation.Chr.astype(str)\n",
    "data_mutation.Gene = data_mutation.Gene.astype(str)\n",
    "\n",
    "data_mutation['GenX'] = data_mutation[['Gene', 'Chr', 'Start', 'Stop']].apply(lambda x: '.'.join(x), axis=1)"
   ]
  },
  {
   "cell_type": "code",
   "execution_count": 171,
   "metadata": {},
   "outputs": [],
   "source": [
    "_map_mutation = data_mutation[['GenX', 'Ref', 'Alt', 'Amino_Acid_Change', 'Effect']].drop_duplicates()\n"
   ]
  },
  {
   "cell_type": "code",
   "execution_count": 172,
   "metadata": {},
   "outputs": [],
   "source": [
    "data_mutation.drop(['Chr', 'Start', 'Stop', 'Gene', 'DNA_VAF', \n",
    "                    'RNA_VAF', 'Amino_Acid_Change', 'Ref', 'Alt'], axis=1, inplace=True)"
   ]
  },
  {
   "cell_type": "code",
   "execution_count": 173,
   "metadata": {},
   "outputs": [],
   "source": [
    "rare_effects = ['Frame_Shift_Del', 'Frame_Shift_Ins', 'In_Frame_Del', \n",
    "                'In_Frame_Ins', 'Nonstop_Mutation', 'Translation_Start_Site']\n",
    "intermediate_effects = ['Splice_Site', 'Nonsense_Mutation']\n",
    "common_effects = ['Missense_Mutation', 'Silent']"
   ]
  },
  {
   "cell_type": "code",
   "execution_count": 128,
   "metadata": {},
   "outputs": [],
   "source": [
    "def cat_encode(src, target, col):\n",
    "    cols = pd.get_dummies(src[col], prefix=col, prefix_sep='_')\n",
    "    return pd.concat([target, cols], axis=1)\n",
    "\n",
    "def drop_nan_rows(table, col):\n",
    "    res = table.dropna(axis=0, how='any', subset=[col])\n",
    "    print('Dropping %d nan rows for %s, sz before: %d, sz after: %d' % (len(table)-len(res), col, len(table), len(res)))\n",
    "    return res\n",
    "\n",
    "def filter(table, col, value):\n",
    "    res = table.loc[table[col] != value]\n",
    "    print('Filtering %d rows with \"%s\" for %s, sz before: %d, sz after: %d' % (len(table) - len(res), value, col, len(table), len(res)))\n",
    "    return res\n",
    "\n",
    "def make_x(table, groups, count_filter = 0):\n",
    "    mg = table \\\n",
    "            .groupby(groups) \\\n",
    "            .size() \\\n",
    "            .reset_index(name='Count') \\\n",
    "            .sort_values(['Count'], ascending=False)\n",
    "    print('Most mutated genes within {}:\\n'.format(groups))\n",
    "    print(mg.head(10))\n",
    "        \n",
    "    # Join groups: Gene_AADACL3|chr1|Translation_Start_Site\n",
    "    tmp = pd.DataFrame()\n",
    "    tmp['Sample'] = table['Sample']\n",
    "    tmp['GenX'] = table[groups].apply(lambda x: '|'.join(x).strip(), axis=1)\n",
    "    \n",
    "    if count_filter > 0:\n",
    "        mg['GenX'] = mg[groups].apply(lambda x: '|'.join(x).strip(), axis=1)\n",
    "        mg = mg.loc[mg.Count > count_filter]\n",
    "        unique_genes = mg['GenX']\n",
    "        print('\\nUsing count_filter > %d' % count_filter)\n",
    "        print('Before: %d' % len(tmp))\n",
    "        tmp = tmp.loc[tmp.GenX.isin(unique_genes)]\n",
    "        print('After: %d' % len(tmp))\n",
    "        \n",
    "    print('\\nUnique features: %d' % len(tmp['GenX'].unique()))\n",
    "    \n",
    "    # Extract features\n",
    "    tmp = cat_encode(tmp, tmp, 'GenX')\n",
    "    tmp = tmp.loc[:, tmp.columns != 'GenX']\n",
    "    \n",
    "    # Group by Sample\n",
    "    tmp = tmp.groupby('Sample', as_index=False).sum()\n",
    " \n",
    "    # Join targets\n",
    "    #tmp = tmp.merge(pmt, how='inner', on='Sample')\n",
    "    \n",
    "    #y = tmp[target_variable]\n",
    "    #print('Target: ', y.shape)\n",
    "    \n",
    "    tmp = tmp.set_index('Sample')\n",
    "    #tmp = tmp.loc[:, tmp.columns != 'Sample']\n",
    "    #tmp = tmp.loc[:, tmp.columns != target_variable]\n",
    "    x = tmp\n",
    "    print('Features: ', x.shape)\n",
    "    \n",
    "    return x"
   ]
  },
  {
   "cell_type": "code",
   "execution_count": 174,
   "metadata": {},
   "outputs": [
    {
     "name": "stdout",
     "output_type": "stream",
     "text": [
      "Most mutated genes within ['GenX']:\n",
      "\n",
      "                                 GenX  Count\n",
      "2092  NOTCH2.chr1.120612003.120612004      9\n",
      "2699     RRP36.chr6.42989414.42989419      8\n",
      "2136    NUDT11.chrX.51239296.51239309      8\n",
      "3057    SUCO.chr1.172501615.172501615      8\n",
      "1074   FAM221B.chr9.35826156.35826156      6\n",
      "2945  SNAPC4.chr9.139277995.139277997      6\n",
      "1857    MESP2.chr15.90320121.90320144      5\n",
      "553     CDC27.chr17.45219612.45219612      5\n",
      "684   CNTNAP3B.chr9.43844265.43844265      5\n",
      "3290     TSKU.chr11.76506673.76506675      5\n",
      "\n",
      "Using count_filter > 1\n",
      "Before: 3954\n",
      "After: 546\n",
      "\n",
      "Unique features: 224\n",
      "Features:  (260, 224)\n",
      "Most mutated genes within ['GenX']:\n",
      "\n",
      "                                   GenX  Count\n",
      "12759      NBPF1.chr1.16918653.16918653     20\n",
      "4208   CNTNAP2.chr7.146829338.146829338     10\n",
      "21108    TVP23C.chr17.15441469.15441469      7\n",
      "20200  TMPRSS11B.chr4.69095234.69095234      7\n",
      "5374        DCC.chr18.51025778.51025778      6\n",
      "12474      MYH8.chr17.10304276.10304276      6\n",
      "5          A1CF.chr10.52603882.52603882      6\n",
      "4234   CNTNAP5.chr2.125261995.125261995      6\n",
      "20391        TP53.chr17.7578212.7578212      6\n",
      "10933      LIPI.chr21.15537711.15537711      5\n",
      "\n",
      "Using count_filter > 2\n",
      "Before: 25501\n",
      "After: 1048\n",
      "\n",
      "Unique features: 305\n",
      "Features:  (280, 305)\n",
      "Most mutated genes within ['GenX']:\n",
      "\n",
      "                                   GenX  Count\n",
      "28781     BRAF.chr7.140453136.140453136    210\n",
      "185076    NRAS.chr1.115256529.115256529     75\n",
      "28782     BRAF.chr7.140453137.140453137     40\n",
      "185077    NRAS.chr1.115256530.115256530     38\n",
      "231680        RAC1.chr7.6426892.6426892     17\n",
      "220829    POTEH.chr22.16279248.16279248     16\n",
      "125077    IDH1.chr2.209113113.209113113     15\n",
      "177337    NCOA6.chr20.33345744.33345744     15\n",
      "26662   BCL2L12.chr19.50169131.50169131     15\n",
      "86668   EP400.chr12.132547087.132547087     14\n",
      "\n",
      "Using count_filter > 9\n",
      "Before: 377456\n",
      "After: 794\n",
      "\n",
      "Unique features: 41\n",
      "Features:  (399, 41)\n"
     ]
    },
    {
     "data": {
      "text/plain": [
       "812"
      ]
     },
     "execution_count": 174,
     "metadata": {},
     "output_type": "execute_result"
    }
   ],
   "source": [
    "rare_count = 1\n",
    "inter_count= 2\n",
    "common_count = 9\n",
    "dict_mutation={'Rare': make_x(data_mutation.loc[data_mutation.Effect.isin(rare_effects)].drop(['Effect'], axis=1),\n",
    "                             ['GenX'], count_filter=rare_count),\n",
    "               'Intermediate': make_x(data_mutation.loc[data_mutation.Effect.isin(intermediate_effects)].drop(['Effect'],\n",
    "                                 axis=1), ['GenX'], count_filter=inter_count),\n",
    "               'Common': make_x(data_mutation.loc[data_mutation.Effect.isin(common_effects)].drop(['Effect'], \n",
    "                               axis=1), ['GenX'], count_filter=common_count)                                    \n",
    "                 }\n",
    "del data_mutation\n",
    "gc.collect()"
   ]
  },
  {
   "cell_type": "markdown",
   "metadata": {},
   "source": [
    "### CNV data"
   ]
  },
  {
   "cell_type": "code",
   "execution_count": 151,
   "metadata": {},
   "outputs": [],
   "source": [
    "data_cnv = data_cnv[np.isfinite(data_cnv.Start)]\n",
    "data_cnv = data_cnv[np.isfinite(data_cnv.Stop)]\n",
    "\n",
    "data_cnv.Start = data_cnv.Start.astype(int).astype(str)\n",
    "data_cnv.Stop = data_cnv.Stop.astype(int).astype(str)\n",
    "data_cnv.Chr = data_cnv.Chr.astype(str)\n",
    "data_cnv.Gene = data_cnv.Gene.astype(str)\n",
    "\n",
    "data_cnv['GenX'] = data_cnv[['Gene', 'Chr', 'Start', 'Stop']].apply(lambda x: '.'.join(x), axis=1)\n",
    "_map_cnv = data_cnv[['Gene', 'GenX']]\n",
    "data_cnv = data_cnv.drop(['Gene', 'Chr', 'Start', 'Stop'], axis=1)"
   ]
  },
  {
   "cell_type": "code",
   "execution_count": 175,
   "metadata": {},
   "outputs": [
    {
     "data": {
      "text/plain": [
       "30"
      ]
     },
     "execution_count": 175,
     "metadata": {},
     "output_type": "execute_result"
    }
   ],
   "source": [
    "dict_cnv={'StrandPlus': get_transposed(data_cnv.loc[data_cnv.Strand=='+'].drop(['Strand'], axis=1)),\n",
    "          'StrandMin':  get_transposed(data_cnv.loc[data_cnv.Strand=='-'].drop(['Strand'], axis=1))                                \n",
    "          }\n",
    "del data_cnv\n",
    "gc.collect()"
   ]
  },
  {
   "cell_type": "markdown",
   "metadata": {},
   "source": [
    "### Gene expression data"
   ]
  },
  {
   "cell_type": "code",
   "execution_count": 177,
   "metadata": {},
   "outputs": [],
   "source": [
    "data_RNA = data_RNA[np.isfinite(data_RNA.Start)]\n",
    "data_RNA = data_RNA[np.isfinite(data_RNA.Stop)]\n",
    "\n",
    "data_RNA.Start = data_RNA.Start.astype(int).astype(str)\n",
    "data_RNA.Stop = data_RNA.Stop.astype(int).astype(str)\n",
    "data_RNA.Chr = data_RNA.Chr.astype(str)\n",
    "data_RNA.Gene = data_RNA.Gene.astype(str)\n",
    "\n",
    "data_RNA['GenX'] = data_RNA[['Gene', 'Chr', 'Start', 'Stop']].apply(lambda x: '.'.join(x), axis=1)\n",
    "_map_RNA = data_RNA[['Gene', 'GenX']]\n",
    "data_RNA = data_RNA.drop(['Gene', 'Chr', 'Start', 'Stop'], axis=1)\n"
   ]
  },
  {
   "cell_type": "code",
   "execution_count": 178,
   "metadata": {},
   "outputs": [
    {
     "data": {
      "text/plain": [
       "142"
      ]
     },
     "execution_count": 178,
     "metadata": {},
     "output_type": "execute_result"
    }
   ],
   "source": [
    "dict_RNA={'StrandPlus': get_transposed(data_RNA.loc[data_RNA.Strand=='+'].drop(['Strand'], axis=1)),\n",
    "          'StrandMin':  get_transposed(data_RNA.loc[data_RNA.Strand=='-'].drop(['Strand'], axis=1))                                \n",
    "          }\n",
    "del data_RNA\n",
    "gc.collect()"
   ]
  },
  {
   "cell_type": "markdown",
   "metadata": {},
   "source": [
    "### miRNA data"
   ]
  },
  {
   "cell_type": "code",
   "execution_count": 183,
   "metadata": {},
   "outputs": [],
   "source": [
    "data_miRNA = data_miRNA[np.isfinite(data_miRNA.Start)]\n",
    "data_miRNA = data_miRNA[np.isfinite(data_miRNA.Stop)]\n",
    "\n",
    "data_miRNA.Start = data_miRNA.Start.astype(int).astype(str)\n",
    "data_miRNA.Stop = data_miRNA.Stop.astype(int).astype(str)\n",
    "data_miRNA.Chr = data_miRNA.Chr.astype(str)\n",
    "data_miRNA.Name = data_miRNA.Name.astype(str)\n",
    "\n",
    "data_miRNA['GenX'] = data_miRNA[['Name', 'Chr', 'Start', 'Stop']].apply(lambda x: '.'.join(x), axis=1)\n",
    "_map_miRNA = data_miRNA[['Name', 'GenX']]\n",
    "data_miRNA = data_miRNA.drop(['MIMATID', 'Name', 'Chr', 'Start', 'Stop'], axis=1)\n"
   ]
  },
  {
   "cell_type": "code",
   "execution_count": 185,
   "metadata": {},
   "outputs": [
    {
     "data": {
      "text/plain": [
       "537"
      ]
     },
     "execution_count": 185,
     "metadata": {},
     "output_type": "execute_result"
    }
   ],
   "source": [
    "dict_miRNA={'StrandPlus': get_transposed(data_miRNA.loc[data_miRNA.Strand=='+'].drop(['Strand'], axis=1)),\n",
    "          'StrandMin':  get_transposed(data_miRNA.loc[data_miRNA.Strand=='-'].drop(['Strand'], axis=1))                                \n",
    "          }\n",
    "del data_miRNA\n",
    "gc.collect()"
   ]
  },
  {
   "cell_type": "code",
   "execution_count": null,
   "metadata": {},
   "outputs": [],
   "source": [
    "# Add miRNA to Gene map??"
   ]
  },
  {
   "cell_type": "code",
   "execution_count": null,
   "metadata": {},
   "outputs": [],
   "source": []
  },
  {
   "cell_type": "markdown",
   "metadata": {},
   "source": [
    "### Proteomic data"
   ]
  },
  {
   "cell_type": "code",
   "execution_count": null,
   "metadata": {},
   "outputs": [],
   "source": []
  },
  {
   "cell_type": "markdown",
   "metadata": {},
   "source": [
    "## normalise "
   ]
  },
  {
   "cell_type": "markdown",
   "metadata": {},
   "source": [
    "## feature selection "
   ]
  },
  {
   "cell_type": "markdown",
   "metadata": {},
   "source": [
    "## merge with phenotype data"
   ]
  },
  {
   "cell_type": "markdown",
   "metadata": {},
   "source": [
    "## dimension reduction"
   ]
  },
  {
   "cell_type": "markdown",
   "metadata": {},
   "source": [
    "# Classification"
   ]
  },
  {
   "cell_type": "markdown",
   "metadata": {},
   "source": [
    "## Per omic"
   ]
  },
  {
   "cell_type": "markdown",
   "metadata": {},
   "source": [
    "### Per sub omic"
   ]
  },
  {
   "cell_type": "markdown",
   "metadata": {},
   "source": [
    "## Combined"
   ]
  },
  {
   "cell_type": "markdown",
   "metadata": {},
   "source": [
    "## Prediction on non-chemo, non-immuno metastastis patients"
   ]
  },
  {
   "cell_type": "code",
   "execution_count": null,
   "metadata": {},
   "outputs": [],
   "source": []
  },
  {
   "cell_type": "markdown",
   "metadata": {},
   "source": [
    "# Feature analysis"
   ]
  },
  {
   "cell_type": "code",
   "execution_count": null,
   "metadata": {},
   "outputs": [],
   "source": []
  }
 ],
 "metadata": {
  "kernelspec": {
   "display_name": "Python 3",
   "language": "python",
   "name": "python3"
  },
  "language_info": {
   "codemirror_mode": {
    "name": "ipython",
    "version": 3
   },
   "file_extension": ".py",
   "mimetype": "text/x-python",
   "name": "python",
   "nbconvert_exporter": "python",
   "pygments_lexer": "ipython3",
   "version": "3.6.5"
  }
 },
 "nbformat": 4,
 "nbformat_minor": 2
}
