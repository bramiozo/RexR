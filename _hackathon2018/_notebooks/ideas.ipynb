{
 "cells": [
  {
   "cell_type": "markdown",
   "metadata": {},
   "source": [
    "* Selective polynomial expansion and iterative construction of sparse adjacency matrices between omics followed by sparse graph clustering (MCL, sparse affinity propagation, graph autoencoders). If we have 4 omics; omic1, omic2, omic3, omic4 we build super_omic1 = (1,2) and super_omic2=(3,4) and then we build super_super_omic = ((1,2),(3,4)), where in each step we prune on the fly and/or we prune a-priori by filtering out non-disciminative omic dimension using the standard statistical tests.\n",
    "\n",
    "* Pairwise GAM's to find strong omic-pairs: using the Explainable Boosting Machines library which is basically a fast implementation of Generalised Additive Models with pairwise interactions. \n",
    "\n",
    "* Multi-omic clustering, this is has been done before, techniques exist like SNF/JNMF/Sparse PLS/Sparse MFA/Sparse CCA/Sparse ICA. See e.g. this paper: https://www.nature.com/articles/s41598-018-28066-w\n",
    "\n",
    "* Large scale survival analysis using monotonic spline approximated KM-curves. Anyways I was interested in doing this, seems like a handy thing to have.\n",
    "\n",
    "* Apply graph-based predictive models to find important inter-omic pathways to differentiate cancer types: using graph convolutional networks, conditional random fields, Bayesian Networks..there is some intuitive relationship between the shortest path algorithm. More generally, finding pathways or a GRN is like finding the causal chain between some events and a result (e.g. one type of cancer, or the other of cancer) and AI is struggling doing exactly that, extracting causality.. In our case we have of about 30 billion pathways from the methylation and the RNA expression alone. So we would have to prune it beforehand by filtering out the non-discriminative dimensions per omic layer. Anyways, super vague, very experimental.\n",
    "\n",
    "* Deciphering multi-omic interactions by applying multi-modal classification models; relatively unambitious but is flexible in how deep we go, and we get to try and classify the effectivity of treatments finally :)). (ideally we have healthy tissues as one of the classes).\n",
    "\n",
    "* alternative cohort/probewise bias removal techniques\n",
    "\n",
    "* minimum spanning tree between omics, with separation score between targets as weight.\n",
    "\n",
    "* Voxels: treat multi-omics as depth-layer in a tensor\n",
    "\n",
    "* map the high dimensional genomic data to a 2D-pseudo image using pseudo-Hilbert curves\n",
    "\n",
    "* Use CCA/PLS/ICA/SNF/joint-NMF to extract cross set correlations, see e.g. [this](https://arxiv.org/pdf/1610.01206.pdf) paper\n",
    "\n",
    "* Use HDBSCAN/SC3/SNN-CLIQ/Seurat clustering to find patient and feature clusters\n",
    "\n",
    "* use iterative feature builder; add features **iff** they increase the set distance between target groups\n",
    "\n",
    "* use graph-based multi-collinearity remover: find cliques of highly similar features and factor clique into one combined feature\n",
    "\n",
    "* use calibrated classifiers\n",
    "\n",
    "* experiment with quantile transformations (split by mode), supervised UMAP\n",
    "\n",
    "* apply fast survival curve analysis"
   ]
  }
 ],
 "metadata": {
  "kernelspec": {
   "display_name": "Python 3",
   "language": "python",
   "name": "python3"
  },
  "language_info": {
   "codemirror_mode": {
    "name": "ipython",
    "version": 3
   },
   "file_extension": ".py",
   "mimetype": "text/x-python",
   "name": "python",
   "nbconvert_exporter": "python",
   "pygments_lexer": "ipython3",
   "version": "3.6.9"
  }
 },
 "nbformat": 4,
 "nbformat_minor": 2
}
