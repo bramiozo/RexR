{
 "cells": [
  {
   "cell_type": "markdown",
   "metadata": {},
   "source": [
    "* Selective polynomial expansion and iterative construction of sparse adjacency matrices between omics followed by sparse graph clustering (MCL, sparse affinity propagation, graph autoencoders). If we have 4 omics; omic1, omic2, omic3, omic4 we build super_omic1 = (1,2) and super_omic2=(3,4) and then we build super_super_omic = ((1,2),(3,4)), where in each step we prune on the fly and/or we prune a-priori by filtering out non-disciminative omic dimension using the standard statistical tests.\n",
    "\n",
    "* Pairwise GAM's to find strong omic-pairs: using the Explainable Boosting Machines library which is basically a fast implementation of Generalised Additive Models with pairwise interactions. \n",
    "\n",
    "* Multi-omic clustering, this is has been done before, techniques exist like SNF/JNMF/Sparse PLS/Sparse MFA/Sparse CCA/Sparse ICA. See e.g. this paper: https://www.nature.com/articles/s41598-018-28066-w\n",
    "\n",
    "* Large scale survival analysis using monotonic spline approximated KM-curves. Anyways I was interested in doing this, seems like a handy thing to have.\n",
    "\n",
    "* Apply graph-based predictive models to find important inter-omic pathways to differentiate cancer types: using graph convolutional networks, conditional random fields, Bayesian Networks..there is some intuitive relationship between the shortest path algorithm. More generally, finding pathways or a GRN is like finding the causal chain between some events and a result (e.g. one type of cancer, or the other of cancer) and AI is struggling doing exactly that, extracting causality.. In our case we have of about 30 billion pathways from the methylation and the RNA expression alone. So we would have to prune it beforehand by filtering out the non-discriminative dimensions per omic layer. Anyways, super vague, very experimental.\n",
    "\n",
    "* Deciphering multi-omic interactions by applying multi-modal classification models; relatively unambitious but is flexible in how deep we go, and we get to try and classify the effectivity of treatments finally :)). (ideally we have healthy tissues as one of the classes).\n",
    "\n",
    "* alternative cohort/probewise bias removal techniques\n",
    "\n",
    "* minimum spanning tree between omics, with separation score between targets as weight.\n",
    "\n",
    "* Voxels: treat multi-omics as depth-layer in a tensor\n",
    "\n",
    "* map the high dimensional genomic data to a 2D-pseudo image using pseudo-Hilbert curves\n",
    "\n",
    "* Use CCA([sGCCA](https://doi.org/10.1093%2Fbiostatistics%2Fkxu001))/PLS/ICA/SNF/MFA([MOFA](https://www.embopress.org/doi/full/10.15252/msb.20178124))/[JIVE](https://projecteuclid.org/euclid.aoas/1365527209)/CPCA/joint-NMF/[ANF1](https://arxiv.org/pdf/1708.07136.pdf),[ANF2](https://arxiv.org/pdf/1805.09673.pdf) to extract cross set correlations, see e.g. [this](https://arxiv.org/pdf/1610.01206.pdf) paper, shared dictionary learning?, inter-battery factor analysis (IBFA)\n",
    "\n",
    "* Use HDBSCAN/SC3/SNN-CLIQ/Seurat clustering to find patient and feature clusters\n",
    "\n",
    "* use iterative feature builder; add features **iff** they increase the set distance between target groups\n",
    "\n",
    "* use graph-based multi-collinearity remover: find cliques of highly similar features and factor clique into one combined feature\n",
    "\n",
    "* use calibrated classifiers\n",
    "\n",
    "* experiment with quantile transformations (split by mode), supervised UMAP\n",
    "\n",
    "* apply fast survival curve analysis\n",
    "\n",
    "* Apply RuleFit approach to find important pathways.\n",
    "\n",
    "* [joint Affinity Propagation](https://vision.princeton.edu/projects/2007/ICCV/paper_high-res.pdf)\n",
    "\n",
    "* discussion: multi-omic graph methods should be multi-partite, not mono-partite. \n",
    "\n",
    "* Read up on graph theories: https://github.com/benedekrozemberczki/awesome-graph-classification \n",
    "\n",
    "* Reference methods: iCluster[1](https://www.ncbi.nlm.nih.gov/pmc/articles/PMC5255053/),[2]()/PARADIGM/COCA/MKL, comparisons [1](https://www.ncbi.nlm.nih.gov/pmc/articles/PMC6237755/), [2](https://www.cs.tau.ac.il/~rshamir/abdbm/pres/17/Multi-Omics-Clustering.pdf), [DIABLO](https://doi.org/10.1101/067611) \n",
    "\n",
    "* Include penalisation methods to reduce dimensionality; LASSO/ElasticNet/Huber \n",
    "\n",
    "* Graph classification, see e.g. [this](https://medium.com/syncedreview/introduction-to-deep-learning-for-graphs-and-where-it-may-be-heading-75d48f42a322) paper \n",
    "\n",
    "* $\\beta-VAE$ (disentangled VAE's) to find multi-omic latent spaces\n",
    "\n",
    "* PGM (i.e. Snorkel or FlyingSquid) on univariately significant splits for targets\n",
    "\n",
    "* Pairwise interactions may not capture the interactions between groups of genes, see e.g [this](https://www.ncbi.nlm.nih.gov/pmc/articles/PMC2871700/) paper.  Maximal correlation and Distance correlation look for the maximal correlation between features overal several non-linear transformations. "
   ]
  },
  {
   "cell_type": "markdown",
   "metadata": {},
   "source": [
    "## Novel\n",
    "\n",
    "* Simultaneous Sample Feature reconstruction\n",
    "* graph-embedding"
   ]
  },
  {
   "cell_type": "markdown",
   "metadata": {},
   "source": [
    "## Sample-based pathway identification\n",
    "\n",
    "* Similarity Network Fusion (SNF), [e.g.](https://www.nature.com/articles/nmeth.2810)\n",
    "* Affinity Network Fusion (ANF), [e.g.](https://www.researchgate.net/publication/319272077_Integrate_Multi-omic_Data_Using_Affinity_Network_Fusion_ANF_for_Cancer_Patient_Clustering)\n",
    "\n"
   ]
  },
  {
   "cell_type": "markdown",
   "metadata": {},
   "source": [
    "## Matrix-Factorisation-based pathway identification\n",
    "* canonical-correlation-analysis(CCA), [e.g.](https://www.biorxiv.org/content/10.1101/843524v1)\n",
    "* regularised-generalised CCA, [e.g.](https://academic.oup.com/biostatistics/article/15/3/569/224062)\n",
    "* individual-component-analysis (ICA), [e.g.](https://www.ncbi.nlm.nih.gov/pmc/articles/PMC4945831/)\n",
    "* principal-component-analysis (PCA), [e.g.](https://europepmc.org/article/PMC/5905607)\n",
    "* **Multi-factor-analysis (MOFA)**, [e.g.](https://www.embopress.org/doi/10.15252/msb.20178124), [e.g.2](https://www.biorxiv.org/content/10.1101/837104v1), [git](https://github.com/bioFAM/MOFA2)\n",
    "* Non-negative matrix factorisation (NMF)\n",
    "* Partial-least-squares (PLS)\n",
    "* Factorisation Machines (FM)\n",
    "* Co-inertia analysis (CIA), [e.g.](http://pbil.univ-lyon1.fr/members/dray/files/articles/dray2003c.pdf)\n",
    "* Canonical Correspondence analysis\n",
    "* Redundancy analysis (RDA), [e.g.](https://onlinelibrary.wiley.com/doi/full/10.1002/bimj.201700248)\n",
    "* Inter-battery factor analysis (IBFA), \n",
    "* Cross-modal factor analysis (CFA), [e.g.](https://dl.acm.org/doi/10.1145/957013.957143)\n",
    "* Joint and individual variation explained (JIVE), [e.g.](https://projecteuclid.org/euclid.aoas/1365527209)\n",
    "\n",
    "Also see [this](https://www.frontiersin.org/articles/10.3389/fgene.2019.00995/full), [this](https://academic.oup.com/bib/article/17/4/628/2240645), [this](https://www.ncbi.nlm.nih.gov/pubmed/30669303), [this](https://link.springer.com/article/10.1007/s00204-020-02656-y), [this](https://academic.oup.com/bib/advance-article/doi/10.1093/bib/bbz121/5628127) and [this](https://www.ncbi.nlm.nih.gov/pmc/articles/PMC6523452/) paper"
   ]
  },
  {
   "cell_type": "markdown",
   "metadata": {},
   "source": [
    "## Model-based pathway identification\n",
    "\n",
    "* pathway-reconstruction from ensemble tree models\n",
    "* class-difference based on simple logistic model\n",
    "* differential node interactions in neural networks"
   ]
  },
  {
   "cell_type": "markdown",
   "metadata": {},
   "source": [
    "## Graph-based pathway identification\n",
    "\n",
    "* Weighted Gene-Co expression Network Analysis (WGCNA), [e.g.](https://europepmc.org/article/med/16646834)\n",
    "* Bayesian networks prior (BNP)\n",
    "* CONEXIC\n",
    "* (joint) graphical lasso\n",
    "* conditional graphical models\n",
    "* QTLnet\n",
    "* GeneMania\n",
    "* DCA\n",
    "* Graph-neural networks\n",
    "* Bayesian concensus clustering (BCC), [e.g.](https://www.ncbi.nlm.nih.gov/pubmed/23990412)\n",
    "\n",
    "* Sparse affinity propagation per set, and then over the multi-omic set, of SAP per set, then CCA over the combined exemplars: SAP per set, then SAP over the multi-omic exemplars\n",
    "* Sparse inverse covariance estimation using [Graphical Lasso](https://scikit-learn.org/stable/modules/generated/sklearn.covariance.GraphicalLassoCV.html#sklearn.covariance.GraphicalLassoCV) "
   ]
  },
  {
   "cell_type": "markdown",
   "metadata": {},
   "source": [
    "## Mixed\n",
    "\n",
    "* iCluster\n",
    "* DIABLO\n",
    "* MINT\n",
    "* MATCHER: manifold alignment reveals correspondence between single cell transcriptome and epigenome dynamics"
   ]
  },
  {
   "cell_type": "markdown",
   "metadata": {},
   "source": [
    "# Causality analysis\n",
    "\n",
    "* PGM\n",
    "* Mendelian randomisation"
   ]
  },
  {
   "cell_type": "markdown",
   "metadata": {},
   "source": [
    "## Structured Equation Modelling"
   ]
  },
  {
   "cell_type": "markdown",
   "metadata": {},
   "source": [
    "# Denoising\n",
    "\n",
    "One key aspect of multi-omic analysis is the exponential growth, not just of potential signals, but perhaps primarily of noise. To make multi-omic analysis on large datasets tractable we will need to remove noise as efficiently as possible.\n",
    "\n",
    "* [A Random Matrix Theory Approach to Denoise Single-Cell Data](https://www.sciencedirect.com/science/article/pii/S2666389920300404#fig4), keywords: *Marchenko-Pastur/Tracy-Widom, Anderson transition, Sparsity-induced eigenvector localization, Wigner-Surmise, Random-Matrix-Theory*. Three signals: biological, random matrix, sparsity induced. Deviations from the universal eigenvalue distribution (Marchenko-Pastur) predicted by RMT indicates the presence of a signal. Code is available [here](https://rabadan.c2b2.columbia.edu/html/randomly/). ```pip instal randomly```. See [here](https://rabadan.c2b2.columbia.edu/html/randomly/tutorial.html) for a mini-tutorial."
   ]
  },
  {
   "cell_type": "markdown",
   "metadata": {},
   "source": [
    "## sources\n",
    "* [Statistical single cell multi-omics integration](https://www.sciencedirect.com/science/article/pii/S2452310018300039)\n",
    "* [More is better: recent progress in multi-omics data integration methods.](https://europepmc.org/article/med/28670325)\n",
    "* [Simultaneous Integration of Multi-omics Data Improves the Identification of Cancer Driver Modules](https://www.sciencedirect.com/science/article/abs/pii/S2405471219301474)\n",
    "* [Radiomics: Extracting more information from medical images using advanced feature analysis](https://www.sciencedirect.com/science/article/abs/pii/S0959804911009993)"
   ]
  },
  {
   "cell_type": "markdown",
   "metadata": {},
   "source": [
    "## Basic tools\n",
    "\n",
    "* Factor Analysis, MOFA : [MOFA2](https://github.com/bioFAM/MOFA2)\n",
    "* Random Matrix Theory : [randomly](https://github.com/vnmabus/dcor)\n",
    "* MIC : [minepy](https://minepy.readthedocs.io/en/latest/)\n",
    "* Distance correlation : [dcor](https://github.com/vnmabus/dcor)\n",
    "* kernel-based CCA : [pyrccra](https://www.frontiersin.org/articles/10.3389/fninf.2016.00049/full)"
   ]
  }
 ],
 "metadata": {
  "kernelspec": {
   "display_name": "Python 3",
   "language": "python",
   "name": "python3"
  },
  "language_info": {
   "codemirror_mode": {
    "name": "ipython",
    "version": 3
   },
   "file_extension": ".py",
   "mimetype": "text/x-python",
   "name": "python",
   "nbconvert_exporter": "python",
   "pygments_lexer": "ipython3",
   "version": "3.8.2"
  }
 },
 "nbformat": 4,
 "nbformat_minor": 4
}
