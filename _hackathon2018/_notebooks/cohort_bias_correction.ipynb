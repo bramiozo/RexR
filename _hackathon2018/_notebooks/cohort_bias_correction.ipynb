{
 "cells": [
  {
   "cell_type": "code",
   "execution_count": 1,
   "metadata": {},
   "outputs": [
    {
     "name": "stderr",
     "output_type": "stream",
     "text": [
      "/usr/lib/python3.5/importlib/_bootstrap.py:222: RuntimeWarning: numpy.dtype size changed, may indicate binary incompatibility. Expected 96, got 88\n",
      "  return f(*args, **kwds)\n",
      "/usr/lib/python3.5/importlib/_bootstrap.py:222: RuntimeWarning: numpy.dtype size changed, may indicate binary incompatibility. Expected 96, got 88\n",
      "  return f(*args, **kwds)\n",
      "/usr/lib/python3.5/importlib/_bootstrap.py:222: RuntimeWarning: numpy.dtype size changed, may indicate binary incompatibility. Expected 96, got 88\n",
      "  return f(*args, **kwds)\n",
      "/usr/lib/python3.5/importlib/_bootstrap.py:222: RuntimeWarning: numpy.dtype size changed, may indicate binary incompatibility. Expected 96, got 88\n",
      "  return f(*args, **kwds)\n",
      "/usr/lib/python3.5/importlib/_bootstrap.py:222: RuntimeWarning: numpy.dtype size changed, may indicate binary incompatibility. Expected 96, got 88\n",
      "  return f(*args, **kwds)\n",
      "/usr/lib/python3.5/importlib/_bootstrap.py:222: RuntimeWarning: numpy.dtype size changed, may indicate binary incompatibility. Expected 96, got 88\n",
      "  return f(*args, **kwds)\n"
     ]
    }
   ],
   "source": [
    "import pandas as pd\n",
    "import numpy as np\n",
    "from sklearn import preprocessing\n",
    "from tqdm import tqdm\n",
    "import gc\n",
    "from numba import jit\n",
    "from matplotlib import pyplot as plt"
   ]
  },
  {
   "cell_type": "code",
   "execution_count": 2,
   "metadata": {},
   "outputs": [],
   "source": [
    "def _clean(x, default='float'):   \n",
    "    non_default = 'int' if default=='float' else 'float'\n",
    "    try:\n",
    "        x.replace([np.inf, -np.inf], np.nan, inplace=True)\n",
    "        x.dropna(how='all', axis=1, inplace=True)\n",
    "        if default=='float':\n",
    "            x = x * 1.0\n",
    "        else:\n",
    "            x = x * 1\n",
    "    except Exception as e:\n",
    "        print(e)\n",
    "        for col in tqdm.tqdm(x.columns):\n",
    "            if 'object' in str(x[col].dtypes):\n",
    "                try:\n",
    "                    x[col] = x[col].astype(default)\n",
    "                except:\n",
    "                    try:\n",
    "                        x[col] = x[col].astype(non_default)\n",
    "                    except:\n",
    "                        print(col)\n",
    "                        x[col] = x[col].astype('category')\n",
    "    return x\n",
    "\n",
    "def get_transposed(df, NameRow='GenX', prefix='GenX'):\n",
    "    transposed  = df.T\n",
    "    new_index = transposed.loc[[NameRow]].values.tolist()[0]\n",
    "    transposed.columns = new_index\n",
    "    if prefix is not None:\n",
    "        transposed.columns = [prefix+'_'+_col for _col in transposed.columns.values.tolist()]\n",
    "    return transposed.drop(NameRow, axis=0, inplace=False)\n",
    "\n",
    "# def _impute(df, type='FM):\n",
    "#   # use similarity to replace missing values with values for most similar patients."
   ]
  },
  {
   "cell_type": "code",
   "execution_count": 3,
   "metadata": {},
   "outputs": [],
   "source": [
    "# loading data"
   ]
  },
  {
   "cell_type": "code",
   "execution_count": 4,
   "metadata": {},
   "outputs": [],
   "source": [
    "pheno_small = pd.read_csv(\"../_docs/Lung_Phenotype_Metadata.txt\", sep=\"\\t\")\n",
    "pheno_large = pd.read_csv(\"../_docs/Lung_Table_Phenotypes.txt\", sep=\"\\t\")\n",
    "pheno_large.set_index('submitter_id.samples', inplace=True)"
   ]
  },
  {
   "cell_type": "code",
   "execution_count": 5,
   "metadata": {},
   "outputs": [],
   "source": [
    "sourceDir = \"/media/bramvanes/Extra/DATA/RexR/2018\" #\"/media/koekiemonster/DATA-FAST/genetic_expression/hackathon_2/\"  #\"/media/bramvanes/Extra/DATA/RexR/2018\" #\n",
    "gene_expression = pd.read_table(sourceDir+\"/Lung/Lung_GeneExpression.txt\", sep=\"\\t\")\n",
    "\n",
    "affx_labels = list(gene_expression.set_index('Gene').filter(axis=0, regex=r\"^(AFFX.*)\").index) # AFFX \n",
    "gene_expression = gene_expression.drop(affx_labels, axis=0)\n",
    "\n",
    "gene_expression = gene_expression[np.isfinite(gene_expression.Start)]\n",
    "gene_expression = gene_expression[np.isfinite(gene_expression.Stop)]\n",
    "\n",
    "gene_expression.Start = gene_expression.Start.astype(int).astype(str)\n",
    "gene_expression.Stop = gene_expression.Stop.astype(int).astype(str)\n",
    "gene_expression.Chr = gene_expression.Chr.astype(str)\n",
    "gene_expression.Gene = gene_expression.Gene.astype(str)\n",
    "\n",
    "gene_expression['GenX'] = gene_expression[['Gene', 'Chr', 'Start', 'Stop']].apply(lambda x: '.'.join(x), axis=1)\n",
    "_map_RNA = gene_expression[['Gene', 'GenX']]\n",
    "gene_expression = gene_expression.drop(['Gene', 'Chr', 'Start', 'Stop'], axis=1)\n",
    "\n",
    "# remove duplicate GenX values\n",
    "gene_expression = gene_expression.copy().loc[~gene_expression.GenX.duplicated(keep='first')]\n",
    "\n",
    "dict_RNA={'RNA_StrandPlus': _clean(get_transposed(gene_expression\\\n",
    "                                                  .loc[gene_expression.Strand=='+'].drop(['Strand'], axis=1))),\n",
    "          'RNA_StrandMin':  _clean(get_transposed(gene_expression\\\n",
    "                                                  .loc[gene_expression.Strand=='-'].drop(['Strand'], axis=1)))                                \n",
    "          }\n"
   ]
  },
  {
   "cell_type": "code",
   "execution_count": 6,
   "metadata": {},
   "outputs": [
    {
     "data": {
      "text/plain": [
       "7"
      ]
     },
     "execution_count": 6,
     "metadata": {},
     "output_type": "execute_result"
    }
   ],
   "source": [
    "# CLEAN MEMORY\n",
    "del gene_expression\n",
    "gc.collect()"
   ]
  },
  {
   "cell_type": "code",
   "execution_count": 7,
   "metadata": {},
   "outputs": [],
   "source": [
    "# merge with phenotypes\n",
    "pheno_features = ['batch_number', 'code.tissue_source_site', 'sample_type.samples', 'vial_number', 'ethnicity.demographic', 'gender.demographic',\n",
    "                   'race.demographic', 'year_of_birth.demographic', 'diagnosis']"
   ]
  },
  {
   "cell_type": "code",
   "execution_count": 8,
   "metadata": {},
   "outputs": [],
   "source": [
    "merged_RNA_min = dict_RNA['RNA_StrandMin'].merge(pheno_large[pheno_features], how='left', left_index=True, right_index=True)\n",
    "merged_RNA_plus = dict_RNA['RNA_StrandPlus'].merge(pheno_large[pheno_features], how='left', left_index=True, right_index=True)"
   ]
  },
  {
   "cell_type": "code",
   "execution_count": 9,
   "metadata": {},
   "outputs": [],
   "source": [
    "# There are patients with multiple measurements, we simply take the mean \n",
    "gene_columns = [_col for _col in merged_RNA_min.columns if 'GenX' in _col]\n",
    "other_columns = [_col for _col in merged_RNA_min.columns if 'GenX' not in _col]\n",
    "\n",
    "merged_RNA_min['patient_nr'] = merged_RNA_min.index\n",
    "tmp_min = merged_RNA_min[['patient_nr']+gene_columns].groupby(by='patient_nr').mean()\n",
    "merged_RNA_min = merged_RNA_min.copy()[other_columns].merge(tmp_min, how='right', left_index=True, right_on='patient_nr')\n",
    "merged_RNA_min = merged_RNA_min.loc[~merged_RNA_min.index.duplicated(keep='first')]\n",
    "\n",
    "gene_columns = [_col for _col in merged_RNA_plus.columns if 'GenX' in _col]\n",
    "other_columns = [_col for _col in merged_RNA_plus.columns if 'GenX' not in _col]\n",
    "\n",
    "merged_RNA_plus['patient_nr'] = merged_RNA_plus.index\n",
    "tmp_plus = merged_RNA_plus[['patient_nr']+gene_columns].groupby(by='patient_nr').mean()\n",
    "merged_RNA_plus = merged_RNA_plus.copy()[other_columns].merge(tmp_plus, how='right', left_index=True, right_on='patient_nr')\n",
    "merged_RNA_plus = merged_RNA_plus.loc[~merged_RNA_plus.index.duplicated(keep='first')]"
   ]
  },
  {
   "cell_type": "markdown",
   "metadata": {},
   "source": [
    "# Bias correction functions\n",
    "## L/S, cohort-based normalisation\n",
    "\n",
    "Mean-based $$\\mathbf{x}^*=\\frac{\\mathbf{x}-\\overline{\\mathbf{x}}}{\\sigma}$$\n",
    "\n",
    "\n",
    "Median-based $$\\mathbf{x}^*=\\frac{\\mathbf{x}-median(\\mathbf{x})}{IQR}$$\n",
    "\n",
    "\n",
    "\n",
    "\n"
   ]
  },
  {
   "cell_type": "code",
   "execution_count": 10,
   "metadata": {},
   "outputs": [],
   "source": [
    "# L/S\n",
    "def _preprocess(df, cohorts = [], scaler = \"standard\", bias_removal = False, col_range = None, min_cohort_size=10, debug=False):\n",
    "        if col_range is None:\n",
    "            gene_columns = [_col for _col in df.columns if 'GenX' in _col]  \n",
    "        else:                      \n",
    "            cr = range(col_range[0], col_range[1])\n",
    "            gene_columns = df.columns[cr]\n",
    "        \n",
    "        if len(cohorts)==0:\n",
    "            cohorts = df.batch_number.unique().tolist()\n",
    "        \n",
    "        # MinMaxScaler(), MaxAbsScaler(), RobustScaler(), QuantileTransformer(), Normalizer()\n",
    "        if scaler == \"standard\":\n",
    "            scaler = preprocessing.StandardScaler(with_mean=True, with_std=True)\n",
    "        elif scaler == \"minmax\":\n",
    "            scaler = preprocessing.MinMaxScaler()\n",
    "        elif scaler == \"maxabs\":\n",
    "            scaler = preprocessing.MaxAbsScaler()\n",
    "        elif scaler == \"robust\":\n",
    "            scaler = preprocessing.RobustScaler(quantile_range=(25.0, 75.0), \n",
    "                                                    with_scaling=True, with_centering=True)\n",
    "        elif scaler in [\"normalizer\", \"normaliser\"]:\n",
    "            scaler = preprocessing.Normalizer()\n",
    "\n",
    "        if bias_removal == True:\n",
    "            print(\"- \"*30, 'Removing cohort biases')\n",
    "            i=0; itot=len(cohorts)\n",
    "            \n",
    "            for cohort in cohorts: # easy to parallelise...use numpy and pooling...\n",
    "                i+=1\n",
    "                ch = df['batch_number']==cohort\n",
    "                if sum(ch)<min_cohort_size:\n",
    "                    print(\"Skipping cohort {}, because of low sample count: {}\".format(cohort, sum(ch)))\n",
    "                else:\n",
    "                    if debug==False:\n",
    "                        try:\n",
    "                            res = scaler.fit_transform(df.loc[ch,gene_columns].values)\n",
    "                            df.loc[ch,gene_columns] = pd.DataFrame(data=res, index=ch[ch].index, columns=gene_columns)\n",
    "                            print(\"{}/{}, Corrected cohort {}, with {} samples\".format(i, itot, cohort, sum(ch))) \n",
    "                        except Exception as e:\n",
    "                            print(\"ERROR\", e, \"cohort:\"+cohort)\n",
    "                            print(\"index:\",ch)\n",
    "                            print(\"target:\", df.loc[ch,gene_columns].shape) \n",
    "                            print(\"replacement:\", res.shape)\n",
    "                    else:\n",
    "                        for _col in gene_columns: # for debugging\n",
    "                            df_temp = df.loc[ch, _col].copy() \n",
    "                            try:\n",
    "                                df.loc[ch, _col] = (df_temp-df_temp.mean())/df_temp.std()\n",
    "                            except Exception as e:\n",
    "                                print(\"ERROR\", e, \"gene:\"+_col, \"cohort:\"+cohort)\n",
    "        else:\n",
    "            ch = df[\"array-batch\"].isin(cohorts)\n",
    "            df.loc[ch,gene_columns] = scaler.fit_transform(df.loc[ch,gene_columns])\n",
    "            \n",
    "\n",
    "        df = df[df[\"batch_number\"].isin(cohorts)]\n",
    "        return df       "
   ]
  },
  {
   "cell_type": "code",
   "execution_count": 11,
   "metadata": {},
   "outputs": [
    {
     "name": "stdout",
     "output_type": "stream",
     "text": [
      "- - - - - - - - - - - - - - - - - - - - - - - - - - - - - -  Removing cohort biases\n",
      "1/43, Corrected cohort 52.73.0, with 15 samples\n",
      "2/43, Corrected cohort 58.76.0, with 39 samples\n",
      "3/43, Corrected cohort 119.75.0, with 54 samples\n",
      "4/43, Corrected cohort 144.69.0, with 52 samples\n",
      "5/43, Corrected cohort 84.72.0, with 31 samples\n",
      "6/43, Corrected cohort 39.67.0, with 36 samples\n",
      "7/43, Corrected cohort 77.67.0, with 26 samples\n",
      "8/43, Corrected cohort 53.65.0, with 13 samples\n",
      "9/43, Corrected cohort 101.61.0, with 29 samples\n",
      "10/43, Corrected cohort 23.74.0, with 22 samples\n",
      "Skipping cohort 208.52.0, because of low sample count: 9\n",
      "12/43, Corrected cohort 283.49.0, with 48 samples\n",
      "13/43, Corrected cohort 60.69.0, with 18 samples\n",
      "14/43, Corrected cohort 140.61.0, with 36 samples\n",
      "15/43, Corrected cohort 193.55.0, with 40 samples\n",
      "16/43, Corrected cohort 159.57.0, with 21 samples\n",
      "17/43, Corrected cohort 293.49.0, with 25 samples\n",
      "18/43, Corrected cohort 276.50.0, with 21 samples\n",
      "19/43, Corrected cohort 415.35.0, with 11 samples\n",
      "20/43, Corrected cohort 31.70.0, with 44 samples\n",
      "21/43, Corrected cohort 233.50.0, with 16 samples\n",
      "22/43, Corrected cohort 37.76.0, with 24 samples\n",
      "23/43, Corrected cohort 166.66.0, with 33 samples\n",
      "24/43, Corrected cohort 258.58.0, with 32 samples\n",
      "25/43, Corrected cohort 214.48.0, with 40 samples\n",
      "26/43, Corrected cohort 243.49.0, with 17 samples\n",
      "27/43, Corrected cohort 259.43.0, with 13 samples\n",
      "Skipping cohort nan, because of low sample count: 0\n",
      "29/43, Corrected cohort 183.65.0, with 28 samples\n",
      "30/43, Corrected cohort 213.59.0, with 35 samples\n",
      "31/43, Corrected cohort 264.59.0, with 34 samples\n",
      "32/43, Corrected cohort 160.68.0, with 50 samples\n",
      "33/43, Corrected cohort 406.36.0, with 13 samples\n",
      "Skipping cohort 423.35.0, because of low sample count: 9\n",
      "35/43, Corrected cohort 232.54.0, with 14 samples\n",
      "36/43, Corrected cohort 181.55.0, with 34 samples\n",
      "37/43, Corrected cohort 196.63.0, with 22 samples\n",
      "38/43, Corrected cohort 204.61.0, with 18 samples\n",
      "39/43, Corrected cohort 222.59.0, with 16 samples\n",
      "40/43, Corrected cohort 238.59.0, with 34 samples\n",
      "41/43, Corrected cohort 225.51.0, with 21 samples\n",
      "42/43, Corrected cohort 278.55.0, with 21 samples\n",
      "43/43, Corrected cohort 267.49.0, with 10 samples\n"
     ]
    }
   ],
   "source": [
    "# L/S correction\n",
    "merged_RNA_plus_CBC_LS = _preprocess(merged_RNA_plus.copy(), col_range=None, bias_removal=True, debug=False) # 29905\n",
    "# mean shift \n",
    "gene_columns = [_col for _col in merged_RNA_plus_CBC_LS.columns if 'GenX' in _col]\n",
    "merged_RNA_plus_CBC_LS.loc[:, gene_columns] += merged_RNA_plus.loc[:, gene_columns].mean(axis=0)"
   ]
  },
  {
   "cell_type": "code",
   "execution_count": 12,
   "metadata": {},
   "outputs": [
    {
     "name": "stdout",
     "output_type": "stream",
     "text": [
      "- - - - - - - - - - - - - - - - - - - - - - - - - - - - - -  Removing cohort biases\n",
      "1/43, Corrected cohort 52.73.0, with 15 samples\n",
      "2/43, Corrected cohort 58.76.0, with 39 samples\n",
      "3/43, Corrected cohort 119.75.0, with 54 samples\n",
      "4/43, Corrected cohort 144.69.0, with 52 samples\n",
      "5/43, Corrected cohort 84.72.0, with 31 samples\n",
      "6/43, Corrected cohort 39.67.0, with 36 samples\n",
      "7/43, Corrected cohort 77.67.0, with 26 samples\n",
      "8/43, Corrected cohort 53.65.0, with 13 samples\n",
      "9/43, Corrected cohort 101.61.0, with 29 samples\n",
      "10/43, Corrected cohort 23.74.0, with 22 samples\n",
      "Skipping cohort 208.52.0, because of low sample count: 9\n",
      "12/43, Corrected cohort 283.49.0, with 48 samples\n",
      "13/43, Corrected cohort 60.69.0, with 18 samples\n",
      "14/43, Corrected cohort 140.61.0, with 36 samples\n",
      "15/43, Corrected cohort 193.55.0, with 40 samples\n",
      "16/43, Corrected cohort 159.57.0, with 21 samples\n",
      "17/43, Corrected cohort 293.49.0, with 25 samples\n",
      "18/43, Corrected cohort 276.50.0, with 21 samples\n",
      "19/43, Corrected cohort 415.35.0, with 11 samples\n",
      "20/43, Corrected cohort 31.70.0, with 44 samples\n",
      "21/43, Corrected cohort 233.50.0, with 16 samples\n",
      "22/43, Corrected cohort 37.76.0, with 24 samples\n",
      "23/43, Corrected cohort 166.66.0, with 33 samples\n",
      "24/43, Corrected cohort 258.58.0, with 32 samples\n",
      "25/43, Corrected cohort 214.48.0, with 40 samples\n",
      "26/43, Corrected cohort 243.49.0, with 17 samples\n",
      "27/43, Corrected cohort 259.43.0, with 13 samples\n",
      "Skipping cohort nan, because of low sample count: 0\n",
      "29/43, Corrected cohort 183.65.0, with 28 samples\n",
      "30/43, Corrected cohort 213.59.0, with 35 samples\n",
      "31/43, Corrected cohort 264.59.0, with 34 samples\n",
      "32/43, Corrected cohort 160.68.0, with 50 samples\n",
      "33/43, Corrected cohort 406.36.0, with 13 samples\n",
      "Skipping cohort 423.35.0, because of low sample count: 9\n",
      "35/43, Corrected cohort 232.54.0, with 14 samples\n",
      "36/43, Corrected cohort 181.55.0, with 34 samples\n",
      "37/43, Corrected cohort 196.63.0, with 22 samples\n",
      "38/43, Corrected cohort 204.61.0, with 18 samples\n",
      "39/43, Corrected cohort 222.59.0, with 16 samples\n",
      "40/43, Corrected cohort 238.59.0, with 34 samples\n",
      "41/43, Corrected cohort 225.51.0, with 21 samples\n",
      "42/43, Corrected cohort 278.55.0, with 21 samples\n",
      "43/43, Corrected cohort 267.49.0, with 10 samples\n"
     ]
    }
   ],
   "source": [
    "merged_RNA_min_CBC_LS = _preprocess(merged_RNA_min.copy(), col_range=None, bias_removal=True, debug=False) # 29905\n",
    "# mean shift \n",
    "gene_columns = [_col for _col in merged_RNA_min_CBC_LS.columns if 'GenX' in _col]\n",
    "merged_RNA_min_CBC_LS.loc[:, gene_columns] += merged_RNA_min.loc[:, gene_columns].mean(axis=0)"
   ]
  },
  {
   "cell_type": "code",
   "execution_count": 29,
   "metadata": {},
   "outputs": [
    {
     "data": {
      "text/plain": [
       "Text(0.5,1,'Cohort comparison for GenX_CD99.chrX.2691179.2741309 (+ strand) without scaling')"
      ]
     },
     "execution_count": 29,
     "metadata": {},
     "output_type": "execute_result"
    },
    {
     "data": {
      "image/png": "[encoded data removed]",
      "text/plain": [
       "<Figure size 1008x720 with 1 Axes>"
      ]
     },
     "metadata": {},
     "output_type": "display_data"
    }
   ],
   "source": [
    "test_gene = 'GenX_CD99.chrX.2691179.2741309'\n",
    "merged_RNA_plus.loc[merged_RNA_plus.batch_number=='101.61.0'][test_gene]\\\n",
    "                .plot.hist(alpha=0.5, bins=22, figsize=(14,10), color='red')\n",
    "merged_RNA_plus.loc[merged_RNA_plus.batch_number=='196.63.0'][test_gene]\\\n",
    "                .plot.hist(alpha=0.5, bins=22, figsize=(14,10), color='black')\n",
    "merged_RNA_plus.loc[merged_RNA_plus.batch_number=='264.59.0'][test_gene]\\\n",
    "                .plot.hist(alpha=0.5, bins=22, figsize=(14,10), color='green')\n",
    "merged_RNA_plus.loc[merged_RNA_plus.batch_number=='101.61.0'][test_gene]\\\n",
    "                .plot.kde(color='black')\n",
    "merged_RNA_plus.loc[merged_RNA_plus.batch_number=='196.63.0'][test_gene]\\\n",
    "                .plot.kde(color='black')\n",
    "merged_RNA_plus.loc[merged_RNA_plus.batch_number=='264.59.0'][test_gene]\\\n",
    "                .plot.kde(color='black')\n",
    "plt.title('Cohort comparison for {} (+ strand) without scaling'.format(test_gene))"
   ]
  },
  {
   "cell_type": "code",
   "execution_count": 31,
   "metadata": {},
   "outputs": [
    {
     "data": {
      "text/plain": [
       "Text(0.5,1,'Cohort comparison for GenX_CD99.chrX.2691179.2741309 (+ strand) using standard scaling')"
      ]
     },
     "execution_count": 31,
     "metadata": {},
     "output_type": "execute_result"
    },
    {
     "data": {
      "image/png": "[encoded data removed]",
      "text/plain": [
       "<Figure size 1008x720 with 1 Axes>"
      ]
     },
     "metadata": {},
     "output_type": "display_data"
    }
   ],
   "source": [
    "merged_RNA_plus_CBC_LS.loc[merged_RNA_plus_CBC_LS.batch_number=='101.61.0'][test_gene]\\\n",
    "                .plot.hist(alpha=0.5, bins=22, figsize=(14,10), color='red')\n",
    "merged_RNA_plus_CBC_LS.loc[merged_RNA_plus_CBC_LS.batch_number=='196.63.0'][test_gene]\\\n",
    "                .plot.hist(alpha=0.5, bins=22, figsize=(14,10), color='black')\n",
    "merged_RNA_plus_CBC_LS.loc[merged_RNA_plus_CBC_LS.batch_number=='264.59.0'][test_gene]\\\n",
    "                .plot.hist(alpha=0.5, bins=22, figsize=(14,10), color='green')\n",
    "merged_RNA_plus_CBC_LS.loc[merged_RNA_plus_CBC_LS.batch_number=='101.61.0'][test_gene]\\\n",
    "                .plot.kde(color='black')\n",
    "merged_RNA_plus_CBC_LS.loc[merged_RNA_plus_CBC_LS.batch_number=='196.63.0'][test_gene]\\\n",
    "                .plot.kde(color='black')\n",
    "merged_RNA_plus_CBC_LS.loc[merged_RNA_plus_CBC_LS.batch_number=='264.59.0'][test_gene]\\\n",
    "                .plot.kde(color='black')\n",
    "plt.title('Cohort comparison for {} (+ strand) using standard scaling'.format(test_gene))"
   ]
  },
  {
   "cell_type": "code",
   "execution_count": null,
   "metadata": {},
   "outputs": [],
   "source": [
    "## PCA-shift\n",
    "\n",
    "## ANOVA 2-way\n",
    "\n",
    "## Combat\n",
    "# use R-script, call from PYthon"
   ]
  }
 ],
 "metadata": {
  "kernelspec": {
   "display_name": "Python 3",
   "language": "python",
   "name": "python3"
  },
  "language_info": {
   "codemirror_mode": {
    "name": "ipython",
    "version": 3
   },
   "file_extension": ".py",
   "mimetype": "text/x-python",
   "name": "python",
   "nbconvert_exporter": "python",
   "pygments_lexer": "ipython3",
   "version": "3.5.2"
  }
 },
 "nbformat": 4,
 "nbformat_minor": 2
}
