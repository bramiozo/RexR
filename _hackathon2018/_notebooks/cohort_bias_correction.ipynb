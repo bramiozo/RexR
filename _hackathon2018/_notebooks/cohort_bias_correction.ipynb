{
 "cells": [
  {
   "cell_type": "code",
   "execution_count": 66,
   "metadata": {},
   "outputs": [],
   "source": [
    "import pandas as pd\n",
    "import numpy as np"
   ]
  },
  {
   "cell_type": "code",
   "execution_count": 13,
   "metadata": {},
   "outputs": [],
   "source": [
    "def _clean(x, default='float'):   \n",
    "    non_default = 'int' if default=='float' else 'float'\n",
    "    try:\n",
    "        x.replace([np.inf, -np.inf], np.nan, inplace=True)\n",
    "        x.dropna(how='all', axis=1, inplace=True)\n",
    "        if default=='float':\n",
    "            x = x * 1.0\n",
    "        else:\n",
    "            x = x * 1\n",
    "    except Exception as e:\n",
    "        print(e)\n",
    "        for col in tqdm.tqdm(x.columns):\n",
    "            if 'object' in str(x[col].dtypes):\n",
    "                try:\n",
    "                    x[col] = x[col].astype(default)\n",
    "                except:\n",
    "                    try:\n",
    "                        x[col] = x[col].astype(non_default)\n",
    "                    except:\n",
    "                        print(col)\n",
    "                        x[col] = x[col].astype('category')\n",
    "    return x\n",
    "\n",
    "def get_transposed(df, NameRow='GenX', prefix='GenX'):\n",
    "    transposed  = df.T\n",
    "    new_index = transposed.loc[[NameRow]].values.tolist()[0]\n",
    "    transposed.columns = new_index\n",
    "    if prefix is not None:\n",
    "        transposed.columns = [prefix+'_'+_col for _col in transposed.columns.values.tolist()]\n",
    "    return transposed.drop(NameRow, axis=0, inplace=False)"
   ]
  },
  {
   "cell_type": "code",
   "execution_count": null,
   "metadata": {},
   "outputs": [],
   "source": [
    "# loading data"
   ]
  },
  {
   "cell_type": "code",
   "execution_count": 3,
   "metadata": {},
   "outputs": [],
   "source": [
    "pheno_small = pd.read_csv(\"../_docs/Lung_Phenotype_Metadata.txt\", sep=\"\\t\")\n",
    "pheno_large = pd.read_csv(\"../_docs/Lung_Table_Phenotypes.txt\", sep=\"\\t\")\n",
    "pheno_large.set_index('submitter_id.samples', inplace=True)"
   ]
  },
  {
   "cell_type": "code",
   "execution_count": 70,
   "metadata": {},
   "outputs": [],
   "source": [
    "gene_expression = pd.read_table(\"/media/koekiemonster/DATA-FAST/genetic_expression/hackathon_2/Lung/Lung_GeneExpression.txt\", sep=\"\\t\")\n",
    "\n",
    "affx_labels = list(gene_expression.set_index('Gene').filter(axis=0, regex=r\"^(AFFX.*)\").index) # AFFX \n",
    "gene_expression = gene_expression.drop(affx_labels, axis=0)\n",
    "\n",
    "gene_expression = gene_expression[np.isfinite(gene_expression.Start)]\n",
    "gene_expression = gene_expression[np.isfinite(gene_expression.Stop)]\n",
    "\n",
    "gene_expression.Start = gene_expression.Start.astype(int).astype(str)\n",
    "gene_expression.Stop = gene_expression.Stop.astype(int).astype(str)\n",
    "gene_expression.Chr = gene_expression.Chr.astype(str)\n",
    "gene_expression.Gene = gene_expression.Gene.astype(str)\n",
    "\n",
    "gene_expression['GenX'] = gene_expression[['Gene', 'Chr', 'Start', 'Stop']].apply(lambda x: '.'.join(x), axis=1)\n",
    "_map_RNA = gene_expression[['Gene', 'GenX']]\n",
    "gene_expression = gene_expression.drop(['Gene', 'Chr', 'Start', 'Stop'], axis=1)\n",
    "\n",
    "dict_RNA={'RNA_StrandPlus': _clean(get_transposed(gene_expression\\\n",
    "                                                  .loc[gene_expression.Strand=='+'].drop(['Strand'], axis=1))),\n",
    "          'RNA_StrandMin':  _clean(get_transposed(gene_expression\\\n",
    "                                                  .loc[gene_expression.Strand=='-'].drop(['Strand'], axis=1)))                                \n",
    "          }\n"
   ]
  },
  {
   "cell_type": "code",
   "execution_count": null,
   "metadata": {},
   "outputs": [],
   "source": [
    "# CLEAN MEMORY\n",
    "del gene_expression\n",
    "gc.collect()"
   ]
  },
  {
   "cell_type": "code",
   "execution_count": 92,
   "metadata": {},
   "outputs": [],
   "source": [
    "# merge with phenotypes\n",
    "pheno_features = ['batch_number', 'code.tissue_source_site', 'sample_type.samples', 'vial_number', 'ethnicity.demographic', 'gender.demographic',\n",
    "                   'race.demographic', 'year_of_birth.demographic', 'diagnosis']"
   ]
  },
  {
   "cell_type": "code",
   "execution_count": 93,
   "metadata": {},
   "outputs": [],
   "source": [
    "merged_RNA = dict_RNA['RNA_StrandMin'].merge(pheno_large[pheno_features], how='inner', left_index=True, right_index=True)"
   ]
  },
  {
   "cell_type": "code",
   "execution_count": 96,
   "metadata": {},
   "outputs": [],
   "source": [
    "# Bias correction functions\n",
    "# L/S \n",
    "\n",
    "\n",
    "# PCA-shift\n",
    "\n",
    "\n",
    "# ANOVA 2-way\n",
    "\n"
   ]
  }
 ],
 "metadata": {
  "kernelspec": {
   "display_name": "Python 3",
   "language": "python",
   "name": "python3"
  },
  "language_info": {
   "codemirror_mode": {
    "name": "ipython",
    "version": 3
   },
   "file_extension": ".py",
   "mimetype": "text/x-python",
   "name": "python",
   "nbconvert_exporter": "python",
   "pygments_lexer": "ipython3",
   "version": "3.6.6"
  }
 },
 "nbformat": 4,
 "nbformat_minor": 2
}
