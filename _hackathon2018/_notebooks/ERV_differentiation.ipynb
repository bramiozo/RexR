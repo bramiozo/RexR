{
 "cells": [
  {
   "cell_type": "markdown",
   "metadata": {},
   "source": [
    "# ERV differentiation\n",
    "\n",
    "Two main research questions:\n",
    "1. Are ERV's differentially expressed in SCC versus AC?\n",
    "2. Are ERV's involved in immune surveillance in lung cancer\n",
    "\n",
    "We have to \n",
    "* identify ERV's in Adeno and SCC\n",
    "* identify granzy mand perforin expression per subtype\n",
    "* identify IFN gene expression per subtype\n",
    "* silencing of ERV by methylation in normal tissue\n",
    "\n"
   ]
  },
  {
   "cell_type": "code",
   "execution_count": 93,
   "metadata": {},
   "outputs": [],
   "source": [
    "import vaex as vx\n",
    "import pandas as pd\n",
    "import pyarrow.parquet as pq\n",
    "import numpy as np\n",
    "import scipy as sc\n",
    "from scipy.interpolate import PchipInterpolator as minterp\n",
    "import scipy.stats as stats\n",
    "import seaborn as sns\n",
    "from matplotlib import pyplot as plt\n",
    "\n",
    "import os\n",
    "import sys\n",
    "import re\n",
    "from numba import jit\n",
    "from collections import Counter\n",
    "from collections import namedtuple"
   ]
  },
  {
   "cell_type": "code",
   "execution_count": 94,
   "metadata": {},
   "outputs": [],
   "source": [
    "max_nans_perc = 0.1"
   ]
  },
  {
   "cell_type": "code",
   "execution_count": 95,
   "metadata": {},
   "outputs": [],
   "source": [
    "os.chdir('/media/koekiemonster/DATA-FAST/genetic_expression/hackathon_2/Lung/')"
   ]
  },
  {
   "cell_type": "code",
   "execution_count": 96,
   "metadata": {},
   "outputs": [],
   "source": [
    "dd = {}\n",
    "dd['RNAex'] = vx.open('Lung_GeneExpression.hdf5')\n",
    "dd['mutation'] = vx.open('Lung_Mutation.hdf5')\n",
    "dd['methylation'] = vx.open('Lung_Methylation.hdf5')\n",
    "dd['methylation_meta'] = vx.open('HumanMethylation450_meta.hdf5')\n",
    "dd['CNV'] = vx.open('Lung_CNV.hdf5')\n",
    "\n",
    "meta = pd.read_csv('Lung_Phenotype_Metadata.txt', sep='\\t')\n",
    "meta = meta.loc[~pd.isna(meta.Diagnosis)]\n",
    "meta = meta[~meta.SampleID.duplicated(keep='last')]\n",
    "meta.set_index('SampleID', inplace=True)"
   ]
  },
  {
   "cell_type": "code",
   "execution_count": 97,
   "metadata": {},
   "outputs": [
    {
     "data": {
      "text/plain": [
       "Index(['PatientID', 'Diagnosis', 'Sample Type', 'Gender', 'Ethnicity',\n",
       "       'Age At Diagnosis (Days)', 'Age At Diagnosis (Years)', 'Vital Status ',\n",
       "       'Overall Survival Status', 'Time To Overall Survival (Days)',\n",
       "       'Time To Overall Survival From Treatment (Days)', 'Relapse Status',\n",
       "       'Time To Relapse From Diagnosis (Days)', 'Event Status',\n",
       "       'Time To Event From Diagnosis (Days)', 'Karnofsky Score',\n",
       "       'Smoking Status', 'Pack Years', 'Histological Type', 'Morphology',\n",
       "       'Site Of Resection', 'Tumor Location', 'Anatomic Location In Lung',\n",
       "       'Tumor Stage', 'T-stage', 'N-stage', 'M-stage', 'R-stage',\n",
       "       'Cancer Status After Resection', 'Drug Therapy Type', 'Drug Name',\n",
       "       'Time To Drug Therapy (Days)', 'Radiation Therapy',\n",
       "       'Time To Radiation Therapy (Days)', 'Reponse To Therapy',\n",
       "       'Time To Therapy (Days)', 'Therapy Ongoing', 'New Tumor Event',\n",
       "       'New Tumor Event Type', 'Time To New Tumor Event (Days)'],\n",
       "      dtype='object')"
      ]
     },
     "execution_count": 97,
     "metadata": {},
     "output_type": "execute_result"
    }
   ],
   "source": [
    "meta.columns"
   ]
  },
  {
   "cell_type": "code",
   "execution_count": 98,
   "metadata": {},
   "outputs": [],
   "source": [
    "erv_genes = [_gene for _gene in dd['RNAex'].Gene.unique() if 'ERV' in _gene]\n",
    "erv_genes += [_gene for _gene in dd['methylation'].Gene.unique() if 'ERV' in _gene]\n",
    "erv_genes = list(set(erv_genes))"
   ]
  },
  {
   "cell_type": "code",
   "execution_count": 99,
   "metadata": {},
   "outputs": [],
   "source": [
    "# https://www.ncbi.nlm.nih.gov/pmc/articles/PMC5942792/\n",
    "neutro_gene_list = ['DEFA4', 'DEFA3', 'MMP8', 'CEACAM6', 'CEACAM8', 'LTF', 'MPO', 'ARG1', 'MSHA3']\n",
    "neutro_genes = [_gene for _gene in dd['RNAex'].Gene.unique() if _gene in neutro_gene_list]\n",
    "neutro_genes += [_gene for _gene in dd['methylation'].Gene.unique() if _gene in neutro_gene_list]\n",
    "neutro_genes = list(set(neutro_genes))\n",
    "# https://www.jimmunol.org/content/175/12/7837.long\n",
    "t_cell_gene_list = ['CXCR5', 'CXCR3', 'CCR3', 'CCR5', 'CRTH2', 'CCR7']\n",
    "tcell_genes = [_gene for _gene in dd['RNAex'].Gene.unique() if _gene in t_cell_gene_list]\n",
    "tcell_genes += [_gene for _gene in dd['methylation'].Gene.unique() if _gene in t_cell_gene_list]\n",
    "tcell_genes = list(set(tcell_genes))"
   ]
  },
  {
   "cell_type": "code",
   "execution_count": 100,
   "metadata": {},
   "outputs": [],
   "source": [
    "gene_list = erv_genes+neutro_genes+tcell_genes"
   ]
  },
  {
   "cell_type": "code",
   "execution_count": 101,
   "metadata": {},
   "outputs": [],
   "source": [
    "df_erv = {}\n",
    "for _key in dd:  \n",
    "    d = dd[_key]\n",
    "    if 'Gene' in d.columns:\n",
    "        temps = []\n",
    "        for _gene in gene_list:\n",
    "            temps.append(d[d.Gene == _gene].to_pandas_df())            \n",
    "        df_erv[_key] = pd.concat(temps, axis=0)\n",
    "        \n",
    "var_cols = {}"
   ]
  },
  {
   "cell_type": "code",
   "execution_count": 102,
   "metadata": {},
   "outputs": [],
   "source": [
    "probe_map = df_erv['methylation'][['probeID', 'Chr', 'Start', 'Stop', 'Strand', 'Gene', 'Relation_CpG_Island']].reset_index().drop('index', axis=1)\n",
    "df_erv['methylation'] = df_erv['methylation'].drop(['Chr', 'Start', 'Stop', 'Strand', 'Gene', 'Relation_CpG_Island'], axis=1)\n",
    "df_erv['methylation'].set_index('probeID', inplace=True)\n",
    "df_erv['methylation'] = df_erv['methylation'].transpose()\n",
    "\n",
    "max_nans = int(max_nans_perc*df_erv['methylation'].shape[0])\n",
    "df_erv['methylation'].index = [re.sub(r'_', '-', _old_key) for _old_key in df_erv['methylation'].index.tolist()]\n",
    "df_erv['methylation'] = df_erv['methylation'].loc[:, df_erv['methylation'].columns[df_erv['methylation'].isna().sum()\\\n",
    "                                                                                   <max_nans].tolist()]\n",
    "var_cols['methylation'] = df_erv['methylation'].columns.tolist()"
   ]
  },
  {
   "cell_type": "code",
   "execution_count": 103,
   "metadata": {},
   "outputs": [],
   "source": [
    "exp_map = df_erv['RNAex'][['Gene', 'Chr', 'Start', 'Stop', 'Strand']].reset_index().drop('index', axis=1)\n",
    "df_erv['RNAex'] = df_erv['RNAex'].drop(['Chr', 'Start', 'Stop', 'Strand'], axis=1)\n",
    "df_erv['RNAex'].set_index('Gene', inplace=True)\n",
    "df_erv['RNAex'] = df_erv['RNAex'].transpose()\n",
    "\n",
    "max_nans = int(max_nans_perc*df_erv['RNAex'].shape[0])\n",
    "df_erv['RNAex'].index = [re.sub(r'_', '-', _old_key) for _old_key in df_erv['RNAex'].index.tolist()]\n",
    "df_erv['RNAex'] = df_erv['RNAex'].loc[:, df_erv['RNAex'].columns[df_erv['RNAex'].isna().sum()\\\n",
    "                                                                                   <max_nans].tolist()]\n",
    "var_cols['RNAex'] = df_erv['RNAex'].columns.tolist()"
   ]
  },
  {
   "cell_type": "code",
   "execution_count": 104,
   "metadata": {},
   "outputs": [],
   "source": [
    "df_erv['mutation'] = df_erv['mutation'][df_erv['mutation'].Effect!='upstream_gene_variant']\n",
    "mut_map = df_erv['mutation'][['Amino_Acid_Change', 'Gene', 'Chr', 'Start', 'Stop', 'Ref', 'Alt']].reset_index().drop('index', axis=1)\n",
    "df_erv['mutation'] = df_erv['mutation'].drop(['Gene', 'Chr', 'Start', 'Stop', 'Ref', 'Alt'], axis=1)\n",
    "df_erv['mutation'] = df_erv['mutation'].reset_index().drop('index', axis=1)\n",
    "df_erv['mutation'] = df_erv['mutation'].rename(index=str, columns={'Sample_ID': 'SampleID'})\n",
    "df_erv['mutation'].set_index('SampleID', inplace=True)\n",
    "var_cols['mutation'] = df_erv['mutation'].columns.tolist()"
   ]
  },
  {
   "cell_type": "code",
   "execution_count": 105,
   "metadata": {},
   "outputs": [],
   "source": [
    "cnv_map = df_erv['CNV'][['Gene', 'Chr', 'Start', 'Stop', 'Strand']]\n",
    "df_erv['CNV'] = df_erv['CNV'].drop(['Chr', 'Start', 'Stop', 'Strand'], axis=1)\n",
    "df_erv['CNV'] = df_erv['CNV'].set_index('Gene')\n",
    "df_erv['CNV'] = df_erv['CNV'].transpose()\n",
    "df_erv['CNV'].index = [re.sub(r'_', '-', _old_key) for _old_key in df_erv['CNV'].index.tolist()]\n",
    "var_cols['CNV'] = df_erv['CNV'].columns.tolist()"
   ]
  },
  {
   "cell_type": "code",
   "execution_count": 107,
   "metadata": {},
   "outputs": [],
   "source": [
    "meta_cols = ['Gender', 'Diagnosis', 'Age At Diagnosis (Years)', 'Overall Survival Status',\n",
    "                                  'Pack Years', 'Smoking Status']\n",
    "meta_cols = meta_cols + ['New Tumor Event', 'Radiation Therapy', 'Reponse To Therapy', 'Drug Therapy Type']\n",
    "for _key in df_erv:\n",
    "    df_erv[_key] = df_erv[_key].join(meta[meta_cols])"
   ]
  },
  {
   "cell_type": "code",
   "execution_count": 108,
   "metadata": {},
   "outputs": [
    {
     "data": {
      "text/plain": [
       "dict_keys(['RNAex', 'mutation', 'methylation', 'CNV'])"
      ]
     },
     "execution_count": 108,
     "metadata": {},
     "output_type": "execute_result"
    }
   ],
   "source": [
    "df_erv.keys()"
   ]
  },
  {
   "cell_type": "markdown",
   "metadata": {},
   "source": [
    "## Check class/survival differentiation per feature"
   ]
  },
  {
   "cell_type": "code",
   "execution_count": 109,
   "metadata": {},
   "outputs": [],
   "source": [
    "\"\"\"\n",
    "     Information change: \n",
    "        * Kullback-Leibler divergence (have to make same number of bins)\n",
    "        * cross-entropy\n",
    "        * Shannon entropy change\n",
    "\"\"\"\n",
    "@jit\n",
    "def _information_change(v1, v2, ent_type = 'kl', bin_type='fixed', num_bins=25):\n",
    "    '''\n",
    "    v1: vector one\n",
    "    v2: vector two\n",
    "    ent_type : kl, shannon, cross\n",
    "    bin_type : auto, fixed\n",
    "    num_bins : non-zero positive integer\n",
    "    \n",
    "    return entropy difference\n",
    "    '''\n",
    "    # get bins\n",
    "    num_bins = num_bins if bin_type=='fixed' else bin_type\n",
    "    v1bins = np.histogram(v1, density=True, bins=num_bins)\n",
    "    v2bins = np.histogram(v2, density=True, bins=num_bins)\n",
    "    \n",
    "    ent1 = -np.sum(v1bins[0]*np.log2(v1bins[0]))\n",
    "    ent2 = -np.sum(v2bins[0]*np.log2(v2bins[0]))    \n",
    "    \n",
    "    log2v1 = np.log2(v1bins[0])\n",
    "    log2v2 = np.log2(v2bins[0])\n",
    "    \n",
    "    if ent_type == 'shannon':\n",
    "        return 2*np.abs(ent1-ent2)/(np.abs(ent1)+np.abs(ent2))\n",
    "    elif ent_type == 'cross':\n",
    "        cross1 = -np.sum(v1bins[0]*log2v2)\n",
    "        cross2 = -np.sum(v2bins[0]*log2v1)        \n",
    "        return 2*np.max([np.abs(cross1),np.abs(cross2)])/(np.abs(ent1)+np.abs(ent2))\n",
    "    elif ent_type == 'kl':\n",
    "        return 2*np.max([np.abs(np.sum(v1bins[0]*(log2v1-log2v2))),\n",
    "                         np.abs(np.sum(v2bins[0]*(log2v2-log2v1)))])/(np.abs(ent1)+np.abs(ent2))"
   ]
  },
  {
   "cell_type": "code",
   "execution_count": 110,
   "metadata": {},
   "outputs": [],
   "source": [
    "@jit\n",
    "def _skewness(x, logscale=False, bound=False, scale=1000, sample=False, bias=True):\n",
    "    '''\n",
    "    x : array(N,1)\n",
    "    return skewness\n",
    "    '''\n",
    "    std = np.std(x)\n",
    "    mu = np.mean(x)\n",
    "    N = x.shape[0]\n",
    "    val = np.sum(np.power(x-mu, 3))/np.power(std, 3)\n",
    "    if sample==False:\n",
    "        if bound==False:\n",
    "            if logscale==False:\n",
    "                return val\n",
    "            else:\n",
    "                return np.log10(np.abs(val))*np.sign(val)\n",
    "        else:\n",
    "            return np.tanh(val/scale)\n",
    "    else:\n",
    "        return stats.skew(x, bias=bias)\n",
    "\n",
    "@jit\n",
    "def _kurtosis(x, logscale=False, sample=False, bias=True):            \n",
    "    std = np.std(x)\n",
    "    mu = np.mean(x) \n",
    "    val = np.sum(np.power(x-mu, 4))/np.power(std, 4)\n",
    "    if sample==False:\n",
    "        if logscale==False:\n",
    "            return val\n",
    "        else:\n",
    "            return np.log10(np.abs(val))*np.sign(val)\n",
    "    else:\n",
    "        return stats.kurtosis(x, bias=bias, nan_policy='omit')\n",
    "\n",
    "@jit\n",
    "def _stanmom(x, mom=3, logscale=False, mutype=0):\n",
    "    # mom : 3 is skewness, 4 is kurtosis\n",
    "    std = np.std(x)\n",
    "    if mutype==0:\n",
    "        mu = np.mean(x)\n",
    "    else:\n",
    "        mu = np.median(x)\n",
    "    val = np.sum(np.power(x-mu, mom))/np.power(std, mom)\n",
    "    if logscale==False:\n",
    "        return val\n",
    "    else:\n",
    "        return np.log10(np.abs(val))*np.sign(val)\n",
    "    \n",
    "from unidip import UniDip  \n",
    "import unidip.dip as dip\n",
    "def _multimodality(x, method='hartigan'):\n",
    "    x = np.msort(x)\n",
    "    # multi-modality can be extracted from the number of inflection points on a q-q plot \n",
    "    if method=='hartigan':\n",
    "        return len(UniDip(x).run())\n",
    "    \n",
    "def _qq(x, cdist=stats.norm, minkowski=2, plot=None):\n",
    "    # surface area,max_slope,min_slope\n",
    "    vref, v = stats.probplot(x, dist=cdist, plot=plot, fit=False)\n",
    "    \n",
    "    dist_cos = sc.spatial.distance.cosine(vref, v)\n",
    "    dist_euc = sc.spatial.distance.minkowski(vref, v, p=minkowski)\n",
    "    mm0 = np.max(vref)-np.min(vref)\n",
    "    mm1 = np.max(v)-np.min(v)\n",
    "    nsam  = mm0*mm1*0.5\n",
    "    asam = 0.5*np.sum(np.diff(vref)*(v[:-1]+v[1:]))\n",
    "    # skewed metric\n",
    "    # positive: left-skewed, negative: right-skewed\n",
    "    sm = (asam-nsam)/nsam \n",
    "    return dist_cos, dist_euc/mm0/mm1, sm\n",
    " \n",
    "def _qq2(x1, x2, qbins=15, plot=False, minkowski=2):\n",
    "    # identify left-skewness, right-skewness, under-dispersed, over-dispersed data\n",
    "    # see e.g. http://www.ucd.ie/ecomodel/Resources/QQplots_WebVersion.html\n",
    "    # surface area,max_slope,min_slope\n",
    "    \n",
    "    qbins = np.min([qbins, np.min([len(x1), len(x2)])])\n",
    "    qstep = np.max([1, int(100/qbins)])\n",
    "    \n",
    "    perc1 = np.percentile(x1, q=np.arange(0, 100, qstep))\n",
    "    perc2 = np.percentile(x2, q=np.arange(0, 100, qstep))\n",
    "    \n",
    "    if plot:\n",
    "        plt.plot(perc1, perc2)\n",
    "        plt.plot([np.min(perc1), np.max(perc1)],[np.min(perc2), np.max(perc2)])\n",
    "        plt.title('Q-Q')  \n",
    "        plt.xlabel('q-'+meta_vals[0])\n",
    "        plt.ylabel('q-'+meta_vals[1])\n",
    "    \n",
    "    dist_cos = sc.spatial.distance.cosine(perc1, perc2)\n",
    "    dist_euc = sc.spatial.distance.minkowski(perc1, perc2, p=minkowski)\n",
    "    mm0 = np.max(perc1)-np.min(perc1)\n",
    "    mm1 = np.max(perc2)-np.min(perc2)\n",
    "    nsam  = mm0*mm1*0.5\n",
    "    asam = 0.5*np.sum(np.diff(perc1)*(perc2[:-1]+perc2[1:]))\n",
    "    # skewed metric\n",
    "    # positive: left-skewed, negative: right-skewed\n",
    "    sm = (asam-nsam)/nsam \n",
    "    return dist_cos, dist_euc/mm0/mm1, sm\n",
    "    "
   ]
  },
  {
   "cell_type": "code",
   "execution_count": 111,
   "metadata": {},
   "outputs": [
    {
     "data": {
      "text/plain": [
       "<matplotlib.legend.Legend at 0x7fc806e72710>"
      ]
     },
     "execution_count": 111,
     "metadata": {},
     "output_type": "execute_result"
    },
    {
     "data": {
      "image/png": "[encoded data removed]",
      "text/plain": [
       "<Figure size 432x288 with 1 Axes>"
      ]
     },
     "metadata": {
      "needs_background": "light"
     },
     "output_type": "display_data"
    }
   ],
   "source": [
    "i=60\n",
    "meta_col = 'Diagnosis' # \n",
    "meta_vals = df_erv['methylation'][meta_col].unique().tolist()\n",
    "val_series = []\n",
    "for _meta_col_val in meta_vals:\n",
    "    if pd.isna(_meta_col_val)==False:\n",
    "        x = df_erv['methylation'].loc[df_erv['methylation'][meta_col]==_meta_col_val, var_cols['methylation'][i]]\n",
    "        x.plot.hist(bins=30, alpha=0.5, density=True, label=_meta_col_val)\n",
    "        x.plot.kde(color='black', label='')\n",
    "        val_series.append(x)\n",
    "plt.title(meta_col+' , '+var_cols['methylation'][i])\n",
    "plt.legend()\n"
   ]
  },
  {
   "cell_type": "code",
   "execution_count": 112,
   "metadata": {},
   "outputs": [],
   "source": [
    "@jit\n",
    "def _cdf(x,bin_size=5):\n",
    "    x = np.sort(x)\n",
    "    c = len(x)\n",
    "    res, _res= np.empty((0, 2)), np.empty((0,2))\n",
    "    for i in range(bin_size, c):\n",
    "        if i%bin_size==0:\n",
    "            _res = np.array([i/c, np.median(x[(i-bin_size):i])])\n",
    "            res = np.append(res, [_res], axis=0)    \n",
    "    return res\n",
    "# np.asarray([[i/c, np.median(x[(i-bin_size):i])] for i in range(bin_size, c) if i%bin_size==0])\n",
    "\n",
    "@jit\n",
    "def _cdfcoeff(x, bin_size=5):\n",
    "    # better to take out the creation of the cdf and split the function (_cdf, _cdfcoeff)\n",
    "    lt = _cdf(x, bin_size=bin_size)\n",
    "    xmm = x.max()-x.min()\n",
    "    diff1 = np.diff(lt[:,1])*lt[:-1, 0]\n",
    "    diff1[0:1] = 0  \n",
    "    diff2 = np.diff(diff1)\n",
    "    diff2[0:1] = 0 \n",
    "    diff2 = diff2*lt[:-2, 0]\n",
    "\n",
    "    # modus is peak in f'' followed by valley  in f''\n",
    "    xmmp = xmm**4\n",
    "    tv, td = (diff2[0:-1]-diff2[1:]), (np.sign(diff2[0:-1])-np.sign(diff2[1:]))\n",
    "    xrelcount, xbumpmean, xdiffmean, xdiffvar = (td>0).sum()/(lt.shape[0]-1), tv[tv>0].mean()/xmmp, diff1.mean()/xmmp, diff1.std()/xmmp\n",
    "    \n",
    "    return xrelcount, xbumpmean, xdiffmean, xdiffvar\n",
    "\n",
    "@jit\n",
    "def _interp(xinter, yinter, xextra):\n",
    "    return minterp(xinter, yinter, axis=0, extrapolate=True)(xextra)\n",
    "\n",
    "@jit\n",
    "def _cdf_distanceB(x1, x2, bin_size=5, minkowsi=1):\n",
    "    '''\n",
    "     takes the Minkowski distance between the ecdf's and the Russell-Rao distance of the bump indicators\n",
    "    ''' \n",
    "    lt1 = _cdf(x1, bin_size=bin_size)\n",
    "    lt2 = _cdf(x2, bin_size=bin_size)\n",
    "\n",
    "    l1 = _interp(xinter=lt1[:,0], yinter=lt1[:,1], xextra=lt1[:,0])\n",
    "    l2 = _interp(xinter=lt2[:,0], yinter=lt2[:,1], xextra=lt1[:,0])\n",
    "\n",
    "    l1diff = np.diff(l1)\n",
    "    l2diff = np.diff(l2)\n",
    "\n",
    "    l1diff2 = np.diff(l1diff)\n",
    "    l2diff2 = np.diff(l2diff)\n",
    "\n",
    "    l1diff2sign = np.sign(l1diff2)\n",
    "    l2diff2sign = np.sign(l2diff2)\n",
    "\n",
    "    l1bump = l1diff2sign[0:-1]-l1diff2sign[1:]\n",
    "    l2bump = l2diff2sign[0:-1]-l2diff2sign[1:] \n",
    "\n",
    "    d1 = sc.spatial.distance.minkowski(l1, l2, p=minkowsi)*sc.spatial.distance.russellrao(l1bump, l2bump)\n",
    "    d2 = sc.spatial.distance.minkowski(l1diff, l2diff, p=minkowsi)*sc.spatial.distance.russellrao(l1bump, l2bump)\n",
    "    d3 = sc.spatial.distance.russellrao(l1bump, l2bump)   \n",
    "    return d1,d2,d3\n",
    "\n",
    "@jit\n",
    "def _cdf_distanceG(x1, x2, bin_size=15):\n",
    "    # also see PhD-thesis Gabriel Martos Venturini, Statistical distance and probability metrics for multivariate data..etc., June 2015 Uni. Carlos III de Madrid\n",
    "    # https://core.ac.uk/download/pdf/30276753.pdf\n",
    "    '''\n",
    "     Basically the l1-difference between the distributions\n",
    "    '''\n",
    "    lt1 = _cdf(x1, bin_size=bin_size)\n",
    "    lt2 = _cdf(x2, bin_size=bin_size)\n",
    "\n",
    "    l1 = _interp(xinter=lt1[:,0], yinter=lt1[:,1], xextra=lt1[:,0])\n",
    "    l2 = _interp(xinter=lt2[:,0], yinter=lt2[:,1], xextra=lt1[:,0])    \n",
    "    \n",
    "    c = len(l1)\n",
    "    \n",
    "    diffSumabsAgg= np.sum(lt1[:,0]*(np.abs(l2-l1)))/c\n",
    "    diffSumAgg = np.sum(lt1[:,0]*(l2-l1))/c\n",
    "    return diffSumAgg, diffSumabsAgg\n",
    "\n"
   ]
  },
  {
   "cell_type": "code",
   "execution_count": 113,
   "metadata": {},
   "outputs": [
    {
     "data": {
      "text/plain": [
       "'\\nUnivariated intra-distribution characterisations:\\n    * [x] skewness\\n    * [x] kurtosis\\n    * multimodality\\n    * normality test\\n        * [x] q-qnorm metrics\\n        * Shapiro-Wilk\\n        * Anderson-Darling\\n        * Crámer-von-Mises criterion\\n        * Jarque-Bera\\n        * Gel-Gastwirth test\\n        * Bonett-Seier test\\n'"
      ]
     },
     "execution_count": 113,
     "metadata": {},
     "output_type": "execute_result"
    }
   ],
   "source": [
    "'''\n",
    "Univariated intra-distribution characterisations:\n",
    "    * [x] skewness\n",
    "    * [x] kurtosis\n",
    "    * multimodality\n",
    "    * normality test\n",
    "        * [x] q-qnorm metrics\n",
    "        * Shapiro-Wilk\n",
    "        * Anderson-Darling\n",
    "        * Crámer-von-Mises criterion\n",
    "        * Jarque-Bera\n",
    "        * Gel-Gastwirth test\n",
    "        * Bonett-Seier test\n",
    "'''\n",
    "\n"
   ]
  },
  {
   "cell_type": "code",
   "execution_count": 114,
   "metadata": {},
   "outputs": [
    {
     "data": {
      "text/plain": [
       "\"\\nUnivariate inter-distribution distance:\\n        * Delta skewness\\n        * Delta kurtosis\\n        * Delta Normality test  (Shapiro-Wilk, Anderson-Darling)      \\n        * Kolmogorov-Smirnov (also normality test)\\n        * Cramér–von Mises criterion\\n        * Pearson's chi-squared test (only if all vars are binned and categorised)\\n        * Kuiper's test\\n        * Mann-Whitney U\\n        * Kruskall Wallis\\n        * nth-Wasserstein\\n        * FDR-BH-ANOVA\\n        * total variation distance\\n        * Hellinger distance\\n        * Bhattacharyya distance\\n        * [x] q-q distance\\n        * [x] CDF distance \\n\""
      ]
     },
     "execution_count": 114,
     "metadata": {},
     "output_type": "execute_result"
    }
   ],
   "source": [
    "'''\n",
    "Univariate inter-distribution distance:\n",
    "        * Delta skewness\n",
    "        * Delta kurtosis\n",
    "        * Delta Normality test  (Shapiro-Wilk, Anderson-Darling)      \n",
    "        * Kolmogorov-Smirnov (also normality test)\n",
    "        * Cramér–von Mises criterion\n",
    "        * Pearson's chi-squared test (only if all vars are binned and categorised)\n",
    "        * Kuiper's test\n",
    "        * Mann-Whitney U\n",
    "        * Kruskall Wallis\n",
    "        * nth-Wasserstein\n",
    "        * FDR-BH-ANOVA\n",
    "        * total variation distance\n",
    "        * Hellinger distance\n",
    "        * Bhattacharyya distance\n",
    "        * [x] q-q distance\n",
    "        * [x] CDF distance \n",
    "'''\n",
    "\n",
    "\n"
   ]
  },
  {
   "cell_type": "code",
   "execution_count": 115,
   "metadata": {},
   "outputs": [
    {
     "data": {
      "text/plain": [
       "'\\n    dissimilarity -> similarity:\\n    * s = exp(-d(x,y)/sigma)\\n    * s = 1/(1+d(x,y))\\n    * s = 1/2*(d^2(x,c) + d^2(y,c)-d^2(x,y))\\n    \\n'"
      ]
     },
     "execution_count": 115,
     "metadata": {},
     "output_type": "execute_result"
    }
   ],
   "source": [
    "'''\n",
    "    similarity -> dissimilarity:\n",
    "    * d = 1 - s\n",
    "    * d = sqrt(s(x,x)+s(y,y)-2s(x,y))\n",
    "    * d= -log(s(x,y))\n",
    "'''\n",
    "\n",
    "'''\n",
    "    dissimilarity -> similarity:\n",
    "    * s = exp(-d(x,y)/sigma)\n",
    "    * s = 1/(1+d(x,y))\n",
    "    * s = 1/2*(d^2(x,c) + d^2(y,c)-d^2(x,y))\n",
    "    \n",
    "'''"
   ]
  },
  {
   "cell_type": "code",
   "execution_count": 116,
   "metadata": {},
   "outputs": [
    {
     "data": {
      "text/plain": [
       "'\\nPairwise distance:\\n    * Manhattan distance (only if all vars are binned and categorised)\\n    * Euclidean distance\\n    * Pearson  distance \\n    * Kendall distance \\n    * Spearman distance\\n    * 1-Cosine distance (pseudometric)\\n    * Mahalanobis distance\\n'"
      ]
     },
     "execution_count": 116,
     "metadata": {},
     "output_type": "execute_result"
    }
   ],
   "source": [
    "'''\n",
    "Pairwise distance:\n",
    "    * Manhattan distance (only if all vars are binned and categorised)\n",
    "    * Euclidean distance\n",
    "    * Pearson  distance \n",
    "    * Kendall distance \n",
    "    * Spearman distance\n",
    "    * 1-Cosine distance (pseudometric)\n",
    "    * Mahalanobis distance\n",
    "'''"
   ]
  },
  {
   "cell_type": "code",
   "execution_count": 117,
   "metadata": {},
   "outputs": [],
   "source": [
    "# get feature-feature similarity\n",
    "\n",
    "\n",
    "\n",
    "# get sample-sample similarity\n",
    "\n",
    "\n",
    "\n",
    "## make N s-s-s bins \n"
   ]
  },
  {
   "cell_type": "code",
   "execution_count": 118,
   "metadata": {},
   "outputs": [],
   "source": [
    "# what combination of dimensions makes samples from different target groups most dissimilar?"
   ]
  },
  {
   "cell_type": "markdown",
   "metadata": {},
   "source": [
    "## Check class/survival differentiation per feature combination "
   ]
  },
  {
   "cell_type": "code",
   "execution_count": null,
   "metadata": {},
   "outputs": [],
   "source": []
  },
  {
   "cell_type": "markdown",
   "metadata": {},
   "source": [
    "## Check differentiation class/survival with/without ERV mutations"
   ]
  },
  {
   "cell_type": "code",
   "execution_count": null,
   "metadata": {},
   "outputs": [],
   "source": []
  },
  {
   "cell_type": "markdown",
   "metadata": {},
   "source": [
    "## Check activation of neutrofil/T-cell genes in relation to efficacy of immunotherapy"
   ]
  },
  {
   "cell_type": "code",
   "execution_count": 176,
   "metadata": {},
   "outputs": [],
   "source": [
    "result_map = {'Complete Remission/Response': 1, \n",
    "              'Stable Disease': 0, \n",
    "              'Progressive Disease': 0,\n",
    "              'Partial Remission/Response': 1}\n",
    "\n",
    "neutro_probes = probe_map.loc[probe_map.Gene.isin(neutro_gene_list), 'probeID'].unique().tolist()\n",
    "tcell_probes = probe_map.loc[probe_map.Gene.isin(tcell_genes), 'probeID'].unique().tolist()\n",
    "erv_probes = probe_map.loc[probe_map.Gene.isin(erv_genes), 'probeID'].unique().tolist()\n",
    "\n",
    "neutro_probes  = set(neutro_probes) & set(df_erv['methylation'].columns.tolist())\n",
    "tcell_probes = set(tcell_probes) & set(df_erv['methylation'].columns.tolist())\n",
    "erv_probes = set(erv_probes) & set(df_erv['methylation'].columns.tolist())\n",
    "df_erv['methylation']['RTT'] = df_erv['methylation']['Reponse To Therapy'].map(result_map)\n",
    "\n",
    "neutro_rna =  set(neutro_gene_list) & set(df_erv['RNAex'].columns.tolist())\n",
    "tcell_rna = set(tcell_genes) & set(df_erv['RNAex'].columns.tolist())\n",
    "erv_rna = set(erv_genes) & set(df_erv['RNAex'].columns.tolist())\n",
    "\n",
    "df_erv['RNAex']['RTT'] = df_erv['RNAex']['Reponse To Therapy'].map(result_map)"
   ]
  },
  {
   "cell_type": "code",
   "execution_count": 169,
   "metadata": {},
   "outputs": [
    {
     "data": {
      "text/plain": [
       "<matplotlib.legend.Legend at 0x7fc805ea5780>"
      ]
     },
     "execution_count": 169,
     "metadata": {},
     "output_type": "execute_result"
    },
    {
     "data": {
      "image/png": "[encoded data removed]",
      "text/plain": [
       "<Figure size 1296x360 with 3 Axes>"
      ]
     },
     "metadata": {
      "needs_background": "light"
     },
     "output_type": "display_data"
    }
   ],
   "source": [
    "fig, ax = plt.subplots(ncols=3, figsize=(18,5))\n",
    "df_erv['methylation'].loc[df_erv['methylation'].Diagnosis=='Lung Adenocarcinoma', erv_probes]\\\n",
    "                                                    .mean(axis=0).plot.hist(bins=20, histtype='step', ax=ax[0], label='Adeno')\n",
    "df_erv['methylation'].loc[df_erv['methylation'].Diagnosis=='Lung Squamous Cell Carcinoma', erv_probes]\\\n",
    "                                                    .mean(axis=0).plot.hist(bins=20, histtype='step', ax=ax[0], label='SCC')\n",
    "\n",
    "df_erv['methylation'].loc[df_erv['methylation'].Diagnosis=='Lung Adenocarcinoma', neutro_probes]\\\n",
    "                                                    .mean(axis=0).plot.hist(bins=20, histtype='step', ax=ax[1], label='Adeno')\n",
    "df_erv['methylation'].loc[df_erv['methylation'].Diagnosis=='Lung Squamous Cell Carcinoma', neutro_probes]\\\n",
    "                                                    .mean(axis=0).plot.hist(bins=20, histtype='step', ax=ax[1], label='SCC')\n",
    "\n",
    "df_erv['methylation'].loc[df_erv['methylation'].Diagnosis=='Lung Adenocarcinoma', tcell_probes]\\\n",
    "                                                    .mean(axis=0).plot.hist(bins=20, histtype='step', ax=ax[2], label='Adeno')\n",
    "df_erv['methylation'].loc[df_erv['methylation'].Diagnosis=='Lung Squamous Cell Carcinoma', tcell_probes]\\\n",
    "                                                    .mean(axis=0).plot.hist(bins=20, histtype='step', ax=ax[2], label='SCC')\n",
    "\n",
    "ax[0].set_title('Mean probe values for ERV')\n",
    "ax[1].set_title('Mean probe values for neutrophils')\n",
    "ax[2].set_title('Mean probe values for t-cells')\n",
    "ax[0].legend(loc=2)\n",
    "ax[1].legend(loc=2)\n",
    "ax[2].legend(loc=2)"
   ]
  },
  {
   "cell_type": "code",
   "execution_count": 181,
   "metadata": {},
   "outputs": [
    {
     "data": {
      "text/plain": [
       "<matplotlib.legend.Legend at 0x7fc80e534c88>"
      ]
     },
     "execution_count": 181,
     "metadata": {},
     "output_type": "execute_result"
    },
    {
     "data": {
      "image/png": "[encoded data removed]",
      "text/plain": [
       "<Figure size 1296x360 with 3 Axes>"
      ]
     },
     "metadata": {
      "needs_background": "light"
     },
     "output_type": "display_data"
    }
   ],
   "source": [
    "fig, ax = plt.subplots(ncols=3, figsize=(18,5))\n",
    "df_erv['RNAex'].loc[df_erv['RNAex'].Diagnosis=='Lung Adenocarcinoma', erv_rna]\\\n",
    "                                                    .mean(axis=0).plot.hist(bins=5, histtype='step', ax=ax[0], label='Adeno')\n",
    "df_erv['RNAex'].loc[df_erv['RNAex'].Diagnosis=='Lung Squamous Cell Carcinoma', erv_rna]\\\n",
    "                                                    .mean(axis=0).plot.hist(bins=5, histtype='step', ax=ax[0], label='SCC')\n",
    "\n",
    "df_erv['RNAex'].loc[df_erv['RNAex'].Diagnosis=='Lung Adenocarcinoma', neutro_rna]\\\n",
    "                                                    .mean(axis=0).plot.hist(bins=5, histtype='step', ax=ax[1], label='Adeno')\n",
    "df_erv['RNAex'].loc[df_erv['RNAex'].Diagnosis=='Lung Squamous Cell Carcinoma', neutro_rna]\\\n",
    "                                                    .mean(axis=0).plot.hist(bins=5, histtype='step', ax=ax[1], label='SCC')\n",
    "\n",
    "df_erv['RNAex'].loc[df_erv['RNAex'].Diagnosis=='Lung Adenocarcinoma', tcell_rna]\\\n",
    "                                                    .mean(axis=0).plot.hist(bins=5, histtype='step', ax=ax[2], label='Adeno')\n",
    "df_erv['RNAex'].loc[df_erv['RNAex'].Diagnosis=='Lung Squamous Cell Carcinoma', tcell_rna]\\\n",
    "                                                    .mean(axis=0).plot.hist(bins=5, histtype='step', ax=ax[2], label='SCC')\n",
    "\n",
    "ax[0].set_title('Mean RNAexp values for ERV')\n",
    "ax[1].set_title('Mean RNAexp values for neutrophils')\n",
    "ax[2].set_title('Mean RNAexp values for t-cells')\n",
    "ax[0].legend(loc=2)\n",
    "ax[1].legend(loc=2)\n",
    "ax[2].legend(loc=2)"
   ]
  },
  {
   "cell_type": "code",
   "execution_count": 183,
   "metadata": {},
   "outputs": [
    {
     "data": {
      "text/plain": [
       "<matplotlib.legend.Legend at 0x7fc834666978>"
      ]
     },
     "execution_count": 183,
     "metadata": {},
     "output_type": "execute_result"
    },
    {
     "data": {
      "image/png": "[encoded data removed]",
      "text/plain": [
       "<Figure size 1296x360 with 3 Axes>"
      ]
     },
     "metadata": {
      "needs_background": "light"
     },
     "output_type": "display_data"
    }
   ],
   "source": [
    "fig, ax = plt.subplots(ncols=3, figsize=(18,5))\n",
    "df_erv['RNAex'].loc[df_erv['RNAex'].RTT==0, erv_rna]\\\n",
    "                                                    .mean(axis=0).plot.hist(bins=5, histtype='step', ax=ax[0], label='NR')\n",
    "df_erv['RNAex'].loc[df_erv['RNAex'].RTT==1, erv_rna]\\\n",
    "                                                    .mean(axis=0).plot.hist(bins=5, histtype='step', ax=ax[0], label='R')\n",
    "\n",
    "df_erv['RNAex'].loc[df_erv['RNAex'].RTT==0, neutro_rna]\\\n",
    "                                                    .mean(axis=0).plot.hist(bins=5, histtype='step', ax=ax[1], label='NR')\n",
    "df_erv['RNAex'].loc[df_erv['RNAex'].RTT==1, neutro_rna]\\\n",
    "                                                    .mean(axis=0).plot.hist(bins=5, histtype='step', ax=ax[1], label='R')\n",
    "\n",
    "df_erv['RNAex'].loc[df_erv['RNAex'].RTT==0, tcell_rna]\\\n",
    "                                                    .mean(axis=0).plot.hist(bins=5, histtype='step', ax=ax[2], label='NR')\n",
    "df_erv['RNAex'].loc[df_erv['RNAex'].RTT==1, tcell_rna]\\\n",
    "                                                    .mean(axis=0).plot.hist(bins=5, histtype='step', ax=ax[2], label='R')\n",
    "\n",
    "ax[0].set_title('Mean RNAexp values for ERV')\n",
    "ax[1].set_title('Mean RNAexp values for neutrophils')\n",
    "ax[2].set_title('Mean RNAexp values for t-cells')\n",
    "ax[0].legend(loc=1)\n",
    "ax[1].legend(loc=1)\n",
    "ax[2].legend(loc=2)"
   ]
  }
 ],
 "metadata": {
  "kernelspec": {
   "display_name": "Python 3",
   "language": "python",
   "name": "python3"
  },
  "language_info": {
   "codemirror_mode": {
    "name": "ipython",
    "version": 3
   },
   "file_extension": ".py",
   "mimetype": "text/x-python",
   "name": "python",
   "nbconvert_exporter": "python",
   "pygments_lexer": "ipython3",
   "version": "3.6.9"
  }
 },
 "nbformat": 4,
 "nbformat_minor": 2
}
