{
 "cells": [
  {
   "cell_type": "code",
   "execution_count": 1,
   "metadata": {},
   "outputs": [],
   "source": [
    "from tqdm import tqdm\n",
    "import multiprocessing\n",
    "import gc\n",
    "from matplotlib import pyplot as plt\n",
    "import seaborn as sns\n",
    "import math\n",
    "import scipy as sc\n",
    "import sklearn as sk\n",
    "from random import randint, sample\n",
    "\n",
    "from numba import jit\n",
    "\n",
    "from scipy.stats import ks_2samp as ks2\n",
    "from scipy.stats import mannwhitneyu as mwu\n",
    "from scipy.stats import wasserstein_distance as w1_dist\n",
    "from scipy.stats import energy_distance as w2_dist\n",
    "from scipy.stats import anderson_ksamp as anderson # test if samples are from the same distribution\n",
    "\n",
    "\n",
    "%load_ext autoreload\n",
    "%autoreload 2\n",
    "#%load_ext autoreload\n",
    "\n",
    "import numpy as np\n",
    "import pandas as pd\n",
    "import scipy as sc\n",
    "from sklearn import decomposition"
   ]
  },
  {
   "cell_type": "code",
   "execution_count": 2,
   "metadata": {},
   "outputs": [],
   "source": [
    "from sklearn.discriminant_analysis import LinearDiscriminantAnalysis as LDA\n",
    "from sklearn.feature_selection import f_classif\n",
    "from sklearn.feature_selection import SelectFdr\n",
    "from sklearn.feature_selection import SelectFpr"
   ]
  },
  {
   "cell_type": "markdown",
   "metadata": {},
   "source": [
    "## Shared functions"
   ]
  },
  {
   "cell_type": "code",
   "execution_count": 3,
   "metadata": {},
   "outputs": [],
   "source": [
    "def _dim_reduction(df= None, y= None, n_comp=50, method='PCA', pc_solver='arpack'):\n",
    "    # method: PCA\n",
    "    #print(\"There are {} features to reduce...woohooo\".format(len(gene_columns)))\n",
    "    ind = df.index\n",
    "    red_data_dict = {}\n",
    "    print(\"Running reducer on all samples..\")\n",
    "    X = df.loc[:, :]\n",
    "    if method=='PCA':\n",
    "        reducer = decomposition.PCA(copy= True, n_components= n_comp, svd_solver= pc_solver)\n",
    "        X_red = reducer.fit_transform(X)\n",
    "    elif method=='LDA':\n",
    "        reducer = LDA(n_components= n_comp, solver= 'svd')\n",
    "        X_red = reducer.fit_transform(X, y)\n",
    "    \n",
    "    red_cols = ['red_'+str(i) for i in range(0, n_comp)]\n",
    "    df_red = pd.DataFrame(data= X_red, index= ind, columns= red_cols)\n",
    "    \n",
    "    red_data_dict['ALL'] = {}\n",
    "    red_data_dict['ALL']['data'] = df_red\n",
    "    red_data_dict['ALL']['reducer'] = reducer\n",
    "    \n",
    "    return red_data_dict"
   ]
  },
  {
   "cell_type": "code",
   "execution_count": 4,
   "metadata": {},
   "outputs": [],
   "source": [
    "def _distance_significance(x,y, method='MWU'):\n",
    "    # difference between distributions\n",
    "    #\n",
    "    # consider 1st (EMD) and 2nd (Cramer Von Mises) Wasserstein distance --> equal to area between CDF's for 1D distro's\n",
    "    # consider Kolmogorov-Smirnov\n",
    "    # consider MW-U\n",
    "    # consider modified z-scores\n",
    "    # consider quantiles\n",
    "    # consider Kruskal Wallis\n",
    "    # diff per feature, per sample -> expensive\n",
    "    # scipy.stats import wasserstein_distance\n",
    "    # scipy.stats import energy_distance\n",
    "    # Kullback-Leibler divergence, Jensen-Shannon divergence, etc. only works for coupled data\n",
    "    # Spearman-Rank, Cosine-distance, etc. only works for coupled data or data of the same size.\n",
    "    \n",
    "    return True\n",
    "\n",
    "# significances of differences between pheno's.\n",
    "def distribution_difference_phenotypes(df, batches=[], phenotypes=[]):\n",
    "    tot_res = []\n",
    "    for _phenotype in phenotypes:    \n",
    "        res = []\n",
    "        for _batch_nr in batches:\n",
    "            _all = df.loc[df.batch_number!=_batch_nr][_phenotype]\n",
    "            _batch = df.loc[df.batch_number==_batch_nr][_phenotype]\n",
    "            _ks = ks2(_all.values, _batch.values)\n",
    "            _mwu = mwu(_all.values, _batch.values, alternative='two-sided')\n",
    "            try:\n",
    "                _w1 = w1_dist(_all[~np.isnan(_all)], _batch[~np.isnan(_batch)])\n",
    "                _w2 = w2_dist(_all[~np.isnan(_all)], _batch[~np.isnan(_batch)])\n",
    "            except ValueError as e:\n",
    "                print('ValError, defaulting to NaN')\n",
    "                _w1 = _w2 = np.nan\n",
    "\n",
    "            res.append({'batch_number': _batch_nr,\n",
    "                        'ks_stat': _ks[0], 'ks_p': _ks[1],\n",
    "                        'mwu_stat': _mwu[0], 'mwu_p': _mwu[1],\n",
    "                        'w1_dist': _w1, 'w2_dist': _w2})\n",
    "        res_df = pd.DataFrame(res)\n",
    "        tot_res.append({_phenotype: res_df})\n",
    "    return tot_res\n",
    "\n",
    "def _cohort_bias_metrics_colwise_reduced(cohort_dict, one_vs_all = True, equi_size = False):\n",
    "    '''\n",
    "     cohort_dict: {cohort_name: {'data': PC's, 'reducer': PCA transformer}}\n",
    "     one_vs_all: if True, compares each cohort to all other cohorts in bulk, \n",
    "                 else compares each cohort to each other cohort separately\n",
    "    '''\n",
    "    # Assumes reduction to 3 dimensions..\n",
    "    # Because the cohorts have different sample sizes we cannot simply do an inter-cohort correlation\n",
    "    # first we collect them in N columns, with N the number of PC's, then we cut those\n",
    "    # vectors in M pieces where M is the average number of samples per cohort, then we perform the\n",
    "    # correlation those artificial cohorts.\n",
    "    # TO DO: add statistical significance tests..Kruskal-Wallis H Test, MW-U, FDR, KS\n",
    "    metrics = {}\n",
    "    cohorts = list(cohort_dict.keys())\n",
    "    num_cohorts_ = len(cohorts) \n",
    "    if one_vs_all==False:\n",
    "        # avg samples per cohort: M        \n",
    "        \n",
    "        if equi_size:\n",
    "            pc1_matrix = cohort_dict[cohorts[0]]['data'][:,0]\n",
    "            pc2_matrix = cohort_dict[cohorts[0]]['data'][:,1]\n",
    "            pc3_matrix = cohort_dict[cohorts[0]]['data'][:,2]            \n",
    "            for _cohort in cohorts[1:-1]:\n",
    "                pc1_matrix = np.hstack((pc1_matrix, cohort_dict[_cohort]['data'][:,0]))\n",
    "                pc2_matrix = np.hstack((pc2_matrix, cohort_dict[_cohort]['data'][:,1]))\n",
    "                pc3_matrix = np.hstack((pc3_matrix, cohort_dict[_cohort]['data'][:,2]))\n",
    "            \n",
    "            len_ = pc1_matrix.shape[0]\n",
    "            avg_samples = int(np.floor(len_/num_cohorts_))\n",
    "            tot_num = avg_samples*len(cohorts)\n",
    "            # cut in M pieces\n",
    "            masked_ = np.random.randint(len_, size=(len_ - tot_num))\n",
    "            pc1_matrix_ = np.delete(pc1_matrix, masked_) #np.ma.array(pc1_matrix, mask=False).mask[masked_].compressed()\n",
    "            pc2_matrix_ = np.delete(pc2_matrix, masked_) #np.ma.array(pc2_matrix, mask=False).mask[masked_].compressed()\n",
    "            pc3_matrix_ = np.delete(pc3_matrix, masked_) #np.ma.array(pc3_matrix, mask=False).mask[masked_].compressed()\n",
    "            # reshape\n",
    "            pc1_matrix_ = pc1_matrix_.reshape((avg_samples, num_cohorts_))\n",
    "            pc2_matrix_ = pc2_matrix_.reshape((avg_samples, num_cohorts_))\n",
    "            pc3_matrix_ = pc3_matrix_.reshape((avg_samples, num_cohorts_)) \n",
    "            \n",
    "            pc_matrices = (pc1_matrix_, pc2_matrix_, pc3_matrix_)\n",
    "                        \n",
    "            # rank correlation, only works for equisized sets\n",
    "            metrics['spearman']={}\n",
    "            metrics['spearman'][0] = spearmanr(pc_matrices[0][:, :], pc_matrices[0][:, :])\n",
    "            metrics['spearman'][1] = spearmanr(pc_matrices[1][:, :], pc_matrices[1][:, :])\n",
    "            metrics['spearman'][2] = spearmanr(pc_matrices[2][:, :], pc_matrices[2][:, :])\n",
    "            # Wasserstein-Distance 1st and 2nd, \n",
    "            metrics['wasserstein']={'1st': [np.zeros((num_cohorts_, num_cohorts_)), \n",
    "                                            np.zeros((num_cohorts_, num_cohorts_)),\n",
    "                                            np.zeros((num_cohorts_, num_cohorts_))], \n",
    "                                    \n",
    "                                    '2nd': [np.zeros((num_cohorts_, num_cohorts_)),\n",
    "                                            np.zeros((num_cohorts_, num_cohorts_)),\n",
    "                                            np.zeros((num_cohorts_, num_cohorts_))]}   \n",
    "            \n",
    "            metrics['significance']={'MW-U': [np.zeros((num_cohorts_, num_cohorts_)), \n",
    "                                              np.zeros((num_cohorts_, num_cohorts_)),\n",
    "                                              np.zeros((num_cohorts_, num_cohorts_))]}   \n",
    "            for idx,pc_mat in enumerate(pc_matrices):\n",
    "                for cohort_ind in range(0,num_cohorts_):    \n",
    "                    for cohort_ind_sec in range(0,cohort_ind):\n",
    "                        metrics['wasserstein']['1st'][idx][cohort_ind, cohort_ind_sec] = w1_dist(\n",
    "                                                                          u_values=pc_mat[:, cohort_ind],\n",
    "                                                                          v_values=pc_mat[:, cohort_ind_sec])\n",
    "                        \n",
    "                        metrics['wasserstein']['2nd'][idx][cohort_ind, cohort_ind_sec] = w2_dist(\n",
    "                                                                          u_values=pc_mat[:, cohort_ind],\n",
    "                                                                          v_values=pc_mat[:, cohort_ind_sec]) \n",
    "\n",
    "                        metrics['significance']['MW-U'][idx][cohort_ind, cohort_ind_sec] = mannwhitneyu(\n",
    "                                                                          pc_mat[:, cohort_ind],\n",
    "                                                                          pc_mat[:, cohort_ind_sec])[1]\n",
    "        else: # non-equisized\n",
    "            # wasserstein 1/2\n",
    "            # log 10 of p-values of FDR of each cohort versus other cohorts (only for non-equisized cohorts)\n",
    "            metrics['wasserstein']={'1st': [np.zeros((num_cohorts_, num_cohorts_)), \n",
    "                                            np.zeros((num_cohorts_, num_cohorts_)),\n",
    "                                            np.zeros((num_cohorts_, num_cohorts_))], \n",
    "                                    \n",
    "                                    '2nd': [np.zeros((num_cohorts_, num_cohorts_)),\n",
    "                                            np.zeros((num_cohorts_, num_cohorts_)),\n",
    "                                            np.zeros((num_cohorts_, num_cohorts_))]}      \n",
    "\n",
    "            metrics['significance']={'MW-U': [np.zeros((num_cohorts_, num_cohorts_)), \n",
    "                                              np.zeros((num_cohorts_, num_cohorts_)),\n",
    "                                              np.zeros((num_cohorts_, num_cohorts_))] }\n",
    "            for idx in range(0,3):\n",
    "                for cohort_ind in range(0,num_cohorts_):    \n",
    "                    for cohort_ind_sec in range(0,cohort_ind):\n",
    "                        #print(\"cohort:\",cohorts[cohort_ind], \"idx:\",idx)\n",
    "                        metrics['wasserstein']['1st'][idx][cohort_ind, cohort_ind_sec] =\\\n",
    "                                    w1_dist(u_values=cohort_dict[cohorts[cohort_ind]]['data'][:, idx],\n",
    "                                            v_values=cohort_dict[cohorts[cohort_ind_sec]]['data'][:, idx])  \n",
    "                        \n",
    "                        metrics['wasserstein']['2nd'][idx][cohort_ind, cohort_ind_sec] =\\\n",
    "                                    w2_dist(u_values=cohort_dict[cohorts[cohort_ind]]['data'][:, idx],\n",
    "                                            v_values=cohort_dict[cohorts[cohort_ind_sec]]['data'][:, idx])\n",
    "                        \n",
    "                        metrics['significance']['MW-U'][idx][cohort_ind, cohort_ind_sec] =\\\n",
    "                                    mannwhitneyu(cohort_dict[cohorts[cohort_ind]]['data'][:, idx],\n",
    "                                                 cohort_dict[cohorts[cohort_ind_sec]]['data'][:, idx])[1]                        \n",
    "                        \n",
    "                        # FDR\n",
    "                       \n",
    "    else: # one-vs-all\n",
    "        # for each cohort compare to the distributions of the rest\n",
    "        # collect \n",
    "        pc1_matrix = cohort_dict[cohorts[0]]['data'][:,0]\n",
    "        pc2_matrix = cohort_dict[cohorts[0]]['data'][:,1]\n",
    "        pc3_matrix = cohort_dict[cohorts[0]]['data'][:,2]            \n",
    "        for _cohort in cohorts[1:-1]:\n",
    "            pc1_matrix = np.hstack((pc1_matrix, cohort_dict[_cohort]['data'][:,0]))\n",
    "            pc2_matrix = np.hstack((pc2_matrix, cohort_dict[_cohort]['data'][:,1]))\n",
    "            pc3_matrix = np.hstack((pc3_matrix, cohort_dict[_cohort]['data'][:,2]))\n",
    "            \n",
    "        pc_matrices = (pc1_matrix, pc2_matrix, pc3_matrix)\n",
    "\n",
    "        metrics['wasserstein']={'1st': [np.zeros((num_cohorts_)), \n",
    "                                        np.zeros((num_cohorts_)),\n",
    "                                        np.zeros((num_cohorts_))], \n",
    "                                    \n",
    "                                '2nd': [np.zeros((num_cohorts_)),\n",
    "                                        np.zeros((num_cohorts_)),\n",
    "                                        np.zeros((num_cohorts_))]}     \n",
    "        metrics['significance']={'MW-U': [np.zeros((num_cohorts_)), \n",
    "                                        np.zeros((num_cohorts_)),\n",
    "                                        np.zeros((num_cohorts_))] }\n",
    "    \n",
    "        for idx in range(0,3):\n",
    "            for cohort_ind in range(0, num_cohorts_):\n",
    "                metrics['wasserstein']['1st'][idx][cohort_ind]=\\\n",
    "                                w1_dist(u_values=cohort_dict[cohorts[cohort_ind]]['data'][:, idx],\n",
    "                                        v_values=pc_matrices[idx])\n",
    "                    \n",
    "                metrics['wasserstein']['2nd'][idx][cohort_ind] =\\\n",
    "                                w2_dist(u_values=cohort_dict[cohorts[cohort_ind]]['data'][:, idx],\n",
    "                                        v_values=pc_matrices[idx])\n",
    "                \n",
    "                metrics['significance']['MW-U'][idx][cohort_ind]=mannwhitneyu(\n",
    "                                cohort_dict[cohorts[cohort_ind]]['data'][:, idx],\n",
    "                                pc_matrices[idx])[1]\n",
    "    return metrics\n"
   ]
  },
  {
   "cell_type": "code",
   "execution_count": 5,
   "metadata": {},
   "outputs": [],
   "source": [
    "#@jit\n",
    "def median_shift(x, batch_ids):\n",
    "    '''\n",
    "     x : dataset \n",
    "     batch_ids : dict\n",
    "    ''' \n",
    "    \n",
    "    delta = np.zeros([x.shape[0], len(batch_ids)])\n",
    "    for idx, _batch in tqdm(enumerate(batch_ids.keys())):\n",
    "        median_batch = np.median(x[:, batch_ids[_batch]], axis=1)\n",
    "        #median_all = np.median(x, axis=1)\n",
    "        median_all = np.median(np.delete(x, batch_ids[_batch], axis=1), axis=1)\n",
    "        delta[:,idx] = median_batch - median_all\n",
    "        \n",
    "    return delta \n",
    "\n",
    "@jit\n",
    "def mean_shift(x, batch_ids):\n",
    "    '''\n",
    "     x : dataset \n",
    "     batch_ids : dict\n",
    "    ''' \n",
    "    \n",
    "    delta = np.zeros([x.shape[0], len(batch_ids)])\n",
    "    for idx, _batch in tqdm(enumerate(batch_ids.keys())):\n",
    "        mean_batch = np.mean(x[:, batch_ids[_batch]], axis=1)\n",
    "        #mean_all = np.mean(x, axis=1)\n",
    "        mean_all = np.mean(np.delete(x, batch_ids[_batch], axis=1), axis=1)\n",
    "        delta[:,idx] = mean_batch - mean_all\n",
    "        \n",
    "    return delta "
   ]
  },
  {
   "cell_type": "code",
   "execution_count": 6,
   "metadata": {},
   "outputs": [],
   "source": [
    "class fs_mannwhitney():\n",
    "    pvalues_ = None\n",
    "    scores_ = None\n",
    "    def __init__(self, pvalue = 0.01, mode='auto'):\n",
    "        # mode : 'auto', 'exact', 'asymp'\n",
    "        self.pvalue = pvalue\n",
    "        self.mode = mode\n",
    "\n",
    "    def apply_test(self, pos, neg, column):\n",
    "        zscore, p_value = mwu(pos[:,column], neg[:,column], alternative=\"two-sided\") # mode=self.mode\n",
    "        return zscore, p_value\n",
    "    \n",
    "    def fit(self, x, y):\n",
    "        zero_idx = np.where(y == 0)[0]\n",
    "        one_idx = np.where(y == 1)[0]\n",
    "        pos_samples = x[one_idx]\n",
    "        neg_samples = x[zero_idx]                \n",
    "        results_ = np.array(list(map(lambda c: \n",
    "            self.apply_test(pos_samples, neg_samples, c), range(0,x.shape[1]))))\n",
    "        self.scores_ = results_[:, 0]\n",
    "        self.pvalues_ = results_[:, 1]\n",
    "        return self\n",
    "\n",
    "    def transform(self, x):\n",
    "        not_signif = self.p_values<self.pvalue\n",
    "        to_delete = [idx for idx, item in enumerate(not_signif) if item == False]\n",
    "        return np.delete(x, to_delete, axis = 1), to_delete\n",
    "\n",
    "class fs_ks():\n",
    "    pvalues_ = None\n",
    "    scores_ = None\n",
    "    def __init__(self, pvalue = 0.01):\n",
    "        self.pvalue = pvalue\n",
    "\n",
    "    def apply_test(self, pos, neg, column):\n",
    "        zscore, p_value = ks2(pos[:,column], neg[:,column])\n",
    "        return zscore, p_value\n",
    "    \n",
    "    def fit(self, x, y):\n",
    "        zero_idx = np.where(y == 0)[0]\n",
    "        one_idx = np.where(y == 1)[0]\n",
    "        pos_samples = x[one_idx]\n",
    "        neg_samples = x[zero_idx]                \n",
    "        results_ = np.array(list(map(lambda c: \n",
    "            self.apply_test(pos_samples, neg_samples, c), range(0,x.shape[1]))))\n",
    "        self.scores_ = results_[:, 0]\n",
    "        self.pvalues_ = results_[:, 1]\n",
    "        return self\n",
    "\n",
    "    def transform(self, x):\n",
    "        not_signif = self.p_values<self.pvalue\n",
    "        to_delete = [idx for idx, item in enumerate(not_signif) if item == False]\n",
    "        return np.delete(x, to_delete, axis = 1), to_delete\n",
    "    \n",
    "class fs_ad():\n",
    "    pvalues_ = None\n",
    "    crit_vals = None\n",
    "    scores_ = None\n",
    "    \n",
    "    def __init__(self, pvalue = 0.01):\n",
    "        self.pvalue = pvalue\n",
    "\n",
    "    def apply_test(self, samples):\n",
    "        zscore, crit_val, p_value = anderson(samples)\n",
    "        return zscore, crit_val, p_value\n",
    "    \n",
    "    def fit(self, x):             \n",
    "        results_ = np.array(list(map(lambda c: \n",
    "            self.apply_test(x[:,c].reshape([-1,1])), range(0, x.shape[1]))))\n",
    "        self.scores_ = results_[:, 0] \n",
    "        self.crit_vals = results_[: ,1]\n",
    "        self.pvalues_ = results_[:, 2]\n",
    "        return self\n",
    "\n",
    "    def transform(self, x):\n",
    "        not_signif = self.p_values<self.pvalue\n",
    "        to_delete = [idx for idx, item in enumerate(not_signif) if item == False]\n",
    "        return np.delete(x, to_delete, axis = 1), to_delete\n",
    "    \n",
    "class fs_ws1():\n",
    "    scores_ = None\n",
    "    def __init__(self, pvalue = 0.01):\n",
    "        self.pvalue = pvalue\n",
    "\n",
    "    def apply_test(self, pos, neg, column):\n",
    "        zscore = w1_dist(pos[:,column], neg[:,column])\n",
    "        return zscore\n",
    "    \n",
    "    def fit(self, x, y):\n",
    "        zero_idx = np.where(y == 0)[0]\n",
    "        one_idx = np.where(y == 1)[0]\n",
    "        pos_samples = x[one_idx]\n",
    "        neg_samples = x[zero_idx]                \n",
    "        results_ = np.array(list(map(lambda c: \n",
    "            self.apply_test(pos_samples, neg_samples, c), range(0,x.shape[1]))))\n",
    "        self.scores_ = results_\n",
    "        return self\n",
    "    \n",
    "class fs_ws2():\n",
    "    scores_ = None\n",
    "    def __init__(self, pvalue = 0.01):\n",
    "        self.pvalue = pvalue\n",
    "\n",
    "    def apply_test(self, pos, neg, column):\n",
    "        zscore = w2_dist(pos[:,column], neg[:,column])\n",
    "        return zscore\n",
    "    \n",
    "    def fit(self, x, y):\n",
    "        zero_idx = np.where(y == 0)[0]\n",
    "        one_idx = np.where(y == 1)[0]\n",
    "        pos_samples = x[one_idx]\n",
    "        neg_samples = x[zero_idx]                \n",
    "        results_ = np.array(list(map(lambda c: \n",
    "            self.apply_test(pos_samples, neg_samples, c), range(0,x.shape[1]))))\n",
    "        self.scores_ = results_\n",
    "        return self\n",
    "    \n",
    "    \n",
    "def get_filtered_genomes(x, y, Rclass = None):\n",
    "    try:\n",
    "        alpha = Rclass.PIPELINE_PARAMETERS['feature_selection']['pvalue']\n",
    "        filter_type = Rclass.PIPELINE_PARAMETERS['feature_selection']['method']\n",
    "        F_function =  Rclass.PIPELINE_PARAMETERS['feature_selection']['score_function']\n",
    "    except Exception as e:\n",
    "        print(\"Exception with {} handling the function get_filtered_genomes\".format(e))\n",
    "        alpha = 0.05\n",
    "        filter_type = 'FDR'\n",
    "        F_function = 'ANOVA'    \n",
    "    \n",
    "    #  Mann-Whitney, between classes\n",
    "    # scipy.stats.mannwhitneyu, https://docs.scipy.org/doc/scipy/reference/generated/scipy.stats.mannwhitneyu.html\n",
    "    if filter_type == 'mannwhitney':\n",
    "        Selector = fs_mannwhitney(pvalue = alpha).fit(x,y)\n",
    "        x_out = Selector.transform(x)[0]\n",
    "    elif filter_type == 'FDR':\n",
    "    # Use FDR with a number of different statistical measures:\n",
    "    # f_classif, chi2, \n",
    "        FDR_function = f_classif if F_function == 'ANOVA' else eval(F_function)\n",
    "        FDR = SelectFdr(alpha = alpha, score_func = FDR_function) #f_classif, chi2\n",
    "        Selector = FDR.fit(x, y)\n",
    "        x_out = FDR.transform(x)\n",
    "    elif filter_type == 'FPR':\n",
    "        FPR_function = f_classif if F_function == 'ANOVA' else eval(F_function)\n",
    "        FPR = SelectFpr(alpha = alpha, score_func = FPR_function) #f_classif, chi2\n",
    "        Selector = FPR.fit(x, y)\n",
    "        x_out = FPR.transform(x)        \n",
    "\n",
    "    return x_out, Selector\n",
    "\n",
    "#@jit('int32[:](float64[:,:], int32[:]))\n",
    "def get_differential_probes(x, y, method='FDR', alpha=0.05, **kwargs):\n",
    "    '''\n",
    "     x : array (samples x probes)\n",
    "     y : array (target values)\n",
    "     method : FDR/MWU/KS \n",
    "     n_top : number of top discriminating probes \n",
    "     kwargs: arguments for stat method\n",
    "     \n",
    "     return: index array of top n discriminators\n",
    "    '''\n",
    "        \n",
    "    idx = x.columns\n",
    "    if method=='FDR':\n",
    "        F_function = 'ANOVA'\n",
    "        FDR_function = f_classif if F_function == 'ANOVA' else eval(F_function)\n",
    "        FDR = SelectFdr(FDR_function, alpha = alpha) #f_classif, chi2\n",
    "        selector = FDR.fit(x, y)\n",
    "    elif method=='FPR':\n",
    "        F_function = 'ANOVA'\n",
    "        FPR_function = f_classif if F_function == 'ANOVA' else eval(F_function)\n",
    "        FPR = SelectFdr(FPR_function, alpha = alpha) #f_classif, chi2\n",
    "        selector = FPR.fit(x, y)      \n",
    "    elif method=='MWU':\n",
    "        selector = fs_mannwhitney(pvalue = alpha).fit(x.values,y)\n",
    "    elif method=='KS':\n",
    "        selector = fs_ks(pvalue = alpha).fit(x.values,y)\n",
    "    elif method=='AD':\n",
    "        selector = fs_ad().fit(x.values) \n",
    "    elif method=='WASS1':\n",
    "        selector = fs_ws1().fit(x.values, y)\n",
    "    elif method=='WASS2':\n",
    "        selector = fs_ws2().fit(x.values, y)\n",
    "    if method in ['WASS1', 'WASS2']:\n",
    "        return pd.DataFrame(data=selector.scores_.T, \n",
    "                        columns=['score_'+method],\n",
    "                        index=idx)\n",
    "    else:\n",
    "        return pd.DataFrame(data=np.vstack((selector.pvalues_, selector.scores_)).T, \n",
    "                        columns=['pvals_'+method, 'score_'+method],\n",
    "                        index=idx)"
   ]
  },
  {
   "cell_type": "markdown",
   "metadata": {},
   "source": [
    "## Load data\n",
    "Due to resources limitations we analysis one methylation set at a time. "
   ]
  },
  {
   "cell_type": "code",
   "execution_count": 7,
   "metadata": {},
   "outputs": [],
   "source": [
    "MethylationForm = 'beta' # 'beta', 'M'"
   ]
  },
  {
   "cell_type": "code",
   "execution_count": 8,
   "metadata": {},
   "outputs": [],
   "source": [
    "# \"/media/koekiemonster/DATA-FAST/genetic_expression/hackathon_2/Lung\"\n",
    "# \"/home/bramiozo/DATA/LungCancerResearch/\" \n",
    "source_dir = \"/media/koekiemonster/DATA-FAST/genetic_expression/hackathon_2/Lung/\"\n",
    "\n",
    "# _prepped/methylation_Mvalues.csv Lung_Methylation.txt\n",
    "Meth_Raw = pd.read_csv(source_dir+\"Lung_Methylation.txt\", sep=\"\\t\", engine=\"python\")\n",
    "\n",
    "Meth_Raw.set_index('probeID', inplace=True)\n",
    "GeneMapping = Meth_Raw[['Chr', 'Start', 'Stop', 'Strand', 'Gene', 'Relation_CpG_Island']]\n",
    "Meth_Raw.drop(['Chr', 'Start', 'Stop', 'Strand', 'Gene', 'Relation_CpG_Island'], inplace=True, axis=1)\n",
    "\n"
   ]
  },
  {
   "cell_type": "code",
   "execution_count": 9,
   "metadata": {},
   "outputs": [],
   "source": [
    "if MethylationForm=='M':\n",
    "    offset = 1e-3\n",
    "    def Mtransform(x):\n",
    "        try:\n",
    "            return np.log2((x+offset)/(1-x+offset))\n",
    "        except ValueError:\n",
    "            return np.nan\n",
    "\n",
    "    pat_cols = [_col for _col in methylation.columns if \"TCGA\" in _col]    \n",
    "    Meth_Raw = Meth_Raw.copy().loc[:, pat_cols].progress_apply(Mtransform, axis=0)\n",
    "    gc.collect()"
   ]
  },
  {
   "cell_type": "code",
   "execution_count": 10,
   "metadata": {},
   "outputs": [],
   "source": [
    "methylation_meta = pd.read_csv(source_dir+\"HumanMethylation450_meta.csv\", sep=\",\", engine=\"python\", skiprows=7)"
   ]
  },
  {
   "cell_type": "code",
   "execution_count": 11,
   "metadata": {},
   "outputs": [],
   "source": [
    "# Gender (small) Pack Years (small), Smoking Status (small), Diagnosis (small), Age At Diagnosis (Days) (small)\n",
    "# batch_number (large), histological_type (large), cigarettes_per_day.exposures (large), tissue_or_organ_of_origin.diagnoses (large)\n",
    "# race.demographic\n",
    "pheno_small = pd.read_csv(\"../../_docs/Lung_Phenotype_Metadata.txt\", sep=\"\\t\")\n",
    "pheno_small = pheno_small.copy().loc[pheno_small[\"Sample Type\"]=='Primary Tumor']\n",
    "pheno_small.set_index('SampleID', inplace=True)\n",
    "pheno_large = pd.read_csv(\"../../_docs/Lung_Table_Phenotypes.txt\", sep=\"\\t\")\n",
    "pheno_large.set_index('submitter_id.samples', inplace=True)\n",
    "pheno_large['SampleID'] = pheno_large.index\n",
    "pheno_large = pheno_large.copy().loc[pheno_large[\"sample_type.samples\"]=='Primary Tumor']\n",
    "\n",
    "pheno = pheno_small[['Gender', 'Pack Years', 'Smoking Status', 'Diagnosis', 'Age At Diagnosis (Days)']]\\\n",
    "                    .merge(pheno_large[['batch_number', 'histological_type', 'cigarettes_per_day.exposures',\n",
    "                                       'tissue_or_organ_of_origin.diagnoses', 'race.demographic']], how='inner',\n",
    "                                       left_index=True, right_index=True)"
   ]
  },
  {
   "cell_type": "code",
   "execution_count": 12,
   "metadata": {},
   "outputs": [],
   "source": [
    "# split by diagnosis\n",
    "LA_samples = pheno.loc[pheno.Diagnosis=='Lung Adenocarcinoma'].index.values\n",
    "LSCC_samples = pheno.loc[pheno.Diagnosis=='Lung Squamous Cell Carcinoma'].index.values"
   ]
  },
  {
   "cell_type": "code",
   "execution_count": 13,
   "metadata": {},
   "outputs": [
    {
     "data": {
      "text/plain": [
       "93"
      ]
     },
     "execution_count": 13,
     "metadata": {},
     "output_type": "execute_result"
    }
   ],
   "source": [
    "# to check for cohort bias we only use the reference probe initially\n",
    "gc.collect()  "
   ]
  },
  {
   "cell_type": "code",
   "execution_count": 14,
   "metadata": {},
   "outputs": [
    {
     "name": "stderr",
     "output_type": "stream",
     "text": [
      "/usr/local/lib/python3.6/dist-packages/pandas/core/indexing.py:1494: FutureWarning: \n",
      "Passing list-likes to .loc or [] with any missing label will raise\n",
      "KeyError in the future, you can use .reindex() as an alternative.\n",
      "\n",
      "See the documentation here:\n",
      "https://pandas.pydata.org/pandas-docs/stable/indexing.html#deprecate-loc-reindex-listlike\n",
      "  return self._getitem_tuple(key)\n"
     ]
    }
   ],
   "source": [
    "Meth_data = {'LA': Meth_Raw.loc[:, LA_samples],\n",
    "             'LSCC': Meth_Raw.loc[:, LSCC_samples]}\n",
    "del Meth_Raw\n",
    "\n",
    "gc.collect()\n",
    "\n",
    "Meth_data_T = {'LA': Meth_data['LA'].T, \n",
    "               'LSCC': Meth_data['LSCC'].T}"
   ]
  },
  {
   "cell_type": "markdown",
   "metadata": {},
   "source": [
    "### Seperability of cohorts"
   ]
  },
  {
   "cell_type": "code",
   "execution_count": 15,
   "metadata": {},
   "outputs": [],
   "source": [
    "def _clean(df, complete=True):\n",
    "    drop_rows = df[df.isna().sum(axis=1)>450000].index.tolist()\n",
    "    drop_cols = df.columns[df.isna().sum(axis=0)>400].tolist()\n",
    "    print(\"We drop {} samples and {} probes\".format(len(drop_rows), len(drop_cols)))\n",
    "    df_out = df.copy().drop(drop_rows, axis=0).drop(drop_cols, axis=1)\n",
    "    if complete:\n",
    "        drop_cols = df_out.copy().columns[df_out.copy().isna().sum(axis=0)>0].tolist()\n",
    "        df_out = df_out.copy().drop(drop_cols, axis=1)\n",
    "    initial_points = df.shape[0]*df.shape[1]\n",
    "    removed = (initial_points - df_out.shape[0]*df_out.shape[1])\n",
    "    print(\"Removed {} points from an initial {} points\".format(removed, initial_points))\n",
    "    return df_out"
   ]
  },
  {
   "cell_type": "code",
   "execution_count": 16,
   "metadata": {},
   "outputs": [
    {
     "name": "stdout",
     "output_type": "stream",
     "text": [
      "We drop 65 samples and 89512 probes\n",
      "Removed 87750581 points from an initial 269980812 points\n",
      "We drop 134 samples and 89512 probes\n",
      "Removed 103868270 points from an initial 246187539 points\n"
     ]
    }
   ],
   "source": [
    "_cleaned_LA = _clean(Meth_data_T['LA'])\n",
    "_cleaned_LSCC = _clean(Meth_data_T['LSCC'])"
   ]
  },
  {
   "cell_type": "code",
   "execution_count": 17,
   "metadata": {},
   "outputs": [
    {
     "name": "stdout",
     "output_type": "stream",
     "text": [
      "Total number of NA's: 174262840\n",
      "Total number of datapoints: 516168351\n",
      "NA percentage: 0.3376085334608204\n"
     ]
    }
   ],
   "source": [
    "tot_na = Meth_data['LA'].isna().sum().sum() + Meth_data['LSCC'].isna().sum().sum()\n",
    "tot_points = Meth_data['LA'].size + Meth_data['LSCC'].size\n",
    "print(\"Total number of NA's:\", tot_na)\n",
    "print(\"Total number of datapoints:\", tot_points)\n",
    "print(\"NA percentage:\", tot_na/tot_points)"
   ]
  },
  {
   "cell_type": "code",
   "execution_count": 18,
   "metadata": {},
   "outputs": [
    {
     "name": "stdout",
     "output_type": "stream",
     "text": [
      "We drop 199 samples and 89841 probes\n",
      "Removed 200133567 points from an initial 516168351 points\n"
     ]
    }
   ],
   "source": [
    "_cleaned_ALL = _clean(pd.concat([Meth_data_T['LA'], Meth_data_T['LSCC']]))"
   ]
  },
  {
   "cell_type": "code",
   "execution_count": 19,
   "metadata": {},
   "outputs": [
    {
     "data": {
      "text/plain": [
       "Text(0, 0.5, '# affected samples')"
      ]
     },
     "execution_count": 19,
     "metadata": {},
     "output_type": "execute_result"
    },
    {
     "data": {
      "image/png": "[encoded data removed]",
      "text/plain": [
       "<Figure size 1008x720 with 1 Axes>"
      ]
     },
     "metadata": {
      "needs_background": "light"
     },
     "output_type": "display_data"
    }
   ],
   "source": [
    "fig, ax = plt.subplots(figsize=(14,10))\n",
    "ax.hist(x=Meth_data['LA'].isna().sum(axis=0).values, bins=40, color=['red'], stacked=True, label='LA', alpha=0.5)\n",
    "ax.hist(x=Meth_data['LSCC'].isna().sum(axis=0).values, bins=40, color=['green'], stacked=True, label='LSCC', \n",
    "            alpha=0.5)\n",
    "\n",
    "plt.legend()\n",
    "plt.title(\"# NaN's per sample, distribution\")\n",
    "plt.xlabel('#probes with NaNs')\n",
    "plt.ylabel('# affected samples')"
   ]
  },
  {
   "cell_type": "code",
   "execution_count": 20,
   "metadata": {},
   "outputs": [
    {
     "data": {
      "text/plain": [
       "Text(0, 0.5, '# affected probes')"
      ]
     },
     "execution_count": 20,
     "metadata": {},
     "output_type": "execute_result"
    },
    {
     "data": {
      "image/png": "[encoded data removed]",
      "text/plain": [
       "<Figure size 1008x720 with 1 Axes>"
      ]
     },
     "metadata": {
      "needs_background": "light"
     },
     "output_type": "display_data"
    }
   ],
   "source": [
    "fig, ax = plt.subplots(figsize=(14,10))\n",
    "ax.hist(x=Meth_data['LA'].isna().sum(axis=1).values, bins=40, color=['red'], stacked=True, label='LA', alpha=0.5)\n",
    "ax.hist(x=Meth_data['LSCC'].isna().sum(axis=1).values, bins=40, color=['green'], stacked=True, label='LSCC', alpha=0.5)\n",
    "plt.legend()\n",
    "plt.title(\"# NaN's per probe, distribution\")\n",
    "plt.xlabel('#samples with NaNs')\n",
    "plt.ylabel('# affected probes')"
   ]
  },
  {
   "cell_type": "markdown",
   "metadata": {},
   "source": [
    "** I.e. About 130 samples exclusively have NaN's ** \n",
    "\n",
    "** I.e. practically all of the samples of the Adenocarcinoma and Squamous Cell carcinoma sets have about 80.000 probes with NaN's ** "
   ]
  },
  {
   "cell_type": "code",
   "execution_count": 21,
   "metadata": {},
   "outputs": [
    {
     "data": {
      "text/plain": [
       "15"
      ]
     },
     "execution_count": 21,
     "metadata": {},
     "output_type": "execute_result"
    }
   ],
   "source": [
    "del Meth_data_T\n",
    "gc.collect()"
   ]
  },
  {
   "cell_type": "code",
   "execution_count": 22,
   "metadata": {},
   "outputs": [
    {
     "ename": "TypeError",
     "evalue": "_dim_reduction() got an unexpected keyword argument 'min_samples'",
     "output_type": "error",
     "traceback": [
      "\u001b[0;31m---------------------------------------------------------------------------\u001b[0m",
      "\u001b[0;31mTypeError\u001b[0m                                 Traceback (most recent call last)",
      "\u001b[0;32m<ipython-input-22-eaafc1450d67>\u001b[0m in \u001b[0;36m<module>\u001b[0;34m\u001b[0m\n\u001b[1;32m      1\u001b[0m \u001b[0mgc\u001b[0m\u001b[0;34m.\u001b[0m\u001b[0mcollect\u001b[0m\u001b[0;34m(\u001b[0m\u001b[0;34m)\u001b[0m\u001b[0;34m\u001b[0m\u001b[0;34m\u001b[0m\u001b[0m\n\u001b[1;32m      2\u001b[0m \u001b[0mdata_reduced\u001b[0m \u001b[0;34m=\u001b[0m \u001b[0;34m{\u001b[0m\u001b[0;34m}\u001b[0m\u001b[0;34m\u001b[0m\u001b[0;34m\u001b[0m\u001b[0m\n\u001b[0;32m----> 3\u001b[0;31m \u001b[0mdata_reduced\u001b[0m\u001b[0;34m[\u001b[0m\u001b[0;34m'LA'\u001b[0m\u001b[0;34m]\u001b[0m \u001b[0;34m=\u001b[0m \u001b[0m_dim_reduction\u001b[0m\u001b[0;34m(\u001b[0m\u001b[0m_cleaned_LA\u001b[0m\u001b[0;34m,\u001b[0m \u001b[0mmin_samples\u001b[0m\u001b[0;34m=\u001b[0m\u001b[0;36m10\u001b[0m\u001b[0;34m,\u001b[0m \u001b[0mn_comp\u001b[0m\u001b[0;34m=\u001b[0m\u001b[0;36m50\u001b[0m\u001b[0;34m,\u001b[0m \u001b[0mmethod\u001b[0m\u001b[0;34m=\u001b[0m\u001b[0;34m'PCA'\u001b[0m\u001b[0;34m,\u001b[0m \u001b[0mpc_solver\u001b[0m\u001b[0;34m=\u001b[0m\u001b[0;34m'arpack'\u001b[0m\u001b[0;34m)\u001b[0m\u001b[0;34m\u001b[0m\u001b[0;34m\u001b[0m\u001b[0m\n\u001b[0m\u001b[1;32m      4\u001b[0m \u001b[0mdata_reduced\u001b[0m\u001b[0;34m[\u001b[0m\u001b[0;34m'LSCC'\u001b[0m\u001b[0;34m]\u001b[0m \u001b[0;34m=\u001b[0m \u001b[0m_dim_reduction\u001b[0m\u001b[0;34m(\u001b[0m\u001b[0m_cleaned_LSCC\u001b[0m\u001b[0;34m,\u001b[0m \u001b[0mmin_samples\u001b[0m\u001b[0;34m=\u001b[0m\u001b[0;36m10\u001b[0m\u001b[0;34m,\u001b[0m \u001b[0mn_comp\u001b[0m\u001b[0;34m=\u001b[0m\u001b[0;36m50\u001b[0m\u001b[0;34m,\u001b[0m \u001b[0mmethod\u001b[0m\u001b[0;34m=\u001b[0m\u001b[0;34m'PCA'\u001b[0m\u001b[0;34m,\u001b[0m \u001b[0mpc_solver\u001b[0m\u001b[0;34m=\u001b[0m\u001b[0;34m'arpack'\u001b[0m\u001b[0;34m)\u001b[0m\u001b[0;34m\u001b[0m\u001b[0;34m\u001b[0m\u001b[0m\n",
      "\u001b[0;31mTypeError\u001b[0m: _dim_reduction() got an unexpected keyword argument 'min_samples'"
     ]
    }
   ],
   "source": [
    "gc.collect()\n",
    "data_reduced = {}\n",
    "data_reduced['LA'] = _dim_reduction(_cleaned_LA, min_samples=10, n_comp=50, method='PCA', pc_solver='arpack')\n",
    "data_reduced['LSCC'] = _dim_reduction(_cleaned_LSCC, min_samples=10, n_comp=50, method='PCA', pc_solver='arpack')"
   ]
  },
  {
   "cell_type": "code",
   "execution_count": null,
   "metadata": {},
   "outputs": [],
   "source": [
    "data_reduced['ALL'] = _dim_reduction(_cleaned_ALL, min_samples=10, n_comp=50, method='PCA', pc_solver='arpack')"
   ]
  },
  {
   "cell_type": "code",
   "execution_count": null,
   "metadata": {},
   "outputs": [],
   "source": [
    "fig, ax = plt.subplots(figsize=(14,10))\n",
    "for _key in data_reduced.keys():\n",
    "    plt.plot(data_reduced[_key]['ALL']['reducer'].explained_variance_ratio_, label=_key)\n",
    "    plt.semilogy()\n",
    "    plt.ylabel('Variance explained ratio')\n",
    "    plt.legend()"
   ]
  },
  {
   "cell_type": "code",
   "execution_count": null,
   "metadata": {},
   "outputs": [],
   "source": [
    "fig, ax = plt.subplots(figsize=(14,10))\n",
    "plt.hist(data_reduced['LA']['ALL']['reducer'].components_[0], bins=50, histtype='step', label='LA');\n",
    "plt.hist(data_reduced['LSCC']['ALL']['reducer'].components_[0], bins=50, histtype='step', label='LSCC');\n",
    "plt.hist(data_reduced['ALL']['ALL']['reducer'].components_[0], bins=50, histtype='step', label='ALL');\n",
    "plt.legend()"
   ]
  },
  {
   "cell_type": "code",
   "execution_count": null,
   "metadata": {},
   "outputs": [],
   "source": [
    "_filter= (data_reduced['ALL']['ALL']['reducer'].components_[0]>0.001) | \\\n",
    "         (data_reduced['ALL']['ALL']['reducer'].components_[0]<-0.004)\n",
    "pca_0_idx = np.argwhere(_filter)\n",
    "Genes = _cleaned_ALL.columns[pca_0_idx]\n",
    "print(\"Important genes are for the first principal component: \\n {}\".format(Genes))"
   ]
  },
  {
   "cell_type": "code",
   "execution_count": null,
   "metadata": {},
   "outputs": [],
   "source": [
    "# top 100 probes\n",
    "N = 10\n",
    "top_N_pc0 = np.argsort(np.abs(data_reduced['ALL']['ALL']['reducer'].components_[0]))[-N:]\n",
    "top_N_pc1 = np.argsort(np.abs(data_reduced['ALL']['ALL']['reducer'].components_[1]))[-N:]\n",
    "top_N_pc2 = np.argsort(np.abs(data_reduced['ALL']['ALL']['reducer'].components_[2]))[-N:]\n",
    "Top_N_Probes_PC0 = _cleaned_ALL.columns[top_N_pc0]\n",
    "Top_N_Probes_PC1 = _cleaned_ALL.columns[top_N_pc1]\n",
    "Top_N_Probes_PC2 = _cleaned_ALL.columns[top_N_pc2]"
   ]
  },
  {
   "cell_type": "code",
   "execution_count": 23,
   "metadata": {},
   "outputs": [
    {
     "data": {
      "text/plain": [
       "35"
      ]
     },
     "execution_count": 23,
     "metadata": {},
     "output_type": "execute_result"
    }
   ],
   "source": [
    "tmp = _cleaned_ALL.merge(pheno[~pheno.index.duplicated()]['Diagnosis'], how='left', left_index=True, right_index=True)\n",
    "y = tmp.Diagnosis.apply(lambda x: 0 if x=='Lung Adenocarcinoma' else 1).values\n",
    "x = tmp.drop('Diagnosis', axis=1)\n",
    "del tmp\n",
    "gc.collect()"
   ]
  },
  {
   "cell_type": "code",
   "execution_count": 24,
   "metadata": {},
   "outputs": [
    {
     "name": "stdout",
     "output_type": "stream",
     "text": [
      "Running reducer on all samples..\n"
     ]
    },
    {
     "name": "stderr",
     "output_type": "stream",
     "text": [
      "/usr/local/lib/python3.6/dist-packages/sklearn/discriminant_analysis.py:388: UserWarning: Variables are collinear.\n",
      "  warnings.warn(\"Variables are collinear.\")\n"
     ]
    }
   ],
   "source": [
    "ALL_LDA = _dim_reduction(x, y, n_comp=1, method='LDA')"
   ]
  },
  {
   "cell_type": "code",
   "execution_count": 25,
   "metadata": {},
   "outputs": [],
   "source": [
    "N = 500 \n",
    "top_N_lda = np.argsort(ALL_LDA['ALL']['reducer'].coef_)[0][-N:]\n",
    "Top_N_Probes_LDA = _cleaned_ALL.columns[top_N_lda]"
   ]
  },
  {
   "cell_type": "code",
   "execution_count": 26,
   "metadata": {},
   "outputs": [],
   "source": [
    "LDA_scores = pd.DataFrame(data=ALL_LDA['ALL']['reducer'].coef_.reshape([-1,1]), \n",
    "                          index=_cleaned_ALL.columns, \n",
    "                          columns=['LDA_score'])"
   ]
  },
  {
   "cell_type": "code",
   "execution_count": 27,
   "metadata": {},
   "outputs": [
    {
     "ename": "NameError",
     "evalue": "name 'Top_N_Probes_PC0' is not defined",
     "output_type": "error",
     "traceback": [
      "\u001b[0;31m---------------------------------------------------------------------------\u001b[0m",
      "\u001b[0;31mNameError\u001b[0m                                 Traceback (most recent call last)",
      "\u001b[0;32m<ipython-input-27-61eda8631052>\u001b[0m in \u001b[0;36m<module>\u001b[0;34m\u001b[0m\n\u001b[1;32m      1\u001b[0m \u001b[0mGeneCount\u001b[0m \u001b[0;34m=\u001b[0m \u001b[0mpd\u001b[0m\u001b[0;34m.\u001b[0m\u001b[0mDataFrame\u001b[0m\u001b[0;34m(\u001b[0m\u001b[0mGeneMapping\u001b[0m\u001b[0;34m.\u001b[0m\u001b[0mgroupby\u001b[0m\u001b[0;34m(\u001b[0m\u001b[0;34m'Gene'\u001b[0m\u001b[0;34m)\u001b[0m\u001b[0;34m.\u001b[0m\u001b[0msize\u001b[0m\u001b[0;34m(\u001b[0m\u001b[0;34m)\u001b[0m\u001b[0;34m.\u001b[0m\u001b[0msort_values\u001b[0m\u001b[0;34m(\u001b[0m\u001b[0mascending\u001b[0m\u001b[0;34m=\u001b[0m\u001b[0;32mFalse\u001b[0m\u001b[0;34m)\u001b[0m\u001b[0;34m,\u001b[0m \u001b[0mcolumns\u001b[0m\u001b[0;34m=\u001b[0m\u001b[0;34m[\u001b[0m\u001b[0;34m'tot_count'\u001b[0m\u001b[0;34m]\u001b[0m\u001b[0;34m)\u001b[0m\u001b[0;34m\u001b[0m\u001b[0;34m\u001b[0m\u001b[0m\n\u001b[0;32m----> 2\u001b[0;31m GeneOccurrencePC0 = pd.DataFrame(GeneMapping.loc[Top_N_Probes_PC0,:].groupby('Gene').size().sort_values(ascending=False),\n\u001b[0m\u001b[1;32m      3\u001b[0m                               columns=['occurrence_pc0'])\n\u001b[1;32m      4\u001b[0m GeneOccurrencePC1 = pd.DataFrame(GeneMapping.loc[Top_N_Probes_PC1,:].groupby('Gene').size().sort_values(ascending=False),\n\u001b[1;32m      5\u001b[0m                               columns=['occurrence_pc1'])\n",
      "\u001b[0;31mNameError\u001b[0m: name 'Top_N_Probes_PC0' is not defined"
     ]
    }
   ],
   "source": [
    "GeneCount = pd.DataFrame(GeneMapping.groupby('Gene').size().sort_values(ascending=False), columns=['tot_count'])\n",
    "GeneOccurrencePC0 = pd.DataFrame(GeneMapping.loc[Top_N_Probes_PC0,:].groupby('Gene').size().sort_values(ascending=False),\n",
    "                              columns=['occurrence_pc0'])\n",
    "GeneOccurrencePC1 = pd.DataFrame(GeneMapping.loc[Top_N_Probes_PC1,:].groupby('Gene').size().sort_values(ascending=False),\n",
    "                              columns=['occurrence_pc1'])\n",
    "GeneOccurrencePC2 = pd.DataFrame(GeneMapping.loc[Top_N_Probes_PC2,:].groupby('Gene').size().sort_values(ascending=False),\n",
    "                              columns=['occurrence_pc2'])\n",
    "GeneOccurrenceLDA = pd.DataFrame(GeneMapping.loc[Top_N_Probes_LDA,:].groupby('Gene').size().sort_values(ascending=False),\n",
    "                              columns=['occurrence_lda'])\n",
    "GeneOccurrence = pd.concat([GeneOccurrencePC0, GeneOccurrencePC1, GeneOccurrencePC2, GeneOccurrenceLDA], \n",
    "                           axis=1)\n",
    "GeneOccurrence['tot_count'] = GeneOccurrence.apply(lambda x: np.sum(x), axis=1).sort_values(ascending=False)"
   ]
  },
  {
   "cell_type": "code",
   "execution_count": null,
   "metadata": {},
   "outputs": [],
   "source": [
    "pheno.columns"
   ]
  },
  {
   "cell_type": "code",
   "execution_count": null,
   "metadata": {},
   "outputs": [],
   "source": [
    "# Clustering of cohorts\n",
    "data_reduced['LA']['ALL']['data'] = data_reduced['LA']['ALL']['data'][~data_reduced['LA']['ALL']['data'].index.duplicated(keep='first')]\n",
    "data_reduced['LSCC']['ALL']['data'] = data_reduced['LSCC']['ALL']['data'][~data_reduced['LSCC']['ALL']['data'].index.duplicated(keep='first')]\n",
    "\n",
    "merged_LA_reduced = data_reduced['LA']['ALL']['data'].merge(pheno, how='left', left_index=True, right_index=True)\n",
    "merged_LSCC_reduced = data_reduced['LSCC']['ALL']['data'].merge(pheno, how='left', left_index=True, right_index=True)"
   ]
  },
  {
   "cell_type": "code",
   "execution_count": null,
   "metadata": {},
   "outputs": [],
   "source": [
    "red_cols = [_col for _col in merged_LA_reduced.columns if 'red_' in _col]\n",
    "red_cols += ['batch_number'] \n",
    "plot_LA = merged_LA_reduced[red_cols].groupby('batch_number').mean()\n",
    "\n",
    "red_cols = [_col for _col in merged_LA_reduced.columns if 'red_' in _col]\n",
    "red_cols += ['batch_number'] \n",
    "plot_LSCC = merged_LSCC_reduced[red_cols].groupby('batch_number').mean()\n",
    "\n",
    "fig, ax = plt.subplots(ncols=2, nrows=2, figsize=(14,14))\n",
    "sns.scatterplot(data=plot_LA, x='red_0', y='red_1', s=160, label='LA', ax=ax[0,0])\n",
    "sns.scatterplot(data=plot_LSCC, x='red_0', y='red_1', s=160, label='LSCC', ax=ax[0,0])\n",
    "ax[0,0].set_xlabel('PC 0')\n",
    "ax[0,0].set_ylabel('PC 1')\n",
    "ax[0,0].legend()\n",
    "ax[0,0].axvline(0, color='black')\n",
    "ax[0,0].axhline(0, color='black')\n",
    "\n",
    "sns.scatterplot(data=plot_LA, x='red_1', y='red_2', s=160, ax=ax[0,1])\n",
    "sns.scatterplot(data=plot_LSCC, x='red_1', y='red_2', s=160, ax=ax[0,1])\n",
    "ax[0,1].set_xlabel('PC 1')\n",
    "ax[0,1].set_ylabel('PC 2')\n",
    "ax[0,1].axvline(0, color='black')\n",
    "ax[0,1].axhline(0, color='black')\n",
    "\n",
    "sns.scatterplot(data=plot_LA, x='red_2', y='red_3', s=160, ax=ax[1,0])\n",
    "sns.scatterplot(data=plot_LSCC, x='red_2', y='red_3', s=160, ax=ax[1,0])\n",
    "ax[1,0].set_xlabel('PC 2')\n",
    "ax[1,0].set_ylabel('PC 3')\n",
    "ax[1,0].axvline(0, color='black')\n",
    "ax[1,0].axhline(0, color='black')\n",
    "\n",
    "sns.scatterplot(data=plot_LA, x='red_3', y='red_4', s=160, ax=ax[1,1])\n",
    "sns.scatterplot(data=plot_LSCC, x='red_3', y='red_4', s=160, ax=ax[1,1])\n",
    "ax[1,1].set_xlabel('PC 3')\n",
    "ax[1,1].set_ylabel('PC 4')\n",
    "ax[1,1].axvline(0, color='black')\n",
    "ax[1,1].axhline(0, color='black')\n",
    "\n",
    "\n",
    "plt.suptitle('Mean methylation PC values per cohort')"
   ]
  },
  {
   "cell_type": "markdown",
   "metadata": {},
   "source": [
    "The cohort means for the first principle components are distributed around the origin, so assuming an equal sample contribution per cohort the overall \n",
    "effect is likely diffuse.\n"
   ]
  },
  {
   "cell_type": "markdown",
   "metadata": {},
   "source": [
    "# Batch seperability"
   ]
  },
  {
   "cell_type": "code",
   "execution_count": null,
   "metadata": {},
   "outputs": [],
   "source": [
    "data_reduced['LA']['ALL']['data'] = merged_LA_reduced\n",
    "data_reduced['LSCC']['ALL']['data'] = merged_LSCC_reduced"
   ]
  },
  {
   "cell_type": "code",
   "execution_count": null,
   "metadata": {},
   "outputs": [],
   "source": [
    "num_test_batches = 15\n",
    "test_batches = {}\n",
    "\n",
    "num_of_batches=data_reduced['LA']['ALL']['data']['batch_number'].nunique()\n",
    "batches = data_reduced['LA']['ALL']['data']['batch_number'].unique()\n",
    "batch_indices = sample(range(0, num_of_batches), num_test_batches)\n",
    "test_batches['LA'] = batches[batch_indices].tolist()\n",
    "\n",
    "num_of_batches=data_reduced['LSCC']['ALL']['data']['batch_number'].nunique()\n",
    "batches = data_reduced['LSCC']['ALL']['data']['batch_number'].unique()\n",
    "batch_indices = sample(range(0, num_of_batches), num_test_batches)\n",
    "test_batches['LSCC'] = batches[batch_indices].tolist()\n",
    "\n",
    "axc = 0 # 0: distribution of the mean probe values over the samples, 1: mean sample values over the probes\n",
    "xr = -20, 20\n",
    "fig, ax = plt.subplots(ncols=2, figsize=(14,10))\n",
    "for rdx, _dkey in enumerate(data_reduced.keys()):   \n",
    "    print(\"Processing ds: {}\".format(_dkey))\n",
    "    for cdx, _batch in enumerate(test_batches[_dkey]):\n",
    "        #print('Batch: {}'.format(_batch))\n",
    "        Red_columns = [_col for _col in data_reduced[_dkey]['ALL']['data'].columns if 'red_' in _col]\n",
    "        data_reduced[_dkey]['ALL']['data'].query('batch_number==\"'+str(_batch)+'\"').loc[:,Red_columns]\\\n",
    "                                                                     .median(axis=axc).plot.kde(label=_batch, \n",
    "                                                                                              ax=ax[rdx])            \n",
    "    \n",
    "    data_reduced[_dkey]['ALL']['data'].loc[:,Red_columns].median(axis=0).plot.kde(label='ALL', color='black', ax=ax[rdx])\n",
    "    ax[rdx].set_xlim(xr[0], xr[1])\n",
    "    ax[rdx].set_title(_dkey)\n",
    "    ax[rdx].legend()\n",
    "    fig.suptitle('Median of the principle components over the samples, per cohort')"
   ]
  },
  {
   "cell_type": "code",
   "execution_count": null,
   "metadata": {},
   "outputs": [],
   "source": [
    "cols = Red_columns+['batch_number']\n",
    "data_reduced['LA']['ALL']['data'].loc[:,cols].groupby('batch_number').mean().mean(axis=1).plot.hist(histtype='step', label='LA', figsize=(10,7))\n",
    "data_reduced['LSCC']['ALL']['data'].loc[:,cols].groupby('batch_number').mean().mean(axis=1).plot.hist(histtype='step', label='LSCC')"
   ]
  },
  {
   "cell_type": "code",
   "execution_count": null,
   "metadata": {},
   "outputs": [],
   "source": [
    "# Wasserstein distance internal: distance between samples and median of samples\n",
    "#w1_dist(vi, vm)\n",
    "#w2_dist(vi, vm)\n",
    "\n",
    "# Wasserstein distance external: distance between median of samples and mean of median of cohorts\n",
    "#w1_dist(vm, vmm)\n",
    "#w2_dist(vm, vmm)"
   ]
  },
  {
   "cell_type": "markdown",
   "metadata": {},
   "source": [
    "# Differential methylation between LA and LSCC\n"
   ]
  },
  {
   "cell_type": "code",
   "execution_count": 29,
   "metadata": {},
   "outputs": [
    {
     "data": {
      "text/plain": [
       "42"
      ]
     },
     "execution_count": 29,
     "metadata": {},
     "output_type": "execute_result"
    }
   ],
   "source": [
    "# KS, MW-U, FDR\n",
    "gc.collect()\n",
    "tmp = _cleaned_ALL.merge(pheno[~pheno.index.duplicated()]['Diagnosis'], how='left', left_index=True, right_index=True)\n",
    "y = tmp.Diagnosis.apply(lambda x: 0 if x=='Lung Adenocarcinoma' else 1).values\n",
    "x = tmp.drop('Diagnosis', axis=1)\n",
    "del tmp \n",
    "gc.collect()"
   ]
  },
  {
   "cell_type": "code",
   "execution_count": 30,
   "metadata": {},
   "outputs": [],
   "source": [
    "probes_diffs = {}\n",
    "probes_diffs['FDR'] = get_differential_probes(x, y, method='FDR', alpha=0.05) # FDR, FPR, KS, MWU"
   ]
  },
  {
   "cell_type": "code",
   "execution_count": 31,
   "metadata": {},
   "outputs": [],
   "source": [
    "probes_diffs['MWU'] = get_differential_probes(x, y, method='MWU', alpha=0.05) # FDR, FPR, KS, MWU"
   ]
  },
  {
   "cell_type": "code",
   "execution_count": 32,
   "metadata": {},
   "outputs": [],
   "source": [
    "probes_diffs['KS'] = get_differential_probes(x, y, method='KS', alpha=0.05, mode='exact') # FDR, FPR, KS, MWU"
   ]
  },
  {
   "cell_type": "code",
   "execution_count": 33,
   "metadata": {},
   "outputs": [],
   "source": [
    "#probes_diffs['AD'] = get_differential_probes(x, y, method='AD', alpha=0.05) # FDR, FPR, KS, MW"
   ]
  },
  {
   "cell_type": "code",
   "execution_count": 34,
   "metadata": {},
   "outputs": [],
   "source": [
    "probes_diffs['WASS1'] = get_differential_probes(x, y, method='WASS1') \n"
   ]
  },
  {
   "cell_type": "code",
   "execution_count": 35,
   "metadata": {},
   "outputs": [],
   "source": [
    "probes_diffs['WASS2'] = get_differential_probes(x, y, method='WASS2') "
   ]
  },
  {
   "cell_type": "code",
   "execution_count": 36,
   "metadata": {},
   "outputs": [
    {
     "ename": "AttributeError",
     "evalue": "'DataFrame' object has no attribute 'score'",
     "output_type": "error",
     "traceback": [
      "\u001b[0;31m---------------------------------------------------------------------------\u001b[0m",
      "\u001b[0;31mAttributeError\u001b[0m                            Traceback (most recent call last)",
      "\u001b[0;32m<ipython-input-36-4cb08b760da0>\u001b[0m in \u001b[0;36m<module>\u001b[0;34m\u001b[0m\n\u001b[1;32m      1\u001b[0m \u001b[0mtop_probes\u001b[0m \u001b[0;34m=\u001b[0m \u001b[0;34m{\u001b[0m\u001b[0;34m}\u001b[0m\u001b[0;34m\u001b[0m\u001b[0;34m\u001b[0m\u001b[0m\n\u001b[1;32m      2\u001b[0m \u001b[0;32mfor\u001b[0m \u001b[0m_key\u001b[0m \u001b[0;32min\u001b[0m \u001b[0mprobes_diffs\u001b[0m\u001b[0;34m.\u001b[0m\u001b[0mkeys\u001b[0m\u001b[0;34m(\u001b[0m\u001b[0;34m)\u001b[0m\u001b[0;34m:\u001b[0m\u001b[0;34m\u001b[0m\u001b[0;34m\u001b[0m\u001b[0m\n\u001b[0;32m----> 3\u001b[0;31m     \u001b[0mq\u001b[0m\u001b[0;34m=\u001b[0m\u001b[0mprobes_diffs\u001b[0m\u001b[0;34m[\u001b[0m\u001b[0m_key\u001b[0m\u001b[0;34m]\u001b[0m\u001b[0;34m.\u001b[0m\u001b[0mscore\u001b[0m\u001b[0;34m.\u001b[0m\u001b[0mquantile\u001b[0m\u001b[0;34m(\u001b[0m\u001b[0;36m0.95\u001b[0m\u001b[0;34m)\u001b[0m\u001b[0;34m\u001b[0m\u001b[0;34m\u001b[0m\u001b[0m\n\u001b[0m\u001b[1;32m      4\u001b[0m     \u001b[0mprobes_diffs\u001b[0m\u001b[0;34m[\u001b[0m\u001b[0m_key\u001b[0m\u001b[0;34m]\u001b[0m\u001b[0;34m[\u001b[0m\u001b[0;34m'score'\u001b[0m\u001b[0;34m]\u001b[0m \u001b[0;34m=\u001b[0m  \u001b[0mprobes_diffs\u001b[0m\u001b[0;34m[\u001b[0m\u001b[0m_key\u001b[0m\u001b[0;34m]\u001b[0m\u001b[0;34m[\u001b[0m\u001b[0;34m'score'\u001b[0m\u001b[0;34m]\u001b[0m\u001b[0;34m.\u001b[0m\u001b[0mabs\u001b[0m\u001b[0;34m(\u001b[0m\u001b[0;34m)\u001b[0m\u001b[0;34m\u001b[0m\u001b[0;34m\u001b[0m\u001b[0m\n\u001b[1;32m      5\u001b[0m     \u001b[0mtop_probes\u001b[0m\u001b[0;34m[\u001b[0m\u001b[0m_key\u001b[0m\u001b[0;34m]\u001b[0m \u001b[0;34m=\u001b[0m \u001b[0mprobes_diffs\u001b[0m\u001b[0;34m[\u001b[0m\u001b[0m_key\u001b[0m\u001b[0;34m]\u001b[0m\u001b[0;34m.\u001b[0m\u001b[0mquery\u001b[0m\u001b[0;34m(\u001b[0m\u001b[0;34m\"score>\"\u001b[0m\u001b[0;34m+\u001b[0m\u001b[0mstr\u001b[0m\u001b[0;34m(\u001b[0m\u001b[0mq\u001b[0m\u001b[0;34m)\u001b[0m\u001b[0;34m)\u001b[0m\u001b[0;34m.\u001b[0m\u001b[0msort_values\u001b[0m\u001b[0;34m(\u001b[0m\u001b[0;34m'score'\u001b[0m\u001b[0;34m,\u001b[0m \u001b[0mascending\u001b[0m\u001b[0;34m=\u001b[0m\u001b[0;32mFalse\u001b[0m\u001b[0;34m)\u001b[0m\u001b[0;34m\u001b[0m\u001b[0;34m\u001b[0m\u001b[0m\n",
      "\u001b[0;32m/usr/local/lib/python3.6/dist-packages/pandas/core/generic.py\u001b[0m in \u001b[0;36m__getattr__\u001b[0;34m(self, name)\u001b[0m\n\u001b[1;32m   5055\u001b[0m             \u001b[0;32mif\u001b[0m \u001b[0mself\u001b[0m\u001b[0;34m.\u001b[0m\u001b[0m_info_axis\u001b[0m\u001b[0;34m.\u001b[0m\u001b[0m_can_hold_identifiers_and_holds_name\u001b[0m\u001b[0;34m(\u001b[0m\u001b[0mname\u001b[0m\u001b[0;34m)\u001b[0m\u001b[0;34m:\u001b[0m\u001b[0;34m\u001b[0m\u001b[0;34m\u001b[0m\u001b[0m\n\u001b[1;32m   5056\u001b[0m                 \u001b[0;32mreturn\u001b[0m \u001b[0mself\u001b[0m\u001b[0;34m[\u001b[0m\u001b[0mname\u001b[0m\u001b[0;34m]\u001b[0m\u001b[0;34m\u001b[0m\u001b[0;34m\u001b[0m\u001b[0m\n\u001b[0;32m-> 5057\u001b[0;31m             \u001b[0;32mreturn\u001b[0m \u001b[0mobject\u001b[0m\u001b[0;34m.\u001b[0m\u001b[0m__getattribute__\u001b[0m\u001b[0;34m(\u001b[0m\u001b[0mself\u001b[0m\u001b[0;34m,\u001b[0m \u001b[0mname\u001b[0m\u001b[0;34m)\u001b[0m\u001b[0;34m\u001b[0m\u001b[0;34m\u001b[0m\u001b[0m\n\u001b[0m\u001b[1;32m   5058\u001b[0m \u001b[0;34m\u001b[0m\u001b[0m\n\u001b[1;32m   5059\u001b[0m     \u001b[0;32mdef\u001b[0m \u001b[0m__setattr__\u001b[0m\u001b[0;34m(\u001b[0m\u001b[0mself\u001b[0m\u001b[0;34m,\u001b[0m \u001b[0mname\u001b[0m\u001b[0;34m,\u001b[0m \u001b[0mvalue\u001b[0m\u001b[0;34m)\u001b[0m\u001b[0;34m:\u001b[0m\u001b[0;34m\u001b[0m\u001b[0;34m\u001b[0m\u001b[0m\n",
      "\u001b[0;31mAttributeError\u001b[0m: 'DataFrame' object has no attribute 'score'"
     ]
    }
   ],
   "source": [
    "top_probes = {}\n",
    "for _key in probes_diffs.keys():    \n",
    "    q=probes_diffs[_key].score.quantile(0.95)\n",
    "    probes_diffs[_key]['score'] =  probes_diffs[_key]['score'].abs()\n",
    "    top_probes[_key] = probes_diffs[_key].query(\"score>\"+str(q)).sort_values('score', ascending=False)\n",
    "    top_probes[_key] = top_probes[_key].copy().merge(GeneMapping, left_index=True, right_index=True, how='left')"
   ]
  },
  {
   "cell_type": "code",
   "execution_count": null,
   "metadata": {},
   "outputs": [],
   "source": [
    "#top_probes[_key].loc[top_probes[_key].Gene.isin(['BRAF', 'MAP2K1', 'KRAS', 'MET', 'RET', 'ROS1', 'EGFR', 'TP53']),:]\n",
    "#top_probes[_key].loc[top_probes[_key].Gene.isin(['KRT5', 'DSC3', 'DSG3', 'TP63', 'MIR205HG', 'CALML3']),:]"
   ]
  },
  {
   "cell_type": "markdown",
   "metadata": {},
   "source": [
    "FDR/FPR: \n",
    "```BRAF```, ```MAP2K1``` are present which were not differentially expressed in RNA, but not ```KRT5```, ```DSC3```, ```DSG3```, ```TP63```, ```MIR205HG```, ```CALML3``` which **were** strongly differential for the RNA expression.\n",
    "Other genes we might expect are: ```KRAS```, ```MET```, ```RET```, ```ROS1```, ```EGFR```, ```TP53```. \n",
    "\n",
    "MWU: Only ```MAP2K1``` is present.\n",
    "\n",
    "KS: ```MAP2K1``` of the important general cancer genes.  ```CALML3``` and ```TP63``` of the differential RNA expression genes."
   ]
  },
  {
   "cell_type": "code",
   "execution_count": null,
   "metadata": {},
   "outputs": [],
   "source": [
    "#fig, ax = plt.subplots(figsize=(16,10), ncols=3)\n",
    "for idx, _key in enumerate(probes_diffs.keys()):\n",
    "    if _key in['AD', 'WASS1', 'WASS2']:\n",
    "        break\n",
    "    sns.jointplot(x='pvals', y='score', data=probes_diffs[_key], alpha=0.1)\n",
    "    plt.title(_key)"
   ]
  },
  {
   "cell_type": "markdown",
   "metadata": {},
   "source": [
    "# Get fold change"
   ]
  },
  {
   "cell_type": "code",
   "execution_count": 37,
   "metadata": {},
   "outputs": [],
   "source": [
    "fc_set = _cleaned_ALL.merge(pheno[~pheno.index.duplicated()]['Diagnosis'], how='left', left_index=True, right_index=True)\n",
    "fc_set['target'] = fc_set.Diagnosis.apply(lambda x: 0 if x=='Lung Adenocarcinoma' else 1)\n",
    "fc_set.drop('Diagnosis', axis=1, inplace=True)"
   ]
  },
  {
   "cell_type": "code",
   "execution_count": 38,
   "metadata": {},
   "outputs": [],
   "source": [
    "abs_fc = (fc_set.query('target==1').mean(axis=0) - fc_set.query('target==0').mean(axis=0))\n",
    "rel_fc = (fc_set.query('target==1').mean(axis=0) - fc_set.query('target==0').mean(axis=0))/fc_set.query('target==0').mean(axis=0)\n",
    "abs_fc_median = (fc_set.query('target==1').median(axis=0) - fc_set.query('target==0').median(axis=0))\n",
    "split_fc = (fc_set.query('target==1').median(axis=0)+fc_set.query('target==0').median(axis=0))/2"
   ]
  },
  {
   "cell_type": "code",
   "execution_count": 39,
   "metadata": {},
   "outputs": [],
   "source": [
    "abs_fc_df = pd.DataFrame(abs_fc, columns=['abs_fc'])\n",
    "rel_fc_df = pd.DataFrame(rel_fc, columns=['rel_fc'])\n",
    "abs_fc_median_df = pd.DataFrame(abs_fc_median, columns=['abs_fc_median'])\n",
    "split_fc_df = pd.DataFrame(split_fc, columns=['split_fc'])"
   ]
  },
  {
   "cell_type": "code",
   "execution_count": 40,
   "metadata": {},
   "outputs": [],
   "source": [
    "fc = pd.concat([abs_fc_df, rel_fc_df, abs_fc_median_df, split_fc_df], axis=1)\n",
    "fc.drop('target', axis=0, inplace=True)"
   ]
  },
  {
   "cell_type": "code",
   "execution_count": null,
   "metadata": {},
   "outputs": [],
   "source": [
    "top_fc = pd.concat([fc.sort_values(by='rel_fc', ascending=False)[:2500],\n",
    "           fc.sort_values(by='rel_fc', ascending=True)[:2500]],\n",
    "          axis=0)\n",
    "top_fc = top_fc.copy().merge(GeneMapping, left_index=True, right_index=True, how='left')"
   ]
  },
  {
   "cell_type": "code",
   "execution_count": null,
   "metadata": {},
   "outputs": [],
   "source": [
    "# top cancer genomes (RNA expression)\n",
    "top_fc.loc[top_fc.Gene.isin(['BRAF', 'MAP2K1', 'KRAS', 'MET', 'RET', 'ROS1', 'EGFR', 'TP53']),:]"
   ]
  },
  {
   "cell_type": "code",
   "execution_count": null,
   "metadata": {},
   "outputs": [],
   "source": [
    "# top differentials (RNA expression)\n",
    "top_fc.loc[top_fc.Gene.isin(['KRT5', 'DSC3', 'DSG3', 'TP63', 'MIR205HG', 'CALML3']),:]"
   ]
  },
  {
   "cell_type": "markdown",
   "metadata": {},
   "source": [
    "Of the differentially expressed RNA only ```DSC3``` and ```MIR205HG``` are present in the top 5000 of fold-changes.\n",
    "Of the important cancer genes only ```RET``` and ```KRAS``` is present."
   ]
  },
  {
   "cell_type": "code",
   "execution_count": null,
   "metadata": {},
   "outputs": [],
   "source": [
    "top_genes_from_meth = ['ARHGEF16', 'AKR7A2', 'LRRC59', 'WFDC2', 'PSRC1', 'NEK9','RUVBL1', \n",
    "                       'COL6A4P2', 'MYO1C', 'PCDHGB5', 'RAPGEFL1', 'PAX6', 'PPP2R2C', 'GPR133', 'EN1', 'PRDM16', \n",
    "                       'PTH2R', 'CLEC2L', 'RPS4Y1', 'DDX43', 'TDRD1', 'CALML3']"
   ]
  },
  {
   "cell_type": "code",
   "execution_count": null,
   "metadata": {},
   "outputs": [],
   "source": [
    "print(\"Sep:\", top_probes['KS'].loc[top_probes['KS'].Gene.isin(top_genes_from_meth),:]['Gene'].unique())\n",
    "\n",
    "print(\"FC:\", top_fc.loc[top_fc.Gene.isin(top_genes_from_meth),:]['Gene'].unique())\n",
    "\n",
    "print(\"+\"*50)"
   ]
  },
  {
   "cell_type": "markdown",
   "metadata": {},
   "source": [
    "## Induced differentiability due to imputance ?"
   ]
  },
  {
   "cell_type": "code",
   "execution_count": null,
   "metadata": {},
   "outputs": [],
   "source": [
    "LA_nans = Meth_data['LA'].isna().sum(axis=1)\n",
    "LSCC_nans = Meth_data['LSCC'].isna().sum(axis=1)\n",
    "\n",
    "LA_nan_list = LA_nans[np.where(LA_nans>200)[0]].index.tolist()\n",
    "LSCC_nan_list = LSCC_nans[np.where(LSCC_nans>200)[0]].index.tolist()"
   ]
  },
  {
   "cell_type": "code",
   "execution_count": null,
   "metadata": {},
   "outputs": [],
   "source": [
    "print(\"\\t\\tIn the LA set we have {} probes that are NaN for all probes, \\n\\\n",
    "       \\t\\tIn the LSCC set have {} probes that are NaN for all probes. \\n\\\n",
    "      \\t\\tThe overlap between the probes is roughly {}%.\".format(len(LA_nan_list), \n",
    "                                                                 len(LSCC_nan_list),\n",
    "                            len(set(LA_nan_list).intersection(set(LSCC_nan_list)))/len(LA_nan_list)*100))"
   ]
  },
  {
   "cell_type": "markdown",
   "metadata": {},
   "source": [
    "Which of the reported genes are in the top-list by PwC?"
   ]
  },
  {
   "cell_type": "code",
   "execution_count": null,
   "metadata": {},
   "outputs": [],
   "source": [
    "# connect probes to Genes\n",
    "overlap_list = list(set(LA_nan_list).intersection(set(LSCC_nan_list)))\n",
    "la_only_list = list(set(LA_nan_list)-set(LSCC_nan_list))\n",
    "\n",
    "overlap_df = pd.DataFrame(data=np.array(overlap_list), columns=['overlap'])\n",
    "la_only_df = pd.DataFrame(data=np.array(la_only_list), columns=['LA_only'])\n",
    "\n",
    "overlap_df = overlap_df.merge(GeneMapping, left_on='overlap', right_index=True, how='left')\n",
    "la_only_df = la_only_df.merge(GeneMapping, left_on='LA_only', right_index=True, how='left')"
   ]
  },
  {
   "cell_type": "code",
   "execution_count": null,
   "metadata": {},
   "outputs": [],
   "source": [
    "print(\"Sep:\", overlap_df.loc[overlap_df.Gene.isin(top_genes_from_meth),:]['Gene'].unique())\n",
    "print(\"+\"*50)\n",
    "\n"
   ]
  },
  {
   "cell_type": "markdown",
   "metadata": {},
   "source": [
    "Hence, at face value, the imputation has had a significant impact on the differential analysis...or has it..?\n",
    "**Obviously** I should look at the probe id's!"
   ]
  },
  {
   "cell_type": "code",
   "execution_count": null,
   "metadata": {},
   "outputs": [],
   "source": [
    "top_probes_pwc = ['cg1397493', 'cg6117986', 'cg9149410', 'cg4151783', 'cg2694271', 'cg3033748', 'cg4972564',\n",
    "                  'cg7969602', 'cg2317299', 'cg4656271', 'cg0281776', 'cg4717314', 'cg6301283', 'cg1375382',\n",
    "                  'cg3669949', 'cg6600802', 'cg7547703', 'cg7283169', 'cg0691436', 'cg6550453', 'cg0668644',\n",
    "                  'cg4439629', 'cg9506435', 'cg9827780', 'cg2153041', 'cg1301942', 'cg3082523', 'cg3050300',\n",
    "                  'cg2325673', 'cg0129651', 'cg4544105', 'cg6797068', 'cg5533223', 'cg4831879', 'cg0691436',\n",
    "                  'cg7283169', 'cg1375382', 'cg2034222', 'cg4506221', 'cg3669949']\n",
    "\n",
    "top_probes_pwc_nocg = [_top[2:] for _top in top_probes_pwc]\n",
    "top_probes_pwc_0 = ['cg'+'0'+_top[2:] for _top in top_probes_pwc]\n",
    "top_probes_pwc_1 = ['cg'+'1'+_top[2:] for _top in top_probes_pwc]\n",
    "top_probes_pwc_2 = ['cg'+'2'+_top[2:] for _top in top_probes_pwc]\n",
    "top_probes_pwc_3 = ['cg'+'3'+_top[2:] for _top in top_probes_pwc]\n",
    "top_probes_pwc_4 = ['cg'+'4'+_top[2:] for _top in top_probes_pwc]\n",
    "top_probes_pwc_5 = ['cg'+'5'+_top[2:] for _top in top_probes_pwc]\n",
    "\n",
    "top_probes_pwc_correct = top_probes_pwc_0+\\\n",
    "                         top_probes_pwc_1+\\\n",
    "                         top_probes_pwc_2+\\\n",
    "                         top_probes_pwc_3+\\\n",
    "                         top_probes_pwc_4+\\\n",
    "                         top_probes_pwc_5"
   ]
  },
  {
   "cell_type": "code",
   "execution_count": null,
   "metadata": {},
   "outputs": [],
   "source": [
    "in_overlap = overlap_df.loc[overlap_df.overlap.isin(top_probes_pwc_correct)].shape[0]\n",
    "in_la_only = la_only_df.loc[la_only_df.LA_only.isin(top_probes_pwc_correct)].shape[0]\n",
    "\n",
    "print('NA\\'s in top-list: {} and {}'.format(in_overlap, in_la_only))"
   ]
  },
  {
   "cell_type": "markdown",
   "metadata": {},
   "source": [
    "Perhaps we removed probes unnecessarily, which would mean these probes are also not present in the cleaned df.."
   ]
  },
  {
   "cell_type": "code",
   "execution_count": null,
   "metadata": {},
   "outputs": [],
   "source": [
    "in_cleaned = (set(_cleaned_ALL.columns.tolist())).intersection(set(top_probes_pwc_correct))\n",
    "Corrected_top = list(in_cleaned)"
   ]
  },
  {
   "cell_type": "markdown",
   "metadata": {},
   "source": [
    "OK, I have REMOVED perfectly good probes! Why?"
   ]
  },
  {
   "cell_type": "code",
   "execution_count": null,
   "metadata": {},
   "outputs": [],
   "source": [
    "in_raw = set(Meth_data['LSCC'].index.tolist()).intersection(set(top_probes_pwc_correct))\n",
    "print(list(in_raw))"
   ]
  },
  {
   "cell_type": "markdown",
   "metadata": {},
   "source": [
    "**What??**, they are also not in the RAW data...?? Where did these probes come from?\n",
    "Are they perhaps in the meta data for the Illumina data?"
   ]
  },
  {
   "cell_type": "code",
   "execution_count": null,
   "metadata": {},
   "outputs": [],
   "source": [
    "in_illumina1 = set(methylation_meta['IlmnID'].tolist()).intersection(set(top_probes_pwc_correct))\n",
    "print(list(in_illumina1))\n",
    "\n",
    "in_illumina2 = set(methylation_meta['Name'].tolist()).intersection(set(top_probes_pwc_correct))\n",
    "print(list(in_illumina2))\n",
    "\n",
    "in_illumina1 = set(methylation_meta['IlmnID'].tolist()).intersection(set(top_probes_pwc_correct))\n",
    "print(list(in_illumina1))\n",
    "\n",
    "in_illumina2 = set(methylation_meta['Name'].tolist()).intersection(set(top_probes_pwc_correct))\n",
    "print(list(in_illumina2))"
   ]
  },
  {
   "cell_type": "markdown",
   "metadata": {},
   "source": [
    "They don't exist??? It seems they do..the probe-id's from their list was just missing a character.."
   ]
  },
  {
   "cell_type": "code",
   "execution_count": null,
   "metadata": {},
   "outputs": [],
   "source": [
    "#Meth_data_T = {}\n",
    "#Meth_data_T['LA'] = Meth_data['LA'].T\n",
    "#Meth_data_T['LSCC'] = Meth_data['LSCC'].T"
   ]
  },
  {
   "cell_type": "markdown",
   "metadata": {},
   "source": [
    "## Given a list of top-probes, how different are their distribution?"
   ]
  },
  {
   "cell_type": "code",
   "execution_count": null,
   "metadata": {},
   "outputs": [],
   "source": [
    "fig, ax = plt.subplots(nrows=len(Corrected_top), figsize=(10,40))\n",
    "for i, probeid in enumerate(Corrected_top):\n",
    "    Meth_data_T['LA'][Corrected_top[i]].plot.kde(color='red', ax=ax[i])\n",
    "    Meth_data_T['LSCC'][Corrected_top[i]].plot.kde(color='green', ax=ax[i])\n",
    "    ax[i].set_ylabel('')\n",
    "    #ax[i].set_title(probeid)"
   ]
  },
  {
   "cell_type": "code",
   "execution_count": null,
   "metadata": {},
   "outputs": [],
   "source": [
    "FDR_top20 = top_probes['FDR'][:20].index.tolist()\n",
    "KS_top20 = top_probes['KS'][:20].index.tolist()\n",
    "MWU_top20 = top_probes['MWU'][:20].index.tolist()\n",
    "#AD_top20 = top_probes['AD'][:20].index.tolist()\n",
    "WASS1_top20 = top_probes['WASS1'][:20].index.tolist()\n",
    "WASS2_top20 = top_probes['WASS2'][:20].index.tolist()\n",
    "LDA_top20 = LDA_scores.abs().sort_values(by='LDA_score', ascending=False)[:20].index.tolist()"
   ]
  },
  {
   "cell_type": "code",
   "execution_count": null,
   "metadata": {},
   "outputs": [],
   "source": [
    "fig, ax = plt.subplots(nrows=len(FDR_top20), figsize=(10,35))\n",
    "for i, probeid in enumerate(FDR_top20):\n",
    "    Meth_data_T['LA'][probeid].plot.kde(color='red', ax=ax[i])\n",
    "    Meth_data_T['LSCC'][probeid].plot.kde(color='green', ax=ax[i])\n",
    "    ax[i].set_ylabel('')\n",
    "    #ax[i].set_title(probeid)"
   ]
  },
  {
   "cell_type": "code",
   "execution_count": null,
   "metadata": {},
   "outputs": [],
   "source": [
    "fig, ax = plt.subplots(nrows=len(MWU_top20), figsize=(10,35))\n",
    "for i, probeid in enumerate(MWU_top20):\n",
    "    _cleaned_ALL.iloc[np.where(y==1)][probeid].plot.kde(color='red', ax=ax[i])\n",
    "    _cleaned_ALL.iloc[np.where(y==0)][probeid].plot.kde(color='green', ax=ax[i])\n",
    "    ax[i].set_ylabel('')\n",
    "    #ax[i].set_title(probeid)"
   ]
  },
  {
   "cell_type": "code",
   "execution_count": null,
   "metadata": {},
   "outputs": [],
   "source": [
    "fig, ax = plt.subplots(nrows=len(KS_top20), figsize=(10,35))\n",
    "for i, probeid in enumerate(KS_top20):\n",
    "    Meth_data_T['LA'][probeid].plot.kde(color='red', ax=ax[i])\n",
    "    Meth_data_T['LSCC'][probeid].plot.kde(color='green', ax=ax[i])\n",
    "    ax[i].set_ylabel('')\n",
    "    #ax[i].set_title(probeid)"
   ]
  },
  {
   "cell_type": "code",
   "execution_count": null,
   "metadata": {},
   "outputs": [],
   "source": [
    "fig, ax = plt.subplots(nrows=len(WASS1_top20), figsize=(10,35))\n",
    "for i, probeid in enumerate(WASS1_top20):\n",
    "    Meth_data_T['LA'][probeid].plot.kde(color='red', ax=ax[i])\n",
    "    Meth_data_T['LSCC'][probeid].plot.kde(color='green', ax=ax[i])\n",
    "    ax[i].set_ylabel('')\n",
    "    #ax[i].set_title(probeid)"
   ]
  },
  {
   "cell_type": "code",
   "execution_count": null,
   "metadata": {},
   "outputs": [],
   "source": [
    "fig, ax = plt.subplots(nrows=len(LDA_top20), figsize=(10,35))\n",
    "for i, probeid in enumerate(LDA_top20):\n",
    "    Meth_data_T['LA'][probeid].plot.kde(color='red', ax=ax[i])\n",
    "    Meth_data_T['LSCC'][probeid].plot.kde(color='green', ax=ax[i])\n",
    "    ax[i].set_ylabel('')\n",
    "    #ax[i].set_title(probeid)"
   ]
  },
  {
   "cell_type": "markdown",
   "metadata": {},
   "source": [
    "## Get overlap of top-probes"
   ]
  },
  {
   "cell_type": "code",
   "execution_count": null,
   "metadata": {},
   "outputs": [],
   "source": [
    "#for _key in probes_diffs.keys():\n",
    "#    probes_diffs[_key].columns = ['pvals_'+_key, 'score_'+_key]\n",
    "\n",
    "## Only the overlap of the top-20000 probes\n",
    "ppset= None\n",
    "topM = 50000\n",
    "for idx, _key in enumerate(probes_diffs.keys()):\n",
    "    if _key in ['AD', 'WASS2']:\n",
    "        break\n",
    "    else:\n",
    "        # query('pvals_'+_key+'<0.001')\n",
    "        pset = (set(probes_diffs[_key].sort_values(by='score_'+_key, ascending=False)[:topM].index.tolist()))\n",
    "        if idx>0:\n",
    "            ppset = pset.intersection(ppset)\n",
    "        else:\n",
    "            ppset = pset\n",
    "ppset = list(ppset)\n",
    "\n",
    "tot_overlap = probes_diffs['FDR'].merge(probes_diffs['KS'], \n",
    "                              how='inner', \n",
    "                              left_index=True, \n",
    "                              right_index=True, \n",
    "                              suffixes=['_FDR', '_KS'])\n",
    "tot_overlap = tot_overlap.copy().merge(probes_diffs['MWU'], \n",
    "                              how='inner', \n",
    "                              left_index=True, \n",
    "                              right_index=True)\n",
    "tot_overlap = tot_overlap.copy().merge(probes_diffs['WASS1'], \n",
    "                              how='inner', \n",
    "                              left_index=True, \n",
    "                              right_index=True)\n",
    "tot_overlap = tot_overlap.copy().merge(probes_diffs['WASS2'], \n",
    "                              how='inner', \n",
    "                              left_index=True, \n",
    "                              right_index=True)\n",
    "tot_overlap = tot_overlap.loc[ppset]\n",
    "tot_overlap = tot_overlap.copy().merge(fc, left_index=True, right_index=True, how='inner')\n",
    "tot_overlap = tot_overlap.copy().merge(GeneMapping, left_index=True, right_index=True, how='inner')\n",
    "#tot_overlap['score_WASS1'] = tot_overlap['pvals_WASS1']\n",
    "#tot_overlap.drop(['pvals', 'pvals_WASS1', 'pvals_WASS2', 'score_WASS2'], axis=1, inplace=True)\n",
    "print(tot_overlap.shape)\n",
    "gc.collect()\n",
    "print(tot_overlap.columns)\n",
    "tot_overlap.sort_values('score_WASS1', ascending=False, inplace=True)\n",
    "tot_overlap.to_csv('/media/koekiemonster/DATA-FAST/genetic_expression/hackathon_2/Lung/_results/top_methyl_overlap_noPval.csv',\n",
    "          sep=';')"
   ]
  },
  {
   "cell_type": "code",
   "execution_count": 41,
   "metadata": {},
   "outputs": [
    {
     "data": {
      "text/plain": [
       "129"
      ]
     },
     "execution_count": 41,
     "metadata": {},
     "output_type": "execute_result"
    }
   ],
   "source": [
    "tot = probes_diffs['FDR'].merge(probes_diffs['KS'], \n",
    "                              how='inner', \n",
    "                              left_index=True, \n",
    "                              right_index=True, \n",
    "                              suffixes=['_FDR', '_KS'])\n",
    "tot = tot.copy().merge(probes_diffs['MWU'].rename(index=str, columns={'pvals': 'pvals_MWU', 'score': 'score_MWU'}), \n",
    "                              how='inner', \n",
    "                              left_index=True, \n",
    "                              right_index=True)\n",
    "tot = tot.copy().merge(probes_diffs['WASS1'].rename(index=str, columns={'score': 'score_WASS1'}), \n",
    "                              how='inner', \n",
    "                              left_index=True, \n",
    "                              right_index=True)\n",
    "tot = tot.copy().merge(probes_diffs['WASS2'].rename(index=str, columns={'score': 'score_WASS2'}), \n",
    "                              how='inner', \n",
    "                              left_index=True, \n",
    "                              right_index=True)\n",
    "tot = tot.copy().merge(fc, left_index=True, right_index=True, how='inner')\n",
    "tot = tot.copy().merge(GeneMapping, left_index=True, right_index=True, how='inner')\n",
    "gc.collect()"
   ]
  },
  {
   "cell_type": "code",
   "execution_count": null,
   "metadata": {},
   "outputs": [],
   "source": [
    "tot.sort_values(by='score_FDR', ascending=False, inplace=True)\n",
    "tot.to_csv('/media/koekiemonster/DATA-FAST/genetic_expression/hackathon_2/Lung/_results/all_fc_scores.csv',\n",
    "          sep=';')"
   ]
  },
  {
   "cell_type": "code",
   "execution_count": null,
   "metadata": {},
   "outputs": [],
   "source": [
    "## Only the non-mutual set of top-N probes \n",
    "ppset= None\n",
    "topM = 100\n",
    "for idx, _key in enumerate(probes_diffs.keys()):\n",
    "    if _key in ['AD', 'WASS2']:\n",
    "        break\n",
    "    else:\n",
    "        # query('pvals_'+_key+'<0.001')\n",
    "        pset = (set(probes_diffs[_key].sort_values(by='score_'+_key, ascending=False)[:topM].index.tolist()))\n",
    "        if idx>0:\n",
    "            ppset = pset.union(ppset)\n",
    "        else:\n",
    "            ppset = pset\n",
    "ppset = list(ppset)\n",
    "\n",
    "tot_exclusive = probes_diffs['FDR'].merge(probes_diffs['KS'], \n",
    "                              how='inner', \n",
    "                              left_index=True, \n",
    "                              right_index=True, \n",
    "                              suffixes=['_FDR', '_KS'])\n",
    "tot_exclusive = tot_exclusive.copy().merge(probes_diffs['MWU'], \n",
    "                              how='inner', \n",
    "                              left_index=True, \n",
    "                              right_index=True)\n",
    "tot_exclusive = tot_exclusive.copy().merge(probes_diffs['WASS1'], \n",
    "                              how='inner', \n",
    "                              left_index=True, \n",
    "                              right_index=True)\n",
    "tot_exclusive = tot_exclusive.copy().merge(probes_diffs['WASS2'], \n",
    "                              how='inner', \n",
    "                              left_index=True, \n",
    "                              right_index=True)\n",
    "tot_exclusive = tot_exclusive.loc[ppset]\n",
    "tot_exclusive = tot_exclusive.copy().merge(fc, left_index=True, right_index=True, how='inner')\n",
    "tot_exclusive = tot_exclusive.copy().merge(GeneMapping, left_index=True, right_index=True, how='inner')\n",
    "#tot_exclusive.drop(['pvals', 'pvals_WASS1', 'pvals_WASS2', 'score_WASS2'], axis=1, inplace=True)\n"
   ]
  },
  {
   "cell_type": "code",
   "execution_count": null,
   "metadata": {},
   "outputs": [],
   "source": [
    "print(tot_exclusive.shape)\n",
    "gc.collect()\n",
    "tot_exclusive.sort_values('score_WASS1', ascending=False, inplace=True)\n",
    "tot_exclusive.to_csv('/media/koekiemonster/DATA-FAST/genetic_expression/hackathon_2/Lung/_results/top_methyl_exclusive_noPval.csv',\n",
    "          sep=';')"
   ]
  },
  {
   "cell_type": "code",
   "execution_count": null,
   "metadata": {},
   "outputs": [],
   "source": [
    "top_N = 500\n",
    "topD = fc.sort_values(by='abs_fc_median', ascending=False)[:top_N]\n",
    "topA = fc.sort_values(by='abs_fc_median', ascending=True)[:top_N]\n",
    "topFC = pd.concat([topD, topA], axis=0)\n",
    "topFC = topFC.copy().merge(tot, how='inner', left_index=True, right_index=True)\n",
    "\n",
    "#topFC.drop('score_y', axis=1, inplace=True)\n",
    "#topFC.rename(index=str, columns={'score_x': 'score_Wass1'}, inplace=True)\n",
    "topFC.to_csv('/media/koekiemonster/DATA-FAST/genetic_expression/hackathon_2/Lung/_results/top_fc.csv',\n",
    "          sep=';')"
   ]
  },
  {
   "cell_type": "code",
   "execution_count": null,
   "metadata": {},
   "outputs": [],
   "source": [
    "top_N = 100\n",
    "topD = LDA_scores.sort_values(by='LDA_score', ascending=False)[:top_N]\n",
    "topA = LDA_scores.sort_values(by='LDA_score', ascending=True)[:top_N]\n",
    "topLDA = pd.concat([topD, topA], axis=0)\n",
    "topLDA = topLDA.copy().merge(tot, how='inner', left_index=True, right_index=True)\n",
    "\n",
    "#topFC.drop('score_y', axis=1, inplace=True)\n",
    "#topFC.rename(index=str, columns={'score_x': 'score_Wass1'}, inplace=True)\n",
    "topLDA.to_csv('/media/koekiemonster/DATA-FAST/genetic_expression/hackathon_2/Lung/_results/top_lda.csv',\n",
    "          sep=';')"
   ]
  },
  {
   "cell_type": "code",
   "execution_count": null,
   "metadata": {},
   "outputs": [],
   "source": [
    "M = 15\n",
    "fig, ax = plt.subplots(nrows=M, figsize=(10,35))\n",
    "for i, probeid in enumerate(tot_overlap.index.tolist()[:M]):\n",
    "    Meth_data_T['LA'][probeid].plot.kde(color='red', ax=ax[i])\n",
    "    Meth_data_T['LSCC'][probeid].plot.kde(color='green', ax=ax[i])\n",
    "    _cleaned_ALL[probeid].plot.kde(color='black', ax=ax[i])\n",
    "    #ax[i].set_ylabel('')\n",
    "    #ax[i].set_title(probeid)"
   ]
  },
  {
   "cell_type": "markdown",
   "metadata": {},
   "source": [
    "## Unsupervised search for multi-modality"
   ]
  },
  {
   "cell_type": "code",
   "execution_count": null,
   "metadata": {},
   "outputs": [],
   "source": [
    "from unidip import UniDip\n",
    "# Use Hartigan's dip test recursively\n",
    "num_modes = []\n",
    "cols = _cleaned_ALL.columns\n",
    "\n",
    "n_procs = 10\n",
    "pool = multiprocessing.Pool(n_procs)\n",
    "\n",
    "def get_dips(i):\n",
    "    _col = cols[i]\n",
    "    dat = _cleaned_ALL[_col].sort_values()\n",
    "    intervals = UniDip(dat, alpha=0.05, ntrials=50, mrg_dst=5).run()\n",
    "    return {'probe': _col, 'num_modes': len(intervals)}\n",
    "\n",
    "num_modes_df = pd.DataFrame(pool.map(get_dips, range(0, len(cols))))\n",
    "num_modes_df.set_index('probe', inplace=True)"
   ]
  },
  {
   "cell_type": "code",
   "execution_count": null,
   "metadata": {},
   "outputs": [],
   "source": [
    "multi_mod_probs = {}\n",
    "multi_mod_probs['1'] = num_modes_df[num_modes_df.num_modes==1].index.tolist()\n",
    "multi_mod_probs['2'] = num_modes_df[num_modes_df.num_modes==2].index.tolist()\n",
    "multi_mod_probs['3'] = num_modes_df[num_modes_df.num_modes==3].index.tolist()\n",
    "multi_mod_probs['4'] = num_modes_df[num_modes_df.num_modes==4].index.tolist()\n",
    "multi_mod_probs['5'] = num_modes_df[num_modes_df.num_modes==5].index.tolist()\n",
    "multi_mod_probs['6'] = num_modes_df[num_modes_df.num_modes==6].index.tolist()\n",
    "multi_mod_probs['7'] = num_modes_df[num_modes_df.num_modes==7].index.tolist()"
   ]
  },
  {
   "cell_type": "code",
   "execution_count": null,
   "metadata": {},
   "outputs": [],
   "source": [
    "l = '4'\n",
    "k = 1\n",
    "\n",
    "print(\"Gene\", GeneMapping.loc[multi_mod_probs[l][k]], \"\\n\")\n",
    "\n",
    "try: \n",
    "    tot_overlap.loc[multi_mod_probs[l][k]]\n",
    "except KeyError as e:\n",
    "    print(\"Not in index for tot_overlap :( \\n\")\n",
    "    \n",
    "try: \n",
    "    tot_exclusive.loc[multi_mod_probs[l][k]]\n",
    "except KeyError as e:\n",
    "    print(\"Not in index for tot_exclusive :( \\n\")\n",
    "    \n",
    "try: \n",
    "    top_fc.loc[multi_mod_probs[l][k]]\n",
    "except KeyError as e:\n",
    "    print(\"Not in index for top fc :( \\n\")\n",
    "    \n",
    "print(probes_diffs['FDR'].loc[multi_mod_probs[l][k]], \"\\n\")\n",
    "print(probes_diffs['KS'].loc[multi_mod_probs[l][k]], \"\\n\")\n",
    "print(probes_diffs['MWU'].loc[multi_mod_probs[l][k]], \"\\n\")\n",
    "print(probes_diffs['WASS1'].loc[multi_mod_probs[l][k]], \"\\n\")\n",
    "\n",
    "Meth_data_T['LA'].loc[:, multi_mod_probs[l][k]].plot.kde()\n",
    "Meth_data_T['LSCC'].loc[:, multi_mod_probs[l][k]].plot.kde()\n",
    "_cleaned_ALL.loc[:, multi_mod_probs[l][k]].plot.kde(color='black')\n",
    "plt.title(multi_mod_probs[l][k])"
   ]
  },
  {
   "cell_type": "markdown",
   "metadata": {},
   "source": [
    "With the knowledge of multi-modality per dimension we can effectively filter out the noise to effectively perform unsupervised clustering. \n",
    "\n",
    "```\n",
    "cg00006626, NUP210L\n",
    "cg00001582, ZMIZ1,LOC283050\n",
    "cg00012036, H3F3B\n",
    "cg00087098, G3BP2\n",
    "cg00611101, TCEAL2\n",
    "...\n",
    "etc..\n",
    "```\n",
    "\n",
    "A benefit of this multi-modality search is the robustness in case of non-Gaussian, or non-standard distributions. \n",
    "How to find those probes that **do** seperate the targets but do not fulfill the prerequisites for the unpaired tests?\n",
    "\n",
    "* Multimodality -> paired samples comparison between groups, compared to sample comparison within group\n",
    "* apply supervised learner: LR(Bayesian), RF (random), XGB (gradient boosted), EBM (generalised additive model)"
   ]
  },
  {
   "cell_type": "markdown",
   "metadata": {},
   "source": [
    "## Top differential RNA expression\n",
    "* KRT5 \n",
    "* DSC3\n",
    "* DSG3\n",
    "* TP63\n",
    "* MIR205HG\n",
    "* CALML3\n",
    "\n",
    "What are the corresponding probevalues? What are the methylation fold changes?"
   ]
  },
  {
   "cell_type": "code",
   "execution_count": null,
   "metadata": {},
   "outputs": [],
   "source": []
  },
  {
   "cell_type": "markdown",
   "metadata": {},
   "source": [
    "## Supervised learner"
   ]
  },
  {
   "cell_type": "code",
   "execution_count": 46,
   "metadata": {},
   "outputs": [],
   "source": [
    "from sklearn.linear_model import LogisticRegressionCV as LR\n",
    "from sklearn.ensemble import ExtraTreesClassifier as ET\n",
    "from sklearn.ensemble import RandomForestClassifier as RF\n",
    "from xgboost import XGBClassifier as XGB\n",
    "from lightgbm import LGBMClassifier as LGBM\n",
    "from interpret.glassbox import ExplainableBoostingClassifier as EB"
   ]
  },
  {
   "cell_type": "code",
   "execution_count": 43,
   "metadata": {},
   "outputs": [],
   "source": [
    "# impose some filters \n",
    "# * minimum abs fold change of 0.1 (beta)\n",
    "#filter_1 = fc.loc[(fc.abs_fc>0.1) | (fc.abs_fc<-0.1)].index.tolist() \n",
    "x_filtered = x#.loc[:, filter_1]"
   ]
  },
  {
   "cell_type": "code",
   "execution_count": 47,
   "metadata": {},
   "outputs": [],
   "source": [
    "# vanilla\n",
    "mod_LR = LR(n_jobs=4)\n",
    "mod_ET = ET(n_estimators=7500, n_jobs=4)\n",
    "mod_RF = RF(n_estimators=7500, n_jobs=4)\n",
    "mod_XGB = XGB(n_estimators=500, n_jobs=4)\n",
    "#mod_LGBM = LGBM(n_estimators=150, n_jobs=4)\n",
    "#mod_EB = EB(n_estimators=32, n_jobs=4)\n",
    "\n",
    "#cols = np.array(x.columns.tolist())\n",
    "#lr_coefs = mod_LR.coef_.reshape([-1,1])[:,0]"
   ]
  },
  {
   "cell_type": "code",
   "execution_count": 48,
   "metadata": {},
   "outputs": [
    {
     "name": "stderr",
     "output_type": "stream",
     "text": [
      "/usr/local/lib/python3.6/dist-packages/sklearn/model_selection/_split.py:2053: FutureWarning:\n",
      "\n",
      "You should specify a value for 'cv' instead of relying on the default value. The default value will change from 3 to 5 in version 0.22.\n",
      "\n"
     ]
    },
    {
     "data": {
      "text/plain": [
       "LogisticRegressionCV(Cs=10, class_weight=None, cv='warn', dual=False,\n",
       "           fit_intercept=True, intercept_scaling=1.0, max_iter=100,\n",
       "           multi_class='warn', n_jobs=4, penalty='l2', random_state=None,\n",
       "           refit=True, scoring=None, solver='lbfgs', tol=0.0001, verbose=0)"
      ]
     },
     "execution_count": 48,
     "metadata": {},
     "output_type": "execute_result"
    }
   ],
   "source": [
    "gc.collect()\n",
    "mod_LR.fit(x_filtered,y)"
   ]
  },
  {
   "cell_type": "code",
   "execution_count": null,
   "metadata": {},
   "outputs": [],
   "source": [
    "gc.collect()\n",
    "mod_ET.fit(x_filtered,y)"
   ]
  },
  {
   "cell_type": "code",
   "execution_count": null,
   "metadata": {},
   "outputs": [],
   "source": [
    "gc.collect()\n",
    "mod_RF.fit(x_filtered,y)"
   ]
  },
  {
   "cell_type": "code",
   "execution_count": null,
   "metadata": {},
   "outputs": [],
   "source": [
    "gc.collect()\n",
    "mod_XGB.fit(x_filtered,y)"
   ]
  },
  {
   "cell_type": "code",
   "execution_count": 49,
   "metadata": {},
   "outputs": [],
   "source": [
    "# extract importances\n",
    "coefs_LR =pd.DataFrame(data=mod_LR.coef_.reshape([-1,1]), index=x_filtered.columns, columns=['LR_coeff'])\n",
    "coefs_LR['LR_coeff_abs'] = coefs_LR.LR_coeff.abs()\n",
    "coefs_LR['LR_coeff_sign'] = np.sign(coefs_LR.LR_coeff)\n",
    "coefs_LR.drop('LR_coeff', axis=1, inplace=True)"
   ]
  },
  {
   "cell_type": "code",
   "execution_count": null,
   "metadata": {},
   "outputs": [],
   "source": [
    "coefs_RF = pd.DataFrame(data=mod_RF.feature_importances_, index=x_filtered.columns,columns=['RF_importance'])"
   ]
  },
  {
   "cell_type": "code",
   "execution_count": null,
   "metadata": {},
   "outputs": [],
   "source": [
    "coefs_ET = pd.DataFrame(data=mod_ET.feature_importances_, index=x_filtered.columns,columns=['ET_importance'])"
   ]
  },
  {
   "cell_type": "code",
   "execution_count": null,
   "metadata": {},
   "outputs": [],
   "source": [
    "coefs_XGB = pd.DataFrame(data=mod_XGB.feature_importances_, index=x_filtered.columns,columns=['XGB_importance'])"
   ]
  },
  {
   "cell_type": "code",
   "execution_count": 50,
   "metadata": {},
   "outputs": [
    {
     "data": {
      "text/plain": [
       "42"
      ]
     },
     "execution_count": 50,
     "metadata": {},
     "output_type": "execute_result"
    }
   ],
   "source": [
    "coefs_list = [coefs_LR] #, coefs_RF, coefs_ET, coefs_XGB]\n",
    "sort_by = 'score_FDR'\n",
    "comb = pd.concat(coefs_list, axis=1)\n",
    "comb = comb.copy().merge(tot, how='left', left_index=True, right_index=True)\n",
    "comb.sort_values(by=sort_by, ascending=False, inplace=True)\n",
    "comb.to_csv('/media/koekiemonster/DATA-FAST/genetic_expression/hackathon_2/Lung/_results/all_res.csv',\n",
    "          sep=';')\n",
    "gc.collect()"
   ]
  },
  {
   "cell_type": "code",
   "execution_count": 51,
   "metadata": {},
   "outputs": [],
   "source": [
    "splt = fc[['abs_fc_median', 'split_fc']].reset_index()\n",
    "tmp=pd.DataFrame(data=x[y==0].std(axis=0), columns=['std_LA'])\n",
    "splt = splt.copy().merge(tmp, how='inner', left_on='index', right_index=True)\n",
    "tmp=pd.DataFrame(data=x[y==1].std(axis=0), columns=['std_LSCC'])\n",
    "splt = splt.copy().merge(tmp, how='inner', left_on='index', right_index=True)\n",
    "splt['adapted_fold_change'] = 2*splt.abs_fc_median/(splt.std_LA+splt.std_LSCC) # correct for large std's\n",
    "splt['half_dist'] = np.abs(0.5-splt.split_fc)\n",
    "# you can introduce the effect of Kurtosis and Skewness as well."
   ]
  },
  {
   "cell_type": "code",
   "execution_count": 64,
   "metadata": {},
   "outputs": [],
   "source": [
    "def super_simple_model(x, y, splt, min_lscc=0.75, min_la=0.75, max_consecutive_fail=50, adapted_sort=False):\n",
    "    # not optimized, super slow\n",
    "    rnk_var = 'adapted_fold_change' if adapted_sort else 'abs_fc_median'\n",
    "    splt = splt.copy().reindex(splt[rnk_var].abs().sort_values(ascending=False).index)\n",
    "    \n",
    "    x_train = x.copy()\n",
    "    x_train['y'] = y\n",
    "    \n",
    "    fail = 0 \n",
    "    rcount = 0\n",
    "    tcount = 0\n",
    "    rules = []\n",
    "    for row in splt.iterrows():\n",
    "        split_gen = row[1]['index']\n",
    "        fc_split =row[1]['split_fc']\n",
    "        #v1 = x_train.loc[x[split_gen]<fc_split].y.mean()        \n",
    "        #v2 = x_train.loc[x[split_gen]>fc_split].y.mean()\n",
    "        \n",
    "        xg = x[split_gen].values\n",
    "        yv = x_train.y.values\n",
    "        v1 = np.mean(yv[np.where(xg<fc_split)])\n",
    "        v2 = np.mean(yv[np.where(xg>fc_split)])\n",
    "\n",
    "        acc_lscc = np.max([v1, v2])\n",
    "        acc_la = np.max([1-v1,1-v2])\n",
    "       \n",
    "        if v2>v1:\n",
    "            rec_lscc = np.sum(yv[np.where(xg>fc_split)])/373\n",
    "            rec_la = np.sum(1-yv[np.where(xg<fc_split)])/491\n",
    "        else:\n",
    "            rec_lscc = np.sum(yv[np.where(xg<fc_split)])/373\n",
    "            rec_la = np.sum(1-yv[np.where(xg>fc_split)])/491 \n",
    "        tcount +=1\n",
    "        if (acc_lscc>min_lscc) and (acc_la>min_la):\n",
    "            rules.append({'acc_lscc': acc_lscc, \n",
    "                          'acc_la': acc_la, \n",
    "                          'rec_lscc': rec_lscc, \n",
    "                          'rec_la': rec_la,\n",
    "                          'split' : fc_split, \n",
    "                          'dim': split_gen, \n",
    "                          'sign': v2>v1}) \n",
    "            rcount += 1\n",
    "            fail=0\n",
    "            if rcount%500==0:\n",
    "                print(\"Contains:{} rules, processed {} probes\".format(rcount, tcount))\n",
    "        else:\n",
    "            fail+=1\n",
    "        if max_consecutive_fail is not None:\n",
    "            if (fail>max_consecutive_fail) and (max_consecutive_fail!=-1):\n",
    "                return pd.DataFrame(rules)\n",
    "    return pd.DataFrame(rules)"
   ]
  },
  {
   "cell_type": "code",
   "execution_count": 73,
   "metadata": {},
   "outputs": [
    {
     "name": "stdout",
     "output_type": "stream",
     "text": [
      "Contains:500 rules, processed 500 probes\n",
      "Contains:1000 rules, processed 1000 probes\n",
      "Contains:1500 rules, processed 1500 probes\n",
      "Contains:2000 rules, processed 2000 probes\n",
      "Contains:2500 rules, processed 2500 probes\n",
      "Contains:3000 rules, processed 3000 probes\n",
      "Contains:3500 rules, processed 3501 probes\n",
      "Contains:4000 rules, processed 4001 probes\n",
      "Contains:4500 rules, processed 4502 probes\n",
      "Contains:5000 rules, processed 5003 probes\n",
      "Contains:5500 rules, processed 5505 probes\n",
      "Contains:6000 rules, processed 6006 probes\n",
      "Contains:6500 rules, processed 6509 probes\n",
      "Contains:7000 rules, processed 7010 probes\n",
      "Contains:7500 rules, processed 7519 probes\n",
      "Contains:8000 rules, processed 8028 probes\n",
      "Contains:8500 rules, processed 8541 probes\n",
      "Contains:9000 rules, processed 9057 probes\n",
      "Contains:9500 rules, processed 9572 probes\n",
      "Contains:10000 rules, processed 10093 probes\n",
      "Contains:10500 rules, processed 10624 probes\n",
      "Contains:11000 rules, processed 11163 probes\n",
      "Contains:11500 rules, processed 11690 probes\n",
      "Contains:12000 rules, processed 12228 probes\n",
      "Contains:12500 rules, processed 12757 probes\n",
      "Contains:13000 rules, processed 13297 probes\n",
      "Contains:13500 rules, processed 13852 probes\n",
      "Contains:14000 rules, processed 14418 probes\n",
      "Contains:14500 rules, processed 14996 probes\n",
      "Contains:15000 rules, processed 15585 probes\n",
      "Contains:15500 rules, processed 16177 probes\n",
      "Contains:16000 rules, processed 16788 probes\n",
      "Contains:16500 rules, processed 17399 probes\n",
      "Contains:17000 rules, processed 18045 probes\n",
      "Contains:17500 rules, processed 18681 probes\n",
      "Contains:18000 rules, processed 19353 probes\n",
      "Contains:18500 rules, processed 20018 probes\n",
      "Contains:19000 rules, processed 20719 probes\n",
      "Contains:19500 rules, processed 21423 probes\n",
      "Contains:20000 rules, processed 22171 probes\n",
      "Contains:20500 rules, processed 22956 probes\n",
      "Contains:21000 rules, processed 23725 probes\n",
      "Contains:21500 rules, processed 24575 probes\n",
      "Contains:22000 rules, processed 25470 probes\n",
      "Contains:22500 rules, processed 26353 probes\n",
      "Contains:23000 rules, processed 27335 probes\n",
      "Contains:23500 rules, processed 28317 probes\n",
      "Contains:24000 rules, processed 29452 probes\n",
      "Contains:24500 rules, processed 30558 probes\n",
      "Contains:25000 rules, processed 31847 probes\n",
      "Contains:25500 rules, processed 33267 probes\n",
      "Contains:26000 rules, processed 34722 probes\n",
      "Contains:26500 rules, processed 36330 probes\n",
      "Contains:27000 rules, processed 38216 probes\n",
      "Contains:27500 rules, processed 40142 probes\n",
      "Contains:28000 rules, processed 42485 probes\n",
      "Contains:28500 rules, processed 44895 probes\n",
      "Contains:29000 rules, processed 47482 probes\n",
      "Contains:29500 rules, processed 50168 probes\n",
      "Contains:30000 rules, processed 53053 probes\n",
      "Contains:30500 rules, processed 56440 probes\n",
      "Contains:31000 rules, processed 59969 probes\n",
      "Contains:31500 rules, processed 63878 probes\n",
      "Contains:32000 rules, processed 68047 probes\n",
      "Contains:32500 rules, processed 72300 probes\n",
      "Contains:33000 rules, processed 76938 probes\n",
      "Contains:33500 rules, processed 81849 probes\n",
      "Contains:34000 rules, processed 87054 probes\n",
      "Contains:34500 rules, processed 92974 probes\n",
      "Contains:35000 rules, processed 99673 probes\n",
      "Contains:35500 rules, processed 107509 probes\n",
      "Contains:36000 rules, processed 116430 probes\n",
      "Contains:36500 rules, processed 126232 probes\n",
      "Contains:37000 rules, processed 137110 probes\n",
      "Contains:37500 rules, processed 150145 probes\n",
      "Contains:38000 rules, processed 164890 probes\n",
      "Contains:38500 rules, processed 184349 probes\n",
      "Contains:39000 rules, processed 214521 probes\n"
     ]
    }
   ],
   "source": [
    "split_genes = super_simple_model(x, y, splt, min_lscc=0.85, min_la=0.85, max_consecutive_fail=None, adapted_sort=True);\n",
    "split_genes.set_index('dim', inplace=True)"
   ]
  },
  {
   "cell_type": "code",
   "execution_count": 74,
   "metadata": {},
   "outputs": [],
   "source": [
    "#split_genes = split_genes.copy().merge(score_list_all['raw'], how='left', left_index=True, right_index=True)\n",
    "split_genes.rename(index=str, columns={'sign': 'lscc_on_the_rightside_of_split'}, inplace=True)"
   ]
  },
  {
   "cell_type": "code",
   "execution_count": 76,
   "metadata": {},
   "outputs": [],
   "source": [
    "# merge with tot\n",
    "#fc = fc.copy().merge(GeneMapping, how='left', left_index=True, right_index=True) # tot\n",
    "split_genes = split_genes.copy().merge(comb, how='left', left_index=True, right_index=True)\n",
    "split_genes['acc_avg'] = split_genes[['acc_la', 'acc_lscc']].mean(axis=1)\n",
    "split_genes['abs_abs_fc_median'] = split_genes.abs_fc_median.abs()"
   ]
  },
  {
   "cell_type": "code",
   "execution_count": 84,
   "metadata": {},
   "outputs": [],
   "source": [
    "split_genes.sort_values(by='abs_abs_fc_median', ascending=False, inplace=True)"
   ]
  },
  {
   "cell_type": "code",
   "execution_count": 86,
   "metadata": {},
   "outputs": [],
   "source": [
    "split_genes.to_csv(\"/media/koekiemonster/DATA-FAST/genetic_expression/hackathon_2/Lung/_results/Methylation_best_splits_all.csv\", sep=\";\")"
   ]
  },
  {
   "cell_type": "code",
   "execution_count": 96,
   "metadata": {},
   "outputs": [],
   "source": [
    "split_genes.query('abs_abs_fc_median>0.1').to_csv(\"/media/koekiemonster/DATA-FAST/genetic_expression/hackathon_2/Lung/_results/Methylation_best_splits.csv\", sep=\";\")"
   ]
  },
  {
   "cell_type": "code",
   "execution_count": 105,
   "metadata": {},
   "outputs": [
    {
     "data": {
      "image/png": "[encoded data removed]",
      "text/plain": [
       "<Figure size 1008x720 with 1 Axes>"
      ]
     },
     "metadata": {
      "needs_background": "light"
     },
     "output_type": "display_data"
    }
   ],
   "source": [
    "split_genes.query('abs_abs_fc_median<0.1').abs_abs_fc_median.plot.hist(bins=200, figsize=(14,10), density=True)\n",
    "split_genes.query('abs_abs_fc_median>0.1').abs_abs_fc_median.plot.hist(bins=200, figsize=(14,10), density=True)\n",
    "plt.savefig('/home/koekiemonster/Pictures/methyl_groups.png')"
   ]
  },
  {
   "cell_type": "code",
   "execution_count": null,
   "metadata": {},
   "outputs": [],
   "source": []
  },
  {
   "cell_type": "markdown",
   "metadata": {},
   "source": [
    "## Paired testing"
   ]
  },
  {
   "cell_type": "code",
   "execution_count": 1,
   "metadata": {},
   "outputs": [],
   "source": [
    "# paired test\n",
    "# KLD\n",
    "from scipy.special import kl_div\n",
    "from scipy.special import rel_entr\n"
   ]
  },
  {
   "cell_type": "markdown",
   "metadata": {},
   "source": [
    "## Paired comparison -> probewise\n",
    "i.e. per sample we have a vector of probe values \n",
    "For each target group we have a different set of probe value vectors. \n",
    "\n",
    "This type of analysis can provide us with sample clusters that may be predictive of target groups.\n",
    "\n",
    "Typical methods are: KLD, JSD, spatial distance (abs cosine, spearman, pearson, euclidean..)\n",
    "\n",
    "## Unpaired comparison -> sample wise\n",
    "i.e. per probe we have vector sample values. \n",
    "\n",
    "This type of analysis can provide us with some metric that describes how well the target groups are seperated per probe.\n",
    "\n",
    "Typical methods are: KS, MWU, Wasserstein, FDR, FPR "
   ]
  },
  {
   "cell_type": "markdown",
   "metadata": {},
   "source": [
    "# Key results\n",
    "\n",
    "* top differential methylation probes and corresponding genes\n",
    "* list of fold changes -> write to file"
   ]
  }
 ],
 "metadata": {
  "kernelspec": {
   "display_name": "Python 3",
   "language": "python",
   "name": "python3"
  },
  "language_info": {
   "codemirror_mode": {
    "name": "ipython",
    "version": 3
   },
   "file_extension": ".py",
   "mimetype": "text/x-python",
   "name": "python",
   "nbconvert_exporter": "python",
   "pygments_lexer": "ipython3",
   "version": "3.6.9"
  }
 },
 "nbformat": 4,
 "nbformat_minor": 2
}
