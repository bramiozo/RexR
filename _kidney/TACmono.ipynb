{
 "cells": [
  {
   "cell_type": "code",
   "execution_count": 1,
   "metadata": {},
   "outputs": [],
   "source": [
    "import pandas as pd\n",
    "import numpy as np\n",
    "import scipy as sc\n",
    "import re"
   ]
  },
  {
   "cell_type": "code",
   "execution_count": 2,
   "metadata": {},
   "outputs": [],
   "source": [
    "TACmonoParameters = pd.read_csv(\"_data/TACmonoparameters.csv\", sep=\";\")"
   ]
  },
  {
   "cell_type": "code",
   "execution_count": 3,
   "metadata": {},
   "outputs": [
    {
     "data": {
      "text/plain": [
       "array(['subject_nr', 'Leefpat', 'Age Donor', 'Type Donor',\n",
       "       'Sex Recipient', 'Sex Donor', 'Total transplants',\n",
       "       'Primary Diagnosis', 'PRA High Recipient',\n",
       "       'Last dialysis technique', 'Cold Ischemia Time Hours',\n",
       "       'Cold Ischemia Time Minutes',\n",
       "       'Second Warm Ischemia Period in minutes', 'mm-A', 'mm-B', 'mm-DR',\n",
       "       'mmtotaal', 'stopreden', 'REJECTIONWHENweeks', 'REJECTION_THERAPY',\n",
       "       'TYPE_ANTIREJ', 'ENDP_REJECTION_TYPE', 'NOTR Date rej Treatment',\n",
       "       'NOTR rej Treatment', 'aantal Aes', 'infwithAB', 'm6protbx',\n",
       "       'TACdosem6', 'tacLEVELm6', 'MMFdosem6', 'MMFLEVELm6',\n",
       "       'M6creatTACmonodb', 'GFRM6tacmonodb', 'M6urinepcrtacmonodb',\n",
       "       'M6CKD_EPItacmonodb', 'NA_EXCRETIONm6', 'PROT_EXCRETIONm6',\n",
       "       'K_EXCRETIONm6', 'M15creattacmono', 'M15GFRtacmono',\n",
       "       'M15prctacmono', 'M15CKD_EPItacmono', 'M15NA_EXCRETION',\n",
       "       'M15PROT_EXCRETION', 'M15FK_LEVEL', 'M15MMF_LEVEL',\n",
       "       'M15K_EXCRETION', 'M3CKDnotr', 'M3creatnotr', 'M3protnotr',\n",
       "       'NOTR m3.Immunosuppressive Drug 1',\n",
       "       'NOTR m3.Immunosuppressive Drug 2',\n",
       "       'NOTR m3.Immunosuppressive Drug 3', 'Y1CKDnotr', 'Y1creatnotr',\n",
       "       'Y1protnotr', 'NOTR y1.Immunosuppressive Drug 1',\n",
       "       'NOTR y1.Immunosuppressive Drug 2',\n",
       "       'NOTR y1.Immunosuppressive Drug 3'], dtype=object)"
      ]
     },
     "execution_count": 3,
     "metadata": {},
     "output_type": "execute_result"
    }
   ],
   "source": [
    "TACmonoParameters.columns.values"
   ]
  },
  {
   "cell_type": "code",
   "execution_count": 4,
   "metadata": {},
   "outputs": [],
   "source": [
    "targetList = ['rej'] #, 'nierf', 'nierfalen']\n",
    "TACmonoParameters = TACmonoParameters[(TACmonoParameters.stopreden!='nierf') & (TACmonoParameters.stopreden!='nierfalen')]"
   ]
  },
  {
   "cell_type": "code",
   "execution_count": 5,
   "metadata": {},
   "outputs": [],
   "source": [
    "TACmonoParameters['target'] = TACmonoParameters.stopreden.apply(lambda x: 1 if x in targetList else 0)"
   ]
  },
  {
   "cell_type": "code",
   "execution_count": 6,
   "metadata": {},
   "outputs": [],
   "source": [
    "TACmonoParameters = TACmonoParameters[TACmonoParameters.stopreden!='anders']\n",
    "TACmonoParameters = TACmonoParameters[TACmonoParameters.stopreden!='dood']\n",
    "TACmonoParameters= TACmonoParameters[~TACmonoParameters.subject_nr.isna()]\n",
    "TACmonoParameters.reset_index(inplace=True)"
   ]
  },
  {
   "cell_type": "code",
   "execution_count": 7,
   "metadata": {},
   "outputs": [],
   "source": [
    "TACmonoAnalyse = pd.ExcelFile(\"_data/TACmonoAnalyse.xlsx\")"
   ]
  },
  {
   "cell_type": "code",
   "execution_count": 8,
   "metadata": {},
   "outputs": [],
   "source": [
    "TACmonoAnalyse_TC45 = pd.read_excel(TACmonoAnalyse, 'tabel TC45')\n",
    "TACmonoAnalyse_TC45.dropna(axis=1,inplace=True,how='all')\n",
    "TACmonoAnalyse_TC45.dropna(axis=0,inplace=True,how='all')\n",
    "\n",
    "TACmonoAnalyse_BASIC = pd.read_excel(TACmonoAnalyse, 'tabel BASIC')\n",
    "TACmonoAnalyse_BASIC.dropna(axis=1,inplace=True,how='all')\n",
    "TACmonoAnalyse_BASIC.dropna(axis=0,inplace=True,how='all')\n",
    "\n",
    "TACmonoAnalyse_Tcel= pd.read_excel(TACmonoAnalyse, 'tabel Tcel')\n",
    "TACmonoAnalyse_Tcel.dropna(axis=1,inplace=True,how='all')\n",
    "TACmonoAnalyse_Tcel.dropna(axis=0,inplace=True,how='all')\n",
    "\n",
    "\n",
    "TACmonoAnalyse_Bcel= pd.read_excel(TACmonoAnalyse, 'tabel Bcel')\n",
    "TACmonoAnalyse_Bcel.dropna(axis=1,inplace=True,how='all')\n",
    "TACmonoAnalyse_Bcel.dropna(axis=0,inplace=True,how='all')\n",
    "\n",
    "\n",
    "TACmonoAnalyse_DC= pd.read_excel(TACmonoAnalyse, 'tabel DC')\n",
    "TACmonoAnalyse_DC.dropna(axis=1,inplace=True,how='all')\n",
    "TACmonoAnalyse_DC.dropna(axis=0,inplace=True,how='all')"
   ]
  },
  {
   "cell_type": "code",
   "execution_count": 9,
   "metadata": {},
   "outputs": [],
   "source": [
    "remove_trailing_number = re.compile(r'\\.[0-9]$')\n",
    "def newColName(x, colname):\n",
    "    if 'Unnamed' not in colname:                \n",
    "        # replace spaces by _\n",
    "        if 'float' in str(type(x)):\n",
    "            x=\"\"   \n",
    "        colname = remove_trailing_number.sub('', colname)\n",
    "        out = colname+\"_\"+x\n",
    "        return re.sub(r'\\s', '_', out)\n",
    "    else:\n",
    "        if 'float' in str(type(x)):\n",
    "            x=\"\"            \n",
    "        out = \"_\"+x\n",
    "        return \"empty\" if x==\"\" else re.sub(r'\\s', '_', out)  "
   ]
  },
  {
   "cell_type": "code",
   "execution_count": 10,
   "metadata": {},
   "outputs": [],
   "source": [
    "for colname in TACmonoAnalyse_TC45.columns.values:\n",
    "    TACmonoAnalyse_TC45.at[0, colname] = newColName(TACmonoAnalyse_TC45.at[0, colname], colname)\n",
    "    \n",
    "for colname in TACmonoAnalyse_BASIC.columns.values:\n",
    "    TACmonoAnalyse_BASIC.at[0, colname] = newColName(TACmonoAnalyse_BASIC.at[0, colname], colname)\n",
    "    \n",
    "for colname in TACmonoAnalyse_Tcel.columns.values:\n",
    "    TACmonoAnalyse_Tcel.at[0, colname] = newColName(TACmonoAnalyse_Tcel.at[0, colname], colname)\n",
    "\n",
    "for colname in TACmonoAnalyse_Bcel.columns.values:\n",
    "    TACmonoAnalyse_Bcel.at[0, colname] = newColName(TACmonoAnalyse_Bcel.at[0, colname], colname)\n",
    "    \n",
    "for colname in TACmonoAnalyse_DC.columns.values:\n",
    "    TACmonoAnalyse_DC.at[0, colname] = newColName(TACmonoAnalyse_DC.at[0, colname], colname)"
   ]
  },
  {
   "cell_type": "code",
   "execution_count": 11,
   "metadata": {},
   "outputs": [],
   "source": [
    "TACmonoAnalyse_TC45.columns = TACmonoAnalyse_TC45.iloc[0, :].values\n",
    "TACmonoAnalyse_TC45.drop(0, axis=0, inplace=True)\n",
    "\n",
    "TACmonoAnalyse_BASIC.columns = TACmonoAnalyse_BASIC.iloc[0, :].values\n",
    "TACmonoAnalyse_BASIC.drop(0, axis=0, inplace=True)\n",
    "\n",
    "TACmonoAnalyse_Tcel.columns = TACmonoAnalyse_Tcel.iloc[0, :].values\n",
    "TACmonoAnalyse_Tcel.drop(0, axis=0, inplace=True)\n",
    "\n",
    "TACmonoAnalyse_Bcel.columns = TACmonoAnalyse_Bcel.iloc[0, :].values\n",
    "TACmonoAnalyse_Bcel.drop(0, axis=0, inplace=True)\n",
    "\n",
    "TACmonoAnalyse_DC.columns = TACmonoAnalyse_DC.iloc[0, :].values\n",
    "TACmonoAnalyse_DC.drop(0, axis=0, inplace=True)"
   ]
  },
  {
   "cell_type": "code",
   "execution_count": 12,
   "metadata": {},
   "outputs": [],
   "source": [
    "TACmonoAnalyse_TC45 = TACmonoAnalyse_TC45[TACmonoAnalyse_TC45.studie_fase_=='in']\n",
    "TACmonoAnalyse_TC45.drop('studie_fase_', axis=1, inplace=True)\n",
    "TACmonoAnalyse_BASIC = TACmonoAnalyse_BASIC[TACmonoAnalyse_BASIC.studie_fase_=='in']\n",
    "TACmonoAnalyse_BASIC.drop('studie_fase_', axis=1, inplace=True)\n",
    "TACmonoAnalyse_Tcel = TACmonoAnalyse_Tcel[TACmonoAnalyse_Tcel.studie_fase_=='in']\n",
    "TACmonoAnalyse_Tcel.drop('studie_fase_', axis=1, inplace=True)\n",
    "TACmonoAnalyse_Bcel = TACmonoAnalyse_Bcel[TACmonoAnalyse_Bcel.studie_fase_=='in']\n",
    "TACmonoAnalyse_Bcel.drop('studie_fase_', axis=1, inplace=True)\n",
    "TACmonoAnalyse_DC = TACmonoAnalyse_DC[TACmonoAnalyse_DC.studie_fase_=='in']\n",
    "TACmonoAnalyse_DC.drop('studie_fase_', axis=1, inplace=True)"
   ]
  },
  {
   "cell_type": "code",
   "execution_count": 13,
   "metadata": {},
   "outputs": [],
   "source": [
    "def mapTime(x):\n",
    "    if 'pre' in x:\n",
    "        return 0\n",
    "    elif 'M6' in x:\n",
    "        return 1\n",
    "    elif 'M9' in x: \n",
    "        return 2\n",
    "    elif 'M12' in x:\n",
    "        return 3\n",
    "    elif 'M15' in x:\n",
    "        return 4\n",
    "\n",
    "TACmonoAnalyse_TC45.tijdspunt_ = TACmonoAnalyse_TC45.tijdspunt_.apply(lambda x: mapTime(x))\n",
    "TACmonoAnalyse_BASIC.tijdspunt_ = TACmonoAnalyse_BASIC.tijdspunt_.apply(lambda x: mapTime(x))\n",
    "TACmonoAnalyse_Tcel.tijdspunt_ = TACmonoAnalyse_Tcel.tijdspunt_.apply(lambda x: mapTime(x))\n",
    "TACmonoAnalyse_Bcel.tijdspunt_ = TACmonoAnalyse_Bcel.tijdspunt_.apply(lambda x: mapTime(x))\n",
    "TACmonoAnalyse_DC.tijdspunt_ = TACmonoAnalyse_DC.tijdspunt_.apply(lambda x: mapTime(x))"
   ]
  },
  {
   "cell_type": "code",
   "execution_count": 14,
   "metadata": {},
   "outputs": [],
   "source": [
    "TACmonoAnalyse_TC45= TACmonoAnalyse_TC45[~TACmonoAnalyse_TC45.subject_nr_.isna()]\n",
    "\n",
    "TACmonoAnalyse_BASIC=TACmonoAnalyse_BASIC[~TACmonoAnalyse_BASIC.subject_nr_.isna()]\n",
    "\n",
    "TACmonoAnalyse_Tcel= TACmonoAnalyse_Tcel[~TACmonoAnalyse_Tcel.subject_nr_.isna()]\n",
    "\n",
    "TACmonoAnalyse_Bcel= TACmonoAnalyse_Bcel[~TACmonoAnalyse_Bcel.subject_nr_.isna()]\n",
    "\n",
    "TACmonoAnalyse_DC= TACmonoAnalyse_DC[~TACmonoAnalyse_DC.subject_nr_.isna()]"
   ]
  },
  {
   "cell_type": "code",
   "execution_count": 15,
   "metadata": {},
   "outputs": [],
   "source": [
    "TACmonoAnalyse_TC45.columns = ['TC45_'+col for col in TACmonoAnalyse_TC45.columns.values]\n",
    "\n",
    "TACmonoAnalyse_BASIC.columns = ['BASIC_'+col for col in TACmonoAnalyse_BASIC.columns.values]\n",
    "\n",
    "TACmonoAnalyse_Tcel.columns = ['Tcel_'+col for col in TACmonoAnalyse_Tcel.columns.values]\n",
    "\n",
    "TACmonoAnalyse_Bcel.columns = ['Bcel_'+col for col in TACmonoAnalyse_Bcel.columns.values]\n",
    "\n",
    "TACmonoAnalyse_DC.columns = ['DC_'+col for col in TACmonoAnalyse_DC.columns.values]\n"
   ]
  },
  {
   "cell_type": "code",
   "execution_count": 16,
   "metadata": {},
   "outputs": [],
   "source": [
    "TACmonoParameters.index = TACmonoParameters.subject_nr\n",
    "TACmonoAnalyse_TC45.index = TACmonoAnalyse_TC45.TC45_subject_nr_\n",
    "TACmonoAnalyse_BASIC.index = TACmonoAnalyse_BASIC.BASIC_subject_nr_\n",
    "TACmonoAnalyse_Tcel.index = TACmonoAnalyse_Tcel.Tcel_subject_nr_\n",
    "TACmonoAnalyse_Bcel.index = TACmonoAnalyse_Bcel.Bcel_subject_nr_\n",
    "TACmonoAnalyse_DC.index = TACmonoAnalyse_DC.DC_subject_nr_\n"
   ]
  },
  {
   "cell_type": "markdown",
   "metadata": {},
   "source": [
    "## Merge..."
   ]
  },
  {
   "cell_type": "code",
   "execution_count": 17,
   "metadata": {},
   "outputs": [],
   "source": [
    "Final = pd.concat([TACmonoParameters, \n",
    "                  TACmonoAnalyse_TC45[TACmonoAnalyse_TC45.TC45_tijdspunt_==0],\n",
    "                  TACmonoAnalyse_BASIC[TACmonoAnalyse_BASIC.BASIC_tijdspunt_==0],\n",
    "                  TACmonoAnalyse_Tcel[TACmonoAnalyse_Tcel.Tcel_tijdspunt_==0],\n",
    "                  TACmonoAnalyse_Bcel[TACmonoAnalyse_Bcel.Bcel_tijdspunt_==0],\n",
    "                  TACmonoAnalyse_DC[TACmonoAnalyse_DC.DC_tijdspunt_==0]],\n",
    "                  join='outer', axis=1)\n",
    "Final.dropna(axis=0,inplace=True,how='all')\n",
    "Final = Final[~Final.subject_nr.isna()]"
   ]
  },
  {
   "cell_type": "code",
   "execution_count": 18,
   "metadata": {},
   "outputs": [],
   "source": [
    "Final.drop('index', axis=1, inplace=True)"
   ]
  },
  {
   "cell_type": "code",
   "execution_count": 19,
   "metadata": {},
   "outputs": [],
   "source": [
    "for col in Final.columns.values:\n",
    "    if \"number\" in col.lower():\n",
    "        Final = Final.drop(col,axis=1)"
   ]
  },
  {
   "cell_type": "code",
   "execution_count": 20,
   "metadata": {},
   "outputs": [],
   "source": [
    "for col in Final.columns.values:\n",
    "    if \"subject_nr\" in col:\n",
    "        Final = Final.drop(col,axis=1)"
   ]
  },
  {
   "cell_type": "code",
   "execution_count": 21,
   "metadata": {},
   "outputs": [],
   "source": [
    "for col in Final.columns.values:\n",
    "    if \"studienr\" in col:\n",
    "        Final = Final.drop(col,axis=1)"
   ]
  },
  {
   "cell_type": "code",
   "execution_count": 22,
   "metadata": {},
   "outputs": [],
   "source": [
    "for col in Final.columns.values:\n",
    "    if \"comment\" in col.lower():\n",
    "        Final = Final.drop(col,axis=1)"
   ]
  },
  {
   "cell_type": "code",
   "execution_count": 23,
   "metadata": {},
   "outputs": [],
   "source": [
    "for col in Final.columns.values:\n",
    "    if \"complicaties\" in col.lower():\n",
    "        Final = Final.drop(col,axis=1)"
   ]
  },
  {
   "cell_type": "code",
   "execution_count": 24,
   "metadata": {},
   "outputs": [],
   "source": [
    "for col in Final.columns.values:\n",
    "    if \"date\" in col.lower():\n",
    "        Final = Final.drop(col,axis=1)"
   ]
  },
  {
   "cell_type": "code",
   "execution_count": 25,
   "metadata": {},
   "outputs": [],
   "source": [
    "for col in Final.columns.values:\n",
    "    if \"rejection\" in col.lower():\n",
    "        Final = Final.drop(col,axis=1)"
   ]
  },
  {
   "cell_type": "code",
   "execution_count": 26,
   "metadata": {},
   "outputs": [],
   "source": [
    "for col in Final.columns.values:\n",
    "    if \"stopreden\" in col.lower():\n",
    "        Final = Final.drop(col,axis=1)"
   ]
  },
  {
   "cell_type": "code",
   "execution_count": 27,
   "metadata": {},
   "outputs": [],
   "source": [
    "for col in Final.columns.values:\n",
    "    if \"Y1\" in col:\n",
    "        Final = Final.drop(col,axis=1)\n",
    "for col in Final.columns.values:\n",
    "    if \"Y2\" in col:\n",
    "        Final = Final.drop(col,axis=1)\n",
    "for col in Final.columns.values:\n",
    "    if \"M3\" in col:\n",
    "        Final = Final.drop(col,axis=1)\n",
    "for col in Final.columns.values:\n",
    "    if \"M6\" in col:\n",
    "        Final = Final.drop(col,axis=1)        \n",
    "for col in Final.columns.values:\n",
    "    if \"M15\" in col:\n",
    "        Final = Final.drop(col,axis=1)        "
   ]
  },
  {
   "cell_type": "code",
   "execution_count": 28,
   "metadata": {},
   "outputs": [],
   "source": [
    "Final.target = Final.target.astype('int')"
   ]
  },
  {
   "cell_type": "code",
   "execution_count": 29,
   "metadata": {},
   "outputs": [],
   "source": [
    "for col in Final.columns.values:\n",
    "    try:\n",
    "        if 'object' in str(Final[col].dtypes):\n",
    "            try:\n",
    "                Final[col] = Final[col].astype('float64')                \n",
    "            except:\n",
    "                try:\n",
    "                    Final[col] = Final[col].astype('category')\n",
    "                except:\n",
    "                    Final[col] = Final[col].astype('str')\n",
    "    except:\n",
    "        Final[col] = Final[col].astype('category')"
   ]
  },
  {
   "cell_type": "code",
   "execution_count": 30,
   "metadata": {},
   "outputs": [],
   "source": [
    "#Final['studienr']=Final.index"
   ]
  },
  {
   "cell_type": "code",
   "execution_count": 31,
   "metadata": {},
   "outputs": [],
   "source": [
    "Final.to_csv(\"Prep_TACmono.csv\",sep=\";\")"
   ]
  },
  {
   "cell_type": "code",
   "execution_count": 92,
   "metadata": {
    "collapsed": true
   },
   "outputs": [
    {
     "data": {
      "text/plain": [
       "array(['Leefpat', 'Age Donor', 'Type Donor', 'Sex Recipient', 'Sex Donor',\n",
       "       'Total transplants', 'Primary Diagnosis', 'PRA High Recipient',\n",
       "       'Last dialysis technique', 'Cold Ischemia Time Hours',\n",
       "       'Cold Ischemia Time Minutes',\n",
       "       'Second Warm Ischemia Period in minutes', 'mm-A', 'mm-B', 'mm-DR',\n",
       "       'mmtotaal', 'TYPE_ANTIREJ', 'NOTR rej Treatment', 'aantal Aes',\n",
       "       'infwithAB', 'm6protbx', 'TACdosem6', 'tacLEVELm6', 'MMFdosem6',\n",
       "       'MMFLEVELm6', 'NA_EXCRETIONm6', 'PROT_EXCRETIONm6',\n",
       "       'K_EXCRETIONm6', 'NOTR m3.Immunosuppressive Drug 1',\n",
       "       'NOTR m3.Immunosuppressive Drug 2',\n",
       "       'NOTR m3.Immunosuppressive Drug 3',\n",
       "       'NOTR y1.Immunosuppressive Drug 1',\n",
       "       'NOTR y1.Immunosuppressive Drug 2',\n",
       "       'NOTR y1.Immunosuppressive Drug 3', 'target', 'TC45_tijdspunt_',\n",
       "       'TC45_all_%Gated', 'TC45_beads_%Gated', 'TC45_CD45_%Gated',\n",
       "       'TC45_lymfocytes_%Gated', 'TC45_CD45_absoluut',\n",
       "       'TC45_lymfocytes__absoluut', 'TC45_bead_count_bead_count',\n",
       "       'TC45_%lymfo_vd_CD45', 'TC45_leuco_AKC_abs', 'TC45_lymfo_AKC_%',\n",
       "       'TC45_lymfo_AKC_abs', 'BASIC_tijdspunt_', 'BASIC_All_%_gated',\n",
       "       'BASIC_singlets_%_gated', 'BASIC_CD45+_leucocytes_%_gated',\n",
       "       'BASIC_CD45+_leucocytes_absoluut', 'BASIC_Mono_+_lymfo_%_gated',\n",
       "       'BASIC_Mono_+_lymfo_absoluut', 'BASIC_lymphocytes_%_gated',\n",
       "       'BASIC_lymphocytes_absoluut', 'BASIC_B_cells_%_gated',\n",
       "       'BASIC_B_cells_absoluut', 'BASIC_CD3+_T_cells_%_gated',\n",
       "       'BASIC_CD3+_T_cells_absoluut', 'BASIC_CD3+CD56+_T_cell_%_gated',\n",
       "       'BASIC_CD3+CD56+_T_cell_absoluut', 'BASIC_CD4+_T_cells_%_gated',\n",
       "       'BASIC_CD4+_T_cells_absoluut', 'BASIC_CD8+_T_cells_%_gated',\n",
       "       'BASIC_CD8+_T_cells_absoluut', 'BASIC_CD56+_NK_cells_%_gated',\n",
       "       'BASIC_CD56+_NK_cells_absoluut', 'BASIC_CD16+CD56dim_NK_%_gated',\n",
       "       'BASIC_CD16+CD56dim_NK_absoluut', 'BASIC_CD16+CD56high_NK_%_gated',\n",
       "       'BASIC_CD16+CD56high_NK_absoluut', 'BASIC_CD16-CD56dim_NK_%_gated',\n",
       "       'BASIC_CD16-CD56dim_NK_absoluut', 'BASIC_CD16-CD56high_NK_%_gated',\n",
       "       'BASIC_CD16-CD56high_NK_absoluut', 'BASIC_monocytes_%_gated',\n",
       "       'BASIC_monocytes_absoluut',\n",
       "       'BASIC_CD14+CD16high_monocytes_%_gated',\n",
       "       'BASIC_CD14+CD16high_monocytes_absoluut',\n",
       "       'BASIC_CD14highCD16-_monocytes_%_gated',\n",
       "       'BASIC_CD14highCD16-_monocytes_absoluut',\n",
       "       'BASIC_CD14highCD16+_monocytes_%_gated',\n",
       "       'BASIC_CD14highCD16+_monocytes_absoluut', 'Tcel_tijdspunt_',\n",
       "       'Tcel_All_%Gated', 'Tcel_singlets_%Gated',\n",
       "       'Tcel_CD45+_leucocytes_%Gated', 'Tcel_CD45+_leucocytes_absoluut',\n",
       "       'Tcel_lymphocytes_%Gated', 'Tcel_lymphocytes_absoluut',\n",
       "       'Tcel_CD3+_T_cells_%Gated', 'Tcel_CD3+_T_cells_absoluut',\n",
       "       'Tcel_CD4+_T_cells_%Gated', 'Tcel_CD4+_T_cells_absoluut',\n",
       "       'Tcel_CD4+CD57+_%Gated', 'Tcel_CD4+CD57+_absoluut', 'Tcel__%Gated',\n",
       "       'Tcel_CM_absoluut', 'Tcel_CD4+CCR7+CD45RA+_%Gated',\n",
       "       'Tcel_CD4+CCR7+CD45RA+_absoluut', 'Tcel__%Gated',\n",
       "       'Tcel_EM_absoluut', 'Tcel__%Gated', 'Tcel_EMRA_absoluut',\n",
       "       'Tcel_CD4+CD27-CD28+_%Gated', 'Tcel_CD4+CD27-CD28+_absoluut',\n",
       "       'Tcel_CD4+CD27+CD28+_%Gated', 'Tcel_CD4+CD27+CD28+_absoluut',\n",
       "       'Tcel_CD4+CD27-CD28-_%Gated', 'Tcel_CD4+CD27-CD28-_absoluut',\n",
       "       'Tcel_CD4+CD27+CD28-_%Gated', 'Tcel_CD4+CD27+CD28-_absoluut',\n",
       "       'Tcel_CD4+CD28-PD1+_%Gated', 'Tcel_CD4+CD28-PD1+_absoluut',\n",
       "       'Tcel_CD4+CD28+PD1+_%Gated', 'Tcel_CD4+CD28+PD1+_absoluut',\n",
       "       'Tcel_CD4+CD28-PD1-_%Gated', 'Tcel_CD4+CD28-PD1-_absoluut',\n",
       "       'Tcel_CD4+CD28+PD1-_%Gated', 'Tcel_CD4+CD28+PD1-_absoluut',\n",
       "       'Tcel_CD4+CD28-CD57+_%Gated', 'Tcel_CD4+CD28-CD57+_absoluut',\n",
       "       'Tcel_CD4+CD28+CD57+_%Gated', 'Tcel_CD4+CD28+CD57+_absoluut',\n",
       "       'Tcel_CD4+CD28-CD57-_%Gated', 'Tcel_CD4+CD28-CD57-_absoluut',\n",
       "       'Tcel_CD4+CD28+CD57-_%Gated', 'Tcel_CD4+CD28+CD57-_absoluut',\n",
       "       'Tcel_CD4+EMRA_CD28-CD57+_%Gated',\n",
       "       'Tcel_CD4+EMRA_CD28-CD57+_absoluut',\n",
       "       'Tcel_CD4+EMRA_CD28+CD57+_%Gated',\n",
       "       'Tcel_CD4+EMRA_CD28+CD57+_absoluut',\n",
       "       'Tcel_CD4+EMRA_CD28-CD57-_%Gated',\n",
       "       'Tcel_CD4+EMRA_CD28-CD57-_absoluut',\n",
       "       'Tcel_CD4+EMRA_CD28+CD57-_%Gated',\n",
       "       'Tcel_CD4+EMRA_CD28+CD57-_absoluut', 'Tcel_CD8+_T_cells_%Gated',\n",
       "       'Tcel_CD8+_T_cells_absoluut', 'Tcel_CD8+CD57+_%Gated',\n",
       "       'Tcel_CD8+CD57+_absoluut', 'Tcel_CD8+CCR7+CD45RA-_%Gated',\n",
       "       'Tcel_CM_absoluut', 'Tcel_CD8+CCR7+CD45RA+_%Gated',\n",
       "       'Tcel_CD8+CCR7+CD45RA+_absoluut', 'Tcel_CD8+CCR7-CD45RA-_%Gated',\n",
       "       'Tcel_EM_absoluut', 'Tcel_CD8+CCR7-CD45RA+_%Gated',\n",
       "       'Tcel_EMRA_absoluut', 'Tcel_CD8+CD27-CD28+_%Gated',\n",
       "       'Tcel_CD8+CD27-CD28+_absoluut', 'Tcel_CD8+CD27+CD28+_%Gated',\n",
       "       'Tcel_CD8+CD27+CD28+_absoluut', 'Tcel_CD8+CD27-CD28-_%Gated',\n",
       "       'Tcel_CD8+CD27-CD28-_absoluut', 'Tcel_CD8+CD27+CD28-_%Gated',\n",
       "       'Tcel_CD8+CD27+CD28-_absoluut', 'Tcel_CD8+CD28-PD1+_%Gated',\n",
       "       'Tcel_CD8+CD28-PD1+_absoluut', 'Tcel_CD8+CD28+PD1+_%Gated',\n",
       "       'Tcel_CD8+CD28+PD1+_absoluut', 'Tcel_CD8+CD28-PD1-_%Gated',\n",
       "       'Tcel_CD8+CD28-PD1-_absoluut', 'Tcel_CD8+CD28+PD1-_%Gated',\n",
       "       'Tcel_CD8+CD28+PD1-_absoluut', 'Tcel_CD8+CD28-CD57+_%Gated',\n",
       "       'Tcel_CD8+CD28-CD57+_absoluut', 'Tcel_CD8+CD28+CD57+_%Gated',\n",
       "       'Tcel_CD8+CD28+CD57+_absoluut', 'Tcel_CD8+CD28-CD57-_%Gated',\n",
       "       'Tcel_CD8+CD28-CD57-_absoluut', 'Tcel_CD8+CD28+CD57-_%Gated',\n",
       "       'Tcel_CD8+CD28+CD57-_absoluut', 'Tcel_CD8+EMRA_CD28-CD57+_%Gated',\n",
       "       'Tcel_CD8+EMRA_CD28-CD57+_absoluut',\n",
       "       'Tcel_CD8+EMRA_CD28+CD57+_%Gated',\n",
       "       'Tcel_CD8+EMRA_CD28+CD57+_absoluut',\n",
       "       'Tcel_CD8+EMRA_CD28-CD57-_%Gated',\n",
       "       'Tcel_CD8+EMRA_CD28-CD57-_absoluut',\n",
       "       'Tcel_CD8+EMRA_CD28+CD57-_%Gated',\n",
       "       'Tcel_CD8+EMRA_CD28+CD57-_absoluut', 'Bcel_tijdspunt_',\n",
       "       'Bcel_all_%gated', 'Bcel_singlets_%gated',\n",
       "       'Bcel_CD45+_Leucocytes_%gated', 'Bcel_CD45+_Leucocytes_absoluut',\n",
       "       'Bcel_lymfocytes_%gated', 'Bcel_lymfocytes_absoluut',\n",
       "       'Bcel_CD19+_B_cells_%gated', 'Bcel_CD19+_B_cells_absoluut',\n",
       "       'Bcel_CD21+CD38dim_%gated', 'Bcel_CD21+CD38dim_absoluut',\n",
       "       'Bcel_CD21+CD38high_%gated', 'Bcel_CD21+CD38high_absoluut',\n",
       "       'Bcel_CD21-CD38dim_%gated', 'Bcel_CD21-CD38dim_absoluut',\n",
       "       'Bcel_CD21-CD38high_%gated', 'Bcel_CD21-CD38high_absoluut',\n",
       "       'Bcel_CD21-CD38low_%gated', 'Bcel_CD21-CD38low_absoluut',\n",
       "       'Bcel_IgM+IgD-_%gated', 'Bcel_IgM+IgD-_absoluut',\n",
       "       'Bcel_IgM+IgD+_%gated', 'Bcel_IgM+IgD+_absoluut',\n",
       "       'Bcel_IgM-IgD-_%gated', 'Bcel_IgM-IgD-_absoluut',\n",
       "       'Bcel_IgM-IgD+_%gated', 'Bcel_IgM-IgD+_absoluut',\n",
       "       'Bcel_IgD-CD27+_%gated', 'Bcel_IgD-CD27+_absoluut',\n",
       "       'Bcel_IgD+CD27+_(marginal_zone_B_cells)_%gated',\n",
       "       'Bcel_IgD+CD27+_(marginal_zone_B_cells)_absoluut',\n",
       "       'Bcel_IgD-CD27-_%gated', 'Bcel_IgD-CD27-_absoluut',\n",
       "       'Bcel_IgD+CD27-_(naive_B_cells)_%gated',\n",
       "       'Bcel_IgD+CD27-_(naive_B_cells)_absoluut',\n",
       "       'Bcel_class_switched_memory_B_cells_%gated',\n",
       "       'Bcel_class_switched_memory_B_cells_absoluut',\n",
       "       'Bcel_IgD-IgM-CD27+CD38high_%gated',\n",
       "       'Bcel_IgD-IgM-CD27+CD38high_absoluut',\n",
       "       'Bcel_IgD-IgM-CD27-CD38low_%gated',\n",
       "       'Bcel_IgD-IgM-CD27-CD38low_absoluut',\n",
       "       'Bcel_IgD-IgM-CD27-CD38_high_%gated',\n",
       "       'Bcel_IgD-IgM-CD27-CD38_high_absoluut', 'Bcel_plasmablast_%gated',\n",
       "       'Bcel_plasmablast_absoluut', 'Bcel_IgM+_%gated',\n",
       "       'Bcel_IgM+_absoluut', 'Bcel_IgM+CD27+CD38dim_%gated',\n",
       "       'Bcel_IgM+CD27+CD38dim_absoluut', 'Bcel_IgM+CD27+CD38high_%gated',\n",
       "       'Bcel_IgM+CD27+CD38high_absoluut', 'Bcel_IgM+CD27-CD38dim_%gated',\n",
       "       'Bcel_IgM+CD27-CD38dim_absoluut', 'Bcel_IgM+CD27-CD38high_%gated',\n",
       "       'Bcel_IgM+CD27-CD38high_absoluut',\n",
       "       'Bcel_IgD-IgM+CD27+CD38dim_%gated',\n",
       "       'Bcel_IgD-IgM+CD27+CD38dim_absoluut',\n",
       "       'Bcel_IgD-IgM+CD27+CD38high_%gated',\n",
       "       'Bcel_IgD-IgM+CD27+CD38high_absoluut',\n",
       "       'Bcel_IgD-IgM+CD27-CD38dim_%gated',\n",
       "       'Bcel_IgD-IgM+CD27-CD38dim_absoluut',\n",
       "       'Bcel_IgD-IgM+CD27-CD38high_%gated',\n",
       "       'Bcel_IgD-IgM+CD27-CD38high_absoluut', 'Bcel_IgM+CD27-_%gated',\n",
       "       'Bcel_IgM+CD27-_absoluut', 'Bcel_CD19+IgM+CD38high_%gated',\n",
       "       'Bcel_CD19+IgM+CD38high_absoluut',\n",
       "       'Bcel_transitional_B_cell_%gated',\n",
       "       'Bcel_transitional_B_cell_absoluut', 'DC_tijdspunt_',\n",
       "       'DC_All_%gated', 'DC_singlets_%gated',\n",
       "       'DC_CD45+_leucocytes_%gated', 'DC_CD45+_leucocytes_absoluut',\n",
       "       'DC_DC_region_%gated', 'DC_DC_region_absoluut',\n",
       "       'DC_LIN-HLA-DR+_%gated', 'DC_LIN-HLA-DR+_absoluut',\n",
       "       'DC_LIN-HLA-DR+CD11c-_(TM2)_%gated',\n",
       "       'DC_LIN-HLA-DR+CD11c-_(TM2)_absoluut', 'DC_pDC_%gated',\n",
       "       'DC_pDC_absoluut', 'DC_mDC_(TM2)_%gated', 'DC_mDC_(TM2)_absoluut',\n",
       "       'DC_mDC1_%gated', 'DC_mDC1_absoluut', 'DC_mDC_wo_mDC1_%gated',\n",
       "       'DC_mDC_wo_mDC1_absoluut', 'DC_mDC2_%gated', 'DC_mDC2_absoluut',\n",
       "       'DC_CD16+_mDC_%gated', 'DC_CD16+_mDC_absoluut', 'studienr'],\n",
       "      dtype=object)"
      ]
     },
     "execution_count": 92,
     "metadata": {},
     "output_type": "execute_result"
    }
   ],
   "source": [
    "Final.columns.values"
   ]
  },
  {
   "cell_type": "markdown",
   "metadata": {},
   "source": [
    "# ...train model"
   ]
  },
  {
   "cell_type": "code",
   "execution_count": 407,
   "metadata": {},
   "outputs": [],
   "source": [
    "from sklearn import ensemble\n",
    "from sklearn.model_selection import train_test_split, cross_val_score  \n",
    "from sklearn.model_selection import cross_validate\n",
    "from sklearn.model_selection import cross_val_predict\n",
    "from sklearn.model_selection import StratifiedKFold\n",
    "from sklearn.decomposition import PCA\n",
    "from sklearn.feature_selection import RFECV\n",
    "from sklearn.linear_model import LogisticRegressionCV\n",
    "from sklearn import metrics\n",
    "from tpot import TPOTClassifier\n",
    "from sklearn.model_selection import train_test_split"
   ]
  },
  {
   "cell_type": "code",
   "execution_count": 408,
   "metadata": {},
   "outputs": [],
   "source": [
    "df = pd.get_dummies(Final)\n",
    "df.fillna(0, inplace=True)"
   ]
  },
  {
   "cell_type": "code",
   "execution_count": 462,
   "metadata": {},
   "outputs": [],
   "source": [
    "x = df.drop(['target'], axis=1)\n",
    "y = df['target']"
   ]
  },
  {
   "cell_type": "code",
   "execution_count": 463,
   "metadata": {},
   "outputs": [],
   "source": [
    "for col in x.columns.values:\n",
    "    if \"tijdspunt\" in col.lower():\n",
    "        x = x.drop(col,axis=1)"
   ]
  },
  {
   "cell_type": "code",
   "execution_count": 464,
   "metadata": {},
   "outputs": [],
   "source": [
    "# alleen klinische data\n",
    "x=x[['Leefpat', 'Age Donor', 'Total transplants', 'PRA High Recipient',\n",
    "       'Cold Ischemia Time Hours', 'Cold Ischemia Time Minutes',\n",
    "       'Second Warm Ischemia Period in minutes', 'mm-A', 'mm-B', 'mm-DR',\n",
    "       'mmtotaal', 'aantal Aes', 'infwithAB']]"
   ]
  },
  {
   "cell_type": "code",
   "execution_count": null,
   "metadata": {},
   "outputs": [],
   "source": [
    "# PCA\n",
    "x = PCA(n_components=50).fit_transform(x)"
   ]
  },
  {
   "cell_type": "code",
   "execution_count": null,
   "metadata": {},
   "outputs": [],
   "source": [
    "# recursive feature elimination\n",
    "MODEL = ensemble.RandomForestClassifier()\n",
    "x = RFECV(step=1, cv=7, n_jobs=8, estimator=MODEL).fit_transform(x,y)"
   ]
  },
  {
   "cell_type": "code",
   "execution_count": 467,
   "metadata": {},
   "outputs": [
    {
     "name": "stdout",
     "output_type": "stream",
     "text": [
      "             precision    recall  f1-score   support\n",
      "\n",
      "        0.0       0.84      0.97      0.90        78\n",
      "        1.0       0.50      0.12      0.20        16\n",
      "\n",
      "avg / total       0.79      0.83      0.78        94\n",
      "\n",
      "Total accuracy: 0.8297872340425532\n",
      "AUC/ROC: 0.5496794871794871\n"
     ]
    }
   ],
   "source": [
    "MODEL = ensemble.RandomForestClassifier(n_estimators=20, \n",
    "                                        min_samples_split=10, \n",
    "                                        max_depth=14, \n",
    "                                        min_samples_leaf=2,\n",
    "                                        n_jobs=8, \n",
    "                                        bootstrap=True,\n",
    "                                        criterion='entropy')\n",
    "cv_results = cross_val_predict(MODEL, x, y, cv = 10)\n",
    "\n",
    "print(metrics.classification_report(y, cv_results))\n",
    "print(\"Total accuracy: {}\".format(metrics.accuracy_score(y, cv_results)))\n",
    "print(\"AUC/ROC: {}\".format(metrics.roc_auc_score(y, cv_results)))"
   ]
  },
  {
   "cell_type": "code",
   "execution_count": 466,
   "metadata": {},
   "outputs": [
    {
     "name": "stdout",
     "output_type": "stream",
     "text": [
      "             precision    recall  f1-score   support\n",
      "\n",
      "        0.0       0.83      1.00      0.91        78\n",
      "        1.0       0.00      0.00      0.00        16\n",
      "\n",
      "avg / total       0.69      0.83      0.75        94\n",
      "\n",
      "Total accuracy: 0.8297872340425532\n",
      "AUC/ROC: 0.5\n"
     ]
    },
    {
     "name": "stderr",
     "output_type": "stream",
     "text": [
      "/usr/local/lib/python3.6/dist-packages/sklearn/metrics/classification.py:1135: UndefinedMetricWarning: Precision and F-score are ill-defined and being set to 0.0 in labels with no predicted samples.\n",
      "  'precision', 'predicted', average, warn_for)\n"
     ]
    }
   ],
   "source": [
    "MODEL = ensemble.RandomForestClassifier(bootstrap=True, \n",
    "                                        criterion='gini', \n",
    "                                        max_features=0.9, \n",
    "                                        min_samples_leaf=12, \n",
    "                                        min_samples_split=9, \n",
    "                                        n_estimators=20)\n",
    "cv_results = cross_val_predict(MODEL, x, y, cv = 10)\n",
    "\n",
    "print(metrics.classification_report(y, cv_results))\n",
    "print(\"Total accuracy: {}\".format(metrics.accuracy_score(y, cv_results)))\n",
    "print(\"AUC/ROC: {}\".format(metrics.roc_auc_score(y, cv_results)))"
   ]
  },
  {
   "cell_type": "code",
   "execution_count": null,
   "metadata": {},
   "outputs": [],
   "source": [
    "# ExtraTreesClassifier(input_matrix, bootstrap=False, criterion=gini, max_features=0.6000000000000001, min_samples_leaf=3, min_samples_split=8, n_estimators=100)\n",
    "# BernoulliNB(PCA(BernoulliNB(input_matrix, alpha=10.0, fit_prior=True), iterated_power=5, svd_solver=randomized), alpha=10.0, fit_prior=True)\n",
    "# KNeighborsClassifier(input_matrix, n_neighbors=9, p=1, weights=distance)\n",
    "# ensemble.RandomForestClassifier(bootstrap=False, criterion='entropy', max_features=0.7000000000000001, min_samples_leaf=14, min_samples_split=19, n_estimators=100)\n",
    "# ensemble.RandomForestClassifier(bootstrap=True, criterion=gini, max_features=0.5, min_samples_leaf=10, min_samples_split=19, n_estimators=20)\n",
    "# ensemble.RandomForestClassifier(bootstrap=True, criterion=gini, max_features=0.9000000000000001, min_samples_leaf=12, min_samples_split=9, n_estimators=20)"
   ]
  },
  {
   "cell_type": "code",
   "execution_count": 347,
   "metadata": {
    "collapsed": true
   },
   "outputs": [
    {
     "data": {
      "text/plain": [
       "Pipeline(memory=None,\n",
       "     steps=[('randomforestclassifier', RandomForestClassifier(bootstrap=False, class_weight=None,\n",
       "            criterion='entropy', max_depth=None,\n",
       "            max_features=0.7000000000000001, max_leaf_nodes=None,\n",
       "            min_impurity_decrease=0.0, min_impurity_split=None,\n",
       "            min_samples_leaf=14, min_samples_split=19,\n",
       "            min_weight_fraction_leaf=0.0, n_estimators=100, n_jobs=1,\n",
       "            oob_score=False, random_state=None, verbose=0,\n",
       "            warm_start=False))])"
      ]
     },
     "execution_count": 347,
     "metadata": {},
     "output_type": "execute_result"
    }
   ],
   "source": [
    "#from sklearn import pipeline\n",
    "#pipeline.make_pipeline()"
   ]
  },
  {
   "cell_type": "code",
   "execution_count": 430,
   "metadata": {
    "collapsed": true
   },
   "outputs": [
    {
     "name": "stderr",
     "output_type": "stream",
     "text": [
      "Optimization Progress:  40%|████      | 20/50 [00:11<00:16,  1.79pipeline/s]"
     ]
    },
    {
     "name": "stdout",
     "output_type": "stream",
     "text": [
      "Generation 1 - Current best internal CV score: 0.8786764705882353\n"
     ]
    },
    {
     "name": "stderr",
     "output_type": "stream",
     "text": [
      "Optimization Progress:  60%|██████    | 30/50 [00:16<00:10,  1.85pipeline/s]"
     ]
    },
    {
     "name": "stdout",
     "output_type": "stream",
     "text": [
      "Generation 2 - Current best internal CV score: 0.8786764705882353\n"
     ]
    },
    {
     "name": "stderr",
     "output_type": "stream",
     "text": [
      "Optimization Progress:  80%|████████  | 40/50 [00:21<00:04,  2.08pipeline/s]"
     ]
    },
    {
     "name": "stdout",
     "output_type": "stream",
     "text": [
      "Generation 3 - Current best internal CV score: 0.8786764705882353\n"
     ]
    },
    {
     "name": "stderr",
     "output_type": "stream",
     "text": [
      "                                                                            "
     ]
    },
    {
     "name": "stdout",
     "output_type": "stream",
     "text": [
      "Generation 4 - Current best internal CV score: 0.8904411764705882\n",
      "\n",
      "Best pipeline: RandomForestClassifier(CombineDFs(input_matrix, input_matrix), bootstrap=True, criterion=gini, max_features=0.9000000000000001, min_samples_leaf=12, min_samples_split=9, n_estimators=20)\n"
     ]
    },
    {
     "name": "stderr",
     "output_type": "stream",
     "text": [
      "\r"
     ]
    },
    {
     "ename": "ValueError",
     "evalue": "Expected 2D array, got 1D array instead:\narray=[0. 0. 0. 0. 0. 0. 0. 0. 1. 1.].\nReshape your data either using array.reshape(-1, 1) if your data has a single feature or array.reshape(1, -1) if it contains a single sample.",
     "output_type": "error",
     "traceback": [
      "\u001b[0;31m---------------------------------------------------------------------------\u001b[0m",
      "\u001b[0;31mValueError\u001b[0m                                Traceback (most recent call last)",
      "\u001b[0;32m<ipython-input-430-b22ec796a51e>\u001b[0m in \u001b[0;36m<module>\u001b[0;34m()\u001b[0m\n\u001b[1;32m     20\u001b[0m         \u001b[0mtpot\u001b[0m\u001b[0;34m.\u001b[0m\u001b[0mfit\u001b[0m\u001b[0;34m(\u001b[0m\u001b[0mx_train\u001b[0m\u001b[0;34m,\u001b[0m \u001b[0my_train\u001b[0m\u001b[0;34m)\u001b[0m\u001b[0;34m\u001b[0m\u001b[0m\n\u001b[1;32m     21\u001b[0m         \u001b[0mpred_test\u001b[0m \u001b[0;34m=\u001b[0m \u001b[0mtpot\u001b[0m\u001b[0;34m.\u001b[0m\u001b[0mpredict\u001b[0m\u001b[0;34m(\u001b[0m\u001b[0mx_test\u001b[0m\u001b[0;34m)\u001b[0m\u001b[0;34m\u001b[0m\u001b[0m\n\u001b[0;32m---> 22\u001b[0;31m         \u001b[0macc\u001b[0m\u001b[0;34m[\u001b[0m\u001b[0mtest_index\u001b[0m\u001b[0;34m]\u001b[0m \u001b[0;34m=\u001b[0m \u001b[0mtpot\u001b[0m\u001b[0;34m.\u001b[0m\u001b[0mscore\u001b[0m\u001b[0;34m(\u001b[0m\u001b[0my_test\u001b[0m\u001b[0;34m,\u001b[0m \u001b[0mpred_test\u001b[0m\u001b[0;34m)\u001b[0m\u001b[0;34m\u001b[0m\u001b[0m\n\u001b[0m\u001b[1;32m     23\u001b[0m \u001b[0;34m\u001b[0m\u001b[0m\n\u001b[1;32m     24\u001b[0m         \u001b[0mimportances\u001b[0m \u001b[0;34m=\u001b[0m \u001b[0mMODEL\u001b[0m\u001b[0;34m.\u001b[0m\u001b[0mfeature_importances_\u001b[0m\u001b[0;34m\u001b[0m\u001b[0m\n",
      "\u001b[0;32m/usr/local/lib/python3.6/dist-packages/tpot/base.py\u001b[0m in \u001b[0;36mscore\u001b[0;34m(self, testing_features, testing_target)\u001b[0m\n\u001b[1;32m    838\u001b[0m             \u001b[0mself\u001b[0m\u001b[0;34m.\u001b[0m\u001b[0mfitted_pipeline_\u001b[0m\u001b[0;34m,\u001b[0m\u001b[0;34m\u001b[0m\u001b[0m\n\u001b[1;32m    839\u001b[0m             \u001b[0mtesting_features\u001b[0m\u001b[0;34m.\u001b[0m\u001b[0mastype\u001b[0m\u001b[0;34m(\u001b[0m\u001b[0mnp\u001b[0m\u001b[0;34m.\u001b[0m\u001b[0mfloat64\u001b[0m\u001b[0;34m)\u001b[0m\u001b[0;34m,\u001b[0m\u001b[0;34m\u001b[0m\u001b[0m\n\u001b[0;32m--> 840\u001b[0;31m             \u001b[0mtesting_target\u001b[0m\u001b[0;34m.\u001b[0m\u001b[0mastype\u001b[0m\u001b[0;34m(\u001b[0m\u001b[0mnp\u001b[0m\u001b[0;34m.\u001b[0m\u001b[0mfloat64\u001b[0m\u001b[0;34m)\u001b[0m\u001b[0;34m\u001b[0m\u001b[0m\n\u001b[0m\u001b[1;32m    841\u001b[0m         )\n\u001b[1;32m    842\u001b[0m         \u001b[0;32mreturn\u001b[0m \u001b[0mscore\u001b[0m\u001b[0;34m\u001b[0m\u001b[0m\n",
      "\u001b[0;32m/usr/local/lib/python3.6/dist-packages/sklearn/metrics/scorer.py\u001b[0m in \u001b[0;36m__call__\u001b[0;34m(self, estimator, X, y_true, sample_weight)\u001b[0m\n\u001b[1;32m     99\u001b[0m         super(_PredictScorer, self).__call__(estimator, X, y_true,\n\u001b[1;32m    100\u001b[0m                                              sample_weight=sample_weight)\n\u001b[0;32m--> 101\u001b[0;31m         \u001b[0my_pred\u001b[0m \u001b[0;34m=\u001b[0m \u001b[0mestimator\u001b[0m\u001b[0;34m.\u001b[0m\u001b[0mpredict\u001b[0m\u001b[0;34m(\u001b[0m\u001b[0mX\u001b[0m\u001b[0;34m)\u001b[0m\u001b[0;34m\u001b[0m\u001b[0m\n\u001b[0m\u001b[1;32m    102\u001b[0m         \u001b[0;32mif\u001b[0m \u001b[0msample_weight\u001b[0m \u001b[0;32mis\u001b[0m \u001b[0;32mnot\u001b[0m \u001b[0;32mNone\u001b[0m\u001b[0;34m:\u001b[0m\u001b[0;34m\u001b[0m\u001b[0m\n\u001b[1;32m    103\u001b[0m             return self._sign * self._score_func(y_true, y_pred,\n",
      "\u001b[0;32m/usr/local/lib/python3.6/dist-packages/sklearn/utils/metaestimators.py\u001b[0m in \u001b[0;36m<lambda>\u001b[0;34m(*args, **kwargs)\u001b[0m\n\u001b[1;32m    113\u001b[0m \u001b[0;34m\u001b[0m\u001b[0m\n\u001b[1;32m    114\u001b[0m         \u001b[0;31m# lambda, but not partial, allows help() to work with update_wrapper\u001b[0m\u001b[0;34m\u001b[0m\u001b[0;34m\u001b[0m\u001b[0m\n\u001b[0;32m--> 115\u001b[0;31m         \u001b[0mout\u001b[0m \u001b[0;34m=\u001b[0m \u001b[0;32mlambda\u001b[0m \u001b[0;34m*\u001b[0m\u001b[0margs\u001b[0m\u001b[0;34m,\u001b[0m \u001b[0;34m**\u001b[0m\u001b[0mkwargs\u001b[0m\u001b[0;34m:\u001b[0m \u001b[0mself\u001b[0m\u001b[0;34m.\u001b[0m\u001b[0mfn\u001b[0m\u001b[0;34m(\u001b[0m\u001b[0mobj\u001b[0m\u001b[0;34m,\u001b[0m \u001b[0;34m*\u001b[0m\u001b[0margs\u001b[0m\u001b[0;34m,\u001b[0m \u001b[0;34m**\u001b[0m\u001b[0mkwargs\u001b[0m\u001b[0;34m)\u001b[0m\u001b[0;34m\u001b[0m\u001b[0m\n\u001b[0m\u001b[1;32m    116\u001b[0m         \u001b[0;31m# update the docstring of the returned function\u001b[0m\u001b[0;34m\u001b[0m\u001b[0;34m\u001b[0m\u001b[0m\n\u001b[1;32m    117\u001b[0m         \u001b[0mupdate_wrapper\u001b[0m\u001b[0;34m(\u001b[0m\u001b[0mout\u001b[0m\u001b[0;34m,\u001b[0m \u001b[0mself\u001b[0m\u001b[0;34m.\u001b[0m\u001b[0mfn\u001b[0m\u001b[0;34m)\u001b[0m\u001b[0;34m\u001b[0m\u001b[0m\n",
      "\u001b[0;32m/usr/local/lib/python3.6/dist-packages/sklearn/pipeline.py\u001b[0m in \u001b[0;36mpredict\u001b[0;34m(self, X)\u001b[0m\n\u001b[1;32m    304\u001b[0m         \u001b[0;32mfor\u001b[0m \u001b[0mname\u001b[0m\u001b[0;34m,\u001b[0m \u001b[0mtransform\u001b[0m \u001b[0;32min\u001b[0m \u001b[0mself\u001b[0m\u001b[0;34m.\u001b[0m\u001b[0msteps\u001b[0m\u001b[0;34m[\u001b[0m\u001b[0;34m:\u001b[0m\u001b[0;34m-\u001b[0m\u001b[0;36m1\u001b[0m\u001b[0;34m]\u001b[0m\u001b[0;34m:\u001b[0m\u001b[0;34m\u001b[0m\u001b[0m\n\u001b[1;32m    305\u001b[0m             \u001b[0;32mif\u001b[0m \u001b[0mtransform\u001b[0m \u001b[0;32mis\u001b[0m \u001b[0;32mnot\u001b[0m \u001b[0;32mNone\u001b[0m\u001b[0;34m:\u001b[0m\u001b[0;34m\u001b[0m\u001b[0m\n\u001b[0;32m--> 306\u001b[0;31m                 \u001b[0mXt\u001b[0m \u001b[0;34m=\u001b[0m \u001b[0mtransform\u001b[0m\u001b[0;34m.\u001b[0m\u001b[0mtransform\u001b[0m\u001b[0;34m(\u001b[0m\u001b[0mXt\u001b[0m\u001b[0;34m)\u001b[0m\u001b[0;34m\u001b[0m\u001b[0m\n\u001b[0m\u001b[1;32m    307\u001b[0m         \u001b[0;32mreturn\u001b[0m \u001b[0mself\u001b[0m\u001b[0;34m.\u001b[0m\u001b[0msteps\u001b[0m\u001b[0;34m[\u001b[0m\u001b[0;34m-\u001b[0m\u001b[0;36m1\u001b[0m\u001b[0;34m]\u001b[0m\u001b[0;34m[\u001b[0m\u001b[0;34m-\u001b[0m\u001b[0;36m1\u001b[0m\u001b[0;34m]\u001b[0m\u001b[0;34m.\u001b[0m\u001b[0mpredict\u001b[0m\u001b[0;34m(\u001b[0m\u001b[0mXt\u001b[0m\u001b[0;34m)\u001b[0m\u001b[0;34m\u001b[0m\u001b[0m\n\u001b[1;32m    308\u001b[0m \u001b[0;34m\u001b[0m\u001b[0m\n",
      "\u001b[0;32m/usr/local/lib/python3.6/dist-packages/sklearn/pipeline.py\u001b[0m in \u001b[0;36mtransform\u001b[0;34m(self, X)\u001b[0m\n\u001b[1;32m    766\u001b[0m         Xs = Parallel(n_jobs=self.n_jobs)(\n\u001b[1;32m    767\u001b[0m             \u001b[0mdelayed\u001b[0m\u001b[0;34m(\u001b[0m\u001b[0m_transform_one\u001b[0m\u001b[0;34m)\u001b[0m\u001b[0;34m(\u001b[0m\u001b[0mtrans\u001b[0m\u001b[0;34m,\u001b[0m \u001b[0mweight\u001b[0m\u001b[0;34m,\u001b[0m \u001b[0mX\u001b[0m\u001b[0;34m)\u001b[0m\u001b[0;34m\u001b[0m\u001b[0m\n\u001b[0;32m--> 768\u001b[0;31m             for name, trans, weight in self._iter())\n\u001b[0m\u001b[1;32m    769\u001b[0m         \u001b[0;32mif\u001b[0m \u001b[0;32mnot\u001b[0m \u001b[0mXs\u001b[0m\u001b[0;34m:\u001b[0m\u001b[0;34m\u001b[0m\u001b[0m\n\u001b[1;32m    770\u001b[0m             \u001b[0;31m# All transformers are None\u001b[0m\u001b[0;34m\u001b[0m\u001b[0;34m\u001b[0m\u001b[0m\n",
      "\u001b[0;32m/usr/local/lib/python3.6/dist-packages/sklearn/externals/joblib/parallel.py\u001b[0m in \u001b[0;36m__call__\u001b[0;34m(self, iterable)\u001b[0m\n\u001b[1;32m    777\u001b[0m             \u001b[0;31m# was dispatched. In particular this covers the edge\u001b[0m\u001b[0;34m\u001b[0m\u001b[0;34m\u001b[0m\u001b[0m\n\u001b[1;32m    778\u001b[0m             \u001b[0;31m# case of Parallel used with an exhausted iterator.\u001b[0m\u001b[0;34m\u001b[0m\u001b[0;34m\u001b[0m\u001b[0m\n\u001b[0;32m--> 779\u001b[0;31m             \u001b[0;32mwhile\u001b[0m \u001b[0mself\u001b[0m\u001b[0;34m.\u001b[0m\u001b[0mdispatch_one_batch\u001b[0m\u001b[0;34m(\u001b[0m\u001b[0miterator\u001b[0m\u001b[0;34m)\u001b[0m\u001b[0;34m:\u001b[0m\u001b[0;34m\u001b[0m\u001b[0m\n\u001b[0m\u001b[1;32m    780\u001b[0m                 \u001b[0mself\u001b[0m\u001b[0;34m.\u001b[0m\u001b[0m_iterating\u001b[0m \u001b[0;34m=\u001b[0m \u001b[0;32mTrue\u001b[0m\u001b[0;34m\u001b[0m\u001b[0m\n\u001b[1;32m    781\u001b[0m             \u001b[0;32melse\u001b[0m\u001b[0;34m:\u001b[0m\u001b[0;34m\u001b[0m\u001b[0m\n",
      "\u001b[0;32m/usr/local/lib/python3.6/dist-packages/sklearn/externals/joblib/parallel.py\u001b[0m in \u001b[0;36mdispatch_one_batch\u001b[0;34m(self, iterator)\u001b[0m\n\u001b[1;32m    623\u001b[0m                 \u001b[0;32mreturn\u001b[0m \u001b[0;32mFalse\u001b[0m\u001b[0;34m\u001b[0m\u001b[0m\n\u001b[1;32m    624\u001b[0m             \u001b[0;32melse\u001b[0m\u001b[0;34m:\u001b[0m\u001b[0;34m\u001b[0m\u001b[0m\n\u001b[0;32m--> 625\u001b[0;31m                 \u001b[0mself\u001b[0m\u001b[0;34m.\u001b[0m\u001b[0m_dispatch\u001b[0m\u001b[0;34m(\u001b[0m\u001b[0mtasks\u001b[0m\u001b[0;34m)\u001b[0m\u001b[0;34m\u001b[0m\u001b[0m\n\u001b[0m\u001b[1;32m    626\u001b[0m                 \u001b[0;32mreturn\u001b[0m \u001b[0;32mTrue\u001b[0m\u001b[0;34m\u001b[0m\u001b[0m\n\u001b[1;32m    627\u001b[0m \u001b[0;34m\u001b[0m\u001b[0m\n",
      "\u001b[0;32m/usr/local/lib/python3.6/dist-packages/sklearn/externals/joblib/parallel.py\u001b[0m in \u001b[0;36m_dispatch\u001b[0;34m(self, batch)\u001b[0m\n\u001b[1;32m    586\u001b[0m         \u001b[0mdispatch_timestamp\u001b[0m \u001b[0;34m=\u001b[0m \u001b[0mtime\u001b[0m\u001b[0;34m.\u001b[0m\u001b[0mtime\u001b[0m\u001b[0;34m(\u001b[0m\u001b[0;34m)\u001b[0m\u001b[0;34m\u001b[0m\u001b[0m\n\u001b[1;32m    587\u001b[0m         \u001b[0mcb\u001b[0m \u001b[0;34m=\u001b[0m \u001b[0mBatchCompletionCallBack\u001b[0m\u001b[0;34m(\u001b[0m\u001b[0mdispatch_timestamp\u001b[0m\u001b[0;34m,\u001b[0m \u001b[0mlen\u001b[0m\u001b[0;34m(\u001b[0m\u001b[0mbatch\u001b[0m\u001b[0;34m)\u001b[0m\u001b[0;34m,\u001b[0m \u001b[0mself\u001b[0m\u001b[0;34m)\u001b[0m\u001b[0;34m\u001b[0m\u001b[0m\n\u001b[0;32m--> 588\u001b[0;31m         \u001b[0mjob\u001b[0m \u001b[0;34m=\u001b[0m \u001b[0mself\u001b[0m\u001b[0;34m.\u001b[0m\u001b[0m_backend\u001b[0m\u001b[0;34m.\u001b[0m\u001b[0mapply_async\u001b[0m\u001b[0;34m(\u001b[0m\u001b[0mbatch\u001b[0m\u001b[0;34m,\u001b[0m \u001b[0mcallback\u001b[0m\u001b[0;34m=\u001b[0m\u001b[0mcb\u001b[0m\u001b[0;34m)\u001b[0m\u001b[0;34m\u001b[0m\u001b[0m\n\u001b[0m\u001b[1;32m    589\u001b[0m         \u001b[0mself\u001b[0m\u001b[0;34m.\u001b[0m\u001b[0m_jobs\u001b[0m\u001b[0;34m.\u001b[0m\u001b[0mappend\u001b[0m\u001b[0;34m(\u001b[0m\u001b[0mjob\u001b[0m\u001b[0;34m)\u001b[0m\u001b[0;34m\u001b[0m\u001b[0m\n\u001b[1;32m    590\u001b[0m \u001b[0;34m\u001b[0m\u001b[0m\n",
      "\u001b[0;32m/usr/local/lib/python3.6/dist-packages/sklearn/externals/joblib/_parallel_backends.py\u001b[0m in \u001b[0;36mapply_async\u001b[0;34m(self, func, callback)\u001b[0m\n\u001b[1;32m    109\u001b[0m     \u001b[0;32mdef\u001b[0m \u001b[0mapply_async\u001b[0m\u001b[0;34m(\u001b[0m\u001b[0mself\u001b[0m\u001b[0;34m,\u001b[0m \u001b[0mfunc\u001b[0m\u001b[0;34m,\u001b[0m \u001b[0mcallback\u001b[0m\u001b[0;34m=\u001b[0m\u001b[0;32mNone\u001b[0m\u001b[0;34m)\u001b[0m\u001b[0;34m:\u001b[0m\u001b[0;34m\u001b[0m\u001b[0m\n\u001b[1;32m    110\u001b[0m         \u001b[0;34m\"\"\"Schedule a func to be run\"\"\"\u001b[0m\u001b[0;34m\u001b[0m\u001b[0m\n\u001b[0;32m--> 111\u001b[0;31m         \u001b[0mresult\u001b[0m \u001b[0;34m=\u001b[0m \u001b[0mImmediateResult\u001b[0m\u001b[0;34m(\u001b[0m\u001b[0mfunc\u001b[0m\u001b[0;34m)\u001b[0m\u001b[0;34m\u001b[0m\u001b[0m\n\u001b[0m\u001b[1;32m    112\u001b[0m         \u001b[0;32mif\u001b[0m \u001b[0mcallback\u001b[0m\u001b[0;34m:\u001b[0m\u001b[0;34m\u001b[0m\u001b[0m\n\u001b[1;32m    113\u001b[0m             \u001b[0mcallback\u001b[0m\u001b[0;34m(\u001b[0m\u001b[0mresult\u001b[0m\u001b[0;34m)\u001b[0m\u001b[0;34m\u001b[0m\u001b[0m\n",
      "\u001b[0;32m/usr/local/lib/python3.6/dist-packages/sklearn/externals/joblib/_parallel_backends.py\u001b[0m in \u001b[0;36m__init__\u001b[0;34m(self, batch)\u001b[0m\n\u001b[1;32m    330\u001b[0m         \u001b[0;31m# Don't delay the application, to avoid keeping the input\u001b[0m\u001b[0;34m\u001b[0m\u001b[0;34m\u001b[0m\u001b[0m\n\u001b[1;32m    331\u001b[0m         \u001b[0;31m# arguments in memory\u001b[0m\u001b[0;34m\u001b[0m\u001b[0;34m\u001b[0m\u001b[0m\n\u001b[0;32m--> 332\u001b[0;31m         \u001b[0mself\u001b[0m\u001b[0;34m.\u001b[0m\u001b[0mresults\u001b[0m \u001b[0;34m=\u001b[0m \u001b[0mbatch\u001b[0m\u001b[0;34m(\u001b[0m\u001b[0;34m)\u001b[0m\u001b[0;34m\u001b[0m\u001b[0m\n\u001b[0m\u001b[1;32m    333\u001b[0m \u001b[0;34m\u001b[0m\u001b[0m\n\u001b[1;32m    334\u001b[0m     \u001b[0;32mdef\u001b[0m \u001b[0mget\u001b[0m\u001b[0;34m(\u001b[0m\u001b[0mself\u001b[0m\u001b[0;34m)\u001b[0m\u001b[0;34m:\u001b[0m\u001b[0;34m\u001b[0m\u001b[0m\n",
      "\u001b[0;32m/usr/local/lib/python3.6/dist-packages/sklearn/externals/joblib/parallel.py\u001b[0m in \u001b[0;36m__call__\u001b[0;34m(self)\u001b[0m\n\u001b[1;32m    129\u001b[0m \u001b[0;34m\u001b[0m\u001b[0m\n\u001b[1;32m    130\u001b[0m     \u001b[0;32mdef\u001b[0m \u001b[0m__call__\u001b[0m\u001b[0;34m(\u001b[0m\u001b[0mself\u001b[0m\u001b[0;34m)\u001b[0m\u001b[0;34m:\u001b[0m\u001b[0;34m\u001b[0m\u001b[0m\n\u001b[0;32m--> 131\u001b[0;31m         \u001b[0;32mreturn\u001b[0m \u001b[0;34m[\u001b[0m\u001b[0mfunc\u001b[0m\u001b[0;34m(\u001b[0m\u001b[0;34m*\u001b[0m\u001b[0margs\u001b[0m\u001b[0;34m,\u001b[0m \u001b[0;34m**\u001b[0m\u001b[0mkwargs\u001b[0m\u001b[0;34m)\u001b[0m \u001b[0;32mfor\u001b[0m \u001b[0mfunc\u001b[0m\u001b[0;34m,\u001b[0m \u001b[0margs\u001b[0m\u001b[0;34m,\u001b[0m \u001b[0mkwargs\u001b[0m \u001b[0;32min\u001b[0m \u001b[0mself\u001b[0m\u001b[0;34m.\u001b[0m\u001b[0mitems\u001b[0m\u001b[0;34m]\u001b[0m\u001b[0;34m\u001b[0m\u001b[0m\n\u001b[0m\u001b[1;32m    132\u001b[0m \u001b[0;34m\u001b[0m\u001b[0m\n\u001b[1;32m    133\u001b[0m     \u001b[0;32mdef\u001b[0m \u001b[0m__len__\u001b[0m\u001b[0;34m(\u001b[0m\u001b[0mself\u001b[0m\u001b[0;34m)\u001b[0m\u001b[0;34m:\u001b[0m\u001b[0;34m\u001b[0m\u001b[0m\n",
      "\u001b[0;32m/usr/local/lib/python3.6/dist-packages/sklearn/externals/joblib/parallel.py\u001b[0m in \u001b[0;36m<listcomp>\u001b[0;34m(.0)\u001b[0m\n\u001b[1;32m    129\u001b[0m \u001b[0;34m\u001b[0m\u001b[0m\n\u001b[1;32m    130\u001b[0m     \u001b[0;32mdef\u001b[0m \u001b[0m__call__\u001b[0m\u001b[0;34m(\u001b[0m\u001b[0mself\u001b[0m\u001b[0;34m)\u001b[0m\u001b[0;34m:\u001b[0m\u001b[0;34m\u001b[0m\u001b[0m\n\u001b[0;32m--> 131\u001b[0;31m         \u001b[0;32mreturn\u001b[0m \u001b[0;34m[\u001b[0m\u001b[0mfunc\u001b[0m\u001b[0;34m(\u001b[0m\u001b[0;34m*\u001b[0m\u001b[0margs\u001b[0m\u001b[0;34m,\u001b[0m \u001b[0;34m**\u001b[0m\u001b[0mkwargs\u001b[0m\u001b[0;34m)\u001b[0m \u001b[0;32mfor\u001b[0m \u001b[0mfunc\u001b[0m\u001b[0;34m,\u001b[0m \u001b[0margs\u001b[0m\u001b[0;34m,\u001b[0m \u001b[0mkwargs\u001b[0m \u001b[0;32min\u001b[0m \u001b[0mself\u001b[0m\u001b[0;34m.\u001b[0m\u001b[0mitems\u001b[0m\u001b[0;34m]\u001b[0m\u001b[0;34m\u001b[0m\u001b[0m\n\u001b[0m\u001b[1;32m    132\u001b[0m \u001b[0;34m\u001b[0m\u001b[0m\n\u001b[1;32m    133\u001b[0m     \u001b[0;32mdef\u001b[0m \u001b[0m__len__\u001b[0m\u001b[0;34m(\u001b[0m\u001b[0mself\u001b[0m\u001b[0;34m)\u001b[0m\u001b[0;34m:\u001b[0m\u001b[0;34m\u001b[0m\u001b[0m\n",
      "\u001b[0;32m/usr/local/lib/python3.6/dist-packages/sklearn/pipeline.py\u001b[0m in \u001b[0;36m_transform_one\u001b[0;34m(transformer, weight, X)\u001b[0m\n\u001b[1;32m    569\u001b[0m \u001b[0;34m\u001b[0m\u001b[0m\n\u001b[1;32m    570\u001b[0m \u001b[0;32mdef\u001b[0m \u001b[0m_transform_one\u001b[0m\u001b[0;34m(\u001b[0m\u001b[0mtransformer\u001b[0m\u001b[0;34m,\u001b[0m \u001b[0mweight\u001b[0m\u001b[0;34m,\u001b[0m \u001b[0mX\u001b[0m\u001b[0;34m)\u001b[0m\u001b[0;34m:\u001b[0m\u001b[0;34m\u001b[0m\u001b[0m\n\u001b[0;32m--> 571\u001b[0;31m     \u001b[0mres\u001b[0m \u001b[0;34m=\u001b[0m \u001b[0mtransformer\u001b[0m\u001b[0;34m.\u001b[0m\u001b[0mtransform\u001b[0m\u001b[0;34m(\u001b[0m\u001b[0mX\u001b[0m\u001b[0;34m)\u001b[0m\u001b[0;34m\u001b[0m\u001b[0m\n\u001b[0m\u001b[1;32m    572\u001b[0m     \u001b[0;31m# if we have a weight for this transformer, multiply output\u001b[0m\u001b[0;34m\u001b[0m\u001b[0;34m\u001b[0m\u001b[0m\n\u001b[1;32m    573\u001b[0m     \u001b[0;32mif\u001b[0m \u001b[0mweight\u001b[0m \u001b[0;32mis\u001b[0m \u001b[0;32mNone\u001b[0m\u001b[0;34m:\u001b[0m\u001b[0;34m\u001b[0m\u001b[0m\n",
      "\u001b[0;32m/usr/local/lib/python3.6/dist-packages/sklearn/preprocessing/_function_transformer.py\u001b[0m in \u001b[0;36mtransform\u001b[0;34m(self, X, y)\u001b[0m\n\u001b[1;32m    117\u001b[0m                           DeprecationWarning)\n\u001b[1;32m    118\u001b[0m \u001b[0;34m\u001b[0m\u001b[0m\n\u001b[0;32m--> 119\u001b[0;31m         \u001b[0;32mreturn\u001b[0m \u001b[0mself\u001b[0m\u001b[0;34m.\u001b[0m\u001b[0m_transform\u001b[0m\u001b[0;34m(\u001b[0m\u001b[0mX\u001b[0m\u001b[0;34m,\u001b[0m \u001b[0my\u001b[0m\u001b[0;34m=\u001b[0m\u001b[0my\u001b[0m\u001b[0;34m,\u001b[0m \u001b[0mfunc\u001b[0m\u001b[0;34m=\u001b[0m\u001b[0mself\u001b[0m\u001b[0;34m.\u001b[0m\u001b[0mfunc\u001b[0m\u001b[0;34m,\u001b[0m \u001b[0mkw_args\u001b[0m\u001b[0;34m=\u001b[0m\u001b[0mself\u001b[0m\u001b[0;34m.\u001b[0m\u001b[0mkw_args\u001b[0m\u001b[0;34m)\u001b[0m\u001b[0;34m\u001b[0m\u001b[0m\n\u001b[0m\u001b[1;32m    120\u001b[0m \u001b[0;34m\u001b[0m\u001b[0m\n\u001b[1;32m    121\u001b[0m     \u001b[0;32mdef\u001b[0m \u001b[0minverse_transform\u001b[0m\u001b[0;34m(\u001b[0m\u001b[0mself\u001b[0m\u001b[0;34m,\u001b[0m \u001b[0mX\u001b[0m\u001b[0;34m,\u001b[0m \u001b[0my\u001b[0m\u001b[0;34m=\u001b[0m\u001b[0;34m'deprecated'\u001b[0m\u001b[0;34m)\u001b[0m\u001b[0;34m:\u001b[0m\u001b[0;34m\u001b[0m\u001b[0m\n",
      "\u001b[0;32m/usr/local/lib/python3.6/dist-packages/sklearn/preprocessing/_function_transformer.py\u001b[0m in \u001b[0;36m_transform\u001b[0;34m(self, X, y, func, kw_args)\u001b[0m\n\u001b[1;32m    144\u001b[0m     \u001b[0;32mdef\u001b[0m \u001b[0m_transform\u001b[0m\u001b[0;34m(\u001b[0m\u001b[0mself\u001b[0m\u001b[0;34m,\u001b[0m \u001b[0mX\u001b[0m\u001b[0;34m,\u001b[0m \u001b[0my\u001b[0m\u001b[0;34m=\u001b[0m\u001b[0;32mNone\u001b[0m\u001b[0;34m,\u001b[0m \u001b[0mfunc\u001b[0m\u001b[0;34m=\u001b[0m\u001b[0;32mNone\u001b[0m\u001b[0;34m,\u001b[0m \u001b[0mkw_args\u001b[0m\u001b[0;34m=\u001b[0m\u001b[0;32mNone\u001b[0m\u001b[0;34m)\u001b[0m\u001b[0;34m:\u001b[0m\u001b[0;34m\u001b[0m\u001b[0m\n\u001b[1;32m    145\u001b[0m         \u001b[0;32mif\u001b[0m \u001b[0mself\u001b[0m\u001b[0;34m.\u001b[0m\u001b[0mvalidate\u001b[0m\u001b[0;34m:\u001b[0m\u001b[0;34m\u001b[0m\u001b[0m\n\u001b[0;32m--> 146\u001b[0;31m             \u001b[0mX\u001b[0m \u001b[0;34m=\u001b[0m \u001b[0mcheck_array\u001b[0m\u001b[0;34m(\u001b[0m\u001b[0mX\u001b[0m\u001b[0;34m,\u001b[0m \u001b[0mself\u001b[0m\u001b[0;34m.\u001b[0m\u001b[0maccept_sparse\u001b[0m\u001b[0;34m)\u001b[0m\u001b[0;34m\u001b[0m\u001b[0m\n\u001b[0m\u001b[1;32m    147\u001b[0m \u001b[0;34m\u001b[0m\u001b[0m\n\u001b[1;32m    148\u001b[0m         \u001b[0;32mif\u001b[0m \u001b[0mfunc\u001b[0m \u001b[0;32mis\u001b[0m \u001b[0;32mNone\u001b[0m\u001b[0;34m:\u001b[0m\u001b[0;34m\u001b[0m\u001b[0m\n",
      "\u001b[0;32m/usr/local/lib/python3.6/dist-packages/sklearn/utils/validation.py\u001b[0m in \u001b[0;36mcheck_array\u001b[0;34m(array, accept_sparse, dtype, order, copy, force_all_finite, ensure_2d, allow_nd, ensure_min_samples, ensure_min_features, warn_on_dtype, estimator)\u001b[0m\n\u001b[1;32m    439\u001b[0m                     \u001b[0;34m\"Reshape your data either using array.reshape(-1, 1) if \"\u001b[0m\u001b[0;34m\u001b[0m\u001b[0m\n\u001b[1;32m    440\u001b[0m                     \u001b[0;34m\"your data has a single feature or array.reshape(1, -1) \"\u001b[0m\u001b[0;34m\u001b[0m\u001b[0m\n\u001b[0;32m--> 441\u001b[0;31m                     \"if it contains a single sample.\".format(array))\n\u001b[0m\u001b[1;32m    442\u001b[0m             \u001b[0marray\u001b[0m \u001b[0;34m=\u001b[0m \u001b[0mnp\u001b[0m\u001b[0;34m.\u001b[0m\u001b[0matleast_2d\u001b[0m\u001b[0;34m(\u001b[0m\u001b[0marray\u001b[0m\u001b[0;34m)\u001b[0m\u001b[0;34m\u001b[0m\u001b[0m\n\u001b[1;32m    443\u001b[0m             \u001b[0;31m# To ensure that array flags are maintained\u001b[0m\u001b[0;34m\u001b[0m\u001b[0;34m\u001b[0m\u001b[0m\n",
      "\u001b[0;31mValueError\u001b[0m: Expected 2D array, got 1D array instead:\narray=[0. 0. 0. 0. 0. 0. 0. 0. 1. 1.].\nReshape your data either using array.reshape(-1, 1) if your data has a single feature or array.reshape(1, -1) if it contains a single sample."
     ]
    }
   ],
   "source": [
    "acc = np.zeros(shape=y.shape)\n",
    "count=0\n",
    "maxrun = 50\n",
    "run = True\n",
    "importances_sum = 0 \n",
    "tpot_config = {'sklearn.ensemble.RandomForestClassifier': {\n",
    "                'n_estimators': [20,40],\n",
    "                'criterion': [\"gini\", \"entropy\"],\n",
    "                'max_features': np.arange(0.05, 1.01, 0.05),\n",
    "                'min_samples_split': range(2, 21),\n",
    "                'min_samples_leaf':  range(1, 21),\n",
    "                'bootstrap': [True, False]}}\n",
    "tpot = TPOTClassifier(generations=4, population_size=10, verbosity=2, config_dict=tpot_config)\n",
    "while run:\n",
    "    splitter = StratifiedKFold(10)\n",
    "    #\n",
    "    for train_index, test_index in splitter.split(x, y):\n",
    "        x_train, x_test = np.array(x)[train_index], np.array(x)[test_index]\n",
    "        y_train, y_test = np.array(y)[train_index], np.array(y)[test_index]\n",
    "        tpot.fit(x_train, y_train)\n",
    "        pred_test = tpot.predict(x_test)\n",
    "        acc[test_index] = tpot.score(y_test, pred_test)    \n",
    "\n",
    "        importances = MODEL.feature_importances_\n",
    "        importances_sum += importances\n",
    "        \n",
    "    count+=1        \n",
    "    if count>maxrun:\n",
    "        run=False\n",
    "\n",
    "print(\"Mean acc:{}, Var acc:{}\".format(np.mean(acc), np.var(acc)))\n",
    "indices = np.argsort(importances_sum)[::-1]    \n",
    "\n",
    "for f in range(x.shape[1]):\n",
    "    print(\"%d. %s (%f)\" % (f + 1, x.columns[indices[f]], importances_sum[indices[f]]))"
   ]
  },
  {
   "cell_type": "code",
   "execution_count": 468,
   "metadata": {},
   "outputs": [
    {
     "name": "stdout",
     "output_type": "stream",
     "text": [
      "Mean acc:0.8297872340425532, Var acc:0.004154091846486595\n",
      "1. aantal Aes (122.001862)\n",
      "2. PRA High Recipient (66.753781)\n",
      "3. Leefpat (53.346514)\n",
      "4. Second Warm Ischemia Period in minutes (51.587360)\n",
      "5. Cold Ischemia Time Minutes (50.427091)\n",
      "6. Cold Ischemia Time Hours (45.040689)\n",
      "7. Age Donor (43.329671)\n",
      "8. mm-B (27.775590)\n",
      "9. mmtotaal (19.279150)\n",
      "10. mm-DR (14.216255)\n",
      "11. infwithAB (8.346630)\n",
      "12. mm-A (6.752972)\n",
      "13. Total transplants (1.142434)\n"
     ]
    }
   ],
   "source": [
    "acc = np.zeros(shape=y.shape)\n",
    "count=0\n",
    "maxrun = 50\n",
    "run = True\n",
    "importances_sum = 0 \n",
    "\n",
    "while run:\n",
    "    splitter = StratifiedKFold(10)\n",
    "    #\n",
    "    for train_index, test_index in splitter.split(x, y):\n",
    "        x_train, x_test = np.array(x)[train_index], np.array(x)[test_index]\n",
    "        y_train, y_test = np.array(y)[train_index], np.array(y)[test_index]       \n",
    "        MODEL.fit(x_train,y_train)\n",
    "        pred_test_ = MODEL.predict(x_test) #[np.round(l[1]).astype(int) for l in pred_test]\n",
    "        acc[test_index] = metrics.accuracy_score(y_test, pred_test_)    \n",
    "\n",
    "        importances = MODEL.feature_importances_\n",
    "        importances_sum += importances\n",
    "        \n",
    "    count+=1        \n",
    "    if count>maxrun:\n",
    "        run=False\n",
    "\n",
    "print(\"Mean acc:{}, Var acc:{}\".format(np.mean(acc), np.var(acc)))\n",
    "indices = np.argsort(importances_sum)[::-1]    \n",
    "\n",
    "for f in range(x.shape[1]):\n",
    "    print(\"%d. %s (%f)\" % (f + 1, x.columns[indices[f]], importances_sum[indices[f]]))"
   ]
  },
  {
   "cell_type": "code",
   "execution_count": 469,
   "metadata": {},
   "outputs": [
    {
     "name": "stdout",
     "output_type": "stream",
     "text": [
      "             precision    recall  f1-score   support\n",
      "\n",
      "        0.0       0.83      0.92      0.87        78\n",
      "        1.0       0.14      0.06      0.09        16\n",
      "\n",
      "avg / total       0.71      0.78      0.74        94\n",
      "\n",
      "Total accuracy: 0.776595744680851\n",
      "AUC/ROC: 0.49278846153846156\n"
     ]
    }
   ],
   "source": [
    "MODEL = LogisticRegressionCV()\n",
    "cv_results = cross_val_predict(MODEL, x, y, cv = 10)\n",
    "print(metrics.classification_report(y, cv_results))\n",
    "print(\"Total accuracy: {}\".format(metrics.accuracy_score(y, cv_results)))\n",
    "print(\"AUC/ROC: {}\".format(metrics.roc_auc_score(y, cv_results)))"
   ]
  },
  {
   "cell_type": "code",
   "execution_count": 470,
   "metadata": {},
   "outputs": [],
   "source": [
    "MODEL = LogisticRegressionCV()\n",
    "MODEL.fit(x,y)\n",
    "res = MODEL.coef_[0,:]"
   ]
  },
  {
   "cell_type": "code",
   "execution_count": 471,
   "metadata": {},
   "outputs": [],
   "source": [
    "importances_df = pd.DataFrame()\n",
    "importances_df['param'] = x.columns[indices[:]]\n",
    "importances_df['importances'] = importances_sum[indices[:]]\n",
    "importances_df.index = importances_df.param\n",
    "importances_df.drop('param', axis=1, inplace=True)"
   ]
  },
  {
   "cell_type": "code",
   "execution_count": 472,
   "metadata": {},
   "outputs": [],
   "source": [
    "result = pd.DataFrame()\n",
    "result['coeff'] = 0 \n",
    "result['coeff'] = res\n",
    "result['param'] = ''\n",
    "result['param'] = x.columns.values\n",
    "result.index= result['param']\n",
    "result.drop('param', axis=1, inplace=True)"
   ]
  },
  {
   "cell_type": "code",
   "execution_count": 474,
   "metadata": {},
   "outputs": [],
   "source": [
    "result_final = importances_df.join(result, how='outer')\n",
    "result_final = result_final.apply(lambda x: x/x.abs().max())\n",
    "result_final = result_final.sort_values(by='importances', ascending=False)\n",
    "result_final.to_csv('TACmono.csv')"
   ]
  },
  {
   "cell_type": "code",
   "execution_count": 364,
   "metadata": {},
   "outputs": [],
   "source": []
  }
 ],
 "metadata": {
  "kernelspec": {
   "display_name": "Python 3",
   "language": "python",
   "name": "python3"
  },
  "language_info": {
   "codemirror_mode": {
    "name": "ipython",
    "version": 3
   },
   "file_extension": ".py",
   "mimetype": "text/x-python",
   "name": "python",
   "nbconvert_exporter": "python",
   "pygments_lexer": "ipython3",
   "version": "3.6.5"
  }
 },
 "nbformat": 4,
 "nbformat_minor": 2
}
