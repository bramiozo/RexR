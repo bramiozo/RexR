{
 "cells": [
  {
   "cell_type": "code",
   "execution_count": 1,
   "metadata": {},
   "outputs": [],
   "source": [
    "import pandas as pd\n",
    "import numpy as np\n",
    "import scipy as sc\n",
    "import re"
   ]
  },
  {
   "cell_type": "markdown",
   "metadata": {},
   "source": [
    "## ..read in data"
   ]
  },
  {
   "cell_type": "code",
   "execution_count": 2,
   "metadata": {},
   "outputs": [],
   "source": [
    "LambadaParametersExcel = pd.ExcelFile(\"_data/LAMBADAparameters.xlsx\")\n",
    "LambadaParameters = pd.read_excel(LambadaParametersExcel, 'data')"
   ]
  },
  {
   "cell_type": "code",
   "execution_count": 3,
   "metadata": {},
   "outputs": [],
   "source": [
    "def target_fun(x):\n",
    "    return 1 if x['rej binnen 6M']>0 or x['rej binnen 1Y']>0 else 0\n",
    "\n",
    "LambadaParameters['target'] = 0\n",
    "LambadaParameters['target'] = LambadaParameters[['rej binnen 6M', 'rej binnen 1Y']].apply(lambda x: target_fun(x), axis=1)\n",
    "LambadaParameters['target'] = LambadaParameters['target'].astype('int')\n"
   ]
  },
  {
   "cell_type": "code",
   "execution_count": 4,
   "metadata": {},
   "outputs": [],
   "source": [
    "LambadaAnalyse = pd.ExcelFile(\"_data/LAMBADAanalyse.xlsx\")"
   ]
  },
  {
   "cell_type": "code",
   "execution_count": 5,
   "metadata": {},
   "outputs": [],
   "source": [
    "LambadaAnalyse_TC45 = pd.read_excel(LambadaAnalyse, 'tabel TC45')\n",
    "LambadaAnalyse_TC45.dropna(axis=1,inplace=True,how='all')\n",
    "LambadaAnalyse_TC45.dropna(axis=0,inplace=True,how='all')\n",
    "\n",
    "LambadaAnalyse_BASIC = pd.read_excel(LambadaAnalyse, 'tabel BASIC')\n",
    "LambadaAnalyse_BASIC.dropna(axis=1,inplace=True,how='all')\n",
    "LambadaAnalyse_BASIC.dropna(axis=0,inplace=True,how='all')\n",
    "\n",
    "LambadaAnalyse_Tcel= pd.read_excel(LambadaAnalyse, 'tabel Tcel')\n",
    "LambadaAnalyse_Tcel.dropna(axis=1,inplace=True,how='all')\n",
    "LambadaAnalyse_Tcel.dropna(axis=0,inplace=True,how='all')\n",
    "\n",
    "LambadaAnalyse_Bcel= pd.read_excel(LambadaAnalyse, 'tabel Bcel')\n",
    "LambadaAnalyse_Bcel.dropna(axis=1,inplace=True,how='all')\n",
    "LambadaAnalyse_Bcel.dropna(axis=0,inplace=True,how='all')\n",
    "\n",
    "LambadaAnalyse_DC= pd.read_excel(LambadaAnalyse, 'tabel DC')\n",
    "LambadaAnalyse_DC.dropna(axis=1,inplace=True,how='all')\n",
    "LambadaAnalyse_DC.dropna(axis=0,inplace=True,how='all')"
   ]
  },
  {
   "cell_type": "code",
   "execution_count": 6,
   "metadata": {},
   "outputs": [],
   "source": [
    "remove_trailing_number = re.compile(r'\\.[0-9]$')\n",
    "def newColName(x, colname):\n",
    "    if 'Unnamed' not in colname:\n",
    "        # replace spaces by _\n",
    "        if 'float' in str(type(x)):\n",
    "            x=\"\"   \n",
    "        colname = remove_trailing_number.sub('', colname)\n",
    "        out = colname+\"_\"+x\n",
    "        return re.sub(r'\\s', '_', out)\n",
    "    else:\n",
    "        if 'float' in str(type(x)):\n",
    "            x=\"\"            \n",
    "        out = \"_\"+x\n",
    "        return \"empty\" if x==\"\" else re.sub(r'\\s', '_', out)    "
   ]
  },
  {
   "cell_type": "code",
   "execution_count": 7,
   "metadata": {},
   "outputs": [],
   "source": [
    "for colname in LambadaAnalyse_TC45.columns.values:\n",
    "    LambadaAnalyse_TC45.at[0, colname] = newColName(LambadaAnalyse_TC45.at[0, colname], colname)\n",
    "    \n",
    "for colname in LambadaAnalyse_BASIC.columns.values:\n",
    "    LambadaAnalyse_BASIC.at[0, colname] = newColName(LambadaAnalyse_BASIC.at[0, colname], colname)\n",
    "    \n",
    "for colname in LambadaAnalyse_Tcel.columns.values:\n",
    "    LambadaAnalyse_Tcel.at[0, colname] = newColName(LambadaAnalyse_Tcel.at[0, colname], colname)\n",
    "\n",
    "for colname in LambadaAnalyse_Bcel.columns.values:\n",
    "    LambadaAnalyse_Bcel.at[0, colname] = newColName(LambadaAnalyse_Bcel.at[0, colname], colname)\n",
    "    \n",
    "for colname in LambadaAnalyse_DC.columns.values:\n",
    "    LambadaAnalyse_DC.at[0, colname] = newColName(LambadaAnalyse_DC.at[0, colname], colname)"
   ]
  },
  {
   "cell_type": "code",
   "execution_count": 8,
   "metadata": {},
   "outputs": [],
   "source": [
    "LambadaAnalyse_TC45.columns = LambadaAnalyse_TC45.iloc[0, :].values\n",
    "LambadaAnalyse_TC45.drop(0, axis=0, inplace=True)\n",
    "\n",
    "LambadaAnalyse_BASIC.columns = LambadaAnalyse_BASIC.iloc[0, :].values\n",
    "LambadaAnalyse_BASIC.drop(0, axis=0, inplace=True)\n",
    "\n",
    "LambadaAnalyse_Tcel.columns = LambadaAnalyse_Tcel.iloc[0, :].values\n",
    "LambadaAnalyse_Tcel.drop(0, axis=0, inplace=True)\n",
    "\n",
    "LambadaAnalyse_Bcel.columns = LambadaAnalyse_Bcel.iloc[0, :].values\n",
    "LambadaAnalyse_Bcel.drop(0, axis=0, inplace=True)\n",
    "\n",
    "LambadaAnalyse_DC.columns = LambadaAnalyse_DC.iloc[0, :].values\n",
    "LambadaAnalyse_DC.drop(0, axis=0, inplace=True)\n",
    "\n",
    "LambadaAnalyse_TC45_LN = LambadaAnalyse_TC45.loc[LambadaAnalyse_TC45['PB/LN_']=='LN']\n",
    "LambadaAnalyse_TC45_PB = LambadaAnalyse_TC45.loc[LambadaAnalyse_TC45['PB/LN_']=='PB']\n",
    "\n",
    "LambadaAnalyse_BASIC_LN = LambadaAnalyse_BASIC.loc[LambadaAnalyse_BASIC['PB/LN_']=='LN']\n",
    "LambadaAnalyse_BASIC_PB = LambadaAnalyse_BASIC.loc[LambadaAnalyse_BASIC['PB/LN_']=='PB']\n",
    "\n",
    "LambadaAnalyse_Tcel_LN = LambadaAnalyse_Tcel.loc[LambadaAnalyse_Tcel['PB/LN_']=='LN']\n",
    "LambadaAnalyse_Tcel_PB = LambadaAnalyse_Tcel.loc[LambadaAnalyse_Tcel['PB/LN_']=='PB']\n",
    "\n",
    "LambadaAnalyse_Bcel_LN = LambadaAnalyse_Bcel.loc[LambadaAnalyse_Bcel['PB/LN_']=='LN']\n",
    "LambadaAnalyse_Bcel_PB = LambadaAnalyse_Bcel.loc[LambadaAnalyse_Bcel['PB/LN_']=='PB']\n",
    "\n",
    "LambadaAnalyse_DC_LN = LambadaAnalyse_DC.loc[LambadaAnalyse_DC['PB/LN_']=='LN']\n",
    "LambadaAnalyse_DC_PB = LambadaAnalyse_DC.loc[LambadaAnalyse_DC['PB/LN_']=='PB']\n",
    "\n",
    "LambadaAnalyse_TC45_LN= LambadaAnalyse_TC45_LN[~LambadaAnalyse_TC45_LN.subject_nr_.isna()]\n",
    "LambadaAnalyse_TC45_PB= LambadaAnalyse_TC45_PB[~LambadaAnalyse_TC45_PB.subject_nr_.isna()]\n",
    "\n",
    "LambadaAnalyse_BASIC_LN=LambadaAnalyse_BASIC_LN[~LambadaAnalyse_BASIC_LN.subject_nr_.isna()]\n",
    "LambadaAnalyse_BASIC_PB=LambadaAnalyse_BASIC_PB[~LambadaAnalyse_BASIC_PB.subject_nr_.isna()]\n",
    "\n",
    "LambadaAnalyse_Tcel_LN= LambadaAnalyse_Tcel_LN[~LambadaAnalyse_Tcel_LN.subject_nr_.isna()]\n",
    "LambadaAnalyse_Tcel_PB= LambadaAnalyse_Tcel_PB[~LambadaAnalyse_Tcel_PB.subject_nr_.isna()]\n",
    "\n",
    "LambadaAnalyse_Bcel_LN= LambadaAnalyse_Bcel_LN[~LambadaAnalyse_Bcel_LN.subject_nr_.isna()]\n",
    "LambadaAnalyse_Bcel_PB= LambadaAnalyse_Bcel_PB[~LambadaAnalyse_Bcel_PB.subject_nr_.isna()]\n",
    "\n",
    "LambadaAnalyse_DC_LN= LambadaAnalyse_DC_LN[~LambadaAnalyse_DC_LN.subject_nr_.isna()]\n",
    "LambadaAnalyse_DC_PB= LambadaAnalyse_DC_PB[~LambadaAnalyse_DC_PB.subject_nr_.isna()]"
   ]
  },
  {
   "cell_type": "code",
   "execution_count": 9,
   "metadata": {},
   "outputs": [],
   "source": [
    "LambadaAnalyse_TC45_LN.columns = ['TC45_LN_'+col for col in LambadaAnalyse_TC45_LN.columns.values]\n",
    "LambadaAnalyse_TC45_PB.columns = ['TC45_PB_'+col for col in LambadaAnalyse_TC45_PB.columns.values]\n",
    "\n",
    "LambadaAnalyse_BASIC_LN.columns = ['BASIC_LN_'+col for col in LambadaAnalyse_BASIC_LN.columns.values]\n",
    "LambadaAnalyse_BASIC_PB.columns = ['BASIC_PB_'+col for col in LambadaAnalyse_BASIC_PB.columns.values]\n",
    "\n",
    "LambadaAnalyse_Tcel_LN.columns = ['Tcel_LN_'+col for col in LambadaAnalyse_Tcel_LN.columns.values]\n",
    "LambadaAnalyse_Tcel_PB.columns = ['Tcel_PB_'+col for col in LambadaAnalyse_Tcel_PB.columns.values]\n",
    "\n",
    "LambadaAnalyse_Bcel_LN.columns = ['Bcel_LN_'+col for col in LambadaAnalyse_Bcel_LN.columns.values]\n",
    "LambadaAnalyse_Bcel_PB.columns = ['Bcel_PB_'+col for col in LambadaAnalyse_Bcel_PB.columns.values]\n",
    "\n",
    "LambadaAnalyse_DC_LN.columns = ['DC_LN_'+col for col in LambadaAnalyse_DC_LN.columns.values]\n",
    "LambadaAnalyse_DC_PB.columns = ['DC_PB_'+col for col in LambadaAnalyse_DC_PB.columns.values]"
   ]
  },
  {
   "cell_type": "code",
   "execution_count": 10,
   "metadata": {},
   "outputs": [],
   "source": [
    "LambadaParameters.set_index = LambadaParameters.studienr\n",
    "LambadaAnalyse_BASIC_LN.set_index = LambadaAnalyse_BASIC_LN.BASIC_LN_subject_nr_\n",
    "LambadaAnalyse_BASIC_PB.set_index = LambadaAnalyse_BASIC_PB.BASIC_PB_subject_nr_\n",
    "LambadaAnalyse_Bcel_LN.set_index = LambadaAnalyse_Bcel_LN.Bcel_LN_subject_nr_\n",
    "LambadaAnalyse_Bcel_PB.set_index = LambadaAnalyse_Bcel_PB.Bcel_PB_subject_nr_\n",
    "LambadaAnalyse_DC_LN.set_index = LambadaAnalyse_DC_LN.DC_LN_subject_nr_\n",
    "LambadaAnalyse_DC_PB.set_index = LambadaAnalyse_DC_PB.DC_PB_subject_nr_\n",
    "LambadaAnalyse_TC45_LN.set_index = LambadaAnalyse_TC45_LN.TC45_LN_subject_nr_\n",
    "LambadaAnalyse_TC45_PB.set_index = LambadaAnalyse_TC45_PB.TC45_PB_subject_nr_\n",
    "LambadaAnalyse_Tcel_LN.set_index = LambadaAnalyse_Tcel_LN.Tcel_LN_subject_nr_\n",
    "LambadaAnalyse_Tcel_PB.set_index = LambadaAnalyse_Tcel_PB.Tcel_PB_subject_nr_"
   ]
  },
  {
   "cell_type": "markdown",
   "metadata": {},
   "source": [
    "# ..merge"
   ]
  },
  {
   "cell_type": "code",
   "execution_count": 11,
   "metadata": {},
   "outputs": [],
   "source": [
    "Final = pd.concat([LambadaParameters, \n",
    "                  LambadaAnalyse_BASIC_LN,\n",
    "                  LambadaAnalyse_BASIC_PB,\n",
    "                  LambadaAnalyse_Bcel_LN,\n",
    "                  LambadaAnalyse_Bcel_PB,\n",
    "                  LambadaAnalyse_DC_LN,\n",
    "                  LambadaAnalyse_DC_PB,\n",
    "                  LambadaAnalyse_TC45_LN,\n",
    "                  LambadaAnalyse_TC45_PB,\n",
    "                  LambadaAnalyse_Tcel_LN,\n",
    "                  LambadaAnalyse_Tcel_PB], join='outer', axis=1)\n",
    "Final.dropna(axis=0,inplace=True,how='all')\n",
    "Final = Final[~Final.studienr.isna()]\n",
    "Final = Final[Final.studienr!='?']\n",
    "Final.index = Final['studienr']"
   ]
  },
  {
   "cell_type": "markdown",
   "metadata": {},
   "source": [
    "# ..remove columns that are coupled directly to target"
   ]
  },
  {
   "cell_type": "code",
   "execution_count": 12,
   "metadata": {},
   "outputs": [],
   "source": [
    "Final = Final.drop(['rej binnen 6M',\n",
    "            'rej binnen 1Y',\n",
    "            'rej binnen 6M.1',\n",
    "            'rej binnen 1Y.1',\n",
    "            'txpjr',\n",
    "            'EIND',\n",
    "            'STOP_RED',\n",
    "            'datum Bx',\n",
    "            'datum 2e bx',\n",
    "            'behandeling na',\n",
    "            'BASIC_subject_nr',            \n",
    "            'Tcel_subject_nr',\n",
    "            'Bcel_subject_nr',\n",
    "            'DC_subject_nr',\n",
    "            'TC45_subject_nr'], axis=1)"
   ]
  },
  {
   "cell_type": "code",
   "execution_count": 13,
   "metadata": {},
   "outputs": [],
   "source": [
    "for col in Final.columns.values:\n",
    "    if \"number\" in col.lower():\n",
    "        Final = Final.drop(col,axis=1)"
   ]
  },
  {
   "cell_type": "code",
   "execution_count": 14,
   "metadata": {},
   "outputs": [],
   "source": [
    "for col in Final.columns.values:\n",
    "    if \"PB/LN\" in col:\n",
    "        Final = Final.drop(col,axis=1)"
   ]
  },
  {
   "cell_type": "code",
   "execution_count": 15,
   "metadata": {},
   "outputs": [],
   "source": [
    "for col in Final.columns.values:\n",
    "    if \"subject_nr\" in col:\n",
    "        Final = Final.drop(col,axis=1)"
   ]
  },
  {
   "cell_type": "code",
   "execution_count": 16,
   "metadata": {},
   "outputs": [],
   "source": [
    "for col in Final.columns.values:\n",
    "    if \"studienr\" in col:\n",
    "        Final = Final.drop(col,axis=1)"
   ]
  },
  {
   "cell_type": "code",
   "execution_count": 17,
   "metadata": {},
   "outputs": [],
   "source": [
    "for col in Final.columns.values:\n",
    "    if \"comment\" in col.lower():\n",
    "        Final = Final.drop(col,axis=1)"
   ]
  },
  {
   "cell_type": "code",
   "execution_count": 18,
   "metadata": {},
   "outputs": [],
   "source": [
    "for col in Final.columns.values:\n",
    "    if \"complicaties\" in col.lower():\n",
    "        Final = Final.drop(col,axis=1)"
   ]
  },
  {
   "cell_type": "code",
   "execution_count": 19,
   "metadata": {},
   "outputs": [],
   "source": [
    "for col in Final.columns.values:\n",
    "    if \"rejectie\" in col.lower():\n",
    "        Final = Final.drop(col,axis=1)"
   ]
  },
  {
   "cell_type": "code",
   "execution_count": 20,
   "metadata": {},
   "outputs": [],
   "source": [
    "for col in Final.columns.values:\n",
    "    if \"y1\" in col.lower():\n",
    "        Final = Final.drop(col,axis=1)\n",
    "for col in Final.columns.values:\n",
    "    if \"y2\" in col.lower():\n",
    "        Final = Final.drop(col,axis=1)\n",
    "for col in Final.columns.values:\n",
    "    if \"m3\" in col.lower():\n",
    "        Final = Final.drop(col,axis=1)\n",
    "    "
   ]
  },
  {
   "cell_type": "markdown",
   "metadata": {},
   "source": [
    "# ..data types"
   ]
  },
  {
   "cell_type": "code",
   "execution_count": 98,
   "metadata": {},
   "outputs": [],
   "source": [
    "type_dict={'age': 'int', 'sex': 'category', 'gated': 'float', 'absoluut': 'float'}"
   ]
  },
  {
   "cell_type": "code",
   "execution_count": 21,
   "metadata": {},
   "outputs": [],
   "source": [
    "for col in Final.columns.values:\n",
    "    try:\n",
    "        if 'object' in str(Final[col].dtypes):\n",
    "            try:\n",
    "                Final[col] = Final[col].astype('float64')                \n",
    "            except:\n",
    "                try:\n",
    "                    Final[col] = Final[col].astype('category')\n",
    "                except:\n",
    "                    Final[col] = Final[col].astype('str')\n",
    "    except:\n",
    "        Final[col] = Final[col].astype('category')\n",
    "Final.target = Final.target.astype('int')\n",
    "#Final['studienr']=Final.index"
   ]
  },
  {
   "cell_type": "code",
   "execution_count": 22,
   "metadata": {},
   "outputs": [],
   "source": [
    "Final.to_csv(\"Prep_Lambada.csv\",sep=\";\")"
   ]
  },
  {
   "cell_type": "code",
   "execution_count": 76,
   "metadata": {},
   "outputs": [
    {
     "data": {
      "text/plain": [
       "array(['studienr', 'BASISL', 'Primary Diagnosis', 'OORSPR_ORG',\n",
       "       'Total transplants', 'VOORBEH', 'Leefpat', 'Age Donor',\n",
       "       'Sex Donor', 'Sex Recipient', 'pra', 'ET PRA Latest Recipient',\n",
       "       'PRA High Recipient', 'Cold Ischemia Time Hours',\n",
       "       'Cold Ischemia Time Minutes',\n",
       "       'Second Warm Ischemia Period in minutes',\n",
       "       'bijtxpImmunosuppressive Drug 1', 'bijtxpImmunosuppressive Drug 2',\n",
       "       'bijtxpImmunosuppressive Drug 3', 'bijtxpImmunosuppressive Drug 4',\n",
       "       'mm-A', 'mm-B', 'mm-DR', 'hla totaal mm', 'blind solu',\n",
       "       'uitslag 1e bx', 'END', 'Endcreat', 'EndCKD-EPI', 'EndProteinuria',\n",
       "       'EndImmunosuppressive Drug 1', 'EndImmunosuppressive Drug 2',\n",
       "       'EndImmunosuppressive Drug 3', 'target', 'BASIC_LN_All_%_gated',\n",
       "       'BASIC_LN_singlets_%_gated', 'BASIC_LN_CD45+_leucocytes_%_gated',\n",
       "       'BASIC_LN_CD45+_leucocytes_absoluut',\n",
       "       'BASIC_LN_Mono_+_lymfo_%_gated', 'BASIC_LN_Mono_+_lymfo_absoluut',\n",
       "       'BASIC_LN_Mono_+_lymfo_%_gated', 'BASIC_LN_Mono_+_lymfo_absoluut',\n",
       "       'BASIC_LN_B_cells_%_gated', 'BASIC_LN_B_cells_absoluut',\n",
       "       'BASIC_LN_CD3+_T_cells_%_gated', 'BASIC_LN_CD3+_T_cells_absoluut',\n",
       "       'BASIC_LN_CD3+CD56+_T_cell_%_gated',\n",
       "       'BASIC_LN_CD3+CD56+_T_cell_absoluut',\n",
       "       'BASIC_LN_CD4+_T_cells_%_gated', 'BASIC_LN_CD4+_T_cells_absoluut',\n",
       "       'BASIC_LN_CD8+_T_cells_%_gated', 'BASIC_LN_CD8+_T_cells_absoluut',\n",
       "       'BASIC_LN_CD56+_NK_cells_%_gated',\n",
       "       'BASIC_LN_CD56+_NK_cells_absoluut',\n",
       "       'BASIC_LN_CD16+CD56dim_NK_%_gated',\n",
       "       'BASIC_LN_CD16+CD56dim_NK_absoluut',\n",
       "       'BASIC_LN_CD16+CD56high_NK_%_gated',\n",
       "       'BASIC_LN_CD16+CD56high_NK_absoluut',\n",
       "       'BASIC_LN_CD16-CD56dim_NK_%_gated',\n",
       "       'BASIC_LN_CD16-CD56dim_NK_absoluut',\n",
       "       'BASIC_LN_CD16-CD56high_NK_%_gated',\n",
       "       'BASIC_LN_CD16-CD56high_NK_absoluut', 'BASIC_LN_monocytes_%_gated',\n",
       "       'BASIC_LN_monocytes_absoluut',\n",
       "       'BASIC_LN_CD14+CD16high_monocytes_%_gated',\n",
       "       'BASIC_LN_CD14+CD16high_monocytes_absoluut',\n",
       "       'BASIC_LN_CD14highCD16-_monocytes_%_gated',\n",
       "       'BASIC_LN_CD14highCD16-_monocytes_absoluut',\n",
       "       'BASIC_LN_CD14highCD16+_monocytes_%_gated',\n",
       "       'BASIC_LN_CD14highCD16+_monocytes_absoluut',\n",
       "       'BASIC_PB_All_%_gated', 'BASIC_PB_singlets_%_gated',\n",
       "       'BASIC_PB_CD45+_leucocytes_%_gated',\n",
       "       'BASIC_PB_CD45+_leucocytes_absoluut',\n",
       "       'BASIC_PB_Mono_+_lymfo_%_gated', 'BASIC_PB_Mono_+_lymfo_absoluut',\n",
       "       'BASIC_PB_Mono_+_lymfo_%_gated', 'BASIC_PB_Mono_+_lymfo_absoluut',\n",
       "       'BASIC_PB_B_cells_%_gated', 'BASIC_PB_B_cells_absoluut',\n",
       "       'BASIC_PB_CD3+_T_cells_%_gated', 'BASIC_PB_CD3+_T_cells_absoluut',\n",
       "       'BASIC_PB_CD3+CD56+_T_cell_%_gated',\n",
       "       'BASIC_PB_CD3+CD56+_T_cell_absoluut',\n",
       "       'BASIC_PB_CD4+_T_cells_%_gated', 'BASIC_PB_CD4+_T_cells_absoluut',\n",
       "       'BASIC_PB_CD8+_T_cells_%_gated', 'BASIC_PB_CD8+_T_cells_absoluut',\n",
       "       'BASIC_PB_CD56+_NK_cells_%_gated',\n",
       "       'BASIC_PB_CD56+_NK_cells_absoluut',\n",
       "       'BASIC_PB_CD16+CD56dim_NK_%_gated',\n",
       "       'BASIC_PB_CD16+CD56dim_NK_absoluut',\n",
       "       'BASIC_PB_CD16+CD56high_NK_%_gated',\n",
       "       'BASIC_PB_CD16+CD56high_NK_absoluut',\n",
       "       'BASIC_PB_CD16-CD56dim_NK_%_gated',\n",
       "       'BASIC_PB_CD16-CD56dim_NK_absoluut',\n",
       "       'BASIC_PB_CD16-CD56high_NK_%_gated',\n",
       "       'BASIC_PB_CD16-CD56high_NK_absoluut', 'BASIC_PB_monocytes_%_gated',\n",
       "       'BASIC_PB_monocytes_absoluut',\n",
       "       'BASIC_PB_CD14+CD16high_monocytes_%_gated',\n",
       "       'BASIC_PB_CD14+CD16high_monocytes_absoluut',\n",
       "       'BASIC_PB_CD14highCD16-_monocytes_%_gated',\n",
       "       'BASIC_PB_CD14highCD16-_monocytes_absoluut',\n",
       "       'BASIC_PB_CD14highCD16+_monocytes_%_gated',\n",
       "       'BASIC_PB_CD14highCD16+_monocytes_absoluut', 'Bcel_LN_all_%gated',\n",
       "       'Bcel_LN_singlets_%gated', 'Bcel_LN_CD45+_Leucocytes_%gated',\n",
       "       'Bcel_LN_CD45+_Leucocytes_absoluut', 'Bcel_LN_lymfocytes_%gated',\n",
       "       'Bcel_LN_lymfocytes_absoluut', 'Bcel_LN_CD19+_B_cells_%gated',\n",
       "       'Bcel_LN_CD19+_B_cells_absoluut', 'Bcel_LN_CD19+_B_cells_%gated',\n",
       "       'Bcel_LN_CD19+_B_cells_absoluut', 'Bcel_LN_CD21+CD38high_%gated',\n",
       "       'Bcel_LN_CD21+CD38high_absoluut', 'Bcel_LN_CD21-CD38dim_%gated',\n",
       "       'Bcel_LN_CD21-CD38dim_absoluut', 'Bcel_LN_CD21-CD38high_%gated',\n",
       "       'Bcel_LN_CD21-CD38high_absoluut', 'Bcel_LN_CD21-CD38low_%gated',\n",
       "       'Bcel_LN_CD21-CD38low_absoluut', 'Bcel_LN_IgM+IgD-_%gated',\n",
       "       'Bcel_LN_IgM+IgD-_absoluut', 'Bcel_LN_IgM+IgD+_%gated',\n",
       "       'Bcel_LN_IgM+IgD+_absoluut', 'Bcel_LN_IgM-IgD-_%gated',\n",
       "       'Bcel_LN_IgM-IgD-_absoluut', 'Bcel_LN_IgM-IgD+_%gated',\n",
       "       'Bcel_LN_IgM-IgD+_absoluut', 'Bcel_LN_IgD-CD27+_%gated',\n",
       "       'Bcel_LN_IgD-CD27+_absoluut',\n",
       "       'Bcel_LN_IgD+CD27+_(marginal_zone_B_cells)_%gated',\n",
       "       'Bcel_LN_IgD+CD27+_(marginal_zone_B_cells)_absoluut',\n",
       "       'Bcel_LN_IgD-CD27-_%gated', 'Bcel_LN_IgD-CD27-_absoluut',\n",
       "       'Bcel_LN_IgD+CD27-_(naive_B_cells)_%gated',\n",
       "       'Bcel_LN_IgD+CD27-_(naive_B_cells)_absoluut',\n",
       "       'Bcel_LN_class_switched_memory_B_cells_%gated',\n",
       "       'Bcel_LN_class_switched_memory_B_cells_absoluut',\n",
       "       'Bcel_LN_IgD-IgM-CD27+CD38high_%gated',\n",
       "       'Bcel_LN_IgD-IgM-CD27+CD38high_absoluut',\n",
       "       'Bcel_LN_IgD-IgM-CD27-CD38low_%gated',\n",
       "       'Bcel_LN_IgD-IgM-CD27-CD38low_absoluut',\n",
       "       'Bcel_LN_IgD-IgM-CD27-CD38_high_%gated',\n",
       "       'Bcel_LN_IgD-IgM-CD27-CD38_high_absoluut',\n",
       "       'Bcel_LN_plasmablast_%gated', 'Bcel_LN_plasmablast_absoluut',\n",
       "       'Bcel_LN_IgM+_%gated', 'Bcel_LN_IgM+_absoluut',\n",
       "       'Bcel_LN_IgM+CD27+CD38dim_%gated',\n",
       "       'Bcel_LN_IgM+CD27+CD38dim_absoluut',\n",
       "       'Bcel_LN_IgM+CD27+CD38high_%gated',\n",
       "       'Bcel_LN_IgM+CD27+CD38high_absoluut',\n",
       "       'Bcel_LN_IgM+CD27-CD38dim_%gated',\n",
       "       'Bcel_LN_IgM+CD27-CD38dim_absoluut',\n",
       "       'Bcel_LN_IgM+CD27-CD38high_%gated',\n",
       "       'Bcel_LN_IgM+CD27-CD38high_absoluut',\n",
       "       'Bcel_LN_IgD-IgM+CD27+CD38dim_%gated',\n",
       "       'Bcel_LN_IgD-IgM+CD27+CD38dim_absoluut',\n",
       "       'Bcel_LN_IgD-IgM+CD27+CD38high_%gated',\n",
       "       'Bcel_LN_IgD-IgM+CD27+CD38high_absoluut',\n",
       "       'Bcel_LN_IgD-IgM+CD27-CD38dim_%gated',\n",
       "       'Bcel_LN_IgD-IgM+CD27-CD38dim_absoluut',\n",
       "       'Bcel_LN_IgD-IgM+CD27-CD38high_%gated',\n",
       "       'Bcel_LN_IgD-IgM+CD27-CD38high_absoluut',\n",
       "       'Bcel_LN_IgM+CD27-_%gated', 'Bcel_LN_IgM+CD27-_absoluut',\n",
       "       'Bcel_LN_CD19+IgM+CD38high_%gated',\n",
       "       'Bcel_LN_CD19+IgM+CD38high_absoluut',\n",
       "       'Bcel_LN_transitional_B_cell_%gated',\n",
       "       'Bcel_LN_transitional_B_cell_absoluut', 'Bcel_PB_all_%gated',\n",
       "       'Bcel_PB_singlets_%gated', 'Bcel_PB_CD45+_Leucocytes_%gated',\n",
       "       'Bcel_PB_CD45+_Leucocytes_absoluut', 'Bcel_PB_lymfocytes_%gated',\n",
       "       'Bcel_PB_lymfocytes_absoluut', 'Bcel_PB_CD19+_B_cells_%gated',\n",
       "       'Bcel_PB_CD19+_B_cells_absoluut', 'Bcel_PB_CD19+_B_cells_%gated',\n",
       "       'Bcel_PB_CD19+_B_cells_absoluut', 'Bcel_PB_CD21+CD38high_%gated',\n",
       "       'Bcel_PB_CD21+CD38high_absoluut', 'Bcel_PB_CD21-CD38dim_%gated',\n",
       "       'Bcel_PB_CD21-CD38dim_absoluut', 'Bcel_PB_CD21-CD38high_%gated',\n",
       "       'Bcel_PB_CD21-CD38high_absoluut', 'Bcel_PB_CD21-CD38low_%gated',\n",
       "       'Bcel_PB_CD21-CD38low_absoluut', 'Bcel_PB_IgM+IgD-_%gated',\n",
       "       'Bcel_PB_IgM+IgD-_absoluut', 'Bcel_PB_IgM+IgD+_%gated',\n",
       "       'Bcel_PB_IgM+IgD+_absoluut', 'Bcel_PB_IgM-IgD-_%gated',\n",
       "       'Bcel_PB_IgM-IgD-_absoluut', 'Bcel_PB_IgM-IgD+_%gated',\n",
       "       'Bcel_PB_IgM-IgD+_absoluut', 'Bcel_PB_IgD-CD27+_%gated',\n",
       "       'Bcel_PB_IgD-CD27+_absoluut',\n",
       "       'Bcel_PB_IgD+CD27+_(marginal_zone_B_cells)_%gated',\n",
       "       'Bcel_PB_IgD+CD27+_(marginal_zone_B_cells)_absoluut',\n",
       "       'Bcel_PB_IgD-CD27-_%gated', 'Bcel_PB_IgD-CD27-_absoluut',\n",
       "       'Bcel_PB_IgD+CD27-_(naive_B_cells)_%gated',\n",
       "       'Bcel_PB_IgD+CD27-_(naive_B_cells)_absoluut',\n",
       "       'Bcel_PB_class_switched_memory_B_cells_%gated',\n",
       "       'Bcel_PB_class_switched_memory_B_cells_absoluut',\n",
       "       'Bcel_PB_IgD-IgM-CD27+CD38high_%gated',\n",
       "       'Bcel_PB_IgD-IgM-CD27+CD38high_absoluut',\n",
       "       'Bcel_PB_IgD-IgM-CD27-CD38low_%gated',\n",
       "       'Bcel_PB_IgD-IgM-CD27-CD38low_absoluut',\n",
       "       'Bcel_PB_IgD-IgM-CD27-CD38_high_%gated',\n",
       "       'Bcel_PB_IgD-IgM-CD27-CD38_high_absoluut',\n",
       "       'Bcel_PB_plasmablast_%gated', 'Bcel_PB_plasmablast_absoluut',\n",
       "       'Bcel_PB_IgM+_%gated', 'Bcel_PB_IgM+_absoluut',\n",
       "       'Bcel_PB_IgM+CD27+CD38dim_%gated',\n",
       "       'Bcel_PB_IgM+CD27+CD38dim_absoluut',\n",
       "       'Bcel_PB_IgM+CD27+CD38high_%gated',\n",
       "       'Bcel_PB_IgM+CD27+CD38high_absoluut',\n",
       "       'Bcel_PB_IgM+CD27-CD38dim_%gated',\n",
       "       'Bcel_PB_IgM+CD27-CD38dim_absoluut',\n",
       "       'Bcel_PB_IgM+CD27-CD38high_%gated',\n",
       "       'Bcel_PB_IgM+CD27-CD38high_absoluut',\n",
       "       'Bcel_PB_IgD-IgM+CD27+CD38dim_%gated',\n",
       "       'Bcel_PB_IgD-IgM+CD27+CD38dim_absoluut',\n",
       "       'Bcel_PB_IgD-IgM+CD27+CD38high_%gated',\n",
       "       'Bcel_PB_IgD-IgM+CD27+CD38high_absoluut',\n",
       "       'Bcel_PB_IgD-IgM+CD27-CD38dim_%gated',\n",
       "       'Bcel_PB_IgD-IgM+CD27-CD38dim_absoluut',\n",
       "       'Bcel_PB_IgD-IgM+CD27-CD38high_%gated',\n",
       "       'Bcel_PB_IgD-IgM+CD27-CD38high_absoluut',\n",
       "       'Bcel_PB_IgM+CD27-_%gated', 'Bcel_PB_IgM+CD27-_absoluut',\n",
       "       'Bcel_PB_CD19+IgM+CD38high_%gated',\n",
       "       'Bcel_PB_CD19+IgM+CD38high_absoluut',\n",
       "       'Bcel_PB_transitional_B_cell_%gated',\n",
       "       'Bcel_PB_transitional_B_cell_absoluut', 'DC_LN_All__%gated',\n",
       "       'DC_LN_singlets_%gated', 'DC_LN_CD45+_leucocytes_%gated',\n",
       "       'DC_LN_CD45+_leucocytes_absoluut', 'DC_LN_DC_region_%gated',\n",
       "       'DC_LN_DC_region_absoluut', 'DC_LN_LIN-HLA-DR+_%gated',\n",
       "       'DC_LN_LIN-HLA-DR+_absoluut',\n",
       "       'DC_LN_LIN-HLA-DR+CD11c-_(TM2)_%gated',\n",
       "       'DC_LN_LIN-HLA-DR+CD11c-_(TM2)_absoluut', 'DC_LN_pDC_%gated',\n",
       "       'DC_LN_pDC_absoluut', 'DC_LN_mDC_(TM2)_%gated',\n",
       "       'DC_LN_mDC_(TM2)_absoluut', 'DC_LN_mDC1_%gated',\n",
       "       'DC_LN_mDC1_absoluut', 'DC_LN_mDC_wo_mDC1_%gated',\n",
       "       'DC_LN_mDC_wo_mDC1_absoluut', 'DC_LN_mDC2_%gated',\n",
       "       'DC_LN_mDC2_absoluut', 'DC_LN_CD16+_mDC_%gated',\n",
       "       'DC_LN_CD16+_mDC_absoluut', 'DC_PB_All__%gated',\n",
       "       'DC_PB_singlets_%gated', 'DC_PB_CD45+_leucocytes_%gated',\n",
       "       'DC_PB_CD45+_leucocytes_absoluut', 'DC_PB_DC_region_%gated',\n",
       "       'DC_PB_DC_region_absoluut', 'DC_PB_LIN-HLA-DR+_%gated',\n",
       "       'DC_PB_LIN-HLA-DR+_absoluut',\n",
       "       'DC_PB_LIN-HLA-DR+CD11c-_(TM2)_%gated',\n",
       "       'DC_PB_LIN-HLA-DR+CD11c-_(TM2)_absoluut', 'DC_PB_pDC_%gated',\n",
       "       'DC_PB_pDC_absoluut', 'DC_PB_mDC_(TM2)_%gated',\n",
       "       'DC_PB_mDC_(TM2)_absoluut', 'DC_PB_mDC1_%gated',\n",
       "       'DC_PB_mDC1_absoluut', 'DC_PB_mDC_wo_mDC1_%gated',\n",
       "       'DC_PB_mDC_wo_mDC1_absoluut', 'DC_PB_mDC2_%gated',\n",
       "       'DC_PB_mDC2_absoluut', 'DC_PB_CD16+_mDC_%gated',\n",
       "       'DC_PB_CD16+_mDC_absoluut', 'TC45_LN_all_Gated',\n",
       "       'TC45_LN_beads_Gated', 'TC45_LN_CD45_Gated',\n",
       "       'TC45_LN_lymfocytes_Gated', 'TC45_LN_CD45_absoluut',\n",
       "       'TC45_LN_lymfocytes__absoluut', 'TC45_LN_bead_count_absoluut',\n",
       "       'TC45_LN_perc_lymfo_vd_CD45', 'TC45_LN_leuco_AKC_abs',\n",
       "       'TC45_LN_lymfo_AKC_perc', 'TC45_LN_X3_abs', 'TC45_PB_all_Gated',\n",
       "       'TC45_PB_beads_Gated', 'TC45_PB_CD45_Gated',\n",
       "       'TC45_PB_lymfocytes_Gated', 'TC45_PB_CD45_absoluut',\n",
       "       'TC45_PB_lymfocytes__absoluut', 'TC45_PB_bead_count_absoluut',\n",
       "       'TC45_PB_perc_lymfo_vd_CD45', 'TC45_PB_leuco_AKC_abs',\n",
       "       'TC45_PB_lymfo_AKC_perc', 'TC45_PB_X3_abs', 'Tcel_LN_All_%Gated',\n",
       "       'Tcel_LN_singlets_%Gated', 'Tcel_LN_CD45+_leucocytes_%Gated',\n",
       "       'Tcel_LN_CD45+_leucocytes_absoluut', 'Tcel_LN_lymphocytes_%Gated',\n",
       "       'Tcel_LN_lymphocytes_absoluut', 'Tcel_LN_CD3+_T_cells_%Gated',\n",
       "       'Tcel_LN_CD3+_T_cells_absoluut', 'Tcel_LN_CD4+_T_cells_%Gated',\n",
       "       'Tcel_LN_CD4+_T_cells_absoluut', 'Tcel_LN_CD4+CD57+_%Gated',\n",
       "       'Tcel_LN_CD4+CD57+_absoluut', 'Tcel_LN_CD4+CCR7+CD45RA-_%Gated',\n",
       "       'Tcel_LN_CD4+CCR7+CD45RA-_absoluut',\n",
       "       'Tcel_LN_CD4+CCR7+CD45RA+_%Gated',\n",
       "       'Tcel_LN_CD4+CCR7+CD45RA+_absoluut',\n",
       "       'Tcel_LN_CD4+CCR7-CD45RA-_%Gated',\n",
       "       'Tcel_LN_CD4+CCR7-CD45RA-_absoluut',\n",
       "       'Tcel_LN_CD4+CCR7-CD45RA+_%Gated',\n",
       "       'Tcel_LN_CD4+CCR7-CD45RA+_absoluut',\n",
       "       'Tcel_LN_CD4+CD27-CD28+_%Gated', 'Tcel_LN_CD4+CD27-CD28+_absoluut',\n",
       "       'Tcel_LN_CD4+CD27+CD28+_%Gated', 'Tcel_LN_CD4+CD27+CD28+_absoluut',\n",
       "       'Tcel_LN_CD4+CD27-CD28-_%Gated', 'Tcel_LN_CD4+CD27-CD28-_absoluut',\n",
       "       'Tcel_LN_CD4+CD27+CD28-_%Gated', 'Tcel_LN_CD4+CD27+CD28-_absoluut',\n",
       "       'Tcel_LN_CD4+CD28-PD1+_%Gated', 'Tcel_LN_CD4+CD28-PD1+_absoluut',\n",
       "       'Tcel_LN_CD4+CD28+PD1+_%Gated', 'Tcel_LN_CD4+CD28+PD1+_absoluut',\n",
       "       'Tcel_LN_CD4+CD28-PD1-_%Gated', 'Tcel_LN_CD4+CD28-PD1-_absoluut',\n",
       "       'Tcel_LN_CD4+CD28+PD1-_%Gated', 'Tcel_LN_CD4+CD28+PD1-_absoluut',\n",
       "       'Tcel_LN_CD4+CD28-CD57+_%Gated', 'Tcel_LN_CD4+CD28-CD57+_absoluut',\n",
       "       'Tcel_LN_CD4+CD28+CD57+_%Gated', 'Tcel_LN_CD4+CD28+CD57+_absoluut',\n",
       "       'Tcel_LN_CD4+CD28-CD57-_%Gated', 'Tcel_LN_CD4+CD28-CD57-_absoluut',\n",
       "       'Tcel_LN_CD4+CD28+CD57-_%Gated', 'Tcel_LN_CD4+CD28+CD57-_absoluut',\n",
       "       'Tcel_LN_CD4+EMRA_CD28-CD57+_%Gated',\n",
       "       'Tcel_LN_CD4+EMRA_CD28-CD57+_absoluut',\n",
       "       'Tcel_LN_CD4+EMRA_CD28+CD57+_%Gated',\n",
       "       'Tcel_LN_CD4+EMRA_CD28+CD57+_absoluut',\n",
       "       'Tcel_LN_CD4+EMRA_CD28-CD57-_%Gated',\n",
       "       'Tcel_LN_CD4+EMRA_CD28-CD57-_absoluut',\n",
       "       'Tcel_LN_CD4+EMRA_CD28+CD57-_%Gated',\n",
       "       'Tcel_LN_CD4+EMRA_CD28+CD57-_absoluut',\n",
       "       'Tcel_LN_CD8+_T_cells_%Gated', 'Tcel_LN_CD8+_T_cells_absoluut',\n",
       "       'Tcel_LN_CD8+CD57+_%Gated', 'Tcel_LN_CD8+CD57+_absoluut',\n",
       "       'Tcel_LN_CD8+CCR7+CD45RA-_%Gated',\n",
       "       'Tcel_LN_CD8+CCR7+CD45RA-_absoluut',\n",
       "       'Tcel_LN_CD8+CCR7+CD45RA+_%Gated',\n",
       "       'Tcel_LN_CD8+CCR7+CD45RA+_absoluut',\n",
       "       'Tcel_LN_CD8+CCR7-CD45RA-_%Gated',\n",
       "       'Tcel_LN_CD8+CCR7-CD45RA-_absoluut',\n",
       "       'Tcel_LN_CD8+CCR7-CD45RA+_%Gated',\n",
       "       'Tcel_LN_CD8+CCR7-CD45RA+_absoluut',\n",
       "       'Tcel_LN_CD8+CD27-CD28+_%Gated', 'Tcel_LN_CD8+CD27-CD28+_absoluut',\n",
       "       'Tcel_LN_CD8+CD27+CD28+_%Gated', 'Tcel_LN_CD8+CD27+CD28+_absoluut',\n",
       "       'Tcel_LN_CD8+CD27-CD28-_%Gated', 'Tcel_LN_CD8+CD27-CD28-_absoluut',\n",
       "       'Tcel_LN_CD8+CD27+CD28-_%Gated', 'Tcel_LN_CD8+CD27+CD28-_absoluut',\n",
       "       'Tcel_LN_CD8+CD28-PD1+_%Gated', 'Tcel_LN_CD8+CD28-PD1+_absoluut',\n",
       "       'Tcel_LN_CD8+CD28+PD1+_%Gated', 'Tcel_LN_CD8+CD28+PD1+_absoluut',\n",
       "       'Tcel_LN_CD8+CD28-PD1-_%Gated', 'Tcel_LN_CD8+CD28-PD1-_absoluut',\n",
       "       'Tcel_LN_CD8+CD28+PD1-_%Gated', 'Tcel_LN_CD8+CD28+PD1-_absoluut',\n",
       "       'Tcel_LN_CD8+CD28-CD57+_%Gated', 'Tcel_LN_CD8+CD28-CD57+_absoluut',\n",
       "       'Tcel_LN_CD8+CD28+CD57+_%Gated', 'Tcel_LN_CD8+CD28+CD57+_absoluut',\n",
       "       'Tcel_LN_CD8+CD28-CD57-_%Gated', 'Tcel_LN_CD8+CD28-CD57-_absoluut',\n",
       "       'Tcel_LN_CD8+CD28+CD57-_%Gated', 'Tcel_LN_CD8+CD28+CD57-_absoluut',\n",
       "       'Tcel_LN_CD8+EMRA_CD28-CD57+_%Gated',\n",
       "       'Tcel_LN_CD8+EMRA_CD28-CD57+_absoluut',\n",
       "       'Tcel_LN_CD8+EMRA_CD28+CD57+_%Gated',\n",
       "       'Tcel_LN_CD8+EMRA_CD28+CD57+_absoluut',\n",
       "       'Tcel_LN_CD8+EMRA_CD28-CD57-_%Gated',\n",
       "       'Tcel_LN_CD8+EMRA_CD28-CD57-_absoluut',\n",
       "       'Tcel_LN_CD8+EMRA_CD28+CD57-_%Gated',\n",
       "       'Tcel_LN_CD8+EMRA_CD28+CD57-_absoluut', 'Tcel_PB_All_%Gated',\n",
       "       'Tcel_PB_singlets_%Gated', 'Tcel_PB_CD45+_leucocytes_%Gated',\n",
       "       'Tcel_PB_CD45+_leucocytes_absoluut', 'Tcel_PB_lymphocytes_%Gated',\n",
       "       'Tcel_PB_lymphocytes_absoluut', 'Tcel_PB_CD3+_T_cells_%Gated',\n",
       "       'Tcel_PB_CD3+_T_cells_absoluut', 'Tcel_PB_CD4+_T_cells_%Gated',\n",
       "       'Tcel_PB_CD4+_T_cells_absoluut', 'Tcel_PB_CD4+CD57+_%Gated',\n",
       "       'Tcel_PB_CD4+CD57+_absoluut', 'Tcel_PB_CD4+CCR7+CD45RA-_%Gated',\n",
       "       'Tcel_PB_CD4+CCR7+CD45RA-_absoluut',\n",
       "       'Tcel_PB_CD4+CCR7+CD45RA+_%Gated',\n",
       "       'Tcel_PB_CD4+CCR7+CD45RA+_absoluut',\n",
       "       'Tcel_PB_CD4+CCR7-CD45RA-_%Gated',\n",
       "       'Tcel_PB_CD4+CCR7-CD45RA-_absoluut',\n",
       "       'Tcel_PB_CD4+CCR7-CD45RA+_%Gated',\n",
       "       'Tcel_PB_CD4+CCR7-CD45RA+_absoluut',\n",
       "       'Tcel_PB_CD4+CD27-CD28+_%Gated', 'Tcel_PB_CD4+CD27-CD28+_absoluut',\n",
       "       'Tcel_PB_CD4+CD27+CD28+_%Gated', 'Tcel_PB_CD4+CD27+CD28+_absoluut',\n",
       "       'Tcel_PB_CD4+CD27-CD28-_%Gated', 'Tcel_PB_CD4+CD27-CD28-_absoluut',\n",
       "       'Tcel_PB_CD4+CD27+CD28-_%Gated', 'Tcel_PB_CD4+CD27+CD28-_absoluut',\n",
       "       'Tcel_PB_CD4+CD28-PD1+_%Gated', 'Tcel_PB_CD4+CD28-PD1+_absoluut',\n",
       "       'Tcel_PB_CD4+CD28+PD1+_%Gated', 'Tcel_PB_CD4+CD28+PD1+_absoluut',\n",
       "       'Tcel_PB_CD4+CD28-PD1-_%Gated', 'Tcel_PB_CD4+CD28-PD1-_absoluut',\n",
       "       'Tcel_PB_CD4+CD28+PD1-_%Gated', 'Tcel_PB_CD4+CD28+PD1-_absoluut',\n",
       "       'Tcel_PB_CD4+CD28-CD57+_%Gated', 'Tcel_PB_CD4+CD28-CD57+_absoluut',\n",
       "       'Tcel_PB_CD4+CD28+CD57+_%Gated', 'Tcel_PB_CD4+CD28+CD57+_absoluut',\n",
       "       'Tcel_PB_CD4+CD28-CD57-_%Gated', 'Tcel_PB_CD4+CD28-CD57-_absoluut',\n",
       "       'Tcel_PB_CD4+CD28+CD57-_%Gated', 'Tcel_PB_CD4+CD28+CD57-_absoluut',\n",
       "       'Tcel_PB_CD4+EMRA_CD28-CD57+_%Gated',\n",
       "       'Tcel_PB_CD4+EMRA_CD28-CD57+_absoluut',\n",
       "       'Tcel_PB_CD4+EMRA_CD28+CD57+_%Gated',\n",
       "       'Tcel_PB_CD4+EMRA_CD28+CD57+_absoluut',\n",
       "       'Tcel_PB_CD4+EMRA_CD28-CD57-_%Gated',\n",
       "       'Tcel_PB_CD4+EMRA_CD28-CD57-_absoluut',\n",
       "       'Tcel_PB_CD4+EMRA_CD28+CD57-_%Gated',\n",
       "       'Tcel_PB_CD4+EMRA_CD28+CD57-_absoluut',\n",
       "       'Tcel_PB_CD8+_T_cells_%Gated', 'Tcel_PB_CD8+_T_cells_absoluut',\n",
       "       'Tcel_PB_CD8+CD57+_%Gated', 'Tcel_PB_CD8+CD57+_absoluut',\n",
       "       'Tcel_PB_CD8+CCR7+CD45RA-_%Gated',\n",
       "       'Tcel_PB_CD8+CCR7+CD45RA-_absoluut',\n",
       "       'Tcel_PB_CD8+CCR7+CD45RA+_%Gated',\n",
       "       'Tcel_PB_CD8+CCR7+CD45RA+_absoluut',\n",
       "       'Tcel_PB_CD8+CCR7-CD45RA-_%Gated',\n",
       "       'Tcel_PB_CD8+CCR7-CD45RA-_absoluut',\n",
       "       'Tcel_PB_CD8+CCR7-CD45RA+_%Gated',\n",
       "       'Tcel_PB_CD8+CCR7-CD45RA+_absoluut',\n",
       "       'Tcel_PB_CD8+CD27-CD28+_%Gated', 'Tcel_PB_CD8+CD27-CD28+_absoluut',\n",
       "       'Tcel_PB_CD8+CD27+CD28+_%Gated', 'Tcel_PB_CD8+CD27+CD28+_absoluut',\n",
       "       'Tcel_PB_CD8+CD27-CD28-_%Gated', 'Tcel_PB_CD8+CD27-CD28-_absoluut',\n",
       "       'Tcel_PB_CD8+CD27+CD28-_%Gated', 'Tcel_PB_CD8+CD27+CD28-_absoluut',\n",
       "       'Tcel_PB_CD8+CD28-PD1+_%Gated', 'Tcel_PB_CD8+CD28-PD1+_absoluut',\n",
       "       'Tcel_PB_CD8+CD28+PD1+_%Gated', 'Tcel_PB_CD8+CD28+PD1+_absoluut',\n",
       "       'Tcel_PB_CD8+CD28-PD1-_%Gated', 'Tcel_PB_CD8+CD28-PD1-_absoluut',\n",
       "       'Tcel_PB_CD8+CD28+PD1-_%Gated', 'Tcel_PB_CD8+CD28+PD1-_absoluut',\n",
       "       'Tcel_PB_CD8+CD28-CD57+_%Gated', 'Tcel_PB_CD8+CD28-CD57+_absoluut',\n",
       "       'Tcel_PB_CD8+CD28+CD57+_%Gated', 'Tcel_PB_CD8+CD28+CD57+_absoluut',\n",
       "       'Tcel_PB_CD8+CD28-CD57-_%Gated', 'Tcel_PB_CD8+CD28-CD57-_absoluut',\n",
       "       'Tcel_PB_CD8+CD28+CD57-_%Gated', 'Tcel_PB_CD8+CD28+CD57-_absoluut',\n",
       "       'Tcel_PB_CD8+EMRA_CD28-CD57+_%Gated',\n",
       "       'Tcel_PB_CD8+EMRA_CD28-CD57+_absoluut',\n",
       "       'Tcel_PB_CD8+EMRA_CD28+CD57+_%Gated',\n",
       "       'Tcel_PB_CD8+EMRA_CD28+CD57+_absoluut',\n",
       "       'Tcel_PB_CD8+EMRA_CD28-CD57-_%Gated',\n",
       "       'Tcel_PB_CD8+EMRA_CD28-CD57-_absoluut',\n",
       "       'Tcel_PB_CD8+EMRA_CD28+CD57-_%Gated',\n",
       "       'Tcel_PB_CD8+EMRA_CD28+CD57-_absoluut'], dtype=object)"
      ]
     },
     "execution_count": 76,
     "metadata": {},
     "output_type": "execute_result"
    }
   ],
   "source": [
    "Final.columns.values"
   ]
  },
  {
   "cell_type": "markdown",
   "metadata": {},
   "source": [
    "# ..train model"
   ]
  },
  {
   "cell_type": "code",
   "execution_count": 23,
   "metadata": {},
   "outputs": [],
   "source": [
    "from sklearn import ensemble"
   ]
  },
  {
   "cell_type": "code",
   "execution_count": 24,
   "metadata": {},
   "outputs": [],
   "source": [
    "from sklearn import ensemble\n",
    "from sklearn.model_selection import train_test_split, cross_val_score  \n",
    "from sklearn.model_selection import cross_validate\n",
    "from sklearn.model_selection import cross_val_predict\n",
    "from sklearn.model_selection import StratifiedKFold\n",
    "from sklearn.decomposition import PCA\n",
    "from sklearn.feature_selection import RFECV\n",
    "from sklearn.feature_selection import SelectFdr\n",
    "from sklearn.linear_model import LogisticRegressionCV\n",
    "from sklearn import metrics\n",
    "from tpot import TPOTClassifier\n",
    "from sklearn.model_selection import train_test_split"
   ]
  },
  {
   "cell_type": "code",
   "execution_count": 27,
   "metadata": {},
   "outputs": [],
   "source": [
    "df = pd.get_dummies(Final)\n",
    "df.fillna(0, inplace=True)"
   ]
  },
  {
   "cell_type": "code",
   "execution_count": 28,
   "metadata": {},
   "outputs": [],
   "source": [
    "x = df.drop(['target', 'studienr'], axis=1)\n",
    "y = df['target']"
   ]
  },
  {
   "cell_type": "code",
   "execution_count": 523,
   "metadata": {},
   "outputs": [],
   "source": [
    "# alleen klinische data\n",
    "x=x[['BASISL', 'AANT_NT', 'Leefpat', 'Age Donor', 'pra',\n",
    "       'ET PRA Latest Recipient', 'ET PRA High Recipient',\n",
    "       'Cold Ischemia Time Hours', 'Cold Ischemia Time Minutes',\n",
    "       'Second Warm Ischemia Period in minutes', 'mm-A', 'mm-B',\n",
    "       'hla totaal mm', 'M3creat', 'M3CKD-EPI', 'M3Proteinuria',\n",
    "       'Y1creat', 'Y1CKD-EPI', 'Y1Proteinuria', 'Y2creat', 'Y2CKD-EPI',\n",
    "       'Y2Proteinuria', 'Endcreat', 'EndCKD-EPI', 'EndProteinuria']]"
   ]
  },
  {
   "cell_type": "code",
   "execution_count": 291,
   "metadata": {},
   "outputs": [],
   "source": [
    "x=x[['BASISL', 'AANT_NT', 'Leefpat', 'Age Donor', 'pra',\n",
    "       'ET PRA Latest Recipient', 'ET PRA High Recipient',\n",
    "       'Cold Ischemia Time Hours', 'Cold Ischemia Time Minutes',\n",
    "       'Second Warm Ischemia Period in minutes', 'mm-A', 'mm-B',\n",
    "       'hla totaal mm']]"
   ]
  },
  {
   "cell_type": "code",
   "execution_count": 164,
   "metadata": {},
   "outputs": [],
   "source": [
    "x = PCA(n_components=50).fit_transform(x)"
   ]
  },
  {
   "cell_type": "code",
   "execution_count": 180,
   "metadata": {},
   "outputs": [],
   "source": [
    "MODEL = ensemble.RandomForestClassifier()\n",
    "x = RFECV(step=1, cv=7, n_jobs=8, estimator=MODEL).fit_transform(x,y)"
   ]
  },
  {
   "cell_type": "code",
   "execution_count": 32,
   "metadata": {},
   "outputs": [
    {
     "name": "stderr",
     "output_type": "stream",
     "text": [
      "/usr/local/lib/python3.6/dist-packages/ipykernel_launcher.py:3: SettingWithCopyWarning: \n",
      "A value is trying to be set on a copy of a slice from a DataFrame\n",
      "\n",
      "See the caveats in the documentation: http://pandas.pydata.org/pandas-docs/stable/indexing.html#indexing-view-versus-copy\n",
      "  This is separate from the ipykernel package so we can avoid doing imports until\n"
     ]
    }
   ],
   "source": [
    "x_new = SelectFdr(alpha=.5).fit_transform(x,y)\n",
    "fdr_support = SelectFdr(alpha=.5).fit(x,y).get_support()\n",
    "x.drop(x.columns[~fdr_support], axis=1, inplace=True)"
   ]
  },
  {
   "cell_type": "code",
   "execution_count": 300,
   "metadata": {},
   "outputs": [
    {
     "name": "stdout",
     "output_type": "stream",
     "text": [
      "             precision    recall  f1-score   support\n",
      "\n",
      "        0.0       0.79      0.82      0.81        33\n",
      "        1.0       0.57      0.53      0.55        15\n",
      "\n",
      "avg / total       0.72      0.73      0.73        48\n",
      "\n",
      "Total accuracy: 0.7291666666666666\n",
      "AUC/ROC: 0.6757575757575757\n"
     ]
    }
   ],
   "source": [
    "MODEL = ensemble.RandomForestClassifier(bootstrap=False, \n",
    "                                        criterion='entropy', \n",
    "                                        max_features=0.5, \n",
    "                                        min_samples_leaf=3, \n",
    "                                        min_samples_split=13, \n",
    "                                        n_estimators=40)\n",
    "cv_results = cross_val_predict(MODEL, x, y, cv = 10)\n",
    "\n",
    "print(metrics.classification_report(y, cv_results))\n",
    "print(\"Total accuracy: {}\".format(metrics.accuracy_score(y, cv_results)))\n",
    "print(\"AUC/ROC: {}\".format(metrics.roc_auc_score(y, cv_results)))\n"
   ]
  },
  {
   "cell_type": "code",
   "execution_count": 307,
   "metadata": {},
   "outputs": [
    {
     "name": "stdout",
     "output_type": "stream",
     "text": [
      "             precision    recall  f1-score   support\n",
      "\n",
      "        0.0       0.81      0.88      0.84        33\n",
      "        1.0       0.67      0.53      0.59        15\n",
      "\n",
      "avg / total       0.76      0.77      0.76        48\n",
      "\n",
      "Total accuracy: 0.7708333333333334\n",
      "AUC/ROC: 0.7060606060606059\n"
     ]
    }
   ],
   "source": [
    "MODEL = ensemble.RandomForestClassifier(bootstrap=False, \n",
    "                                        criterion='gini', \n",
    "                                        max_features=0.9, \n",
    "                                        min_samples_leaf=5, \n",
    "                                        min_samples_split=9, \n",
    "                                        n_estimators=40)\n",
    "cv_results = cross_val_predict(MODEL, x, y, cv = 10)\n",
    "\n",
    "print(metrics.classification_report(y, cv_results))\n",
    "print(\"Total accuracy: {}\".format(metrics.accuracy_score(y, cv_results)))\n",
    "print(\"AUC/ROC: {}\".format(metrics.roc_auc_score(y, cv_results)))"
   ]
  },
  {
   "cell_type": "code",
   "execution_count": 294,
   "metadata": {},
   "outputs": [
    {
     "name": "stderr",
     "output_type": "stream",
     "text": [
      "Optimization Progress:  40%|████      | 20/50 [00:04<00:06,  4.61pipeline/s]"
     ]
    },
    {
     "name": "stdout",
     "output_type": "stream",
     "text": [
      "Generation 1 - Current best internal CV score: 0.7845238095238096\n"
     ]
    },
    {
     "name": "stderr",
     "output_type": "stream",
     "text": [
      "Optimization Progress:  60%|██████    | 30/50 [00:07<00:05,  3.44pipeline/s]"
     ]
    },
    {
     "name": "stdout",
     "output_type": "stream",
     "text": [
      "Generation 2 - Current best internal CV score: 0.7845238095238096\n"
     ]
    },
    {
     "name": "stderr",
     "output_type": "stream",
     "text": [
      "Optimization Progress:  80%|████████  | 40/50 [00:10<00:02,  3.56pipeline/s]"
     ]
    },
    {
     "name": "stdout",
     "output_type": "stream",
     "text": [
      "Generation 3 - Current best internal CV score: 0.7845238095238096\n"
     ]
    },
    {
     "name": "stderr",
     "output_type": "stream",
     "text": [
      "                                                                            \r"
     ]
    },
    {
     "name": "stdout",
     "output_type": "stream",
     "text": [
      "Generation 4 - Current best internal CV score: 0.7845238095238096\n",
      "\n",
      "Best pipeline: RandomForestClassifier(CombineDFs(input_matrix, input_matrix), bootstrap=False, criterion=gini, max_features=0.9000000000000001, min_samples_leaf=5, min_samples_split=9, n_estimators=40)\n"
     ]
    },
    {
     "ename": "ValueError",
     "evalue": "Expected 2D array, got 1D array instead:\narray=[0. 0. 0. 1. 0. 1.].\nReshape your data either using array.reshape(-1, 1) if your data has a single feature or array.reshape(1, -1) if it contains a single sample.",
     "output_type": "error",
     "traceback": [
      "\u001b[0;31m---------------------------------------------------------------------------\u001b[0m",
      "\u001b[0;31mValueError\u001b[0m                                Traceback (most recent call last)",
      "\u001b[0;32m<ipython-input-294-85f7a3923eab>\u001b[0m in \u001b[0;36m<module>\u001b[0;34m()\u001b[0m\n\u001b[1;32m     20\u001b[0m         \u001b[0mtpot\u001b[0m\u001b[0;34m.\u001b[0m\u001b[0mfit\u001b[0m\u001b[0;34m(\u001b[0m\u001b[0mx_train\u001b[0m\u001b[0;34m,\u001b[0m \u001b[0my_train\u001b[0m\u001b[0;34m)\u001b[0m\u001b[0;34m\u001b[0m\u001b[0m\n\u001b[1;32m     21\u001b[0m         \u001b[0mpred_test\u001b[0m \u001b[0;34m=\u001b[0m \u001b[0mtpot\u001b[0m\u001b[0;34m.\u001b[0m\u001b[0mpredict\u001b[0m\u001b[0;34m(\u001b[0m\u001b[0mx_test\u001b[0m\u001b[0;34m)\u001b[0m\u001b[0;34m\u001b[0m\u001b[0m\n\u001b[0;32m---> 22\u001b[0;31m         \u001b[0macc\u001b[0m\u001b[0;34m[\u001b[0m\u001b[0mtest_index\u001b[0m\u001b[0;34m]\u001b[0m \u001b[0;34m=\u001b[0m \u001b[0mtpot\u001b[0m\u001b[0;34m.\u001b[0m\u001b[0mscore\u001b[0m\u001b[0;34m(\u001b[0m\u001b[0my_test\u001b[0m\u001b[0;34m,\u001b[0m \u001b[0mpred_test\u001b[0m\u001b[0;34m)\u001b[0m\u001b[0;34m\u001b[0m\u001b[0m\n\u001b[0m\u001b[1;32m     23\u001b[0m \u001b[0;34m\u001b[0m\u001b[0m\n\u001b[1;32m     24\u001b[0m         \u001b[0mimportances\u001b[0m \u001b[0;34m=\u001b[0m \u001b[0mMODEL\u001b[0m\u001b[0;34m.\u001b[0m\u001b[0mfeature_importances_\u001b[0m\u001b[0;34m\u001b[0m\u001b[0m\n",
      "\u001b[0;32m/usr/local/lib/python3.6/dist-packages/tpot/base.py\u001b[0m in \u001b[0;36mscore\u001b[0;34m(self, testing_features, testing_target)\u001b[0m\n\u001b[1;32m    838\u001b[0m             \u001b[0mself\u001b[0m\u001b[0;34m.\u001b[0m\u001b[0mfitted_pipeline_\u001b[0m\u001b[0;34m,\u001b[0m\u001b[0;34m\u001b[0m\u001b[0m\n\u001b[1;32m    839\u001b[0m             \u001b[0mtesting_features\u001b[0m\u001b[0;34m.\u001b[0m\u001b[0mastype\u001b[0m\u001b[0;34m(\u001b[0m\u001b[0mnp\u001b[0m\u001b[0;34m.\u001b[0m\u001b[0mfloat64\u001b[0m\u001b[0;34m)\u001b[0m\u001b[0;34m,\u001b[0m\u001b[0;34m\u001b[0m\u001b[0m\n\u001b[0;32m--> 840\u001b[0;31m             \u001b[0mtesting_target\u001b[0m\u001b[0;34m.\u001b[0m\u001b[0mastype\u001b[0m\u001b[0;34m(\u001b[0m\u001b[0mnp\u001b[0m\u001b[0;34m.\u001b[0m\u001b[0mfloat64\u001b[0m\u001b[0;34m)\u001b[0m\u001b[0;34m\u001b[0m\u001b[0m\n\u001b[0m\u001b[1;32m    841\u001b[0m         )\n\u001b[1;32m    842\u001b[0m         \u001b[0;32mreturn\u001b[0m \u001b[0mscore\u001b[0m\u001b[0;34m\u001b[0m\u001b[0m\n",
      "\u001b[0;32m/usr/local/lib/python3.6/dist-packages/sklearn/metrics/scorer.py\u001b[0m in \u001b[0;36m__call__\u001b[0;34m(self, estimator, X, y_true, sample_weight)\u001b[0m\n\u001b[1;32m     99\u001b[0m         super(_PredictScorer, self).__call__(estimator, X, y_true,\n\u001b[1;32m    100\u001b[0m                                              sample_weight=sample_weight)\n\u001b[0;32m--> 101\u001b[0;31m         \u001b[0my_pred\u001b[0m \u001b[0;34m=\u001b[0m \u001b[0mestimator\u001b[0m\u001b[0;34m.\u001b[0m\u001b[0mpredict\u001b[0m\u001b[0;34m(\u001b[0m\u001b[0mX\u001b[0m\u001b[0;34m)\u001b[0m\u001b[0;34m\u001b[0m\u001b[0m\n\u001b[0m\u001b[1;32m    102\u001b[0m         \u001b[0;32mif\u001b[0m \u001b[0msample_weight\u001b[0m \u001b[0;32mis\u001b[0m \u001b[0;32mnot\u001b[0m \u001b[0;32mNone\u001b[0m\u001b[0;34m:\u001b[0m\u001b[0;34m\u001b[0m\u001b[0m\n\u001b[1;32m    103\u001b[0m             return self._sign * self._score_func(y_true, y_pred,\n",
      "\u001b[0;32m/usr/local/lib/python3.6/dist-packages/sklearn/utils/metaestimators.py\u001b[0m in \u001b[0;36m<lambda>\u001b[0;34m(*args, **kwargs)\u001b[0m\n\u001b[1;32m    113\u001b[0m \u001b[0;34m\u001b[0m\u001b[0m\n\u001b[1;32m    114\u001b[0m         \u001b[0;31m# lambda, but not partial, allows help() to work with update_wrapper\u001b[0m\u001b[0;34m\u001b[0m\u001b[0;34m\u001b[0m\u001b[0m\n\u001b[0;32m--> 115\u001b[0;31m         \u001b[0mout\u001b[0m \u001b[0;34m=\u001b[0m \u001b[0;32mlambda\u001b[0m \u001b[0;34m*\u001b[0m\u001b[0margs\u001b[0m\u001b[0;34m,\u001b[0m \u001b[0;34m**\u001b[0m\u001b[0mkwargs\u001b[0m\u001b[0;34m:\u001b[0m \u001b[0mself\u001b[0m\u001b[0;34m.\u001b[0m\u001b[0mfn\u001b[0m\u001b[0;34m(\u001b[0m\u001b[0mobj\u001b[0m\u001b[0;34m,\u001b[0m \u001b[0;34m*\u001b[0m\u001b[0margs\u001b[0m\u001b[0;34m,\u001b[0m \u001b[0;34m**\u001b[0m\u001b[0mkwargs\u001b[0m\u001b[0;34m)\u001b[0m\u001b[0;34m\u001b[0m\u001b[0m\n\u001b[0m\u001b[1;32m    116\u001b[0m         \u001b[0;31m# update the docstring of the returned function\u001b[0m\u001b[0;34m\u001b[0m\u001b[0;34m\u001b[0m\u001b[0m\n\u001b[1;32m    117\u001b[0m         \u001b[0mupdate_wrapper\u001b[0m\u001b[0;34m(\u001b[0m\u001b[0mout\u001b[0m\u001b[0;34m,\u001b[0m \u001b[0mself\u001b[0m\u001b[0;34m.\u001b[0m\u001b[0mfn\u001b[0m\u001b[0;34m)\u001b[0m\u001b[0;34m\u001b[0m\u001b[0m\n",
      "\u001b[0;32m/usr/local/lib/python3.6/dist-packages/sklearn/pipeline.py\u001b[0m in \u001b[0;36mpredict\u001b[0;34m(self, X)\u001b[0m\n\u001b[1;32m    304\u001b[0m         \u001b[0;32mfor\u001b[0m \u001b[0mname\u001b[0m\u001b[0;34m,\u001b[0m \u001b[0mtransform\u001b[0m \u001b[0;32min\u001b[0m \u001b[0mself\u001b[0m\u001b[0;34m.\u001b[0m\u001b[0msteps\u001b[0m\u001b[0;34m[\u001b[0m\u001b[0;34m:\u001b[0m\u001b[0;34m-\u001b[0m\u001b[0;36m1\u001b[0m\u001b[0;34m]\u001b[0m\u001b[0;34m:\u001b[0m\u001b[0;34m\u001b[0m\u001b[0m\n\u001b[1;32m    305\u001b[0m             \u001b[0;32mif\u001b[0m \u001b[0mtransform\u001b[0m \u001b[0;32mis\u001b[0m \u001b[0;32mnot\u001b[0m \u001b[0;32mNone\u001b[0m\u001b[0;34m:\u001b[0m\u001b[0;34m\u001b[0m\u001b[0m\n\u001b[0;32m--> 306\u001b[0;31m                 \u001b[0mXt\u001b[0m \u001b[0;34m=\u001b[0m \u001b[0mtransform\u001b[0m\u001b[0;34m.\u001b[0m\u001b[0mtransform\u001b[0m\u001b[0;34m(\u001b[0m\u001b[0mXt\u001b[0m\u001b[0;34m)\u001b[0m\u001b[0;34m\u001b[0m\u001b[0m\n\u001b[0m\u001b[1;32m    307\u001b[0m         \u001b[0;32mreturn\u001b[0m \u001b[0mself\u001b[0m\u001b[0;34m.\u001b[0m\u001b[0msteps\u001b[0m\u001b[0;34m[\u001b[0m\u001b[0;34m-\u001b[0m\u001b[0;36m1\u001b[0m\u001b[0;34m]\u001b[0m\u001b[0;34m[\u001b[0m\u001b[0;34m-\u001b[0m\u001b[0;36m1\u001b[0m\u001b[0;34m]\u001b[0m\u001b[0;34m.\u001b[0m\u001b[0mpredict\u001b[0m\u001b[0;34m(\u001b[0m\u001b[0mXt\u001b[0m\u001b[0;34m)\u001b[0m\u001b[0;34m\u001b[0m\u001b[0m\n\u001b[1;32m    308\u001b[0m \u001b[0;34m\u001b[0m\u001b[0m\n",
      "\u001b[0;32m/usr/local/lib/python3.6/dist-packages/sklearn/pipeline.py\u001b[0m in \u001b[0;36mtransform\u001b[0;34m(self, X)\u001b[0m\n\u001b[1;32m    766\u001b[0m         Xs = Parallel(n_jobs=self.n_jobs)(\n\u001b[1;32m    767\u001b[0m             \u001b[0mdelayed\u001b[0m\u001b[0;34m(\u001b[0m\u001b[0m_transform_one\u001b[0m\u001b[0;34m)\u001b[0m\u001b[0;34m(\u001b[0m\u001b[0mtrans\u001b[0m\u001b[0;34m,\u001b[0m \u001b[0mweight\u001b[0m\u001b[0;34m,\u001b[0m \u001b[0mX\u001b[0m\u001b[0;34m)\u001b[0m\u001b[0;34m\u001b[0m\u001b[0m\n\u001b[0;32m--> 768\u001b[0;31m             for name, trans, weight in self._iter())\n\u001b[0m\u001b[1;32m    769\u001b[0m         \u001b[0;32mif\u001b[0m \u001b[0;32mnot\u001b[0m \u001b[0mXs\u001b[0m\u001b[0;34m:\u001b[0m\u001b[0;34m\u001b[0m\u001b[0m\n\u001b[1;32m    770\u001b[0m             \u001b[0;31m# All transformers are None\u001b[0m\u001b[0;34m\u001b[0m\u001b[0;34m\u001b[0m\u001b[0m\n",
      "\u001b[0;32m/usr/local/lib/python3.6/dist-packages/sklearn/externals/joblib/parallel.py\u001b[0m in \u001b[0;36m__call__\u001b[0;34m(self, iterable)\u001b[0m\n\u001b[1;32m    777\u001b[0m             \u001b[0;31m# was dispatched. In particular this covers the edge\u001b[0m\u001b[0;34m\u001b[0m\u001b[0;34m\u001b[0m\u001b[0m\n\u001b[1;32m    778\u001b[0m             \u001b[0;31m# case of Parallel used with an exhausted iterator.\u001b[0m\u001b[0;34m\u001b[0m\u001b[0;34m\u001b[0m\u001b[0m\n\u001b[0;32m--> 779\u001b[0;31m             \u001b[0;32mwhile\u001b[0m \u001b[0mself\u001b[0m\u001b[0;34m.\u001b[0m\u001b[0mdispatch_one_batch\u001b[0m\u001b[0;34m(\u001b[0m\u001b[0miterator\u001b[0m\u001b[0;34m)\u001b[0m\u001b[0;34m:\u001b[0m\u001b[0;34m\u001b[0m\u001b[0m\n\u001b[0m\u001b[1;32m    780\u001b[0m                 \u001b[0mself\u001b[0m\u001b[0;34m.\u001b[0m\u001b[0m_iterating\u001b[0m \u001b[0;34m=\u001b[0m \u001b[0;32mTrue\u001b[0m\u001b[0;34m\u001b[0m\u001b[0m\n\u001b[1;32m    781\u001b[0m             \u001b[0;32melse\u001b[0m\u001b[0;34m:\u001b[0m\u001b[0;34m\u001b[0m\u001b[0m\n",
      "\u001b[0;32m/usr/local/lib/python3.6/dist-packages/sklearn/externals/joblib/parallel.py\u001b[0m in \u001b[0;36mdispatch_one_batch\u001b[0;34m(self, iterator)\u001b[0m\n\u001b[1;32m    623\u001b[0m                 \u001b[0;32mreturn\u001b[0m \u001b[0;32mFalse\u001b[0m\u001b[0;34m\u001b[0m\u001b[0m\n\u001b[1;32m    624\u001b[0m             \u001b[0;32melse\u001b[0m\u001b[0;34m:\u001b[0m\u001b[0;34m\u001b[0m\u001b[0m\n\u001b[0;32m--> 625\u001b[0;31m                 \u001b[0mself\u001b[0m\u001b[0;34m.\u001b[0m\u001b[0m_dispatch\u001b[0m\u001b[0;34m(\u001b[0m\u001b[0mtasks\u001b[0m\u001b[0;34m)\u001b[0m\u001b[0;34m\u001b[0m\u001b[0m\n\u001b[0m\u001b[1;32m    626\u001b[0m                 \u001b[0;32mreturn\u001b[0m \u001b[0;32mTrue\u001b[0m\u001b[0;34m\u001b[0m\u001b[0m\n\u001b[1;32m    627\u001b[0m \u001b[0;34m\u001b[0m\u001b[0m\n",
      "\u001b[0;32m/usr/local/lib/python3.6/dist-packages/sklearn/externals/joblib/parallel.py\u001b[0m in \u001b[0;36m_dispatch\u001b[0;34m(self, batch)\u001b[0m\n\u001b[1;32m    586\u001b[0m         \u001b[0mdispatch_timestamp\u001b[0m \u001b[0;34m=\u001b[0m \u001b[0mtime\u001b[0m\u001b[0;34m.\u001b[0m\u001b[0mtime\u001b[0m\u001b[0;34m(\u001b[0m\u001b[0;34m)\u001b[0m\u001b[0;34m\u001b[0m\u001b[0m\n\u001b[1;32m    587\u001b[0m         \u001b[0mcb\u001b[0m \u001b[0;34m=\u001b[0m \u001b[0mBatchCompletionCallBack\u001b[0m\u001b[0;34m(\u001b[0m\u001b[0mdispatch_timestamp\u001b[0m\u001b[0;34m,\u001b[0m \u001b[0mlen\u001b[0m\u001b[0;34m(\u001b[0m\u001b[0mbatch\u001b[0m\u001b[0;34m)\u001b[0m\u001b[0;34m,\u001b[0m \u001b[0mself\u001b[0m\u001b[0;34m)\u001b[0m\u001b[0;34m\u001b[0m\u001b[0m\n\u001b[0;32m--> 588\u001b[0;31m         \u001b[0mjob\u001b[0m \u001b[0;34m=\u001b[0m \u001b[0mself\u001b[0m\u001b[0;34m.\u001b[0m\u001b[0m_backend\u001b[0m\u001b[0;34m.\u001b[0m\u001b[0mapply_async\u001b[0m\u001b[0;34m(\u001b[0m\u001b[0mbatch\u001b[0m\u001b[0;34m,\u001b[0m \u001b[0mcallback\u001b[0m\u001b[0;34m=\u001b[0m\u001b[0mcb\u001b[0m\u001b[0;34m)\u001b[0m\u001b[0;34m\u001b[0m\u001b[0m\n\u001b[0m\u001b[1;32m    589\u001b[0m         \u001b[0mself\u001b[0m\u001b[0;34m.\u001b[0m\u001b[0m_jobs\u001b[0m\u001b[0;34m.\u001b[0m\u001b[0mappend\u001b[0m\u001b[0;34m(\u001b[0m\u001b[0mjob\u001b[0m\u001b[0;34m)\u001b[0m\u001b[0;34m\u001b[0m\u001b[0m\n\u001b[1;32m    590\u001b[0m \u001b[0;34m\u001b[0m\u001b[0m\n",
      "\u001b[0;32m/usr/local/lib/python3.6/dist-packages/sklearn/externals/joblib/_parallel_backends.py\u001b[0m in \u001b[0;36mapply_async\u001b[0;34m(self, func, callback)\u001b[0m\n\u001b[1;32m    109\u001b[0m     \u001b[0;32mdef\u001b[0m \u001b[0mapply_async\u001b[0m\u001b[0;34m(\u001b[0m\u001b[0mself\u001b[0m\u001b[0;34m,\u001b[0m \u001b[0mfunc\u001b[0m\u001b[0;34m,\u001b[0m \u001b[0mcallback\u001b[0m\u001b[0;34m=\u001b[0m\u001b[0;32mNone\u001b[0m\u001b[0;34m)\u001b[0m\u001b[0;34m:\u001b[0m\u001b[0;34m\u001b[0m\u001b[0m\n\u001b[1;32m    110\u001b[0m         \u001b[0;34m\"\"\"Schedule a func to be run\"\"\"\u001b[0m\u001b[0;34m\u001b[0m\u001b[0m\n\u001b[0;32m--> 111\u001b[0;31m         \u001b[0mresult\u001b[0m \u001b[0;34m=\u001b[0m \u001b[0mImmediateResult\u001b[0m\u001b[0;34m(\u001b[0m\u001b[0mfunc\u001b[0m\u001b[0;34m)\u001b[0m\u001b[0;34m\u001b[0m\u001b[0m\n\u001b[0m\u001b[1;32m    112\u001b[0m         \u001b[0;32mif\u001b[0m \u001b[0mcallback\u001b[0m\u001b[0;34m:\u001b[0m\u001b[0;34m\u001b[0m\u001b[0m\n\u001b[1;32m    113\u001b[0m             \u001b[0mcallback\u001b[0m\u001b[0;34m(\u001b[0m\u001b[0mresult\u001b[0m\u001b[0;34m)\u001b[0m\u001b[0;34m\u001b[0m\u001b[0m\n",
      "\u001b[0;32m/usr/local/lib/python3.6/dist-packages/sklearn/externals/joblib/_parallel_backends.py\u001b[0m in \u001b[0;36m__init__\u001b[0;34m(self, batch)\u001b[0m\n\u001b[1;32m    330\u001b[0m         \u001b[0;31m# Don't delay the application, to avoid keeping the input\u001b[0m\u001b[0;34m\u001b[0m\u001b[0;34m\u001b[0m\u001b[0m\n\u001b[1;32m    331\u001b[0m         \u001b[0;31m# arguments in memory\u001b[0m\u001b[0;34m\u001b[0m\u001b[0;34m\u001b[0m\u001b[0m\n\u001b[0;32m--> 332\u001b[0;31m         \u001b[0mself\u001b[0m\u001b[0;34m.\u001b[0m\u001b[0mresults\u001b[0m \u001b[0;34m=\u001b[0m \u001b[0mbatch\u001b[0m\u001b[0;34m(\u001b[0m\u001b[0;34m)\u001b[0m\u001b[0;34m\u001b[0m\u001b[0m\n\u001b[0m\u001b[1;32m    333\u001b[0m \u001b[0;34m\u001b[0m\u001b[0m\n\u001b[1;32m    334\u001b[0m     \u001b[0;32mdef\u001b[0m \u001b[0mget\u001b[0m\u001b[0;34m(\u001b[0m\u001b[0mself\u001b[0m\u001b[0;34m)\u001b[0m\u001b[0;34m:\u001b[0m\u001b[0;34m\u001b[0m\u001b[0m\n",
      "\u001b[0;32m/usr/local/lib/python3.6/dist-packages/sklearn/externals/joblib/parallel.py\u001b[0m in \u001b[0;36m__call__\u001b[0;34m(self)\u001b[0m\n\u001b[1;32m    129\u001b[0m \u001b[0;34m\u001b[0m\u001b[0m\n\u001b[1;32m    130\u001b[0m     \u001b[0;32mdef\u001b[0m \u001b[0m__call__\u001b[0m\u001b[0;34m(\u001b[0m\u001b[0mself\u001b[0m\u001b[0;34m)\u001b[0m\u001b[0;34m:\u001b[0m\u001b[0;34m\u001b[0m\u001b[0m\n\u001b[0;32m--> 131\u001b[0;31m         \u001b[0;32mreturn\u001b[0m \u001b[0;34m[\u001b[0m\u001b[0mfunc\u001b[0m\u001b[0;34m(\u001b[0m\u001b[0;34m*\u001b[0m\u001b[0margs\u001b[0m\u001b[0;34m,\u001b[0m \u001b[0;34m**\u001b[0m\u001b[0mkwargs\u001b[0m\u001b[0;34m)\u001b[0m \u001b[0;32mfor\u001b[0m \u001b[0mfunc\u001b[0m\u001b[0;34m,\u001b[0m \u001b[0margs\u001b[0m\u001b[0;34m,\u001b[0m \u001b[0mkwargs\u001b[0m \u001b[0;32min\u001b[0m \u001b[0mself\u001b[0m\u001b[0;34m.\u001b[0m\u001b[0mitems\u001b[0m\u001b[0;34m]\u001b[0m\u001b[0;34m\u001b[0m\u001b[0m\n\u001b[0m\u001b[1;32m    132\u001b[0m \u001b[0;34m\u001b[0m\u001b[0m\n\u001b[1;32m    133\u001b[0m     \u001b[0;32mdef\u001b[0m \u001b[0m__len__\u001b[0m\u001b[0;34m(\u001b[0m\u001b[0mself\u001b[0m\u001b[0;34m)\u001b[0m\u001b[0;34m:\u001b[0m\u001b[0;34m\u001b[0m\u001b[0m\n",
      "\u001b[0;32m/usr/local/lib/python3.6/dist-packages/sklearn/externals/joblib/parallel.py\u001b[0m in \u001b[0;36m<listcomp>\u001b[0;34m(.0)\u001b[0m\n\u001b[1;32m    129\u001b[0m \u001b[0;34m\u001b[0m\u001b[0m\n\u001b[1;32m    130\u001b[0m     \u001b[0;32mdef\u001b[0m \u001b[0m__call__\u001b[0m\u001b[0;34m(\u001b[0m\u001b[0mself\u001b[0m\u001b[0;34m)\u001b[0m\u001b[0;34m:\u001b[0m\u001b[0;34m\u001b[0m\u001b[0m\n\u001b[0;32m--> 131\u001b[0;31m         \u001b[0;32mreturn\u001b[0m \u001b[0;34m[\u001b[0m\u001b[0mfunc\u001b[0m\u001b[0;34m(\u001b[0m\u001b[0;34m*\u001b[0m\u001b[0margs\u001b[0m\u001b[0;34m,\u001b[0m \u001b[0;34m**\u001b[0m\u001b[0mkwargs\u001b[0m\u001b[0;34m)\u001b[0m \u001b[0;32mfor\u001b[0m \u001b[0mfunc\u001b[0m\u001b[0;34m,\u001b[0m \u001b[0margs\u001b[0m\u001b[0;34m,\u001b[0m \u001b[0mkwargs\u001b[0m \u001b[0;32min\u001b[0m \u001b[0mself\u001b[0m\u001b[0;34m.\u001b[0m\u001b[0mitems\u001b[0m\u001b[0;34m]\u001b[0m\u001b[0;34m\u001b[0m\u001b[0m\n\u001b[0m\u001b[1;32m    132\u001b[0m \u001b[0;34m\u001b[0m\u001b[0m\n\u001b[1;32m    133\u001b[0m     \u001b[0;32mdef\u001b[0m \u001b[0m__len__\u001b[0m\u001b[0;34m(\u001b[0m\u001b[0mself\u001b[0m\u001b[0;34m)\u001b[0m\u001b[0;34m:\u001b[0m\u001b[0;34m\u001b[0m\u001b[0m\n",
      "\u001b[0;32m/usr/local/lib/python3.6/dist-packages/sklearn/pipeline.py\u001b[0m in \u001b[0;36m_transform_one\u001b[0;34m(transformer, weight, X)\u001b[0m\n\u001b[1;32m    569\u001b[0m \u001b[0;34m\u001b[0m\u001b[0m\n\u001b[1;32m    570\u001b[0m \u001b[0;32mdef\u001b[0m \u001b[0m_transform_one\u001b[0m\u001b[0;34m(\u001b[0m\u001b[0mtransformer\u001b[0m\u001b[0;34m,\u001b[0m \u001b[0mweight\u001b[0m\u001b[0;34m,\u001b[0m \u001b[0mX\u001b[0m\u001b[0;34m)\u001b[0m\u001b[0;34m:\u001b[0m\u001b[0;34m\u001b[0m\u001b[0m\n\u001b[0;32m--> 571\u001b[0;31m     \u001b[0mres\u001b[0m \u001b[0;34m=\u001b[0m \u001b[0mtransformer\u001b[0m\u001b[0;34m.\u001b[0m\u001b[0mtransform\u001b[0m\u001b[0;34m(\u001b[0m\u001b[0mX\u001b[0m\u001b[0;34m)\u001b[0m\u001b[0;34m\u001b[0m\u001b[0m\n\u001b[0m\u001b[1;32m    572\u001b[0m     \u001b[0;31m# if we have a weight for this transformer, multiply output\u001b[0m\u001b[0;34m\u001b[0m\u001b[0;34m\u001b[0m\u001b[0m\n\u001b[1;32m    573\u001b[0m     \u001b[0;32mif\u001b[0m \u001b[0mweight\u001b[0m \u001b[0;32mis\u001b[0m \u001b[0;32mNone\u001b[0m\u001b[0;34m:\u001b[0m\u001b[0;34m\u001b[0m\u001b[0m\n",
      "\u001b[0;32m/usr/local/lib/python3.6/dist-packages/sklearn/preprocessing/_function_transformer.py\u001b[0m in \u001b[0;36mtransform\u001b[0;34m(self, X, y)\u001b[0m\n\u001b[1;32m    117\u001b[0m                           DeprecationWarning)\n\u001b[1;32m    118\u001b[0m \u001b[0;34m\u001b[0m\u001b[0m\n\u001b[0;32m--> 119\u001b[0;31m         \u001b[0;32mreturn\u001b[0m \u001b[0mself\u001b[0m\u001b[0;34m.\u001b[0m\u001b[0m_transform\u001b[0m\u001b[0;34m(\u001b[0m\u001b[0mX\u001b[0m\u001b[0;34m,\u001b[0m \u001b[0my\u001b[0m\u001b[0;34m=\u001b[0m\u001b[0my\u001b[0m\u001b[0;34m,\u001b[0m \u001b[0mfunc\u001b[0m\u001b[0;34m=\u001b[0m\u001b[0mself\u001b[0m\u001b[0;34m.\u001b[0m\u001b[0mfunc\u001b[0m\u001b[0;34m,\u001b[0m \u001b[0mkw_args\u001b[0m\u001b[0;34m=\u001b[0m\u001b[0mself\u001b[0m\u001b[0;34m.\u001b[0m\u001b[0mkw_args\u001b[0m\u001b[0;34m)\u001b[0m\u001b[0;34m\u001b[0m\u001b[0m\n\u001b[0m\u001b[1;32m    120\u001b[0m \u001b[0;34m\u001b[0m\u001b[0m\n\u001b[1;32m    121\u001b[0m     \u001b[0;32mdef\u001b[0m \u001b[0minverse_transform\u001b[0m\u001b[0;34m(\u001b[0m\u001b[0mself\u001b[0m\u001b[0;34m,\u001b[0m \u001b[0mX\u001b[0m\u001b[0;34m,\u001b[0m \u001b[0my\u001b[0m\u001b[0;34m=\u001b[0m\u001b[0;34m'deprecated'\u001b[0m\u001b[0;34m)\u001b[0m\u001b[0;34m:\u001b[0m\u001b[0;34m\u001b[0m\u001b[0m\n",
      "\u001b[0;32m/usr/local/lib/python3.6/dist-packages/sklearn/preprocessing/_function_transformer.py\u001b[0m in \u001b[0;36m_transform\u001b[0;34m(self, X, y, func, kw_args)\u001b[0m\n\u001b[1;32m    144\u001b[0m     \u001b[0;32mdef\u001b[0m \u001b[0m_transform\u001b[0m\u001b[0;34m(\u001b[0m\u001b[0mself\u001b[0m\u001b[0;34m,\u001b[0m \u001b[0mX\u001b[0m\u001b[0;34m,\u001b[0m \u001b[0my\u001b[0m\u001b[0;34m=\u001b[0m\u001b[0;32mNone\u001b[0m\u001b[0;34m,\u001b[0m \u001b[0mfunc\u001b[0m\u001b[0;34m=\u001b[0m\u001b[0;32mNone\u001b[0m\u001b[0;34m,\u001b[0m \u001b[0mkw_args\u001b[0m\u001b[0;34m=\u001b[0m\u001b[0;32mNone\u001b[0m\u001b[0;34m)\u001b[0m\u001b[0;34m:\u001b[0m\u001b[0;34m\u001b[0m\u001b[0m\n\u001b[1;32m    145\u001b[0m         \u001b[0;32mif\u001b[0m \u001b[0mself\u001b[0m\u001b[0;34m.\u001b[0m\u001b[0mvalidate\u001b[0m\u001b[0;34m:\u001b[0m\u001b[0;34m\u001b[0m\u001b[0m\n\u001b[0;32m--> 146\u001b[0;31m             \u001b[0mX\u001b[0m \u001b[0;34m=\u001b[0m \u001b[0mcheck_array\u001b[0m\u001b[0;34m(\u001b[0m\u001b[0mX\u001b[0m\u001b[0;34m,\u001b[0m \u001b[0mself\u001b[0m\u001b[0;34m.\u001b[0m\u001b[0maccept_sparse\u001b[0m\u001b[0;34m)\u001b[0m\u001b[0;34m\u001b[0m\u001b[0m\n\u001b[0m\u001b[1;32m    147\u001b[0m \u001b[0;34m\u001b[0m\u001b[0m\n\u001b[1;32m    148\u001b[0m         \u001b[0;32mif\u001b[0m \u001b[0mfunc\u001b[0m \u001b[0;32mis\u001b[0m \u001b[0;32mNone\u001b[0m\u001b[0;34m:\u001b[0m\u001b[0;34m\u001b[0m\u001b[0m\n",
      "\u001b[0;32m/usr/local/lib/python3.6/dist-packages/sklearn/utils/validation.py\u001b[0m in \u001b[0;36mcheck_array\u001b[0;34m(array, accept_sparse, dtype, order, copy, force_all_finite, ensure_2d, allow_nd, ensure_min_samples, ensure_min_features, warn_on_dtype, estimator)\u001b[0m\n\u001b[1;32m    439\u001b[0m                     \u001b[0;34m\"Reshape your data either using array.reshape(-1, 1) if \"\u001b[0m\u001b[0;34m\u001b[0m\u001b[0m\n\u001b[1;32m    440\u001b[0m                     \u001b[0;34m\"your data has a single feature or array.reshape(1, -1) \"\u001b[0m\u001b[0;34m\u001b[0m\u001b[0m\n\u001b[0;32m--> 441\u001b[0;31m                     \"if it contains a single sample.\".format(array))\n\u001b[0m\u001b[1;32m    442\u001b[0m             \u001b[0marray\u001b[0m \u001b[0;34m=\u001b[0m \u001b[0mnp\u001b[0m\u001b[0;34m.\u001b[0m\u001b[0matleast_2d\u001b[0m\u001b[0;34m(\u001b[0m\u001b[0marray\u001b[0m\u001b[0;34m)\u001b[0m\u001b[0;34m\u001b[0m\u001b[0m\n\u001b[1;32m    443\u001b[0m             \u001b[0;31m# To ensure that array flags are maintained\u001b[0m\u001b[0;34m\u001b[0m\u001b[0;34m\u001b[0m\u001b[0m\n",
      "\u001b[0;31mValueError\u001b[0m: Expected 2D array, got 1D array instead:\narray=[0. 0. 0. 1. 0. 1.].\nReshape your data either using array.reshape(-1, 1) if your data has a single feature or array.reshape(1, -1) if it contains a single sample."
     ]
    }
   ],
   "source": [
    "acc = np.zeros(shape=y.shape)\n",
    "count=0\n",
    "maxrun = 50\n",
    "run = True\n",
    "importances_sum = 0 \n",
    "tpot_config = {'sklearn.ensemble.RandomForestClassifier': {\n",
    "                'n_estimators': [20,30,40],\n",
    "                'criterion': [\"gini\", \"entropy\"],\n",
    "                'max_features': np.arange(0.05, 1.01, 0.05),\n",
    "                'min_samples_split': range(2, 21),\n",
    "                'min_samples_leaf':  range(1, 21),\n",
    "                'bootstrap': [True, False]}}\n",
    "tpot = TPOTClassifier(generations=4, population_size=10, verbosity=2, config_dict=tpot_config)\n",
    "while run:\n",
    "    splitter = StratifiedKFold(10)\n",
    "    #\n",
    "    for train_index, test_index in splitter.split(x, y):\n",
    "        x_train, x_test = np.array(x)[train_index], np.array(x)[test_index]\n",
    "        y_train, y_test = np.array(y)[train_index], np.array(y)[test_index]\n",
    "        tpot.fit(x_train, y_train)\n",
    "        pred_test = tpot.predict(x_test)\n",
    "        acc[test_index] = tpot.score(y_test, pred_test)    \n",
    "\n",
    "        importances = MODEL.feature_importances_\n",
    "        importances_sum += importances\n",
    "        \n",
    "    count+=1        \n",
    "    if count>maxrun:\n",
    "        run=False\n",
    "\n",
    "print(\"Mean acc:{}, Var acc:{}\".format(np.mean(acc), np.var(acc)))\n",
    "indices = np.argsort(importances_sum)[::-1]    \n",
    "\n",
    "for f in range(x.shape[1]):\n",
    "    print(\"%d. %s (%f)\" % (f + 1, x.columns[indices[f]], importances_sum[indices[f]]))"
   ]
  },
  {
   "cell_type": "code",
   "execution_count": 308,
   "metadata": {},
   "outputs": [
    {
     "name": "stdout",
     "output_type": "stream",
     "text": [
      "Mean acc:0.75, Var acc:0.015625000000000003\n",
      "1. ET PRA High Recipient (148.060139)\n",
      "2. Second Warm Ischemia Period in minutes (140.971243)\n",
      "3. ET PRA Latest Recipient (97.501871)\n",
      "4. mm-B (27.564832)\n",
      "5. Cold Ischemia Time Hours (22.008435)\n",
      "6. BASISL (20.742828)\n",
      "7. pra (18.862625)\n",
      "8. Cold Ischemia Time Minutes (11.940574)\n",
      "9. Age Donor (9.722222)\n",
      "10. hla totaal mm (8.398816)\n",
      "11. Leefpat (3.930768)\n",
      "12. mm-A (0.198546)\n",
      "13. AANT_NT (0.097102)\n"
     ]
    }
   ],
   "source": [
    "acc = np.zeros(shape=y.shape)\n",
    "count=0\n",
    "maxrun = 50\n",
    "run = True\n",
    "importances_sum = 0 \n",
    "\n",
    "while run:\n",
    "    splitter = StratifiedKFold(10)\n",
    "    #\n",
    "    for train_index, test_index in splitter.split(x, y):\n",
    "        x_train, x_test = np.array(x)[train_index], np.array(x)[test_index]\n",
    "        y_train, y_test = np.array(y)[train_index], np.array(y)[test_index]       \n",
    "        MODEL.fit(x_train,y_train)\n",
    "        pred_test_ = MODEL.predict(x_test) #[np.round(l[1]).astype(int) for l in pred_test]\n",
    "        acc[test_index] = metrics.accuracy_score(y_test, pred_test_)    \n",
    "\n",
    "        importances = MODEL.feature_importances_\n",
    "        importances_sum += importances\n",
    "        \n",
    "    count+=1        \n",
    "    if count>maxrun:\n",
    "        run=False\n",
    "\n",
    "print(\"Mean acc:{}, Var acc:{}\".format(np.mean(acc), np.var(acc)))\n",
    "indices = np.argsort(importances_sum)[::-1]    \n",
    "\n",
    "for f in range(x.shape[1]):\n",
    "    print(\"%d. %s (%f)\" % (f + 1, x.columns[indices[f]], importances_sum[indices[f]]))"
   ]
  },
  {
   "cell_type": "code",
   "execution_count": 309,
   "metadata": {},
   "outputs": [
    {
     "name": "stdout",
     "output_type": "stream",
     "text": [
      "             precision    recall  f1-score   support\n",
      "\n",
      "        0.0       0.76      0.94      0.84        33\n",
      "        1.0       0.71      0.33      0.45        15\n",
      "\n",
      "avg / total       0.74      0.75      0.72        48\n",
      "\n",
      "Total accuracy: 0.75\n",
      "AUC/ROC: 0.6363636363636364\n"
     ]
    }
   ],
   "source": [
    "MODEL = LogisticRegressionCV()\n",
    "cv_results = cross_val_predict(MODEL, x, y, cv = 10)\n",
    "print(metrics.classification_report(y, cv_results))\n",
    "print(\"Total accuracy: {}\".format(metrics.accuracy_score(y, cv_results)))\n",
    "print(\"AUC/ROC: {}\".format(metrics.roc_auc_score(y, cv_results)))"
   ]
  },
  {
   "cell_type": "code",
   "execution_count": 310,
   "metadata": {},
   "outputs": [],
   "source": [
    "MODEL = LogisticRegressionCV()\n",
    "MODEL.fit(x,y)\n",
    "res = MODEL.coef_[0,:]"
   ]
  },
  {
   "cell_type": "code",
   "execution_count": 311,
   "metadata": {},
   "outputs": [],
   "source": [
    "importances_df = pd.DataFrame()\n",
    "importances_df['param'] = x.columns[indices[:]]\n",
    "importances_df['importances'] = importances_sum[indices[:]]\n",
    "importances_df.index = importances_df.param\n",
    "importances_df.drop('param', axis=1, inplace=True)"
   ]
  },
  {
   "cell_type": "code",
   "execution_count": 312,
   "metadata": {},
   "outputs": [],
   "source": [
    "result = pd.DataFrame()\n",
    "result['coeff'] = 0 \n",
    "result['coeff'] = res\n",
    "result['param'] = ''\n",
    "result['param'] = x.columns.values\n",
    "result.index= result['param']\n",
    "result.drop('param', axis=1, inplace=True)"
   ]
  },
  {
   "cell_type": "code",
   "execution_count": 313,
   "metadata": {},
   "outputs": [],
   "source": [
    "result_final = importances_df.join(result, how='outer')"
   ]
  },
  {
   "cell_type": "code",
   "execution_count": 315,
   "metadata": {},
   "outputs": [],
   "source": [
    "result_final = result_final.apply(lambda x: x/x.abs().max())\n",
    "result_final.sort_values(by='importances', ascending=False, inplace=True)\n",
    "result_final.to_csv('LambadaClinical.csv')"
   ]
  },
  {
   "cell_type": "code",
   "execution_count": null,
   "metadata": {},
   "outputs": [],
   "source": []
  }
 ],
 "metadata": {
  "kernelspec": {
   "display_name": "Python 3",
   "language": "python",
   "name": "python3"
  },
  "language_info": {
   "codemirror_mode": {
    "name": "ipython",
    "version": 3
   },
   "file_extension": ".py",
   "mimetype": "text/x-python",
   "name": "python",
   "nbconvert_exporter": "python",
   "pygments_lexer": "ipython3",
   "version": "3.6.5"
  }
 },
 "nbformat": 4,
 "nbformat_minor": 2
}
