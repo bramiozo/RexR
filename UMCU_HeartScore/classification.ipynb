{
 "cells": [
  {
   "cell_type": "code",
   "execution_count": null,
   "metadata": {},
   "outputs": [],
   "source": [
    "import numpy as np\n",
    "import scipy as sc\n",
    "import pandas as pd\n",
    "from matplotlib import pyplot as plt\n",
    "import seaborn as sns\n",
    "import sompy\n",
    "\n",
    "import random\n",
    "\n",
    "import os\n",
    "import sys\n",
    "from collections import Counter\n",
    "from collections import namedtuple"
   ]
  },
  {
   "cell_type": "markdown",
   "metadata": {},
   "source": [
    "exploration\n",
    "->\n",
    "dataprep\n",
    "->\n",
    "clustering\n",
    "->\n",
    "classification\n",
    "\n",
    "\n",
    "* feature combination\n",
    "* data imputance\n",
    "* dimension reduction and outlier removal\n",
    "* re-balancing using SMOTE\n",
    "* add F1-score minimizer, see [this](https://towardsdatascience.com/the-unknown-benefits-of-using-a-soft-f1-loss-in-classification-systems-753902c0105d) blog\n",
    "\n",
    "Model\n",
    "* dummy classifiers\n",
    "* ensemble of classifiers\n",
    "* hyperoptimisation\n",
    "\n",
    "Models:\n",
    "* ensemble trees: XGB, LGBM\n",
    "* probabilistic: NB, GPC\n",
    "* linear: GAM, LR, Huber, Ridge, Lasso, LDA\n",
    "* kernel: nuSVM\n",
    "* neural: MLP\n",
    "* other: quadratic classifier, [learning vector quantization 1](https://machinelearningmastery.com/implement-learning-vector-quantization-scratch-python/), [learning vector quantization 2](http://neupy.com/docs/tutorials.html)\n",
    "\n",
    "Compare removing outliers from test to increasing threshold."
   ]
  }
 ],
 "metadata": {
  "kernelspec": {
   "display_name": "Python 3",
   "language": "python",
   "name": "python3"
  },
  "language_info": {
   "codemirror_mode": {
    "name": "ipython",
    "version": 3
   },
   "file_extension": ".py",
   "mimetype": "text/x-python",
   "name": "python",
   "nbconvert_exporter": "python",
   "pygments_lexer": "ipython3",
   "version": "3.7.5"
  }
 },
 "nbformat": 4,
 "nbformat_minor": 4
}
