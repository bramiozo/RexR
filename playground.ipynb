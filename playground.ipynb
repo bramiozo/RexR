{
 "cells": [
  {
   "cell_type": "code",
   "execution_count": 123,
   "metadata": {},
   "outputs": [
    {
     "name": "stdout",
     "output_type": "stream",
     "text": [
      "++++++++++++++++++++++++++++++ Firing up RexR! ++++++++++++++++++++++++++++++\n",
      "The autoreload extension is already loaded. To reload it, use:\n",
      "  %reload_ext autoreload\n"
     ]
    }
   ],
   "source": [
    "import pandas\n",
    "import numpy\n",
    "from RexR import *\n",
    "import _helpers\n",
    "Rocket = RexR(datalocation = None, #'_data/genomic_data/data.pkl', \n",
    "              seed = 3123, \n",
    "              debug = False, \n",
    "              write_out=True) \n",
    "Rocket.load_probeset_data();\n",
    "\n",
    "%matplotlib inline\n",
    "%load_ext autoreload\n",
    "%autoreload 2"
   ]
  },
  {
   "cell_type": "code",
   "execution_count": 2,
   "metadata": {
    "collapsed": true
   },
   "outputs": [],
   "source": [
    "from math import*\n",
    "#from scipy.dspatial.distance import cosine\n",
    "from scipy.spatial.distance import minkowski\n",
    "from scipy.spatial.distance import cdist\n",
    "from decimal import Decimal\n",
    "from sklearn.metrics.pairwise import cosine_similarity\n",
    "from scipy import sparse\n",
    "from time import time\n",
    "from sklearn.cluster import AffinityPropagation\n",
    "import matplotlib.pyplot as plt\n",
    "from itertools import cycle"
   ]
  },
  {
   "cell_type": "code",
   "execution_count": 3,
   "metadata": {
    "collapsed": true
   },
   "outputs": [],
   "source": [
    "TransPosed = Rocket.DATA_all_samples.T # all microarrays, may be multiple per patient versus all probesets, may be multiple per genome\n",
    "Normal = Rocket.DATA_all_samples\n",
    "AllNormal = Rocket.DATA_merged\n",
    "#probeset_weights = Rocket.get_probeset_weights(method = )"
   ]
  },
  {
   "cell_type": "code",
   "execution_count": 4,
   "metadata": {
    "collapsed": true
   },
   "outputs": [],
   "source": [
    "from sklearn.decomposition import PCA, LatentDirichletAllocation\n",
    "from sklearn.cross_decomposition import CCA\n",
    "from sklearn.discriminant_analysis import LinearDiscriminantAnalysis as LDA"
   ]
  },
  {
   "cell_type": "markdown",
   "metadata": {},
   "source": [
    "# Patient clustering"
   ]
  },
  {
   "cell_type": "markdown",
   "metadata": {},
   "source": [
    "## Markov clustering"
   ]
  },
  {
   "cell_type": "code",
   "execution_count": 10,
   "metadata": {},
   "outputs": [
    {
     "data": {
      "text/plain": [
       "Series([], Name: 9827_corr2.CEL, dtype: float64)"
      ]
     },
     "execution_count": 10,
     "metadata": {},
     "output_type": "execute_result"
    }
   ],
   "source": [
    "patient_sim = _helpers.patient_similarity(Normal, sim_type = 'cosine', normalised = True, inflation = 2, minkowski_dim=1)\n",
    "##### apply Markov clustering\n",
    "#######################\n",
    "# non-distributed, non-sparse version, only for small-sized problems (N is order 1000)\n",
    "e = 2\n",
    "r = 2 \n",
    "epsilon = 1e-7\n",
    "convergence = 0.001\n",
    "num_iter = 10\n",
    "Orientation = 'col' # columnwise or rowwise\n",
    "\n",
    "# add loop\n",
    "def add_loop(df_matrix, value=0): \n",
    "    for i in df_matrix.index:\n",
    "        df_matrix.loc[i, i] = value\n",
    "    return df_matrix\n",
    "patient_sim = add_loop(patient_sim, 1)\n",
    "patient_sim = patient_sim - epsilon\n",
    "\n",
    "def normalise(sim, type = 'col'):\n",
    "    if(type == 'col'):\n",
    "        # column normalisation\n",
    "        for variable in sim.keys():\n",
    "            col_vec = sim[variable]\n",
    "            sum_val = sum([p for p in col_vec])\n",
    "            sim[variable] = sim[variable]/sum_val\n",
    "    elif (type == 'row'):\n",
    "        # row normalisation\n",
    "        for variable in sim.keys():\n",
    "            row_vec = sim.loc[variable, :]\n",
    "            sum_val = sum([p for p in row_vec])\n",
    "            sim.loc[variable,:] = sim.loc[variable,:]/sum_val\n",
    "    return sim\n",
    "\n",
    "# step E: expansion, get the nth power of the matrix\n",
    "def expansion(sim):\n",
    "    X = numpy.array(sim)\n",
    "    VarList = sim.keys()\n",
    "    if e == 1:\n",
    "        return sim\n",
    "    elif e > 1:        \n",
    "        return pandas.DataFrame(numpy.linalg.matrix_power(X, e), index = VarList, columns = VarList)\n",
    "     \n",
    "# step I: inflation, per column raise by rth power and column normalise\n",
    "def inflation(sim, type = 'col'):    \n",
    "    if type == 'col':\n",
    "        Axis = 0\n",
    "    elif type == 'row':\n",
    "        Axis = 1\n",
    "    return sim.apply(lambda x: x**r/sum(x**r), axis = Axis)\n",
    "\n",
    "# remove weak connections, values < epsilon\n",
    "def clean(sim):\n",
    "    return sim.applymap(lambda x:0 if x<epsilon else x)\n",
    "    \n",
    "def difference(old, new):\n",
    "    # relative zeroes over entire array\n",
    "    #return (new.apply(lambda x: numpy.ceil(x-epsilon)) - old.apply(lambda x: numpy.ceil(x-epsilon))).sum().sum()/len(old)**2    \n",
    "    return abs(new - old).sum().sum()/len(old)**2    \n",
    "\n",
    "#patient_sim = normalise(patient_sim, type = Orientation)\n",
    "_sim_a = patient_sim\n",
    "for i in range(0,num_iter):\n",
    "    # repeat E and I until convergence, the row-wise elements form the clusters.\n",
    "    _sim_b = clean(inflation(expansion(_sim_a), type = Orientation))\n",
    "    _sim_a = normalise(_sim_a, type = Orientation)\n",
    "    #if ((difference(_sim_a, _sim_b)) < convergence) & (i>0):\n",
    "    #    print(difference(_sim_a, _sim_b))\n",
    "    #    print(\"CONVERGED after \", i, \" iterations\")\n",
    "    #    break;\n",
    "    _sim_a = _sim_b\n",
    "\n",
    "result_mcl = clean(_sim_b)\n",
    "result_mcl.loc[result_mcl.loc['9827_corr2.CEL',:]>epsilon, '9827_corr2.CEL']"
   ]
  },
  {
   "cell_type": "code",
   "execution_count": 93,
   "metadata": {
    "scrolled": true
   },
   "outputs": [
    {
     "name": "stdout",
     "output_type": "stream",
     "text": [
      "There are 4 patient clusters\n"
     ]
    }
   ],
   "source": [
    "patient_sim = _helpers.patient_similarity(Normal, sim_type = 'euclidian', normalised = True, inflation=2, minkowski_dim=1)\n",
    "##### apply Affinity Propagation\n",
    "#######################\n",
    "X = numpy.array(patient_sim)\n",
    "af = AffinityPropagation(preference=-50).fit(X)\n",
    "cluster_centers_indices = af.cluster_centers_indices_\n",
    "n_clusters = len(cluster_centers_indices)\n",
    "patient_clusters = patient_sim.keys()[cluster_centers_indices].values\n",
    "patient_cluster_members = af.labels_\n",
    "print(\"There are {} patient clusters\".format(n_clusters))"
   ]
  },
  {
   "cell_type": "code",
   "execution_count": 94,
   "metadata": {},
   "outputs": [
    {
     "name": "stderr",
     "output_type": "stream",
     "text": [
      "/usr/local/lib/python3.5/dist-packages/ipykernel_launcher.py:4: SettingWithCopyWarning: \n",
      "A value is trying to be set on a copy of a slice from a DataFrame.\n",
      "Try using .loc[row_indexer,col_indexer] = value instead\n",
      "\n",
      "See the caveats in the documentation: http://pandas.pydata.org/pandas-docs/stable/indexing.html#indexing-view-versus-copy\n",
      "  after removing the cwd from sys.path.\n"
     ]
    }
   ],
   "source": [
    "AggResults = Rocket.DATA_merged\n",
    "AggResults = _helpers._preprocess(AggResults)\n",
    "#AggResults = _helpers._group_patients(AggResults, method = 'mean')\n",
    "AggResults['cluster_ap'] = patient_cluster_members\n",
    "\n",
    "#AggResults.groupby(['Treatment risk group in ALL10', 'cluster_ap']).agg({'Microarray file': pandas.Series.nunique})\n"
   ]
  },
  {
   "cell_type": "code",
   "execution_count": 95,
   "metadata": {},
   "outputs": [
    {
     "name": "stderr",
     "output_type": "stream",
     "text": [
      "/usr/local/lib/python3.5/dist-packages/ipykernel_launcher.py:1: SettingWithCopyWarning: \n",
      "A value is trying to be set on a copy of a slice from a DataFrame.\n",
      "Try using .loc[row_indexer,col_indexer] = value instead\n",
      "\n",
      "See the caveats in the documentation: http://pandas.pydata.org/pandas-docs/stable/indexing.html#indexing-view-versus-copy\n",
      "  \"\"\"Entry point for launching an IPython kernel.\n",
      "/usr/local/lib/python3.5/dist-packages/ipykernel_launcher.py:2: SettingWithCopyWarning: \n",
      "A value is trying to be set on a copy of a slice from a DataFrame.\n",
      "Try using .loc[row_indexer,col_indexer] = value instead\n",
      "\n",
      "See the caveats in the documentation: http://pandas.pydata.org/pandas-docs/stable/indexing.html#indexing-view-versus-copy\n",
      "  \n",
      "/usr/local/lib/python3.5/dist-packages/ipykernel_launcher.py:3: SettingWithCopyWarning: \n",
      "A value is trying to be set on a copy of a slice from a DataFrame.\n",
      "Try using .loc[row_indexer,col_indexer] = value instead\n",
      "\n",
      "See the caveats in the documentation: http://pandas.pydata.org/pandas-docs/stable/indexing.html#indexing-view-versus-copy\n",
      "  This is separate from the ipykernel package so we can avoid doing imports until\n",
      "/usr/local/lib/python3.5/dist-packages/ipykernel_launcher.py:4: SettingWithCopyWarning: \n",
      "A value is trying to be set on a copy of a slice from a DataFrame.\n",
      "Try using .loc[row_indexer,col_indexer] = value instead\n",
      "\n",
      "See the caveats in the documentation: http://pandas.pydata.org/pandas-docs/stable/indexing.html#indexing-view-versus-copy\n",
      "  after removing the cwd from sys.path.\n",
      "/usr/local/lib/python3.5/dist-packages/ipykernel_launcher.py:5: SettingWithCopyWarning: \n",
      "A value is trying to be set on a copy of a slice from a DataFrame.\n",
      "Try using .loc[row_indexer,col_indexer] = value instead\n",
      "\n",
      "See the caveats in the documentation: http://pandas.pydata.org/pandas-docs/stable/indexing.html#indexing-view-versus-copy\n",
      "  \"\"\"\n",
      "/usr/local/lib/python3.5/dist-packages/ipykernel_launcher.py:6: SettingWithCopyWarning: \n",
      "A value is trying to be set on a copy of a slice from a DataFrame.\n",
      "Try using .loc[row_indexer,col_indexer] = value instead\n",
      "\n",
      "See the caveats in the documentation: http://pandas.pydata.org/pandas-docs/stable/indexing.html#indexing-view-versus-copy\n",
      "  \n",
      "/usr/local/lib/python3.5/dist-packages/ipykernel_launcher.py:7: SettingWithCopyWarning: \n",
      "A value is trying to be set on a copy of a slice from a DataFrame.\n",
      "Try using .loc[row_indexer,col_indexer] = value instead\n",
      "\n",
      "See the caveats in the documentation: http://pandas.pydata.org/pandas-docs/stable/indexing.html#indexing-view-versus-copy\n",
      "  import sys\n",
      "/usr/local/lib/python3.5/dist-packages/ipykernel_launcher.py:8: SettingWithCopyWarning: \n",
      "A value is trying to be set on a copy of a slice from a DataFrame.\n",
      "Try using .loc[row_indexer,col_indexer] = value instead\n",
      "\n",
      "See the caveats in the documentation: http://pandas.pydata.org/pandas-docs/stable/indexing.html#indexing-view-versus-copy\n",
      "  \n",
      "/usr/local/lib/python3.5/dist-packages/ipykernel_launcher.py:9: SettingWithCopyWarning: \n",
      "A value is trying to be set on a copy of a slice from a DataFrame.\n",
      "Try using .loc[row_indexer,col_indexer] = value instead\n",
      "\n",
      "See the caveats in the documentation: http://pandas.pydata.org/pandas-docs/stable/indexing.html#indexing-view-versus-copy\n",
      "  if __name__ == '__main__':\n",
      "/usr/local/lib/python3.5/dist-packages/ipykernel_launcher.py:11: SettingWithCopyWarning: \n",
      "A value is trying to be set on a copy of a slice from a DataFrame.\n",
      "Try using .loc[row_indexer,col_indexer] = value instead\n",
      "\n",
      "See the caveats in the documentation: http://pandas.pydata.org/pandas-docs/stable/indexing.html#indexing-view-versus-copy\n",
      "  # This is added back by InteractiveShellApp.init_path()\n",
      "/usr/local/lib/python3.5/dist-packages/ipykernel_launcher.py:12: SettingWithCopyWarning: \n",
      "A value is trying to be set on a copy of a slice from a DataFrame.\n",
      "Try using .loc[row_indexer,col_indexer] = value instead\n",
      "\n",
      "See the caveats in the documentation: http://pandas.pydata.org/pandas-docs/stable/indexing.html#indexing-view-versus-copy\n",
      "  if sys.path[0] == '':\n",
      "/usr/local/lib/python3.5/dist-packages/ipykernel_launcher.py:13: SettingWithCopyWarning: \n",
      "A value is trying to be set on a copy of a slice from a DataFrame.\n",
      "Try using .loc[row_indexer,col_indexer] = value instead\n",
      "\n",
      "See the caveats in the documentation: http://pandas.pydata.org/pandas-docs/stable/indexing.html#indexing-view-versus-copy\n",
      "  del sys.path[0]\n",
      "/usr/local/lib/python3.5/dist-packages/pandas/core/frame.py:2440: SettingWithCopyWarning: \n",
      "A value is trying to be set on a copy of a slice from a DataFrame.\n",
      "Try using .loc[row_indexer,col_indexer] = value instead\n",
      "\n",
      "See the caveats in the documentation: http://pandas.pydata.org/pandas-docs/stable/indexing.html#indexing-view-versus-copy\n",
      "  self[k1] = value[k2]\n"
     ]
    }
   ],
   "source": [
    "AggResults['FU_RFS'] = pandas.to_numeric(AggResults['FU_RFS'])\n",
    "AggResults['FU_EFS'] = pandas.to_numeric(AggResults['FU_EFS'])\n",
    "AggResults['FU_OS'] = pandas.to_numeric(AggResults['FU_OS'])\n",
    "AggResults['WhiteBloodCellcount'] = pandas.to_numeric(AggResults['WhiteBloodCellcount'])\n",
    "AggResults['Age'] = pandas.to_numeric(AggResults['Age'])\n",
    "AggResults['Gender'] = pandas.to_numeric(AggResults['Gender'])\n",
    "AggResults['code_RFS']= pandas.to_numeric(AggResults['code_RFS'])\n",
    "AggResults['code_EFS']= pandas.to_numeric(AggResults['code_EFS'])\n",
    "AggResults['code_OS']= pandas.to_numeric(AggResults['code_OS'])\n",
    "\n",
    "AggResults['mutations_NOTCH_pathway'] = pandas.to_numeric(AggResults['mutations_NOTCH_pathway'])\n",
    "AggResults['mutations_PTEN_AKT_pathway'] = pandas.to_numeric(AggResults['mutations_PTEN_AKT_pathway'])\n",
    "AggResults['mutations_IL7R_pathway'] = pandas.to_numeric(AggResults['mutations_IL7R_pathway'])\n",
    "#AggResults.replace(to_replace=9999, value=0.5, inplace=True)\n",
    "AggResults[['mutations_NOTCH_pathway', \n",
    "            'mutations_PTEN_AKT_pathway', \n",
    "            'mutations_IL7R_pathway']] = AggResults[['mutations_NOTCH_pathway', \n",
    "                                                    'mutations_PTEN_AKT_pathway', \n",
    "                                                    'mutations_IL7R_pathway']].replace([9999],[numpy.nan],\n",
    "                                                                                       inplace=False)"
   ]
  },
  {
   "cell_type": "code",
   "execution_count": 96,
   "metadata": {},
   "outputs": [
    {
     "name": "stderr",
     "output_type": "stream",
     "text": [
      "/usr/local/lib/python3.5/dist-packages/ipykernel_launcher.py:1: SettingWithCopyWarning: \n",
      "A value is trying to be set on a copy of a slice from a DataFrame.\n",
      "Try using .loc[row_indexer,col_indexer] = value instead\n",
      "\n",
      "See the caveats in the documentation: http://pandas.pydata.org/pandas-docs/stable/indexing.html#indexing-view-versus-copy\n",
      "  \"\"\"Entry point for launching an IPython kernel.\n",
      "/usr/local/lib/python3.5/dist-packages/ipykernel_launcher.py:2: SettingWithCopyWarning: \n",
      "A value is trying to be set on a copy of a slice from a DataFrame.\n",
      "Try using .loc[row_indexer,col_indexer] = value instead\n",
      "\n",
      "See the caveats in the documentation: http://pandas.pydata.org/pandas-docs/stable/indexing.html#indexing-view-versus-copy\n",
      "  \n",
      "/usr/local/lib/python3.5/dist-packages/ipykernel_launcher.py:3: SettingWithCopyWarning: \n",
      "A value is trying to be set on a copy of a slice from a DataFrame.\n",
      "Try using .loc[row_indexer,col_indexer] = value instead\n",
      "\n",
      "See the caveats in the documentation: http://pandas.pydata.org/pandas-docs/stable/indexing.html#indexing-view-versus-copy\n",
      "  This is separate from the ipykernel package so we can avoid doing imports until\n",
      "/usr/local/lib/python3.5/dist-packages/ipykernel_launcher.py:4: SettingWithCopyWarning: \n",
      "A value is trying to be set on a copy of a slice from a DataFrame.\n",
      "Try using .loc[row_indexer,col_indexer] = value instead\n",
      "\n",
      "See the caveats in the documentation: http://pandas.pydata.org/pandas-docs/stable/indexing.html#indexing-view-versus-copy\n",
      "  after removing the cwd from sys.path.\n"
     ]
    }
   ],
   "source": [
    "AggResults['comb_mutations_NOTCH_IL7R'] = AggResults['mutations_NOTCH_pathway'] + AggResults['mutations_IL7R_pathway']\n",
    "AggResults['comb_mutations_NOTCH_PTEN'] = AggResults['mutations_NOTCH_pathway'] + AggResults['mutations_PTEN_AKT_pathway']\n",
    "AggResults['comb_mutations_IL7R_PTEN'] =  AggResults['mutations_PTEN_AKT_pathway'] + AggResults['mutations_IL7R_pathway']\n",
    "AggResults['comb_mutations_IL7R_PTEN_NOTCH'] =  AggResults['mutations_PTEN_AKT_pathway']\\\n",
    "                                                + AggResults['mutations_IL7R_pathway']\\\n",
    "                                                + AggResults['mutations_NOTCH_pathway']\n",
    "\n",
    "\n",
    "patient_count = AggResults.groupby(['cluster_ap']).agg({'labnr_patient': pandas.Series.nunique})\n",
    "Clustered_by_patients_whitebloodcells = AggResults[AggResults['WhiteBloodCellcount'].apply(lambda x: isnan(x) is False)].groupby(['cluster_ap']).agg(\n",
    "    {'WhiteBloodCellcount': numpy.mean,\n",
    "    'Age': numpy.mean, \n",
    "    'Gender': numpy.mean})\n",
    "\n",
    "# Cancer_gene\n",
    "# Treatment_protocol\n",
    "# Treatment_risk_group_in_ALL_10\n",
    "\n",
    "Clustered_by_patients_CODE = AggResults.groupby(['cluster_ap']).agg(\n",
    "    {'code_RFS': numpy.mean, \n",
    "     'code_EFS': numpy.mean,\n",
    "     'code_OS': numpy.mean})\n",
    "\n",
    "Clustered_by_patients_FU_RFS = AggResults[AggResults['FU_RFS'].apply(lambda x: isnan(x) is False)].groupby(['cluster_ap']).agg(\n",
    "    {'FU_RFS': numpy.median, \n",
    "     'FU_EFS': numpy.median,\n",
    "     'FU_OS': numpy.median})\n",
    "Clustered_by_patients_NotchPath = AggResults[AggResults['mutations_NOTCH_pathway'].apply(lambda x: isnan(x) is False)].groupby(['cluster_ap']).agg(\n",
    "    {'mutations_NOTCH_pathway': numpy.mean})\n",
    "Clustered_by_patients_IL7RPath = AggResults[AggResults['mutations_IL7R_pathway'].apply(lambda x: isnan(x) is False)].groupby(['cluster_ap']).agg(\n",
    "    {'mutations_IL7R_pathway': numpy.mean})\n",
    "Clustered_by_patients_PTENAKTPath = AggResults[AggResults['mutations_PTEN_AKT_pathway'].apply(lambda x: isnan(x) is False)].groupby(['cluster_ap']).agg(\n",
    "    {'mutations_PTEN_AKT_pathway': numpy.mean})\n",
    "Clustered_by_patients_comb_NOTCH_IL7R = AggResults[AggResults['comb_mutations_NOTCH_IL7R'].apply(lambda x: isnan(x) is False)].groupby(['cluster_ap']).agg(\n",
    "    {'comb_mutations_NOTCH_IL7R': numpy.mean})\n",
    "Clustered_by_patients_comb_NOTCH_PTEN = AggResults[AggResults['comb_mutations_NOTCH_PTEN'].apply(lambda x: isnan(x) is False)].groupby(['cluster_ap']).agg(\n",
    "    {'comb_mutations_NOTCH_PTEN': numpy.mean})\n",
    "Clustered_by_patients_comb_IL7R_PTEN = AggResults[AggResults['comb_mutations_IL7R_PTEN'].apply(lambda x: isnan(x) is False)].groupby(['cluster_ap']).agg(\n",
    "    {'comb_mutations_IL7R_PTEN': numpy.mean})\n",
    "Clustered_by_patients_comb_IL7R_PTEN_NOTCH = AggResults[AggResults['comb_mutations_IL7R_PTEN_NOTCH'].apply(lambda x: isnan(x) is False)].groupby(['cluster_ap']).agg(\n",
    "    {'comb_mutations_IL7R_PTEN_NOTCH': numpy.mean})\n"
   ]
  },
  {
   "cell_type": "code",
   "execution_count": 113,
   "metadata": {},
   "outputs": [
    {
     "data": {
      "text/html": [
       "<div>\n",
       "<table border=\"1\" class=\"dataframe\">\n",
       "  <thead>\n",
       "    <tr style=\"text-align: right;\">\n",
       "      <th></th>\n",
       "      <th>comb_mutations_IL7R_PTEN</th>\n",
       "    </tr>\n",
       "    <tr>\n",
       "      <th>cluster_ap</th>\n",
       "      <th></th>\n",
       "    </tr>\n",
       "  </thead>\n",
       "  <tbody>\n",
       "    <tr>\n",
       "      <th>0</th>\n",
       "      <td>0.500000</td>\n",
       "    </tr>\n",
       "    <tr>\n",
       "      <th>1</th>\n",
       "      <td>0.553191</td>\n",
       "    </tr>\n",
       "    <tr>\n",
       "      <th>2</th>\n",
       "      <td>0.300000</td>\n",
       "    </tr>\n",
       "    <tr>\n",
       "      <th>3</th>\n",
       "      <td>0.657895</td>\n",
       "    </tr>\n",
       "  </tbody>\n",
       "</table>\n",
       "</div>"
      ],
      "text/plain": [
       "            comb_mutations_IL7R_PTEN\n",
       "cluster_ap                          \n",
       "0                           0.500000\n",
       "1                           0.553191\n",
       "2                           0.300000\n",
       "3                           0.657895"
      ]
     },
     "execution_count": 113,
     "metadata": {},
     "output_type": "execute_result"
    }
   ],
   "source": [
    "Clustered_by_patients_comb_IL7R_PTEN"
   ]
  },
  {
   "cell_type": "code",
   "execution_count": 104,
   "metadata": {
    "scrolled": true
   },
   "outputs": [
    {
     "name": "stdout",
     "output_type": "stream",
     "text": [
      "Cluster centers: ['KGK_Tall_JL_7418.CEL' 'KGK_Tall_JL_7743.CEL' '2780.CEL' '8639.CEL']\n",
      "[3 3 3 0 0 1 0 1 1 1 0 1 1 0 0 0 0 1 0 1 1 0 0 0 1 0 1 1 0 1 1 1 0 1 1 1 1\n",
      " 1 1 0 1 1 0 0 1 1 1 0 0 1 1 1 1 3 0 1 1 0 0 1 1 1 0 0 1 1 1 1 1 1 3 1 3 1\n",
      " 1 1 1 1 3 1 1 3 3 3 3 3 1 3 2 3 2 2 3 3 1 3 3 3 3 3 3 2 2 2 3 3 3 1 3 2 3\n",
      " 3 2 3 3 3 3 3 2 3 2 3 3 1 3 3 2 3 3 2 2 2 3 3 2 3 3 3 3 3 3 3 1 0 1 3 3 3\n",
      " 3 3 2 3 2 3 3 3 3 2 1 3 2 3 3 1 1 3 3 3 3 3 3 3 1 3 1 3 1 3 3 3 3 3 3 3 3\n",
      " 3 3 3 3 3 3 3 3 3 3 3 3 3 3 3 3 3 3 1 1 0 1 1 1 1 1 1 0 1 1 1 1 1 3 1 1 1\n",
      " 1 1 1 1 1 1 1 1 0 0 1 1 0 1 1 3 1 1 1 1 1 1 1 3 1 3 1 1 1 1 0 0 0 1 1 0 1\n",
      " 1 1 1 0 1 0 1 1 1 0 0 1 0 1 0 1 1 1 3 1 1 1 0 1 3 1 0 0 0 1 0 1 1 1 0 1 0\n",
      " 0 0 1 1 1 1 0 0 3 1 0 0 0 3 0]\n"
     ]
    },
    {
     "data": {
      "image/png": "[encoded data removed]",
      "text/plain": [
       "<matplotlib.figure.Figure at 0x7f6aba364ba8>"
      ]
     },
     "metadata": {},
     "output_type": "display_data"
    }
   ],
   "source": [
    "print(\"Cluster centers:\",patient_sim.keys()[cluster_centers_indices].values)\n",
    "print(patient_cluster_members)\n",
    "\n",
    "plt.close('all')\n",
    "plt.figure(figsize=(14,9))\n",
    "plt.clf()\n",
    "\n",
    "colors = cycle('bgrcmykbgrcmykbgrcmykbgrcmyk')\n",
    "for k, col in zip(range(n_clusters), colors):\n",
    "    class_members = patient_cluster_members == k\n",
    "    cluster_center = X[cluster_centers_indices[k]]\n",
    "    plt.plot(X[class_members, 0], X[class_members, 1], col + '.', \n",
    "             label = patient_sim.keys()[cluster_centers_indices[k]])\n",
    "    plt.plot(cluster_center[0], cluster_center[1], 'o', markerfacecolor=col,\n",
    "             markeredgecolor='k', markersize=14)\n",
    "    for x in X[class_members]:\n",
    "        plt.plot([cluster_center[0], x[0]], [cluster_center[1], x[1]], col)\n",
    "\n",
    "plt.legend()\n",
    "        \n",
    "plt.title('Estimated number of clusters from Affinity Propagation: %d' % n_clusters)\n",
    "plt.show()"
   ]
  },
  {
   "cell_type": "code",
   "execution_count": 19,
   "metadata": {
    "collapsed": true
   },
   "outputs": [],
   "source": [
    "##### CREATE graph from similarity matrix\n",
    "##################\n",
    "# nodes\n",
    "VarList = TransPosed.keys()\n",
    "nodes = []\n",
    "node_index = 0\n",
    "for patient_name in VarList:\n",
    "    nodes.append((node_index, {'name': patient_name}))\n",
    "    node_index = node_index + 1\n",
    "\n",
    "edges = []\n",
    "# edges\n",
    "patient_sim = patient_similarity(Normal, sim_type = 'pearson', normalised = True, inflation=2)\n",
    "node_index_x = 0\n",
    "node_index_y = 0\n",
    "for patient_name_x in VarList:\n",
    "    for patient_name_y in VarList:        \n",
    "        edges.append((node_index_x, node_index_y, patient_sim.iloc[node_index_x, node_index_y]))\n",
    "        node_index_y = node_index_y + 1\n",
    "    node_index_x = node_index_x + 1\n",
    "    node_index_y = 0"
   ]
  },
  {
   "cell_type": "code",
   "execution_count": 20,
   "metadata": {
    "collapsed": true
   },
   "outputs": [],
   "source": [
    "import networkx as nx\n",
    "G = nx.Graph()\n",
    "G.add_nodes_from(nodes)\n",
    "G.add_weighted_edges_from(edges, weight = 'weight')"
   ]
  },
  {
   "cell_type": "code",
   "execution_count": 23,
   "metadata": {},
   "outputs": [
    {
     "name": "stderr",
     "output_type": "stream",
     "text": [
      "c:\\users\\bramva~1\\envs\\worken~1\\lib\\site-packages\\networkx\\drawing\\nx_pylab.py:126: MatplotlibDeprecationWarning: pyplot.hold is deprecated.\n",
      "    Future behavior will be consistent with the long-time default:\n",
      "    plot commands add elements without first clearing the\n",
      "    Axes and/or Figure.\n",
      "  b = plt.ishold()\n",
      "c:\\users\\bramva~1\\envs\\worken~1\\lib\\site-packages\\networkx\\drawing\\nx_pylab.py:138: MatplotlibDeprecationWarning: pyplot.hold is deprecated.\n",
      "    Future behavior will be consistent with the long-time default:\n",
      "    plot commands add elements without first clearing the\n",
      "    Axes and/or Figure.\n",
      "  plt.hold(b)\n",
      "c:\\users\\bramva~1\\envs\\worken~1\\lib\\site-packages\\matplotlib\\__init__.py:917: UserWarning: axes.hold is deprecated. Please remove it from your matplotlibrc and/or style files.\n",
      "  warnings.warn(self.msg_depr_set % key)\n",
      "c:\\users\\bramva~1\\envs\\worken~1\\lib\\site-packages\\matplotlib\\rcsetup.py:152: UserWarning: axes.hold is deprecated, will be removed in 3.0\n",
      "  warnings.warn(\"axes.hold is deprecated, will be removed in 3.0\")\n"
     ]
    },
    {
     "data": {
      "image/png": "[encoded data removed]",
      "text/plain": [
       "<matplotlib.figure.Figure at 0x1f31beac128>"
      ]
     },
     "metadata": {},
     "output_type": "display_data"
    }
   ],
   "source": [
    "##### apply Spring-force\n",
    "#######################\n",
    "pos = nx.spring_layout(G, k = None, dim = 3, scale = 1.0)\n",
    "nx.draw_spring(G, k = 30, dim = 2, scale = 1.0, iterations =1500)\n",
    "plt.show()"
   ]
  },
  {
   "cell_type": "code",
   "execution_count": null,
   "metadata": {
    "collapsed": true
   },
   "outputs": [],
   "source": [
    "##### APPLY community detector\n",
    "# maximize betweenness and modularity\n",
    "##################################\n"
   ]
  },
  {
   "cell_type": "code",
   "execution_count": 12,
   "metadata": {
    "collapsed": true
   },
   "outputs": [],
   "source": [
    "##### LOAD IN DATA\n",
    "###################\n",
    "# https://stackoverflow.com/questions/14529838/apply-multiple-functions-to-multiple-groupby-columns\n",
    "# "
   ]
  },
  {
   "cell_type": "code",
   "execution_count": 124,
   "metadata": {
    "collapsed": true
   },
   "outputs": [],
   "source": [
    "df = _helpers._preprocess(Rocket.DATA_merged) \n",
    "df = _helpers._group_patients(df, method = 'mean')"
   ]
  },
  {
   "cell_type": "code",
   "execution_count": 125,
   "metadata": {},
   "outputs": [],
   "source": [
    "x,y =_helpers._get_matrix(df, features = 'genomic', target = 'Treatment_risk_group_in_ALL10')"
   ]
  },
  {
   "cell_type": "code",
   "execution_count": 156,
   "metadata": {
    "scrolled": true
   },
   "outputs": [
    {
     "name": "stdout",
     "output_type": "stream",
     "text": [
      "+ + + + + + + + + + + + + + + + + + + + + + + + + + + + + +  Creating X,y\n",
      "- - - - - - - - - - - - - - - - - - - - - - - - - - - - - -  Reducing dimensionality\n",
      "++++++++++++++++++++++++++++++  RESULTS FOR CLASSIFICATION WITH GENOMIC DATA ++++++++++++++++++++++++++++++\n"
     ]
    },
    {
     "data": {
      "image/png": "[encoded data removed]",
      "text/plain": [
       "<matplotlib.figure.Figure at 0x7f6a72da0dd8>"
      ]
     },
     "metadata": {},
     "output_type": "display_data"
    },
    {
     "name": "stdout",
     "output_type": "stream",
     "text": [
      "MODEL: RF accuracy:  0.51724137931 +/-: 0.017683030406\n",
      "++++++++++++++++++++++++++++++  Report ++++++++++++++++++++++++++++++\n",
      "             precision    recall  f1-score   support\n",
      "\n",
      "          0       0.55      0.82      0.66        33\n",
      "          1       0.33      0.12      0.18        25\n",
      "\n",
      "avg / total       0.46      0.52      0.45        58\n",
      "\n",
      "++++++++++++++++++++++++++++++++++++++++++++++++++\n"
     ]
    }
   ],
   "source": [
    "preds, class_model = Rocket.classify_treatment(model_type = 'RandomForest', \n",
    "                                              features = 'genomic',\n",
    "                                              parameters = {},\n",
    "                                              pipeline = {\"scaler\": {\"type\": \"minmax\"},\n",
    "                                                          \"pre_processing\": {\"patient_grouping\": 'mean', \n",
    "                                                                             \"bias_removal\": False},\n",
    "                                                          \"dim_reduction\": {\"type\": \"PCA\", \"n_comp\": 1000},\n",
    "                                                          \"feature_selection\": {\"type\": \"RFECV\", \"top_n\": 100}})"
   ]
  },
  {
   "cell_type": "code",
   "execution_count": 154,
   "metadata": {},
   "outputs": [
    {
     "data": {
      "text/plain": [
       "array([[ 0.51712781,  0.48287219],\n",
       "       [ 0.67036444,  0.32963556],\n",
       "       [ 0.64254908,  0.35745092],\n",
       "       [ 0.63734117,  0.36265883],\n",
       "       [ 0.64763569,  0.35236431],\n",
       "       [ 0.56252983,  0.43747017],\n",
       "       [ 0.57160406,  0.42839594],\n",
       "       [ 0.57003459,  0.42996541],\n",
       "       [ 0.56770642,  0.43229358],\n",
       "       [ 0.62596044,  0.37403956],\n",
       "       [ 0.548906  ,  0.451094  ],\n",
       "       [ 0.6287963 ,  0.3712037 ],\n",
       "       [ 0.62476872,  0.37523128],\n",
       "       [ 0.58375777,  0.41624223],\n",
       "       [ 0.55748162,  0.44251838],\n",
       "       [ 0.58997576,  0.41002424],\n",
       "       [ 0.62212209,  0.37787791],\n",
       "       [ 0.51348898,  0.48651102],\n",
       "       [ 0.6277794 ,  0.3722206 ],\n",
       "       [ 0.60299306,  0.39700694],\n",
       "       [ 0.6363615 ,  0.3636385 ],\n",
       "       [ 0.64677509,  0.35322491],\n",
       "       [ 0.61974766,  0.38025234],\n",
       "       [ 0.53742613,  0.46257387],\n",
       "       [ 0.63268089,  0.36731911],\n",
       "       [ 0.63973311,  0.36026689],\n",
       "       [ 0.60385879,  0.39614121],\n",
       "       [ 0.66923553,  0.33076447],\n",
       "       [ 0.65886679,  0.34113321],\n",
       "       [ 0.51097971,  0.48902029],\n",
       "       [ 0.56768336,  0.43231664],\n",
       "       [ 0.62561854,  0.37438146],\n",
       "       [ 0.60319782,  0.39680218],\n",
       "       [ 0.64275581,  0.35724419],\n",
       "       [ 0.60965195,  0.39034805],\n",
       "       [ 0.63952097,  0.36047903],\n",
       "       [ 0.55833368,  0.44166632],\n",
       "       [ 0.56613324,  0.43386676],\n",
       "       [ 0.64875292,  0.35124708],\n",
       "       [ 0.58837153,  0.41162847],\n",
       "       [ 0.61060206,  0.38939794],\n",
       "       [ 0.59942965,  0.40057035],\n",
       "       [ 0.59821071,  0.40178929],\n",
       "       [ 0.585827  ,  0.414173  ],\n",
       "       [ 0.58290727,  0.41709273],\n",
       "       [ 0.5594459 ,  0.4405541 ],\n",
       "       [ 0.55093966,  0.44906034],\n",
       "       [ 0.5928454 ,  0.4071546 ],\n",
       "       [ 0.59474302,  0.40525698],\n",
       "       [ 0.47099852,  0.52900148],\n",
       "       [ 0.61994832,  0.38005168],\n",
       "       [ 0.6425001 ,  0.3574999 ],\n",
       "       [ 0.60609491,  0.39390509],\n",
       "       [ 0.61639096,  0.38360904],\n",
       "       [ 0.66954006,  0.33045994],\n",
       "       [ 0.72530081,  0.27469919],\n",
       "       [ 0.64959292,  0.35040708],\n",
       "       [ 0.63480879,  0.36519121],\n",
       "       [ 0.71491184,  0.28508816],\n",
       "       [ 0.63857813,  0.36142187],\n",
       "       [ 0.5788838 ,  0.4211162 ],\n",
       "       [ 0.60182993,  0.39817007],\n",
       "       [ 0.55752851,  0.44247149],\n",
       "       [ 0.69314437,  0.30685563],\n",
       "       [ 0.67820257,  0.32179743],\n",
       "       [ 0.64664574,  0.35335426],\n",
       "       [ 0.59618269,  0.40381731],\n",
       "       [ 0.51792868,  0.48207132],\n",
       "       [ 0.70112365,  0.29887635],\n",
       "       [ 0.60528004,  0.39471996],\n",
       "       [ 0.57258396,  0.42741604],\n",
       "       [ 0.60916714,  0.39083286],\n",
       "       [ 0.59329254,  0.40670746],\n",
       "       [ 0.65772849,  0.34227151],\n",
       "       [ 0.61399963,  0.38600037],\n",
       "       [ 0.70146437,  0.29853563],\n",
       "       [ 0.64117144,  0.35882856],\n",
       "       [ 0.56648572,  0.43351428],\n",
       "       [ 0.64172485,  0.35827515],\n",
       "       [ 0.47650962,  0.52349038],\n",
       "       [ 0.70004114,  0.29995886],\n",
       "       [ 0.51840522,  0.48159478],\n",
       "       [ 0.56223898,  0.43776102],\n",
       "       [ 0.57512135,  0.42487865],\n",
       "       [ 0.59580463,  0.40419537],\n",
       "       [ 0.55177135,  0.44822865],\n",
       "       [ 0.63545006,  0.36454994],\n",
       "       [ 0.53153069,  0.46846931],\n",
       "       [ 0.6473845 ,  0.3526155 ],\n",
       "       [ 0.69571103,  0.30428897],\n",
       "       [ 0.65442717,  0.34557283],\n",
       "       [ 0.59615536,  0.40384464],\n",
       "       [ 0.58472379,  0.41527621],\n",
       "       [ 0.50988474,  0.49011526],\n",
       "       [ 0.72729729,  0.27270271],\n",
       "       [ 0.58678614,  0.41321386],\n",
       "       [ 0.63091932,  0.36908068],\n",
       "       [ 0.69685294,  0.30314706],\n",
       "       [ 0.56597052,  0.43402948],\n",
       "       [ 0.63763631,  0.36236369],\n",
       "       [ 0.53767161,  0.46232839],\n",
       "       [ 0.64181079,  0.35818921],\n",
       "       [ 0.52891865,  0.47108135],\n",
       "       [ 0.71050974,  0.28949026],\n",
       "       [ 0.58853656,  0.41146344],\n",
       "       [ 0.67436362,  0.32563638],\n",
       "       [ 0.64511512,  0.35488488],\n",
       "       [ 0.71975082,  0.28024918],\n",
       "       [ 0.77253774,  0.22746226],\n",
       "       [ 0.62661551,  0.37338449],\n",
       "       [ 0.74403441,  0.25596559],\n",
       "       [ 0.73304697,  0.26695303],\n",
       "       [ 0.6304837 ,  0.3695163 ],\n",
       "       [ 0.42577916,  0.57422084],\n",
       "       [ 0.53960684,  0.46039316],\n",
       "       [ 0.67046678,  0.32953322],\n",
       "       [ 0.56834209,  0.43165791],\n",
       "       [ 0.43496075,  0.56503925],\n",
       "       [ 0.61117612,  0.38882388],\n",
       "       [ 0.59280662,  0.40719338],\n",
       "       [ 0.56500773,  0.43499227],\n",
       "       [ 0.66061955,  0.33938045],\n",
       "       [ 0.64093791,  0.35906209],\n",
       "       [ 0.40721438,  0.59278562],\n",
       "       [ 0.54055732,  0.45944268],\n",
       "       [ 0.69781266,  0.30218734],\n",
       "       [ 0.53877203,  0.46122797],\n",
       "       [ 0.62067005,  0.37932995],\n",
       "       [ 0.48304952,  0.51695048],\n",
       "       [ 0.71688995,  0.28311005],\n",
       "       [ 0.32574478,  0.67425522],\n",
       "       [ 0.70181752,  0.29818248],\n",
       "       [ 0.61034395,  0.38965605],\n",
       "       [ 0.69940632,  0.30059368],\n",
       "       [ 0.78397126,  0.21602874],\n",
       "       [ 0.6576385 ,  0.3423615 ],\n",
       "       [ 0.75945144,  0.24054856],\n",
       "       [ 0.6141059 ,  0.3858941 ],\n",
       "       [ 0.59568905,  0.40431095],\n",
       "       [ 0.62384366,  0.37615634],\n",
       "       [ 0.59121766,  0.40878234],\n",
       "       [ 0.6648331 ,  0.3351669 ],\n",
       "       [ 0.68335541,  0.31664459],\n",
       "       [ 0.72638962,  0.27361038],\n",
       "       [ 0.70408512,  0.29591488],\n",
       "       [ 0.65228195,  0.34771805],\n",
       "       [ 0.5006992 ,  0.4993008 ],\n",
       "       [ 0.70005303,  0.29994697],\n",
       "       [ 0.65498643,  0.34501357],\n",
       "       [ 0.51706288,  0.48293712],\n",
       "       [ 0.6347935 ,  0.3652065 ],\n",
       "       [ 0.68478254,  0.31521746],\n",
       "       [ 0.55097564,  0.44902436],\n",
       "       [ 0.63607035,  0.36392965],\n",
       "       [ 0.6370497 ,  0.3629503 ],\n",
       "       [ 0.68702307,  0.31297693],\n",
       "       [ 0.59522992,  0.40477008],\n",
       "       [ 0.56096802,  0.43903198],\n",
       "       [ 0.62789533,  0.37210467],\n",
       "       [ 0.58279748,  0.41720252],\n",
       "       [ 0.63713104,  0.36286896],\n",
       "       [ 0.63494633,  0.36505367],\n",
       "       [ 0.66700616,  0.33299384],\n",
       "       [ 0.66526315,  0.33473685],\n",
       "       [ 0.6994975 ,  0.3005025 ],\n",
       "       [ 0.59423995,  0.40576005],\n",
       "       [ 0.6098858 ,  0.3901142 ],\n",
       "       [ 0.66016975,  0.33983025],\n",
       "       [ 0.6277168 ,  0.3722832 ],\n",
       "       [ 0.6493884 ,  0.3506116 ],\n",
       "       [ 0.6113134 ,  0.3886866 ],\n",
       "       [ 0.61003818,  0.38996182],\n",
       "       [ 0.58793199,  0.41206801],\n",
       "       [ 0.57548456,  0.42451544],\n",
       "       [ 0.60892723,  0.39107277],\n",
       "       [ 0.71646739,  0.28353261],\n",
       "       [ 0.36941948,  0.63058052],\n",
       "       [ 0.69712294,  0.30287706],\n",
       "       [ 0.3786781 ,  0.6213219 ],\n",
       "       [ 0.61896042,  0.38103958],\n",
       "       [ 0.6612592 ,  0.3387408 ],\n",
       "       [ 0.66275362,  0.33724638],\n",
       "       [ 0.4350101 ,  0.5649899 ],\n",
       "       [ 0.70169043,  0.29830957],\n",
       "       [ 0.76184861,  0.23815139],\n",
       "       [ 0.70948708,  0.29051292],\n",
       "       [ 0.66176553,  0.33823447],\n",
       "       [ 0.33860046,  0.66139954],\n",
       "       [ 0.75307415,  0.24692585],\n",
       "       [ 0.63152843,  0.36847157],\n",
       "       [ 0.63299277,  0.36700723],\n",
       "       [ 0.68115603,  0.31884397],\n",
       "       [ 0.726138  ,  0.273862  ],\n",
       "       [ 0.57013148,  0.42986852],\n",
       "       [ 0.60523669,  0.39476331],\n",
       "       [ 0.7478613 ,  0.2521387 ],\n",
       "       [ 0.31052094,  0.68947906],\n",
       "       [ 0.39579   ,  0.60421   ],\n",
       "       [ 0.55930439,  0.44069561],\n",
       "       [ 0.66098715,  0.33901285],\n",
       "       [ 0.60680569,  0.39319431],\n",
       "       [ 0.44427892,  0.55572108],\n",
       "       [ 0.41472701,  0.58527299],\n",
       "       [ 0.64522368,  0.35477632],\n",
       "       [ 0.74347344,  0.25652656],\n",
       "       [ 0.38167551,  0.61832449],\n",
       "       [ 0.36603826,  0.63396174],\n",
       "       [ 0.43290778,  0.56709222],\n",
       "       [ 0.37326267,  0.62673733],\n",
       "       [ 0.28673731,  0.71326269],\n",
       "       [ 0.73206939,  0.26793061],\n",
       "       [ 0.73661422,  0.26338578],\n",
       "       [ 0.66987124,  0.33012876],\n",
       "       [ 0.32083782,  0.67916218],\n",
       "       [ 0.62991736,  0.37008264],\n",
       "       [ 0.40858341,  0.59141659],\n",
       "       [ 0.76340448,  0.23659552],\n",
       "       [ 0.41729412,  0.58270588],\n",
       "       [ 0.70344343,  0.29655657],\n",
       "       [ 0.38614822,  0.61385178],\n",
       "       [ 0.75628002,  0.24371998],\n",
       "       [ 0.30655975,  0.69344025],\n",
       "       [ 0.74678493,  0.25321507],\n",
       "       [ 0.40288769,  0.59711231],\n",
       "       [ 0.29245574,  0.70754426],\n",
       "       [ 0.75209083,  0.24790917],\n",
       "       [ 0.70508559,  0.29491441],\n",
       "       [ 0.66917226,  0.33082774],\n",
       "       [ 0.59765854,  0.40234146],\n",
       "       [ 0.56972595,  0.43027405],\n",
       "       [ 0.64811641,  0.35188359],\n",
       "       [ 0.68413915,  0.31586085],\n",
       "       [ 0.62224075,  0.37775925],\n",
       "       [ 0.58341343,  0.41658657],\n",
       "       [ 0.55229611,  0.44770389],\n",
       "       [ 0.58714816,  0.41285184],\n",
       "       [ 0.55959675,  0.44040325],\n",
       "       [ 0.5969883 ,  0.4030117 ],\n",
       "       [ 0.67546474,  0.32453526],\n",
       "       [ 0.67369174,  0.32630826],\n",
       "       [ 0.54941677,  0.45058323],\n",
       "       [ 0.5963647 ,  0.4036353 ],\n",
       "       [ 0.61697482,  0.38302518],\n",
       "       [ 0.65168597,  0.34831403],\n",
       "       [ 0.65235322,  0.34764678],\n",
       "       [ 0.66130685,  0.33869315],\n",
       "       [ 0.6166338 ,  0.3833662 ],\n",
       "       [ 0.57401031,  0.42598969],\n",
       "       [ 0.54607863,  0.45392137],\n",
       "       [ 0.66016934,  0.33983066],\n",
       "       [ 0.61760527,  0.38239473],\n",
       "       [ 0.58766105,  0.41233895],\n",
       "       [ 0.58280085,  0.41719915],\n",
       "       [ 0.55351672,  0.44648328],\n",
       "       [ 0.62690834,  0.37309166],\n",
       "       [ 0.60424649,  0.39575351],\n",
       "       [ 0.67600659,  0.32399341],\n",
       "       [ 0.61263618,  0.38736382],\n",
       "       [ 0.62710577,  0.37289423],\n",
       "       [ 0.67632033,  0.32367967],\n",
       "       [ 0.53118042,  0.46881958],\n",
       "       [ 0.74882018,  0.25117982],\n",
       "       [ 0.59396148,  0.40603852],\n",
       "       [ 0.59825798,  0.40174202],\n",
       "       [ 0.58250809,  0.41749191],\n",
       "       [ 0.59666647,  0.40333353],\n",
       "       [ 0.61108661,  0.38891339],\n",
       "       [ 0.6601037 ,  0.3398963 ],\n",
       "       [ 0.55430254,  0.44569746],\n",
       "       [ 0.57466164,  0.42533836],\n",
       "       [ 0.57127801,  0.42872199],\n",
       "       [ 0.59273553,  0.40726447],\n",
       "       [ 0.54985305,  0.45014695],\n",
       "       [ 0.50868608,  0.49131392],\n",
       "       [ 0.49527174,  0.50472826],\n",
       "       [ 0.39108016,  0.60891984],\n",
       "       [ 0.57319567,  0.42680433]])"
      ]
     },
     "execution_count": 154,
     "metadata": {},
     "output_type": "execute_result"
    }
   ],
   "source": [
    "preds"
   ]
  },
  {
   "cell_type": "code",
   "execution_count": 14,
   "metadata": {},
   "outputs": [
    {
     "ename": "IndexError",
     "evalue": "invalid index to scalar variable.",
     "output_type": "error",
     "traceback": [
      "\u001b[1;31m---------------------------------------------------------------------------\u001b[0m",
      "\u001b[1;31mIndexError\u001b[0m                                Traceback (most recent call last)",
      "\u001b[1;32m<ipython-input-14-e5ecf370c24d>\u001b[0m in \u001b[0;36m<module>\u001b[1;34m()\u001b[0m\n\u001b[1;32m----> 1\u001b[1;33m \u001b[0mpreds\u001b[0m \u001b[1;33m=\u001b[0m \u001b[1;33m[\u001b[0m\u001b[0mpred_\u001b[0m\u001b[1;33m[\u001b[0m\u001b[1;36m1\u001b[0m\u001b[1;33m]\u001b[0m\u001b[1;32mfor\u001b[0m \u001b[0mpred_\u001b[0m \u001b[1;32min\u001b[0m \u001b[0mpreds\u001b[0m\u001b[1;33m]\u001b[0m\u001b[1;33m\u001b[0m\u001b[0m\n\u001b[0m\u001b[0;32m      2\u001b[0m \u001b[1;31m#len(Rocket.DATA_merged[Rocket.DATA_merged[\"array-batch\"].isin([\"cohort 1\", \"cohort 2\", \"JB\", \"IA\", \"ALL-10\"])])\u001b[0m\u001b[1;33m\u001b[0m\u001b[1;33m\u001b[0m\u001b[0m\n\u001b[0;32m      3\u001b[0m \u001b[0mResults\u001b[0m \u001b[1;33m=\u001b[0m \u001b[0mRocket\u001b[0m\u001b[1;33m.\u001b[0m\u001b[0mDATA_merged_processed\u001b[0m\u001b[1;33m\u001b[0m\u001b[0m\n\u001b[0;32m      4\u001b[0m \u001b[0mResults\u001b[0m\u001b[1;33m[\u001b[0m\u001b[1;34m'pred'\u001b[0m\u001b[1;33m]\u001b[0m \u001b[1;33m=\u001b[0m \u001b[0mpreds\u001b[0m\u001b[1;33m\u001b[0m\u001b[0m\n\u001b[0;32m      5\u001b[0m \u001b[0mprint\u001b[0m\u001b[1;33m(\u001b[0m\u001b[0mResults\u001b[0m\u001b[1;33m[\u001b[0m\u001b[1;33m:\u001b[0m\u001b[1;36m311\u001b[0m\u001b[1;33m]\u001b[0m\u001b[1;33m[\u001b[0m\u001b[1;33m[\u001b[0m\u001b[1;34m'labnr patient'\u001b[0m\u001b[1;33m,\u001b[0m \u001b[1;34m'pred'\u001b[0m\u001b[1;33m,\u001b[0m \u001b[1;34m'Treatment risk group in ALL10'\u001b[0m\u001b[1;33m]\u001b[0m\u001b[1;33m]\u001b[0m\u001b[1;33m)\u001b[0m\u001b[1;33m\u001b[0m\u001b[0m\n",
      "\u001b[1;32m<ipython-input-14-e5ecf370c24d>\u001b[0m in \u001b[0;36m<listcomp>\u001b[1;34m(.0)\u001b[0m\n\u001b[1;32m----> 1\u001b[1;33m \u001b[0mpreds\u001b[0m \u001b[1;33m=\u001b[0m \u001b[1;33m[\u001b[0m\u001b[0mpred_\u001b[0m\u001b[1;33m[\u001b[0m\u001b[1;36m1\u001b[0m\u001b[1;33m]\u001b[0m\u001b[1;32mfor\u001b[0m \u001b[0mpred_\u001b[0m \u001b[1;32min\u001b[0m \u001b[0mpreds\u001b[0m\u001b[1;33m]\u001b[0m\u001b[1;33m\u001b[0m\u001b[0m\n\u001b[0m\u001b[0;32m      2\u001b[0m \u001b[1;31m#len(Rocket.DATA_merged[Rocket.DATA_merged[\"array-batch\"].isin([\"cohort 1\", \"cohort 2\", \"JB\", \"IA\", \"ALL-10\"])])\u001b[0m\u001b[1;33m\u001b[0m\u001b[1;33m\u001b[0m\u001b[0m\n\u001b[0;32m      3\u001b[0m \u001b[0mResults\u001b[0m \u001b[1;33m=\u001b[0m \u001b[0mRocket\u001b[0m\u001b[1;33m.\u001b[0m\u001b[0mDATA_merged_processed\u001b[0m\u001b[1;33m\u001b[0m\u001b[0m\n\u001b[0;32m      4\u001b[0m \u001b[0mResults\u001b[0m\u001b[1;33m[\u001b[0m\u001b[1;34m'pred'\u001b[0m\u001b[1;33m]\u001b[0m \u001b[1;33m=\u001b[0m \u001b[0mpreds\u001b[0m\u001b[1;33m\u001b[0m\u001b[0m\n\u001b[0;32m      5\u001b[0m \u001b[0mprint\u001b[0m\u001b[1;33m(\u001b[0m\u001b[0mResults\u001b[0m\u001b[1;33m[\u001b[0m\u001b[1;33m:\u001b[0m\u001b[1;36m311\u001b[0m\u001b[1;33m]\u001b[0m\u001b[1;33m[\u001b[0m\u001b[1;33m[\u001b[0m\u001b[1;34m'labnr patient'\u001b[0m\u001b[1;33m,\u001b[0m \u001b[1;34m'pred'\u001b[0m\u001b[1;33m,\u001b[0m \u001b[1;34m'Treatment risk group in ALL10'\u001b[0m\u001b[1;33m]\u001b[0m\u001b[1;33m]\u001b[0m\u001b[1;33m)\u001b[0m\u001b[1;33m\u001b[0m\u001b[0m\n",
      "\u001b[1;31mIndexError\u001b[0m: invalid index to scalar variable."
     ]
    }
   ],
   "source": [
    "preds = [pred_[1]for pred_ in preds]\n",
    "#len(Rocket.DATA_merged[Rocket.DATA_merged[\"array-batch\"].isin([\"cohort 1\", \"cohort 2\", \"JB\", \"IA\", \"ALL-10\"])])\n",
    "Results = Rocket.DATA_merged_processed\n",
    "Results['pred'] = preds\n",
    "print(Results[:311][['labnr_patient', 'pred', 'Treatment_risk_group_in_ALL10']])"
   ]
  }
 ],
 "metadata": {
  "kernelspec": {
   "display_name": "Python 3",
   "language": "python",
   "name": "python3"
  },
  "language_info": {
   "codemirror_mode": {
    "name": "ipython",
    "version": 3
   },
   "file_extension": ".py",
   "mimetype": "text/x-python",
   "name": "python",
   "nbconvert_exporter": "python",
   "pygments_lexer": "ipython3",
   "version": "3.5.2"
  }
 },
 "nbformat": 4,
 "nbformat_minor": 2
}
