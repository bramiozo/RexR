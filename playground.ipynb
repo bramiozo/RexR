{
 "cells": [
  {
   "cell_type": "code",
   "execution_count": 1,
   "metadata": {
    "collapsed": false
   },
   "outputs": [
    {
     "name": "stdout",
     "output_type": "stream",
     "text": [
      "++++++++++++++++++++++++++++++ Firing up RexR! ++++++++++++++++++++++++++++++\n"
     ]
    }
   ],
   "source": [
    "import pandas\n",
    "from RexR import *\n",
    "import _helpers\n",
    "Rocket = RexR(datalocation = '/home/bramiozo/DEV/RexR/_data/genomic_data/data.pkl', seed = 3123, debug = True)"
   ]
  },
  {
   "cell_type": "code",
   "execution_count": null,
   "metadata": {
    "collapsed": true
   },
   "outputs": [],
   "source": [
    "##### LOAD IN DATA\n",
    "###################"
   ]
  },
  {
   "cell_type": "code",
   "execution_count": 2,
   "metadata": {
    "collapsed": false
   },
   "outputs": [],
   "source": [
    "Rocket.load_probeset_data();"
   ]
  },
  {
   "cell_type": "code",
   "execution_count": null,
   "metadata": {
    "collapsed": false
   },
   "outputs": [
    {
     "name": "stdout",
     "output_type": "stream",
     "text": [
      "++++++++++++++++++++++++++++++  RESULTS FOR CLASSIFICATION WITH GENOMIC DATA ++++++++++++++++++++++++++++++\n",
      "MODEL: SVM 0.689655172414\n",
      "++++++++++++++++++++++++++++++  Report ++++++++++++++++++++++++++++++\n",
      "             precision    recall  f1-score   support\n",
      "\n",
      "          0       0.76      0.67      0.71        33\n",
      "          1       0.62      0.72      0.67        25\n",
      "\n",
      "avg / total       0.70      0.69      0.69        58\n",
      "\n",
      "MODEL: LogisticRegression 0.689655172414\n",
      "++++++++++++++++++++++++++++++  Report ++++++++++++++++++++++++++++++\n",
      "             precision    recall  f1-score   support\n",
      "\n",
      "          0       0.76      0.67      0.71        33\n",
      "          1       0.62      0.72      0.67        25\n",
      "\n",
      "avg / total       0.70      0.69      0.69        58\n",
      "\n",
      "MODEL: RandomForest 0.637931034483\n",
      "++++++++++++++++++++++++++++++  Report ++++++++++++++++++++++++++++++\n",
      "             precision    recall  f1-score   support\n",
      "\n",
      "          0       0.63      0.88      0.73        33\n",
      "          1       0.67      0.32      0.43        25\n",
      "\n",
      "avg / total       0.65      0.64      0.60        58\n",
      "\n",
      "MODEL: ExtraTrees 0.620689655172\n",
      "++++++++++++++++++++++++++++++  Report ++++++++++++++++++++++++++++++\n",
      "             precision    recall  f1-score   support\n",
      "\n",
      "          0       0.62      0.88      0.73        33\n",
      "          1       0.64      0.28      0.39        25\n",
      "\n",
      "avg / total       0.63      0.62      0.58        58\n",
      "\n",
      "MODEL: GBM 0.672413793103\n",
      "++++++++++++++++++++++++++++++  Report ++++++++++++++++++++++++++++++\n",
      "             precision    recall  f1-score   support\n",
      "\n",
      "          0       0.68      0.79      0.73        33\n",
      "          1       0.65      0.52      0.58        25\n",
      "\n",
      "avg / total       0.67      0.67      0.67        58\n",
      "\n",
      "MODEL: CART 0.655172413793\n",
      "++++++++++++++++++++++++++++++  Report ++++++++++++++++++++++++++++++\n",
      "             precision    recall  f1-score   support\n",
      "\n",
      "          0       0.66      0.82      0.73        33\n",
      "          1       0.65      0.44      0.52        25\n",
      "\n",
      "avg / total       0.65      0.66      0.64        58\n",
      "\n",
      "MODEL: Ensembled 0.706896551724\n",
      "++++++++++++++++++++++++++++++  Report ++++++++++++++++++++++++++++++\n",
      "             precision    recall  f1-score   support\n",
      "\n",
      "          0       0.69      0.88      0.77        33\n",
      "          1       0.75      0.48      0.59        25\n",
      "\n",
      "avg / total       0.72      0.71      0.69        58\n",
      "\n",
      "++++++++++++++++++++++++++++++++++++++++++++++++++\n",
      "++++++++++++++++++++++++++++++  RESULTS FOR CLASSIFICATION INCLUDING PATIENT DATA ++++++++++++++++++++++++++++++\n",
      "---------\n",
      "0.620689655172\n",
      "++++++++++++++++++++++++++++++  Report ++++++++++++++++++++++++++++++\n",
      "             precision    recall  f1-score   support\n",
      "\n",
      "          0       0.62      0.88      0.73        33\n",
      "          1       0.64      0.28      0.39        25\n",
      "\n",
      "avg / total       0.63      0.62      0.58        58\n",
      "\n",
      "0.689655172414\n",
      "++++++++++++++++++++++++++++++  Report ++++++++++++++++++++++++++++++\n",
      "             precision    recall  f1-score   support\n",
      "\n",
      "          0       0.71      0.76      0.74        33\n",
      "          1       0.65      0.60      0.63        25\n",
      "\n",
      "avg / total       0.69      0.69      0.69        58\n",
      "\n",
      "0.637931034483\n",
      "++++++++++++++++++++++++++++++  Report ++++++++++++++++++++++++++++++\n",
      "             precision    recall  f1-score   support\n",
      "\n",
      "          0       0.69      0.67      0.68        33\n",
      "          1       0.58      0.60      0.59        25\n",
      "\n",
      "avg / total       0.64      0.64      0.64        58\n",
      "\n",
      "0.689655172414\n",
      "++++++++++++++++++++++++++++++  Report ++++++++++++++++++++++++++++++\n",
      "             precision    recall  f1-score   support\n",
      "\n",
      "          0       0.68      0.85      0.76        33\n",
      "          1       0.71      0.48      0.57        25\n",
      "\n",
      "avg / total       0.69      0.69      0.68        58\n",
      "\n",
      "0.568965517241\n",
      "++++++++++++++++++++++++++++++  Report ++++++++++++++++++++++++++++++\n",
      "             precision    recall  f1-score   support\n",
      "\n",
      "          0       0.62      0.64      0.63        33\n",
      "          1       0.50      0.48      0.49        25\n",
      "\n",
      "avg / total       0.57      0.57      0.57        58\n",
      "\n",
      "0.551724137931\n",
      "++++++++++++++++++++++++++++++  Report ++++++++++++++++++++++++++++++\n",
      "             precision    recall  f1-score   support\n",
      "\n",
      "          0       0.59      0.70      0.64        33\n",
      "          1       0.47      0.36      0.41        25\n",
      "\n",
      "avg / total       0.54      0.55      0.54        58\n",
      "\n",
      "0.637931034483\n",
      "++++++++++++++++++++++++++++++  Report ++++++++++++++++++++++++++++++\n",
      "             precision    recall  f1-score   support\n",
      "\n",
      "          0       0.64      0.82      0.72        33\n",
      "          1       0.62      0.40      0.49        25\n",
      "\n",
      "avg / total       0.64      0.64      0.62        58\n",
      "\n"
     ]
    }
   ],
   "source": [
    "class_model = Rocket.classify_treatment(model='ensemble', \n",
    "                                              features = 'all', \n",
    "                                              grouping= 'first', \n",
    "                                              n_splits = 10, \n",
    "                                              reduction = None)"
   ]
  },
  {
   "cell_type": "code",
   "execution_count": null,
   "metadata": {
    "collapsed": false
   },
   "outputs": [
    {
     "name": "stdout",
     "output_type": "stream",
     "text": [
      "++++++++++++++++++++++++++++++  RESULTS FOR CLASSIFICATION WITH GENOMIC DATA ++++++++++++++++++++++++++++++\n",
      "MODEL: SVM 0.68115942029\n",
      "++++++++++++++++++++++++++++++  Report ++++++++++++++++++++++++++++++\n",
      "             precision    recall  f1-score   support\n",
      "\n",
      "          0       0.82      0.57      0.68        40\n",
      "          1       0.59      0.83      0.69        29\n",
      "\n",
      "avg / total       0.72      0.68      0.68        69\n",
      "\n",
      "MODEL: LogisticRegression 0.666666666667\n",
      "++++++++++++++++++++++++++++++  Report ++++++++++++++++++++++++++++++\n",
      "             precision    recall  f1-score   support\n",
      "\n",
      "          0       0.79      0.57      0.67        40\n",
      "          1       0.57      0.79      0.67        29\n",
      "\n",
      "avg / total       0.70      0.67      0.67        69\n",
      "\n",
      "MODEL: RandomForest 0.724637681159\n",
      "++++++++++++++++++++++++++++++  Report ++++++++++++++++++++++++++++++\n",
      "             precision    recall  f1-score   support\n",
      "\n",
      "          0       0.71      0.90      0.79        40\n",
      "          1       0.78      0.48      0.60        29\n",
      "\n",
      "avg / total       0.74      0.72      0.71        69\n",
      "\n",
      "MODEL: ExtraTrees 0.63768115942\n",
      "++++++++++++++++++++++++++++++  Report ++++++++++++++++++++++++++++++\n",
      "             precision    recall  f1-score   support\n",
      "\n",
      "          0       0.64      0.88      0.74        40\n",
      "          1       0.64      0.31      0.42        29\n",
      "\n",
      "avg / total       0.64      0.64      0.60        69\n",
      "\n",
      "MODEL: GBM 0.68115942029\n",
      "++++++++++++++++++++++++++++++  Report ++++++++++++++++++++++++++++++\n",
      "             precision    recall  f1-score   support\n",
      "\n",
      "          0       0.69      0.82      0.75        40\n",
      "          1       0.67      0.48      0.56        29\n",
      "\n",
      "avg / total       0.68      0.68      0.67        69\n",
      "\n",
      "MODEL: CART 0.652173913043\n",
      "++++++++++++++++++++++++++++++  Report ++++++++++++++++++++++++++++++\n",
      "             precision    recall  f1-score   support\n",
      "\n",
      "          0       0.69      0.72      0.71        40\n",
      "          1       0.59      0.55      0.57        29\n",
      "\n",
      "avg / total       0.65      0.65      0.65        69\n",
      "\n"
     ]
    }
   ],
   "source": [
    "class_model = Rocket.classify_treatment(model='ensemble', \n",
    "                                              features = 'all', \n",
    "                                              grouping= 'mean', \n",
    "                                              n_splits = 10, \n",
    "                                              reduction = None)"
   ]
  },
  {
   "cell_type": "code",
   "execution_count": null,
   "metadata": {
    "collapsed": true
   },
   "outputs": [],
   "source": [
    "class_model = Rocket.classify_treatment(model='ensemble', \n",
    "                                              features = 'all', \n",
    "                                              grouping= 'min', \n",
    "                                              n_splits = 10, \n",
    "                                              reduction = None)"
   ]
  }
 ],
 "metadata": {
  "kernelspec": {
   "display_name": "py35",
   "language": "python",
   "name": "py35"
  },
  "language_info": {
   "codemirror_mode": {
    "name": "ipython",
    "version": 3
   },
   "file_extension": ".py",
   "mimetype": "text/x-python",
   "name": "python",
   "nbconvert_exporter": "python",
   "pygments_lexer": "ipython3",
   "version": "3.5.2"
  }
 },
 "nbformat": 4,
 "nbformat_minor": 2
}
