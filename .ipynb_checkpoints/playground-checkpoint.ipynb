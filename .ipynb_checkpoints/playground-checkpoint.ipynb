{
 "cells": [
  {
   "cell_type": "code",
   "execution_count": 1,
   "metadata": {},
   "outputs": [
    {
     "name": "stdout",
     "output_type": "stream",
     "text": [
      "++++++++++++++++++++++++++++++ Firing up RexR! ++++++++++++++++++++++++++++++\n"
     ]
    }
   ],
   "source": [
    "import pandas\n",
    "import numpy\n",
    "from RexR import *\n",
    "import _helpers\n",
    "Rocket = RexR(datalocation = '/home/bramiozo/DEV/RexR/_data/genomic_data/data.pkl', seed = 3123, debug = True)\n",
    "Rocket.load_probeset_data();"
   ]
  },
  {
   "cell_type": "code",
   "execution_count": 58,
   "metadata": {
    "collapsed": true
   },
   "outputs": [],
   "source": [
    "from math import*\n",
    "#from scipy.spatial.distance import cosine\n",
    "from scipy.spatial.distance import minkowski\n",
    "from scipy.spatial.distance import cdist\n",
    "from decimal import Decimal\n",
    "from sklearn.metrics.pairwise import cosine_similarity\n",
    "from scipy import sparse\n",
    "from time import time\n",
    "from sklearn.cluster import AffinityPropagation\n",
    "import matplotlib.pyplot as plt\n",
    "from itertools import cycle"
   ]
  },
  {
   "cell_type": "code",
   "execution_count": 3,
   "metadata": {
    "collapsed": true
   },
   "outputs": [],
   "source": [
    "TransPosed = Rocket.DATA_all_samples.T\n",
    "Normal = Rocket.DATA_all_samples\n",
    "#probeset_weights = Rocket.get_probeset_weights(method = )"
   ]
  },
  {
   "cell_type": "code",
   "execution_count": 5,
   "metadata": {},
   "outputs": [
    {
     "ename": "ValueError",
     "evalue": "incompatible dimensions for cross product\n(dimension must be 2 or 3)",
     "output_type": "error",
     "traceback": [
      "\u001b[0;31m---------------------------------------------------------------------------\u001b[0m",
      "\u001b[0;31mValueError\u001b[0m                                Traceback (most recent call last)",
      "\u001b[0;32m<ipython-input-5-b647d903dfb6>\u001b[0m in \u001b[0;36m<module>\u001b[0;34m()\u001b[0m\n\u001b[1;32m      5\u001b[0m     \u001b[0;32mreturn\u001b[0m \u001b[0mnorm_of_rotation\u001b[0m\u001b[0;34m\u001b[0m\u001b[0m\n\u001b[1;32m      6\u001b[0m \u001b[0;34m\u001b[0m\u001b[0m\n\u001b[0;32m----> 7\u001b[0;31m \u001b[0mrotation_norm\u001b[0m\u001b[0;34m(\u001b[0m\u001b[0mTransPosed\u001b[0m\u001b[0;34m[\u001b[0m\u001b[0;34m'9827_corr2.CEL'\u001b[0m\u001b[0;34m]\u001b[0m\u001b[0;34m,\u001b[0m \u001b[0mTransPosed\u001b[0m\u001b[0;34m[\u001b[0m\u001b[0;34m'9928_corr2.CEL'\u001b[0m\u001b[0;34m]\u001b[0m\u001b[0;34m,\u001b[0m \u001b[0;36m2\u001b[0m\u001b[0;34m)\u001b[0m\u001b[0;34m\u001b[0m\u001b[0m\n\u001b[0m",
      "\u001b[0;32m<ipython-input-5-b647d903dfb6>\u001b[0m in \u001b[0;36mrotation_norm\u001b[0;34m(x, y, norm)\u001b[0m\n\u001b[1;32m      1\u001b[0m \u001b[0;31m# l-2 norm of rotation vectors\u001b[0m\u001b[0;34m\u001b[0m\u001b[0;34m\u001b[0m\u001b[0m\n\u001b[1;32m      2\u001b[0m \u001b[0;32mdef\u001b[0m \u001b[0mrotation_norm\u001b[0m\u001b[0;34m(\u001b[0m\u001b[0mx\u001b[0m\u001b[0;34m,\u001b[0m \u001b[0my\u001b[0m\u001b[0;34m,\u001b[0m \u001b[0mnorm\u001b[0m\u001b[0;34m)\u001b[0m\u001b[0;34m:\u001b[0m\u001b[0;34m\u001b[0m\u001b[0m\n\u001b[0;32m----> 3\u001b[0;31m     \u001b[0mrot_vector\u001b[0m \u001b[0;34m=\u001b[0m \u001b[0mnumpy\u001b[0m\u001b[0;34m.\u001b[0m\u001b[0mcross\u001b[0m\u001b[0;34m(\u001b[0m\u001b[0ma\u001b[0m \u001b[0;34m=\u001b[0m \u001b[0mx\u001b[0m\u001b[0;34m,\u001b[0m \u001b[0mb\u001b[0m \u001b[0;34m=\u001b[0m \u001b[0my\u001b[0m\u001b[0;34m)\u001b[0m\u001b[0;34m\u001b[0m\u001b[0m\n\u001b[0m\u001b[1;32m      4\u001b[0m     \u001b[0mnorm_of_rotation\u001b[0m \u001b[0;34m=\u001b[0m \u001b[0mnumpy\u001b[0m\u001b[0;34m.\u001b[0m\u001b[0mlinalg\u001b[0m\u001b[0;34m.\u001b[0m\u001b[0mnorm\u001b[0m\u001b[0;34m(\u001b[0m\u001b[0mrot_vector\u001b[0m\u001b[0;34m,\u001b[0m \u001b[0mord\u001b[0m \u001b[0;34m=\u001b[0m \u001b[0mnorm\u001b[0m\u001b[0;34m)\u001b[0m\u001b[0;34m\u001b[0m\u001b[0m\n\u001b[1;32m      5\u001b[0m     \u001b[0;32mreturn\u001b[0m \u001b[0mnorm_of_rotation\u001b[0m\u001b[0;34m\u001b[0m\u001b[0m\n",
      "\u001b[0;32m/usr/local/lib/python3.5/dist-packages/numpy/core/numeric.py\u001b[0m in \u001b[0;36mcross\u001b[0;34m(a, b, axisa, axisb, axisc, axis)\u001b[0m\n\u001b[1;32m   1767\u001b[0m            \"(dimension must be 2 or 3)\")\n\u001b[1;32m   1768\u001b[0m     \u001b[0;32mif\u001b[0m \u001b[0ma\u001b[0m\u001b[0;34m.\u001b[0m\u001b[0mshape\u001b[0m\u001b[0;34m[\u001b[0m\u001b[0;34m-\u001b[0m\u001b[0;36m1\u001b[0m\u001b[0;34m]\u001b[0m \u001b[0;32mnot\u001b[0m \u001b[0;32min\u001b[0m \u001b[0;34m(\u001b[0m\u001b[0;36m2\u001b[0m\u001b[0;34m,\u001b[0m \u001b[0;36m3\u001b[0m\u001b[0;34m)\u001b[0m \u001b[0;32mor\u001b[0m \u001b[0mb\u001b[0m\u001b[0;34m.\u001b[0m\u001b[0mshape\u001b[0m\u001b[0;34m[\u001b[0m\u001b[0;34m-\u001b[0m\u001b[0;36m1\u001b[0m\u001b[0;34m]\u001b[0m \u001b[0;32mnot\u001b[0m \u001b[0;32min\u001b[0m \u001b[0;34m(\u001b[0m\u001b[0;36m2\u001b[0m\u001b[0;34m,\u001b[0m \u001b[0;36m3\u001b[0m\u001b[0;34m)\u001b[0m\u001b[0;34m:\u001b[0m\u001b[0;34m\u001b[0m\u001b[0m\n\u001b[0;32m-> 1769\u001b[0;31m         \u001b[0;32mraise\u001b[0m \u001b[0mValueError\u001b[0m\u001b[0;34m(\u001b[0m\u001b[0mmsg\u001b[0m\u001b[0;34m)\u001b[0m\u001b[0;34m\u001b[0m\u001b[0m\n\u001b[0m\u001b[1;32m   1770\u001b[0m \u001b[0;34m\u001b[0m\u001b[0m\n\u001b[1;32m   1771\u001b[0m     \u001b[0;31m# Create the output array\u001b[0m\u001b[0;34m\u001b[0m\u001b[0;34m\u001b[0m\u001b[0m\n",
      "\u001b[0;31mValueError\u001b[0m: incompatible dimensions for cross product\n(dimension must be 2 or 3)"
     ]
    }
   ],
   "source": [
    "# l-2 norm of rotation vectors\n",
    "    # reduce to 3 dimensions\n",
    "    #########################\n",
    "def dim_reduction(x, reduction_type = 'PCA', dims = 3):\n",
    "    # PCA/SVD/SOM/t-SNE/autoencoder\n",
    "    \n",
    "def rotation_norm(x, y, norm):   \n",
    "    rot_vector = numpy.cross(a = x, b = y)\n",
    "    norm_of_rotation = numpy.linalg.norm(rot_vector, ord = norm)\n",
    "    return norm_of_rotation\n",
    "\n",
    "reduced = dim_reduction(Transposed, dims = 3)\n",
    "rotation_norm(reduced['9827_corr2.CEL'], reduced['9928_corr2.CEL'], 2)"
   ]
  },
  {
   "cell_type": "code",
   "execution_count": 117,
   "metadata": {},
   "outputs": [
    {
     "ename": "KeyboardInterrupt",
     "evalue": "",
     "output_type": "error",
     "traceback": [
      "\u001b[0;31m---------------------------------------------------------------------------\u001b[0m",
      "\u001b[0;31mKeyboardInterrupt\u001b[0m                         Traceback (most recent call last)",
      "\u001b[0;32m<ipython-input-117-66a4631bb1f1>\u001b[0m in \u001b[0;36m<module>\u001b[0;34m()\u001b[0m\n\u001b[1;32m     12\u001b[0m     \u001b[0;32mfor\u001b[0m \u001b[0mvar_y\u001b[0m \u001b[0;32min\u001b[0m \u001b[0mVarList\u001b[0m\u001b[0;34m:\u001b[0m\u001b[0;34m\u001b[0m\u001b[0m\n\u001b[1;32m     13\u001b[0m         \u001b[0;31m#sim_value = (minkowski_distance(TransPosed[var_x], TransPosed[var_y], 1))**inflation\u001b[0m\u001b[0;34m\u001b[0m\u001b[0;34m\u001b[0m\u001b[0m\n\u001b[0;32m---> 14\u001b[0;31m         \u001b[0msim_value\u001b[0m \u001b[0;34m=\u001b[0m \u001b[0mminkowski\u001b[0m\u001b[0;34m(\u001b[0m\u001b[0mu\u001b[0m \u001b[0;34m=\u001b[0m \u001b[0mTransPosed\u001b[0m\u001b[0;34m[\u001b[0m\u001b[0mvar_x\u001b[0m\u001b[0;34m]\u001b[0m\u001b[0;34m,\u001b[0m \u001b[0mv\u001b[0m \u001b[0;34m=\u001b[0m \u001b[0mTransPosed\u001b[0m\u001b[0;34m[\u001b[0m\u001b[0mvar_y\u001b[0m\u001b[0;34m]\u001b[0m\u001b[0;34m,\u001b[0m \u001b[0mp\u001b[0m \u001b[0;34m=\u001b[0m\u001b[0;36m1\u001b[0m\u001b[0;34m)\u001b[0m\u001b[0;34m\u001b[0m\u001b[0m\n\u001b[0m\u001b[1;32m     15\u001b[0m         \u001b[0mrow\u001b[0m\u001b[0;34m.\u001b[0m\u001b[0mappend\u001b[0m\u001b[0;34m(\u001b[0m\u001b[0msim_value\u001b[0m\u001b[0;34m)\u001b[0m\u001b[0;34m\u001b[0m\u001b[0m\n\u001b[1;32m     16\u001b[0m         \u001b[0mj\u001b[0m \u001b[0;34m=\u001b[0m \u001b[0mj\u001b[0m \u001b[0;34m+\u001b[0m \u001b[0;36m1\u001b[0m\u001b[0;34m\u001b[0m\u001b[0m\n",
      "\u001b[0;32m/usr/local/lib/python3.5/dist-packages/scipy/spatial/distance.py\u001b[0m in \u001b[0;36mminkowski\u001b[0;34m(u, v, p)\u001b[0m\n\u001b[1;32m    366\u001b[0m     \u001b[0;32mif\u001b[0m \u001b[0mp\u001b[0m \u001b[0;34m<\u001b[0m \u001b[0;36m1\u001b[0m\u001b[0;34m:\u001b[0m\u001b[0;34m\u001b[0m\u001b[0m\n\u001b[1;32m    367\u001b[0m         \u001b[0;32mraise\u001b[0m \u001b[0mValueError\u001b[0m\u001b[0;34m(\u001b[0m\u001b[0;34m\"p must be at least 1\"\u001b[0m\u001b[0;34m)\u001b[0m\u001b[0;34m\u001b[0m\u001b[0m\n\u001b[0;32m--> 368\u001b[0;31m     \u001b[0mdist\u001b[0m \u001b[0;34m=\u001b[0m \u001b[0mnorm\u001b[0m\u001b[0;34m(\u001b[0m\u001b[0mu\u001b[0m \u001b[0;34m-\u001b[0m \u001b[0mv\u001b[0m\u001b[0;34m,\u001b[0m \u001b[0mord\u001b[0m\u001b[0;34m=\u001b[0m\u001b[0mp\u001b[0m\u001b[0;34m)\u001b[0m\u001b[0;34m\u001b[0m\u001b[0m\n\u001b[0m\u001b[1;32m    369\u001b[0m     \u001b[0;32mreturn\u001b[0m \u001b[0mdist\u001b[0m\u001b[0;34m\u001b[0m\u001b[0m\n\u001b[1;32m    370\u001b[0m \u001b[0;34m\u001b[0m\u001b[0m\n",
      "\u001b[0;31mKeyboardInterrupt\u001b[0m: "
     ]
    }
   ],
   "source": [
    "VarList = TransPosed.keys()\n",
    "output = pandas.DataFrame()\n",
    "count = 0\n",
    "i = 0\n",
    "j = 0\n",
    "lim = len(VarList) \n",
    "inflation = 1\n",
    "start = time()\n",
    "for var_x in VarList:\n",
    "    row = []\n",
    "    j = 0\n",
    "    for var_y in VarList:\n",
    "        #sim_value = (minkowski_distance(TransPosed[var_x], TransPosed[var_y], 1))**inflation\n",
    "        sim_value = minkowski(u = TransPosed[var_x], v = TransPosed[var_y], p =1)\n",
    "        row.append(sim_value)        \n",
    "        j = j + 1\n",
    "        if(j>lim): break\n",
    "    i = i + 1\n",
    "    if(i>lim): break\n",
    "    count = count + 1\n",
    "    #print(\" Processed similarity for:\", var_x, len(VarList)-count, \" more to go\")\n",
    "    row_ts = pandas.Series(row)\n",
    "    row_ts.name = var_x\n",
    "    output = output.append(row_ts)\n",
    "print(\"runtime is\", time()-start)\n",
    "output.columns= VarList[:lim+1]\n",
    "output[:5]"
   ]
  },
  {
   "cell_type": "code",
   "execution_count": 4,
   "metadata": {
    "collapsed": true
   },
   "outputs": [],
   "source": [
    "# get patient similarity\n",
    "#########################\n",
    "\n",
    "\n",
    "def patient_similarity(patient_matrix, sim_type = 'cosine', minkowski_dim = None, normalised = True, inflation = 1):\n",
    "    ''' Function to get similarity measures between patients  \n",
    "        Variables:\n",
    "            patient_matrix : dataframe with patient 1..N as columns and genome expressions 1..M as rows.\n",
    "            sim_type : type of similarity measure\n",
    "                values : 'cosine', 'manhattan', 'euclidian', 'minkowski', 'kendall', 'spearman', 'pearson',\n",
    "                ‘braycurtis’, ‘canberra’, ‘chebyshev’, ‘dice’,‘hamming’, ‘jaccard’, ‘kulsinski’, ‘mahalanobis’, \n",
    "                ‘matching’, ‘rogerstanimoto’, ‘russellrao’, ‘seuclidean’, ‘sokalmichener’, ‘sokalsneath’\n",
    "            minkowski_dim : dimensionality of minkowski space\n",
    "                values : 3,4...inf (1= is manhattan, 2=euclidian)\n",
    "            normalised : boolean\n",
    "        output : \n",
    "            similarity matrix (DataFrame)       \n",
    "    '''\n",
    "    if (sim_type in ['cosine', 'manhattan', 'euclidian', 'minkowski', 'braycurtis', 'canberra', 'chebyshev', 'dice','hamming', 'jaccard', 'kulsinski', 'mahalanobis', \n",
    "                'matching', 'rogerstanimoto', 'russellrao', 'seuclidean', '‘sokalmichener', 'sokalsneath']):\n",
    "        A = numpy.array(patient_matrix)\n",
    "    else:\n",
    "        A = None\n",
    "    VarList = patient_matrix.T.keys()\n",
    "    if(sim_type == 'cosine'):        \n",
    "        similarities = cdist(A, A, metric = 'cosine')\n",
    "        patient_similarity = pandas.DataFrame(similarities, index = VarList, columns = VarList)\n",
    "    elif(sim_type == 'manhattan'):\n",
    "        similarities = cdist(A, A, metric = 'cityblock')\n",
    "        patient_similarity = pandas.DataFrame(similarities, index = VarList, columns = VarList)        \n",
    "    elif(sim_type == 'euclidian'):\n",
    "        similarities = cdist(A, A, metric = 'euclidean')\n",
    "        patient_similarity = pandas.DataFrame(similarities, index = VarList, columns = VarList)\n",
    "    elif(sim_type == 'minkowski'):\n",
    "        if (minkowski_dim == None):\n",
    "            print(\"No Minkowski dimension given! Assuming minkowski dim is 3\")\n",
    "            minkowski_dim = 3\n",
    "        similarities = cdist(A, A, metric = 'minkowski', p = minkowski_dim)\n",
    "        patient_similarity = pandas.DataFrame(similarities, index = VarList, columns = VarList)       \n",
    "    elif(sim_type in ['kendall', 'spearman', 'pearson']):\n",
    "        patient_similarity = 1-patient_matrix.T.astype('float64').corr(method = sim_type)    \n",
    "    elif(sim_type in ['braycurtis', 'canberra', 'chebyshev', 'dice','hamming', 'jaccard', 'kulsinski', 'mahalanobis', \n",
    "                'matching', 'rogerstanimoto', 'russellrao', 'seuclidean', '‘sokalmichener', 'sokalsneath']):\n",
    "        similarities = cdist(A, A, metric = sim_type)\n",
    "        patient_similarity = pandas.DataFrame(similarities, index = VarList, columns = VarList)       \n",
    "    ###\n",
    "    if inflation > 1:\n",
    "        patient_similarity = patient_similarity**inflation\n",
    "    ###                                                               \n",
    "    if normalised == True: # ! IMPROVE, not memory efficient\n",
    "        patient_similarity = (patient_similarity - min(patient_similarity.min()))/(max(patient_similarity.max())-min(patient_similarity.min()))\n",
    "    \n",
    "    patient_similarity = 1 - patient_similarity\n",
    "    ###\n",
    "    return patient_similarity"
   ]
  },
  {
   "cell_type": "code",
   "execution_count": 82,
   "metadata": {
    "collapsed": true
   },
   "outputs": [],
   "source": [
    "patient_sim = patient_similarity(Normal, sim_type = 'cosine', normalised = True)"
   ]
  },
  {
   "cell_type": "code",
   "execution_count": 40,
   "metadata": {
    "collapsed": true
   },
   "outputs": [],
   "source": [
    "##### apply Markov clustering\n",
    "#######################\n",
    "# non-distributed, non-sparse version, only for small-sized problems (N is order 1000)\n",
    "e = 4\n",
    "r = 2 \n",
    "epsilon = 1e-5\n",
    "convergence = 0.001\n",
    "num_iter = 8\n",
    "Orientation = 'col' # columnwise or rowwise\n",
    "\n",
    "# add loop\n",
    "def add_loop(df_matrix, value=0): \n",
    "    for i in df_matrix.index:\n",
    "        df_matrix.loc[i, i] = value\n",
    "    return df_matrix\n",
    "patient_sim = add_loop(patient_sim, 1)\n",
    "patient_sim = patient_sim - epsilon\n",
    "\n",
    "def normalise(sim, type = 'col'):\n",
    "    if(type == 'col'):\n",
    "        # column normalisation\n",
    "        for variable in sim.keys():\n",
    "            col_vec = sim[variable]\n",
    "            sum_val = sum([p for p in col_vec])\n",
    "            sim[variable] = sim[variable]/sum_val\n",
    "    elif (type == 'row'):\n",
    "        # row normalisation\n",
    "        for variable in sim.keys():\n",
    "            row_vec = sim.loc[variable, :]\n",
    "            sum_val = sum([p for p in row_vec])\n",
    "            sim.loc[variable,:] = sim.loc[variable,:]/sum_val\n",
    "    return sim\n",
    "\n",
    "# step E: expansion, raise each element by the eth power\n",
    "def expansion(sim):\n",
    "    if e == 1:\n",
    "        return sim\n",
    "    elif e == 2:\n",
    "        return sim.dot(sim)\n",
    "    elif e == 3:\n",
    "        return sim.dot(sim).dot(sim)\n",
    "    elif e == 4:\n",
    "        return sim.dot(sim).dot(sim).dot(sim)\n",
    "    elif e == 5:\n",
    "        return sim.dot(sim).dot(sim).dot(sim).dot(sim)\n",
    "     \n",
    "# step I: inflation, per column raise by rth power and column normalise\n",
    "def inflation(sim, type = 'col'):    \n",
    "    if type == 'col':\n",
    "        Axis = 0\n",
    "    elif type == 'row':\n",
    "        Axis = 1\n",
    "    return sim.apply(lambda x: x**r/sum(x**r), axis = Axis)\n",
    "\n",
    "# remove weak connections, values < epsilon\n",
    "def clean(sim):\n",
    "    return sim.applymap(lambda x:0 if x<epsilon else x)\n",
    "    \n",
    "def difference(old, new):\n",
    "    # relative zeroes over entire array\n",
    "    #return (new.apply(lambda x: numpy.ceil(x-epsilon)) - old.apply(lambda x: numpy.ceil(x-epsilon))).sum().sum()/len(old)**2    \n",
    "    return abs(new - old).sum().sum()/len(old)**2    \n",
    "\n",
    "#patient_sim = normalise(patient_sim, type = Orientation)\n",
    "_sim_a = patient_sim\n",
    "for i in range(0,num_iter):\n",
    "    # repeat E and I until convergence, the row-wise elements form the clusters.\n",
    "    _sim_b = expansion(_sim_a)\n",
    "    _sim_b = inflation(_sim_b, type = Orientation)\n",
    "    _sim_b = clean(_sim_b)\n",
    "    #if ((difference(_sim_a, _sim_b)) < convergence) & (i>0):\n",
    "    #    print(difference(_sim_a, _sim_b))\n",
    "    #    print(\"CONVERGED after \", i, \" iterations\")\n",
    "    #    break;\n",
    "    _sim_a = _sim_b\n",
    "\n",
    "result_mcl = clean(_sim_b)\n",
    "#result_mcl.loc[result['9827_corr2.CEL']>0, '9827_corr2.CEL']\n",
    "# fetch clusters\n",
    "#############\n"
   ]
  },
  {
   "cell_type": "code",
   "execution_count": 89,
   "metadata": {
    "collapsed": true
   },
   "outputs": [],
   "source": [
    "##### apply Affinity Propagation\n",
    "#######################\n",
    "X = numpy.array(patient_sim)\n",
    "af = AffinityPropagation(preference=-50).fit(X)\n",
    "cluster_centers_indices = af.cluster_centers_indices_\n",
    "cluster_labels = af.labels_\n",
    "n_clusters_ = len(cluster_centers_indices)\n"
   ]
  },
  {
   "cell_type": "code",
   "execution_count": null,
   "metadata": {
    "collapsed": true
   },
   "outputs": [],
   "source": [
    "##### apply eigenvector centrality\n",
    "########################\n"
   ]
  },
  {
   "cell_type": "code",
   "execution_count": 93,
   "metadata": {},
   "outputs": [
    {
     "name": "stderr",
     "output_type": "stream",
     "text": [
      "/usr/local/lib/python3.5/dist-packages/ipykernel_launcher.py:4: SettingWithCopyWarning: \n",
      "A value is trying to be set on a copy of a slice from a DataFrame.\n",
      "Try using .loc[row_indexer,col_indexer] = value instead\n",
      "\n",
      "See the caveats in the documentation: http://pandas.pydata.org/pandas-docs/stable/indexing.html#indexing-view-versus-copy\n",
      "  after removing the cwd from sys.path.\n"
     ]
    }
   ],
   "source": [
    "AggResults = Rocket.DATA_merged\n",
    "AggResults = _helpers._preprocess(AggResults)\n",
    "AggResults = _helpers._group_patients(AggResults, method = 'mean')\n",
    "AggResults['cluster_ap'] = cluster_labels"
   ]
  },
  {
   "cell_type": "code",
   "execution_count": 84,
   "metadata": {},
   "outputs": [
    {
     "name": "stdout",
     "output_type": "stream",
     "text": [
      "Cluster centers: ['KGK_Tall_JL_7418.CEL' 'T-ALL_JB_419vr.CEL' '2780.CEL' '8639.CEL']\n",
      "[3 3 3 0 0 1 0 0 1 1 0 1 1 0 0 0 0 1 0 1 1 0 0 0 1 0 1 1 0 1 1 1 0 1 1 1 1\n",
      " 1 1 0 1 1 0 0 1 1 1 0 0 1 1 1 1 3 3 1 1 0 0 1 1 1 0 0 1 1 1 1 1 3 3 1 3 1\n",
      " 1 1 1 1 3 1 1 3 3 3 3 2 1 3 2 3 2 2 3 3 1 3 3 3 3 3 3 2 2 2 3 3 3 1 3 2 3\n",
      " 3 2 3 3 3 3 3 2 3 2 3 3 1 3 3 2 3 3 2 2 2 3 3 2 3 3 3 3 3 2 3 1 0 1 3 3 3\n",
      " 3 3 2 3 2 3 3 3 3 2 1 3 2 3 3 1 1 3 3 3 3 3 3 3 1 3 1 3 3 3 3 3 3 3 3 3 3\n",
      " 3 3 3 3 3 3 3 3 3 3 3 3 3 3 3 3 3 3 1 1 0 1 1 1 1 1 1 0 1 1 1 3 1 3 1 1 1\n",
      " 1 1 1 1 1 1 1 1 0 0 1 1 0 1 1 3 1 1 1 1 1 1 1 3 1 3 1 1 1 1 0 0 0 1 1 0 1\n",
      " 1 1 1 0 1 0 1 1 1 0 0 1 0 1 0 1 1 1 3 1 1 1 0 1 3 1 0 0 0 1 0 1 1 1 0 1 0\n",
      " 0 1 1 1 1 1 0 0 3 1 0 0 0 3 0]\n"
     ]
    },
    {
     "data": {
      "image/png": "[encoded data removed]",
      "text/plain": [
       "<matplotlib.figure.Figure at 0x7efd3e018908>"
      ]
     },
     "metadata": {},
     "output_type": "display_data"
    }
   ],
   "source": [
    "print(\"Cluster centers:\",patient_sim.keys()[cluster_centers_indices].values)\n",
    "print(labels)\n",
    "\n",
    "plt.close('all')\n",
    "plt.figure(figsize=(14,9))\n",
    "plt.clf()\n",
    "\n",
    "colors = cycle('bgrcmykbgrcmykbgrcmykbgrcmyk')\n",
    "for k, col in zip(range(n_clusters_), colors):\n",
    "    class_members = labels == k\n",
    "    cluster_center = X[cluster_centers_indices[k]]\n",
    "    plt.plot(X[class_members, 0], X[class_members, 1], col + '.', \n",
    "             label = patient_sim.keys()[cluster_centers_indices[k]])\n",
    "    plt.plot(cluster_center[0], cluster_center[1], 'o', markerfacecolor=col,\n",
    "             markeredgecolor='k', markersize=14)\n",
    "    for x in X[class_members]:\n",
    "        plt.plot([cluster_center[0], x[0]], [cluster_center[1], x[1]], col)\n",
    "\n",
    "plt.legend()\n",
    "        \n",
    "plt.title('Estimated number of clusters from Affinity Propagation: %d' % n_clusters_)\n",
    "plt.show()"
   ]
  },
  {
   "cell_type": "code",
   "execution_count": null,
   "metadata": {
    "collapsed": true
   },
   "outputs": [],
   "source": [
    "##### CREATE graph from similarity matrix\n",
    "##################\n",
    "# nodes\n",
    "VarList = TransPosed.keys()\n",
    "nodes = []\n",
    "node_index = 0\n",
    "for patient_name in VarList:\n",
    "    nodes.append((node_index, {'name': patient_name}))\n",
    "    node_index = node_index + 1\n",
    "\n",
    "edges = []\n",
    "# edges\n",
    "node_index_x = 0\n",
    "node_index_y = 0\n",
    "for patient_name_x in VarList:\n",
    "    for patient_name_y in VarList:\n",
    "        edges.append((node_index_x, node_index_y, Transposed.iloc[node_index_x, node_index_y]))\n",
    "        node_index_y = node_index_y + 1\n",
    "    node_index_x = node_index_x + 1"
   ]
  },
  {
   "cell_type": "code",
   "execution_count": 21,
   "metadata": {},
   "outputs": [
    {
     "data": {
      "text/plain": [
       "{0: {'weight': 2.0}, 3: {'weight': 9.0}}"
      ]
     },
     "execution_count": 21,
     "metadata": {},
     "output_type": "execute_result"
    }
   ],
   "source": [
    "import networkx as nx\n",
    "G = nx.Graph()\n",
    "G.add_nodes_from(nodes)\n",
    "G.add_weighted_edges_from(edges, weight = 'weight')\n",
    "##### apply Spring-force\n",
    "#######################\n",
    "pos = nx.spring_layout(G, k = None, dim = 2, scale = 1.0)\n"
   ]
  },
  {
   "cell_type": "code",
   "execution_count": 2,
   "metadata": {
    "collapsed": true
   },
   "outputs": [],
   "source": [
    "##### LOAD IN DATA\n",
    "###################"
   ]
  },
  {
   "cell_type": "code",
   "execution_count": 9,
   "metadata": {
    "scrolled": true
   },
   "outputs": [
    {
     "name": "stdout",
     "output_type": "stream",
     "text": [
      "+ + + + + + + + + + + + + + + + + + + + + + + + + + + + + +  Prepping data, this may take a while..\n",
      "- - - - - - - - - - - - - - - - - - - - - - - - - - - - - -  Grouping probesets\n",
      "+ + + + + + + + + + + + + + + + + + + + + + + + + + + + + +  Creating X,y\n",
      "++++++++++++++++++++++++++++++  RESULTS FOR CLASSIFICATION WITH GENOMIC DATA ++++++++++++++++++++++++++++++\n",
      "MODEL: GNB accuracy:  0.666666666667 +/-: 0.0238095238095\n",
      "++++++++++++++++++++++++++++++  Report ++++++++++++++++++++++++++++++\n",
      "             precision    recall  f1-score   support\n",
      "\n",
      "          0       0.72      0.70      0.71        40\n",
      "          1       0.60      0.62      0.61        29\n",
      "\n",
      "avg / total       0.67      0.67      0.67        69\n",
      "\n",
      "MODEL: SVM accuracy:  0.521739130435 +/-: 0.0166081555496\n",
      "++++++++++++++++++++++++++++++  Report ++++++++++++++++++++++++++++++\n",
      "             precision    recall  f1-score   support\n",
      "\n",
      "          0       0.55      0.90      0.69        40\n",
      "          1       0.00      0.00      0.00        29\n",
      "\n",
      "avg / total       0.32      0.52      0.40        69\n",
      "\n",
      "MODEL: LogisticRegression accuracy:  0.753623188406 +/-: 0.0452335943829\n",
      "++++++++++++++++++++++++++++++  Report ++++++++++++++++++++++++++++++\n",
      "             precision    recall  f1-score   support\n",
      "\n",
      "          0       0.77      0.82      0.80        40\n",
      "          1       0.73      0.66      0.69        29\n",
      "\n",
      "avg / total       0.75      0.75      0.75        69\n",
      "\n",
      "MODEL: RandomForest accuracy:  0.710144927536 +/-: 0.040552705014\n",
      "++++++++++++++++++++++++++++++  Report ++++++++++++++++++++++++++++++\n",
      "             precision    recall  f1-score   support\n",
      "\n",
      "          0       0.69      0.93      0.79        40\n",
      "          1       0.80      0.41      0.55        29\n",
      "\n",
      "avg / total       0.73      0.71      0.69        69\n",
      "\n",
      "MODEL: ExtraTrees accuracy:  0.695652173913 +/-: 0.0174483151799\n",
      "++++++++++++++++++++++++++++++  Report ++++++++++++++++++++++++++++++\n",
      "             precision    recall  f1-score   support\n",
      "\n",
      "          0       0.68      0.90      0.77        40\n",
      "          1       0.75      0.41      0.53        29\n",
      "\n",
      "avg / total       0.71      0.70      0.67        69\n",
      "\n",
      "MODEL: GBM accuracy:  0.797101449275 +/-: 0.033711405167\n",
      "++++++++++++++++++++++++++++++  Report ++++++++++++++++++++++++++++++\n",
      "             precision    recall  f1-score   support\n",
      "\n",
      "          0       0.81      0.85      0.83        40\n",
      "          1       0.78      0.72      0.75        29\n",
      "\n",
      "avg / total       0.80      0.80      0.80        69\n",
      "\n",
      "MODEL: CART accuracy:  0.782608695652 +/-: 0.0131274942239\n",
      "++++++++++++++++++++++++++++++  Report ++++++++++++++++++++++++++++++\n",
      "             precision    recall  f1-score   support\n",
      "\n",
      "          0       0.82      0.80      0.81        40\n",
      "          1       0.73      0.76      0.75        29\n",
      "\n",
      "avg / total       0.78      0.78      0.78        69\n",
      "\n",
      "MODEL: Ensembled accuracy:  0.753623188406 +/-: 0.0328112341345\n",
      "++++++++++++++++++++++++++++++  Report ++++++++++++++++++++++++++++++\n",
      "             precision    recall  f1-score   support\n",
      "\n",
      "          0       0.76      0.85      0.80        40\n",
      "          1       0.75      0.62      0.68        29\n",
      "\n",
      "avg / total       0.75      0.75      0.75        69\n",
      "\n",
      "++++++++++++++++++++++++++++++++++++++++++++++++++\n",
      "++++++++++++++++++++++++++++++  RESULTS FOR CLASSIFICATION INCLUDING PATIENT DATA ++++++++++++++++++++++++++++++\n",
      "---------\n",
      "MODEL: GNB accuracy:  0.782608695652 +/-: 0.0296906412218\n",
      "++++++++++++++++++++++++++++++  Report ++++++++++++++++++++++++++++++\n",
      "             precision    recall  f1-score   support\n",
      "\n",
      "          0       0.80      0.82      0.81        40\n",
      "          1       0.75      0.72      0.74        29\n",
      "\n",
      "avg / total       0.78      0.78      0.78        69\n",
      "\n"
     ]
    },
    {
     "name": "stderr",
     "output_type": "stream",
     "text": [
      "/usr/local/lib/python3.5/dist-packages/pandas/core/frame.py:2440: SettingWithCopyWarning: \n",
      "A value is trying to be set on a copy of a slice from a DataFrame.\n",
      "Try using .loc[row_indexer,col_indexer] = value instead\n",
      "\n",
      "See the caveats in the documentation: http://pandas.pydata.org/pandas-docs/stable/indexing.html#indexing-view-versus-copy\n",
      "  self[k1] = value[k2]\n"
     ]
    },
    {
     "name": "stdout",
     "output_type": "stream",
     "text": [
      "MODEL: SVM accuracy:  0.594202898551 +/-: 0.0054460347466\n",
      "++++++++++++++++++++++++++++++  Report ++++++++++++++++++++++++++++++\n",
      "             precision    recall  f1-score   support\n",
      "\n",
      "          0       0.59      1.00      0.74        40\n",
      "          1       1.00      0.03      0.07        29\n",
      "\n",
      "avg / total       0.76      0.59      0.46        69\n",
      "\n",
      "MODEL: LogisticRegression accuracy:  0.768115942029 +/-: 0.0252497974615\n",
      "++++++++++++++++++++++++++++++  Report ++++++++++++++++++++++++++++++\n",
      "             precision    recall  f1-score   support\n",
      "\n",
      "          0       0.77      0.85      0.81        40\n",
      "          1       0.76      0.66      0.70        29\n",
      "\n",
      "avg / total       0.77      0.77      0.77        69\n",
      "\n",
      "MODEL: RandomForest accuracy:  0.652173913043 +/-: 0.0294655984637\n",
      "++++++++++++++++++++++++++++++  Report ++++++++++++++++++++++++++++++\n",
      "             precision    recall  f1-score   support\n",
      "\n",
      "          0       0.68      0.75      0.71        40\n",
      "          1       0.60      0.52      0.56        29\n",
      "\n",
      "avg / total       0.65      0.65      0.65        69\n",
      "\n",
      "MODEL: ExtraTrees accuracy:  0.753623188406 +/-: 0.0328112341345\n",
      "++++++++++++++++++++++++++++++  Report ++++++++++++++++++++++++++++++\n",
      "             precision    recall  f1-score   support\n",
      "\n",
      "          0       0.76      0.85      0.80        40\n",
      "          1       0.75      0.62      0.68        29\n",
      "\n",
      "avg / total       0.75      0.75      0.75        69\n",
      "\n",
      "MODEL: GBM accuracy:  0.666666666667 +/-: 0.0569358178054\n",
      "++++++++++++++++++++++++++++++  Report ++++++++++++++++++++++++++++++\n",
      "             precision    recall  f1-score   support\n",
      "\n",
      "          0       0.71      0.72      0.72        40\n",
      "          1       0.61      0.59      0.60        29\n",
      "\n",
      "avg / total       0.67      0.67      0.67        69\n",
      "\n",
      "MODEL: CART accuracy:  0.579710144928 +/-: 0.0314309718847\n",
      "++++++++++++++++++++++++++++++  Report ++++++++++++++++++++++++++++++\n",
      "             precision    recall  f1-score   support\n",
      "\n",
      "          0       0.62      0.70      0.66        40\n",
      "          1       0.50      0.41      0.45        29\n",
      "\n",
      "avg / total       0.57      0.58      0.57        69\n",
      "\n",
      "MODEL: Ensembled accuracy:  0.753623188406 +/-: 0.028670447385\n",
      "++++++++++++++++++++++++++++++  Report ++++++++++++++++++++++++++++++\n",
      "             precision    recall  f1-score   support\n",
      "\n",
      "          0       0.77      0.82      0.80        40\n",
      "          1       0.73      0.66      0.69        29\n",
      "\n",
      "avg / total       0.75      0.75      0.75        69\n",
      "\n"
     ]
    },
    {
     "name": "stderr",
     "output_type": "stream",
     "text": [
      "/usr/local/lib/python3.5/dist-packages/pandas/core/frame.py:2440: SettingWithCopyWarning: \n",
      "A value is trying to be set on a copy of a slice from a DataFrame.\n",
      "Try using .loc[row_indexer,col_indexer] = value instead\n",
      "\n",
      "See the caveats in the documentation: http://pandas.pydata.org/pandas-docs/stable/indexing.html#indexing-view-versus-copy\n",
      "  self[k1] = value[k2]\n"
     ]
    }
   ],
   "source": [
    "preds, class_model = Rocket.classify_treatment(model_type = 'ensemble', \n",
    "                                              features = 'all', \n",
    "                                              grouping= 'mean', \n",
    "                                              n_splits = 10, \n",
    "                                              reduction = 'genomic_variation')"
   ]
  },
  {
   "cell_type": "code",
   "execution_count": 10,
   "metadata": {},
   "outputs": [
    {
     "name": "stdout",
     "output_type": "stream",
     "text": [
      "    labnr patient      pred Treatment risk group in ALL10\n",
      "1             258  0.596696                           NaN\n",
      "2             531  0.247697                           NaN\n",
      "3             531  0.247697                           NaN\n",
      "4            2759  0.851871                           NaN\n",
      "5            2774  0.199656                           NaN\n",
      "6            1941  0.553887                           NaN\n",
      "7            1960  0.761208                           NaN\n",
      "8            2760  0.311246                           NaN\n",
      "9            2751  0.144425                           NaN\n",
      "10           2844  0.187944                           NaN\n",
      "11           1949  0.880302                           NaN\n",
      "12           2722  0.617731                           NaN\n",
      "13           2788  0.635326                           NaN\n",
      "14           2720  0.860349                           NaN\n",
      "15           2750  0.308637                           NaN\n",
      "16           2736  0.586156                           NaN\n",
      "17            634  0.754782                           NaN\n",
      "18            720  0.890582                           NaN\n",
      "19           1179  0.789697                           NaN\n",
      "20           2757  0.762753                           NaN\n",
      "21           2772  0.252999                           NaN\n",
      "22           2780  0.475808                           NaN\n",
      "23           1946  0.683811                           NaN\n",
      "24           2650  0.285154                           NaN\n",
      "25           1954  0.231795                           NaN\n",
      "26           2723  0.223124                           NaN\n",
      "27           2723  0.223124                           NaN\n",
      "28            419  0.487765                           NaN\n",
      "29            419  0.487765                           NaN\n",
      "30           2737  0.488067                           NaN\n",
      "..            ...       ...                           ...\n",
      "282          7405  0.569412                            HR\n",
      "283          7406  0.673318                            HR\n",
      "284          7411  0.685675                            HR\n",
      "285          7415  0.887421                            HR\n",
      "286          7418  0.956288                            HR\n",
      "287          7420  0.136239                            ND\n",
      "288          7424  0.472005                            MR\n",
      "289          7433  0.089832                            MR\n",
      "290          7436  0.838234                            HR\n",
      "291          7672  0.242414                            MR\n",
      "292          7673  0.667038                            HR\n",
      "293          7675  0.193200                            MR\n",
      "294          7678  0.840386                            HR\n",
      "295          7685  0.195966                            MR\n",
      "296          7697  0.651878                            HR\n",
      "297          7700  0.105085                            MR\n",
      "298          7710  0.887019                            HR\n",
      "299          7769  0.142732                            MR\n",
      "300          7757  0.838271                            HR\n",
      "301         77556  0.809845                            HR\n",
      "302          7748  0.939214                            HR\n",
      "303          7743  0.096676                            SR\n",
      "304           NaN  0.181734                           NaN\n",
      "305           NaN  0.418176                           NaN\n",
      "306           NaN  0.418176                           NaN\n",
      "307           NaN  0.418176                           NaN\n",
      "308           NaN  0.181734                           NaN\n",
      "309           NaN  0.181734                           NaN\n",
      "310           NaN  0.181734                           NaN\n",
      "311           NaN  0.181734                           NaN\n",
      "\n",
      "[311 rows x 3 columns]\n"
     ]
    },
    {
     "name": "stderr",
     "output_type": "stream",
     "text": [
      "/usr/local/lib/python3.5/dist-packages/ipykernel_launcher.py:4: SettingWithCopyWarning: \n",
      "A value is trying to be set on a copy of a slice from a DataFrame.\n",
      "Try using .loc[row_indexer,col_indexer] = value instead\n",
      "\n",
      "See the caveats in the documentation: http://pandas.pydata.org/pandas-docs/stable/indexing.html#indexing-view-versus-copy\n",
      "  after removing the cwd from sys.path.\n"
     ]
    }
   ],
   "source": [
    "preds = [pred_[1]for pred_ in preds]\n",
    "#len(Rocket.DATA_merged[Rocket.DATA_merged[\"array-batch\"].isin([\"cohort 1\", \"cohort 2\", \"JB\", \"IA\", \"ALL-10\"])])\n",
    "Results = Rocket.DATA_merged_processed\n",
    "Results['pred'] = preds\n",
    "print(Results[:311][['labnr patient', 'pred', 'Treatment risk group in ALL10']])"
   ]
  },
  {
   "cell_type": "code",
   "execution_count": 13,
   "metadata": {},
   "outputs": [
    {
     "name": "stdout",
     "output_type": "stream",
     "text": [
      "727.576388889\n"
     ]
    }
   ],
   "source": [
    "# get top genes\n",
    "Rocket.get_top_genes(n = 100)"
   ]
  }
 ],
 "metadata": {
  "kernelspec": {
   "display_name": "Python 3",
   "language": "python",
   "name": "python3"
  },
  "language_info": {
   "codemirror_mode": {
    "name": "ipython",
    "version": 3
   },
   "file_extension": ".py",
   "mimetype": "text/x-python",
   "name": "python",
   "nbconvert_exporter": "python",
   "pygments_lexer": "ipython3",
   "version": "3.6.2"
  }
 },
 "nbformat": 4,
 "nbformat_minor": 2
}
