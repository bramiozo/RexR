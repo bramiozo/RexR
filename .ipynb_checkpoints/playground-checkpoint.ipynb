{
 "cells": [
  {
   "cell_type": "code",
   "execution_count": 1,
   "metadata": {
    "collapsed": false
   },
   "outputs": [
    {
     "name": "stdout",
     "output_type": "stream",
     "text": [
      "++++++++++++++++++++++++++++++ Firing up RexR! ++++++++++++++++++++++++++++++\n"
     ]
    }
   ],
   "source": [
    "import pandas\n",
    "from RexR import *\n",
    "import _helpers\n",
    "Rocket = RexR(datalocation = '/home/bramiozo/DEV/RexR/_data/genomic_data/data.pkl', seed = 3123, debug = True)\n",
    "Rocket.load_probeset_data();"
   ]
  },
  {
   "cell_type": "code",
   "execution_count": 2,
   "metadata": {
    "collapsed": true
   },
   "outputs": [],
   "source": [
    "##### LOAD IN DATA\n",
    "###################"
   ]
  },
  {
   "cell_type": "code",
   "execution_count": 2,
   "metadata": {
    "collapsed": false,
    "scrolled": true
   },
   "outputs": [
    {
     "name": "stdout",
     "output_type": "stream",
     "text": [
      "++++++++++++++++++++++++++++++  RESULTS FOR CLASSIFICATION WITH GENOMIC DATA ++++++++++++++++++++++++++++++\n",
      "MODEL: GNB accuracy:  0.623188405797 +/-: 0.064017163261\n",
      "++++++++++++++++++++++++++++++  Report ++++++++++++++++++++++++++++++\n",
      "             precision    recall  f1-score   support\n",
      "\n",
      "          0       0.67      0.70      0.68        40\n",
      "          1       0.56      0.52      0.54        29\n",
      "\n",
      "avg / total       0.62      0.62      0.62        69\n",
      "\n",
      "MODEL: SVM accuracy:  0.536231884058 +/-: 0.00748642242026\n",
      "++++++++++++++++++++++++++++++  Report ++++++++++++++++++++++++++++++\n",
      "             precision    recall  f1-score   support\n",
      "\n",
      "          0       0.56      0.93      0.70        40\n",
      "          1       0.00      0.00      0.00        29\n",
      "\n",
      "avg / total       0.32      0.54      0.40        69\n",
      "\n",
      "MODEL: LogisticRegression accuracy:  0.666666666667 +/-: 0.0248447204969\n",
      "++++++++++++++++++++++++++++++  Report ++++++++++++++++++++++++++++++\n",
      "             precision    recall  f1-score   support\n",
      "\n",
      "          0       0.79      0.57      0.67        40\n",
      "          1       0.57      0.79      0.67        29\n",
      "\n",
      "avg / total       0.70      0.67      0.67        69\n",
      "\n",
      "MODEL: RandomForest accuracy:  0.68115942029 +/-: 0.0239445494644\n",
      "++++++++++++++++++++++++++++++  Report ++++++++++++++++++++++++++++++\n",
      "             precision    recall  f1-score   support\n",
      "\n",
      "          0       0.67      0.90      0.77        40\n",
      "          1       0.73      0.38      0.50        29\n",
      "\n",
      "avg / total       0.69      0.68      0.65        69\n",
      "\n",
      "MODEL: ExtraTrees accuracy:  0.623188405797 +/-: 0.0250247547034\n",
      "++++++++++++++++++++++++++++++  Report ++++++++++++++++++++++++++++++\n",
      "             precision    recall  f1-score   support\n",
      "\n",
      "          0       0.64      0.80      0.71        40\n",
      "          1       0.58      0.38      0.46        29\n",
      "\n",
      "avg / total       0.61      0.62      0.60        69\n",
      "\n",
      "MODEL: GBM accuracy:  0.782608695652 +/-: 0.0141626909113\n",
      "++++++++++++++++++++++++++++++  Report ++++++++++++++++++++++++++++++\n",
      "             precision    recall  f1-score   support\n",
      "\n",
      "          0       0.80      0.82      0.81        40\n",
      "          1       0.75      0.72      0.74        29\n",
      "\n",
      "avg / total       0.78      0.78      0.78        69\n",
      "\n",
      "MODEL: CART accuracy:  0.63768115942 +/-: 0.0295256098659\n",
      "++++++++++++++++++++++++++++++  Report ++++++++++++++++++++++++++++++\n",
      "             precision    recall  f1-score   support\n",
      "\n",
      "          0       0.68      0.70      0.69        40\n",
      "          1       0.57      0.55      0.56        29\n",
      "\n",
      "avg / total       0.64      0.64      0.64        69\n",
      "\n",
      "MODEL: Ensembled accuracy:  0.782608695652 +/-: 0.0141626909113\n",
      "++++++++++++++++++++++++++++++  Report ++++++++++++++++++++++++++++++\n",
      "             precision    recall  f1-score   support\n",
      "\n",
      "          0       0.82      0.80      0.81        40\n",
      "          1       0.73      0.76      0.75        29\n",
      "\n",
      "avg / total       0.78      0.78      0.78        69\n",
      "\n",
      "++++++++++++++++++++++++++++++++++++++++++++++++++\n",
      "++++++++++++++++++++++++++++++  RESULTS FOR CLASSIFICATION INCLUDING PATIENT DATA ++++++++++++++++++++++++++++++\n",
      "---------\n",
      "MODEL: GNB accuracy:  0.768115942029 +/-: 0.0304257808984\n",
      "++++++++++++++++++++++++++++++  Report ++++++++++++++++++++++++++++++\n",
      "             precision    recall  f1-score   support\n",
      "\n",
      "          0       0.82      0.78      0.79        40\n",
      "          1       0.71      0.76      0.73        29\n",
      "\n",
      "avg / total       0.77      0.77      0.77        69\n",
      "\n",
      "MODEL: SVM accuracy:  0.594202898551 +/-: 0.00234044468449\n",
      "++++++++++++++++++++++++++++++  Report ++++++++++++++++++++++++++++++\n",
      "             precision    recall  f1-score   support\n",
      "\n",
      "          0       0.59      1.00      0.74        40\n",
      "          1       1.00      0.03      0.07        29\n",
      "\n",
      "avg / total       0.76      0.59      0.46        69\n",
      "\n",
      "MODEL: LogisticRegression accuracy:  0.782608695652 +/-: 0.0431481981576\n",
      "++++++++++++++++++++++++++++++  Report ++++++++++++++++++++++++++++++\n",
      "             precision    recall  f1-score   support\n",
      "\n",
      "          0       0.82      0.80      0.81        40\n",
      "          1       0.73      0.76      0.75        29\n",
      "\n",
      "avg / total       0.78      0.78      0.78        69\n",
      "\n"
     ]
    },
    {
     "name": "stderr",
     "output_type": "stream",
     "text": [
      "/usr/local/lib/python3.5/dist-packages/pandas/core/frame.py:2440: SettingWithCopyWarning: \n",
      "A value is trying to be set on a copy of a slice from a DataFrame.\n",
      "Try using .loc[row_indexer,col_indexer] = value instead\n",
      "\n",
      "See the caveats in the documentation: http://pandas.pydata.org/pandas-docs/stable/indexing.html#indexing-view-versus-copy\n",
      "  self[k1] = value[k2]\n"
     ]
    },
    {
     "name": "stdout",
     "output_type": "stream",
     "text": [
      "MODEL: RandomForest accuracy:  0.739130434783 +/-: 0.0285654274312\n",
      "++++++++++++++++++++++++++++++  Report ++++++++++++++++++++++++++++++\n",
      "             precision    recall  f1-score   support\n",
      "\n",
      "          0       0.76      0.80      0.78        40\n",
      "          1       0.70      0.66      0.68        29\n",
      "\n",
      "avg / total       0.74      0.74      0.74        69\n",
      "\n",
      "MODEL: ExtraTrees accuracy:  0.782608695652 +/-: 0.0141626909113\n",
      "++++++++++++++++++++++++++++++  Report ++++++++++++++++++++++++++++++\n",
      "             precision    recall  f1-score   support\n",
      "\n",
      "          0       0.82      0.80      0.81        40\n",
      "          1       0.73      0.76      0.75        29\n",
      "\n",
      "avg / total       0.78      0.78      0.78        69\n",
      "\n",
      "MODEL: GBM accuracy:  0.666666666667 +/-: 0.0165631469979\n",
      "++++++++++++++++++++++++++++++  Report ++++++++++++++++++++++++++++++\n",
      "             precision    recall  f1-score   support\n",
      "\n",
      "          0       0.72      0.70      0.71        40\n",
      "          1       0.60      0.62      0.61        29\n",
      "\n",
      "avg / total       0.67      0.67      0.67        69\n",
      "\n",
      "MODEL: CART accuracy:  0.652173913043 +/-: 0.0377471719627\n",
      "++++++++++++++++++++++++++++++  Report ++++++++++++++++++++++++++++++\n",
      "             precision    recall  f1-score   support\n",
      "\n",
      "          0       0.70      0.70      0.70        40\n",
      "          1       0.59      0.59      0.59        29\n",
      "\n",
      "avg / total       0.65      0.65      0.65        69\n",
      "\n",
      "MODEL: Ensembled accuracy:  0.710144927536 +/-: 0.0374471149518\n",
      "++++++++++++++++++++++++++++++  Report ++++++++++++++++++++++++++++++\n",
      "             precision    recall  f1-score   support\n",
      "\n",
      "          0       0.74      0.78      0.76        40\n",
      "          1       0.67      0.62      0.64        29\n",
      "\n",
      "avg / total       0.71      0.71      0.71        69\n",
      "\n"
     ]
    },
    {
     "name": "stderr",
     "output_type": "stream",
     "text": [
      "/usr/local/lib/python3.5/dist-packages/pandas/core/frame.py:2440: SettingWithCopyWarning: \n",
      "A value is trying to be set on a copy of a slice from a DataFrame.\n",
      "Try using .loc[row_indexer,col_indexer] = value instead\n",
      "\n",
      "See the caveats in the documentation: http://pandas.pydata.org/pandas-docs/stable/indexing.html#indexing-view-versus-copy\n",
      "  self[k1] = value[k2]\n"
     ]
    }
   ],
   "source": [
    "preds, class_model = Rocket.classify_treatment(model='ensemble', \n",
    "                                              features = 'all', \n",
    "                                              grouping= 'mean', \n",
    "                                              n_splits = 10, \n",
    "                                              reduction = 'genomic_variation')"
   ]
  },
  {
   "cell_type": "code",
   "execution_count": 14,
   "metadata": {
    "collapsed": false
   },
   "outputs": [
    {
     "ename": "KeyError",
     "evalue": "0",
     "output_type": "error",
     "traceback": [
      "\u001b[0;31m---------------------------------------------------------------------------\u001b[0m",
      "\u001b[0;31mKeyError\u001b[0m                                  Traceback (most recent call last)",
      "\u001b[0;32m<ipython-input-14-76e2e18a6092>\u001b[0m in \u001b[0;36m<module>\u001b[0;34m()\u001b[0m\n\u001b[0;32m----> 1\u001b[0;31m \u001b[0mpreds\u001b[0m \u001b[0;34m=\u001b[0m \u001b[0mpandas\u001b[0m\u001b[0;34m.\u001b[0m\u001b[0mDataFrame\u001b[0m\u001b[0;34m(\u001b[0m\u001b[0;34m[\u001b[0m\u001b[0;34m{\u001b[0m\u001b[0;34m'pred'\u001b[0m\u001b[0;34m:\u001b[0m \u001b[0mpred_\u001b[0m\u001b[0;34m[\u001b[0m\u001b[0;36m0\u001b[0m\u001b[0;34m]\u001b[0m\u001b[0;34m}\u001b[0m \u001b[0;32mfor\u001b[0m \u001b[0mpred_\u001b[0m \u001b[0;32min\u001b[0m \u001b[0mpreds\u001b[0m\u001b[0;34m]\u001b[0m\u001b[0;34m)\u001b[0m\u001b[0;34m;\u001b[0m\u001b[0;34m\u001b[0m\u001b[0m\n\u001b[0m\u001b[1;32m      2\u001b[0m \u001b[0mResults\u001b[0m \u001b[0;34m=\u001b[0m \u001b[0mRocket\u001b[0m\u001b[0;34m.\u001b[0m\u001b[0mDATA_merged_processed\u001b[0m\u001b[0;34m;\u001b[0m\u001b[0;34m\u001b[0m\u001b[0m\n\u001b[1;32m      3\u001b[0m \u001b[0mResults\u001b[0m\u001b[0;34m[\u001b[0m\u001b[0;34m'pred'\u001b[0m\u001b[0;34m]\u001b[0m \u001b[0;34m=\u001b[0m \u001b[0mpreds\u001b[0m\u001b[0;34m\u001b[0m\u001b[0m\n",
      "\u001b[0;32m<ipython-input-14-76e2e18a6092>\u001b[0m in \u001b[0;36m<listcomp>\u001b[0;34m(.0)\u001b[0m\n\u001b[0;32m----> 1\u001b[0;31m \u001b[0mpreds\u001b[0m \u001b[0;34m=\u001b[0m \u001b[0mpandas\u001b[0m\u001b[0;34m.\u001b[0m\u001b[0mDataFrame\u001b[0m\u001b[0;34m(\u001b[0m\u001b[0;34m[\u001b[0m\u001b[0;34m{\u001b[0m\u001b[0;34m'pred'\u001b[0m\u001b[0;34m:\u001b[0m \u001b[0mpred_\u001b[0m\u001b[0;34m[\u001b[0m\u001b[0;36m0\u001b[0m\u001b[0;34m]\u001b[0m\u001b[0;34m}\u001b[0m \u001b[0;32mfor\u001b[0m \u001b[0mpred_\u001b[0m \u001b[0;32min\u001b[0m \u001b[0mpreds\u001b[0m\u001b[0;34m]\u001b[0m\u001b[0;34m)\u001b[0m\u001b[0;34m;\u001b[0m\u001b[0;34m\u001b[0m\u001b[0m\n\u001b[0m\u001b[1;32m      2\u001b[0m \u001b[0mResults\u001b[0m \u001b[0;34m=\u001b[0m \u001b[0mRocket\u001b[0m\u001b[0;34m.\u001b[0m\u001b[0mDATA_merged_processed\u001b[0m\u001b[0;34m;\u001b[0m\u001b[0;34m\u001b[0m\u001b[0m\n\u001b[1;32m      3\u001b[0m \u001b[0mResults\u001b[0m\u001b[0;34m[\u001b[0m\u001b[0;34m'pred'\u001b[0m\u001b[0;34m]\u001b[0m \u001b[0;34m=\u001b[0m \u001b[0mpreds\u001b[0m\u001b[0;34m\u001b[0m\u001b[0m\n",
      "\u001b[0;31mKeyError\u001b[0m: 0"
     ]
    }
   ],
   "source": [
    "preds = [pred_[1]for pred_ in preds]\n",
    "#len(Rocket.DATA_merged[Rocket.DATA_merged[\"array-batch\"].isin([\"cohort 1\", \"cohort 2\", \"JB\", \"IA\", \"ALL-10\"])])\n",
    "Results = Rocket.DATA_merged_processed\n",
    "Results['pred'] = preds\n",
    "print(Results[:311][['labnr patient', 'pred', 'Treatment risk group in ALL10']])"
   ]
  }
 ],
 "metadata": {
  "kernelspec": {
   "display_name": "py35",
   "language": "python",
   "name": "py35"
  },
  "language_info": {
   "codemirror_mode": {
    "name": "ipython",
    "version": 3
   },
   "file_extension": ".py",
   "mimetype": "text/x-python",
   "name": "python",
   "nbconvert_exporter": "python",
   "pygments_lexer": "ipython3",
   "version": "3.5.2"
  }
 },
 "nbformat": 4,
 "nbformat_minor": 2
}
