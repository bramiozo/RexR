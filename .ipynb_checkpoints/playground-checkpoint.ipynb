{
 "cells": [
  {
   "cell_type": "code",
   "execution_count": 1,
   "metadata": {},
   "outputs": [
    {
     "name": "stdout",
     "output_type": "stream",
     "text": [
      "++++++++++++++++++++++++++++++ Firing up RexR! ++++++++++++++++++++++++++++++\n"
     ]
    }
   ],
   "source": [
    "import pandas\n",
    "import numpy\n",
    "from RexR import *\n",
    "import _helpers\n",
    "Rocket = RexR(datalocation = '_data/genomic_data/data.pkl', seed = 3123, debug = False, write_out=True) # '_data/genomic_data/data.pkl'\n",
    "Rocket.load_probeset_data();"
   ]
  },
  {
   "cell_type": "code",
   "execution_count": 2,
   "metadata": {
    "collapsed": true
   },
   "outputs": [],
   "source": [
    "from math import*\n",
    "#from scipy.dspatial.distance import cosine\n",
    "from scipy.spatial.distance import minkowski\n",
    "from scipy.spatial.distance import cdist\n",
    "from decimal import Decimal\n",
    "from sklearn.metrics.pairwise import cosine_similarity\n",
    "from scipy import sparse\n",
    "from time import time\n",
    "from sklearn.cluster import AffinityPropagation\n",
    "import matplotlib.pyplot as plt\n",
    "from itertools import cycle"
   ]
  },
  {
   "cell_type": "code",
   "execution_count": 4,
   "metadata": {
    "collapsed": true
   },
   "outputs": [],
   "source": [
    "TransPosed = Rocket.DATA_all_samples.T # all microarrays, may be multiple per patient versus all probesets, may be multiple per genome\n",
    "Normal = Rocket.DATA_all_samples\n",
    "AllNormal = Rocket.DATA_merged\n",
    "#probeset_weights = Rocket.get_probeset_weights(method = )"
   ]
  },
  {
   "cell_type": "code",
   "execution_count": 5,
   "metadata": {
    "collapsed": true
   },
   "outputs": [],
   "source": [
    "from sklearn.decomposition import PCA, LatentDirichletAllocation\n",
    "from sklearn.cross_decomposition import CCA\n",
    "from sklearn.discriminant_analysis import LinearDiscriminantAnalysis as LDA"
   ]
  },
  {
   "cell_type": "code",
   "execution_count": 6,
   "metadata": {},
   "outputs": [
    {
     "name": "stderr",
     "output_type": "stream",
     "text": [
      "c:\\users\\bramva~1\\envs\\worken~1\\lib\\site-packages\\sklearn\\discriminant_analysis.py:387: UserWarning: Variables are collinear.\n",
      "  warnings.warn(\"Variables are collinear.\")\n"
     ]
    }
   ],
   "source": [
    "X,y =_helpers._get_matrix(AllNormal, features = 'genomic', target = 'Treatment risk group in ALL10') \n",
    "linDA_transformed = LDA(solver='svd',shrinkage=None,priors=None,\n",
    "                       n_components=2,store_covariance=False,tol=0.0001).fit(X,y).transform(X)"
   ]
  },
  {
   "cell_type": "code",
   "execution_count": 8,
   "metadata": {},
   "outputs": [
    {
     "ename": "TypeError",
     "evalue": "__init__() got an unexpected keyword argument 'n_components'",
     "output_type": "error",
     "traceback": [
      "\u001b[1;31m---------------------------------------------------------------------------\u001b[0m",
      "\u001b[1;31mTypeError\u001b[0m                                 Traceback (most recent call last)",
      "\u001b[1;32m<ipython-input-8-a7ca9fe6ea92>\u001b[0m in \u001b[0;36m<module>\u001b[1;34m()\u001b[0m\n\u001b[0;32m     15\u001b[0m                                                \u001b[0mverbose\u001b[0m\u001b[1;33m=\u001b[0m\u001b[1;36m0\u001b[0m\u001b[1;33m,\u001b[0m\u001b[1;33m\u001b[0m\u001b[0m\n\u001b[0;32m     16\u001b[0m                                                \u001b[0mrandom_state\u001b[0m\u001b[1;33m=\u001b[0m\u001b[1;32mNone\u001b[0m\u001b[1;33m,\u001b[0m\u001b[1;33m\u001b[0m\u001b[0m\n\u001b[1;32m---> 17\u001b[1;33m                                                n_topics=None).fit(X,y).transform(X)\n\u001b[0m",
      "\u001b[1;31mTypeError\u001b[0m: __init__() got an unexpected keyword argument 'n_components'"
     ]
    }
   ],
   "source": [
    "latDA_transformed = LatentDirichletAllocation(n_components=10, \n",
    "                                               doc_topic_prior=None, \n",
    "                                               topic_word_prior=None, \n",
    "                                               learning_method=None, \n",
    "                                               learning_decay=0.7, \n",
    "                                               learning_offset=10.0, \n",
    "                                               max_iter=10, \n",
    "                                               batch_size=128, \n",
    "                                               evaluate_every=-1, \n",
    "                                               total_samples=1000000.0, \n",
    "                                               perp_tol=0.1, \n",
    "                                               mean_change_tol=0.001, \n",
    "                                               max_doc_update_iter=100, \n",
    "                                               n_jobs=1, \n",
    "                                               verbose=0, \n",
    "                                               random_state=None, \n",
    "                                               n_topics=None).fit(X,y).transform(X)"
   ]
  },
  {
   "cell_type": "code",
   "execution_count": 5,
   "metadata": {},
   "outputs": [
    {
     "ename": "ValueError",
     "evalue": "incompatible dimensions for cross product\n(dimension must be 2 or 3)",
     "output_type": "error",
     "traceback": [
      "\u001b[0;31m---------------------------------------------------------------------------\u001b[0m",
      "\u001b[0;31mValueError\u001b[0m                                Traceback (most recent call last)",
      "\u001b[0;32m<ipython-input-5-b647d903dfb6>\u001b[0m in \u001b[0;36m<module>\u001b[0;34m()\u001b[0m\n\u001b[1;32m      5\u001b[0m     \u001b[0;32mreturn\u001b[0m \u001b[0mnorm_of_rotation\u001b[0m\u001b[0;34m\u001b[0m\u001b[0m\n\u001b[1;32m      6\u001b[0m \u001b[0;34m\u001b[0m\u001b[0m\n\u001b[0;32m----> 7\u001b[0;31m \u001b[0mrotation_norm\u001b[0m\u001b[0;34m(\u001b[0m\u001b[0mTransPosed\u001b[0m\u001b[0;34m[\u001b[0m\u001b[0;34m'9827_corr2.CEL'\u001b[0m\u001b[0;34m]\u001b[0m\u001b[0;34m,\u001b[0m \u001b[0mTransPosed\u001b[0m\u001b[0;34m[\u001b[0m\u001b[0;34m'9928_corr2.CEL'\u001b[0m\u001b[0;34m]\u001b[0m\u001b[0;34m,\u001b[0m \u001b[0;36m2\u001b[0m\u001b[0;34m)\u001b[0m\u001b[0;34m\u001b[0m\u001b[0m\n\u001b[0m",
      "\u001b[0;32m<ipython-input-5-b647d903dfb6>\u001b[0m in \u001b[0;36mrotation_norm\u001b[0;34m(x, y, norm)\u001b[0m\n\u001b[1;32m      1\u001b[0m \u001b[0;31m# l-2 norm of rotation vectors\u001b[0m\u001b[0;34m\u001b[0m\u001b[0;34m\u001b[0m\u001b[0m\n\u001b[1;32m      2\u001b[0m \u001b[0;32mdef\u001b[0m \u001b[0mrotation_norm\u001b[0m\u001b[0;34m(\u001b[0m\u001b[0mx\u001b[0m\u001b[0;34m,\u001b[0m \u001b[0my\u001b[0m\u001b[0;34m,\u001b[0m \u001b[0mnorm\u001b[0m\u001b[0;34m)\u001b[0m\u001b[0;34m:\u001b[0m\u001b[0;34m\u001b[0m\u001b[0m\n\u001b[0;32m----> 3\u001b[0;31m     \u001b[0mrot_vector\u001b[0m \u001b[0;34m=\u001b[0m \u001b[0mnumpy\u001b[0m\u001b[0;34m.\u001b[0m\u001b[0mcross\u001b[0m\u001b[0;34m(\u001b[0m\u001b[0ma\u001b[0m \u001b[0;34m=\u001b[0m \u001b[0mx\u001b[0m\u001b[0;34m,\u001b[0m \u001b[0mb\u001b[0m \u001b[0;34m=\u001b[0m \u001b[0my\u001b[0m\u001b[0;34m)\u001b[0m\u001b[0;34m\u001b[0m\u001b[0m\n\u001b[0m\u001b[1;32m      4\u001b[0m     \u001b[0mnorm_of_rotation\u001b[0m \u001b[0;34m=\u001b[0m \u001b[0mnumpy\u001b[0m\u001b[0;34m.\u001b[0m\u001b[0mlinalg\u001b[0m\u001b[0;34m.\u001b[0m\u001b[0mnorm\u001b[0m\u001b[0;34m(\u001b[0m\u001b[0mrot_vector\u001b[0m\u001b[0;34m,\u001b[0m \u001b[0mord\u001b[0m \u001b[0;34m=\u001b[0m \u001b[0mnorm\u001b[0m\u001b[0;34m)\u001b[0m\u001b[0;34m\u001b[0m\u001b[0m\n\u001b[1;32m      5\u001b[0m     \u001b[0;32mreturn\u001b[0m \u001b[0mnorm_of_rotation\u001b[0m\u001b[0;34m\u001b[0m\u001b[0m\n",
      "\u001b[0;32m/usr/local/lib/python3.5/dist-packages/numpy/core/numeric.py\u001b[0m in \u001b[0;36mcross\u001b[0;34m(a, b, axisa, axisb, axisc, axis)\u001b[0m\n\u001b[1;32m   1767\u001b[0m            \"(dimension must be 2 or 3)\")\n\u001b[1;32m   1768\u001b[0m     \u001b[0;32mif\u001b[0m \u001b[0ma\u001b[0m\u001b[0;34m.\u001b[0m\u001b[0mshape\u001b[0m\u001b[0;34m[\u001b[0m\u001b[0;34m-\u001b[0m\u001b[0;36m1\u001b[0m\u001b[0;34m]\u001b[0m \u001b[0;32mnot\u001b[0m \u001b[0;32min\u001b[0m \u001b[0;34m(\u001b[0m\u001b[0;36m2\u001b[0m\u001b[0;34m,\u001b[0m \u001b[0;36m3\u001b[0m\u001b[0;34m)\u001b[0m \u001b[0;32mor\u001b[0m \u001b[0mb\u001b[0m\u001b[0;34m.\u001b[0m\u001b[0mshape\u001b[0m\u001b[0;34m[\u001b[0m\u001b[0;34m-\u001b[0m\u001b[0;36m1\u001b[0m\u001b[0;34m]\u001b[0m \u001b[0;32mnot\u001b[0m \u001b[0;32min\u001b[0m \u001b[0;34m(\u001b[0m\u001b[0;36m2\u001b[0m\u001b[0;34m,\u001b[0m \u001b[0;36m3\u001b[0m\u001b[0;34m)\u001b[0m\u001b[0;34m:\u001b[0m\u001b[0;34m\u001b[0m\u001b[0m\n\u001b[0;32m-> 1769\u001b[0;31m         \u001b[0;32mraise\u001b[0m \u001b[0mValueError\u001b[0m\u001b[0;34m(\u001b[0m\u001b[0mmsg\u001b[0m\u001b[0;34m)\u001b[0m\u001b[0;34m\u001b[0m\u001b[0m\n\u001b[0m\u001b[1;32m   1770\u001b[0m \u001b[0;34m\u001b[0m\u001b[0m\n\u001b[1;32m   1771\u001b[0m     \u001b[0;31m# Create the output array\u001b[0m\u001b[0;34m\u001b[0m\u001b[0;34m\u001b[0m\u001b[0m\n",
      "\u001b[0;31mValueError\u001b[0m: incompatible dimensions for cross product\n(dimension must be 2 or 3)"
     ]
    }
   ],
   "source": [
    "# l-2 norm of rotation vectors\n",
    "    # reduce to 3 dimensions\n",
    "    #########################\n",
    "def dim_reduction(x, reduction_type = 'PCA', dims = 3):\n",
    "    # PCA/SVD/SOM/t-SNE/autoencoder\n",
    "    \n",
    "def rotation_norm(x, y, norm):   \n",
    "    rot_vector = numpy.cross(a = x, b = y)\n",
    "    norm_of_rotation = numpy.linalg.norm(rot_vector, ord = norm)\n",
    "    return norm_of_rotation\n",
    "\n",
    "reduced = dim_reduction(Transposed, dims = 3)\n",
    "rotation_norm(reduced['9827_corr2.CEL'], reduced['9928_corr2.CEL'], 2)"
   ]
  },
  {
   "cell_type": "code",
   "execution_count": 117,
   "metadata": {},
   "outputs": [
    {
     "ename": "KeyboardInterrupt",
     "evalue": "",
     "output_type": "error",
     "traceback": [
      "\u001b[0;31m---------------------------------------------------------------------------\u001b[0m",
      "\u001b[0;31mKeyboardInterrupt\u001b[0m                         Traceback (most recent call last)",
      "\u001b[0;32m<ipython-input-117-66a4631bb1f1>\u001b[0m in \u001b[0;36m<module>\u001b[0;34m()\u001b[0m\n\u001b[1;32m     12\u001b[0m     \u001b[0;32mfor\u001b[0m \u001b[0mvar_y\u001b[0m \u001b[0;32min\u001b[0m \u001b[0mVarList\u001b[0m\u001b[0;34m:\u001b[0m\u001b[0;34m\u001b[0m\u001b[0m\n\u001b[1;32m     13\u001b[0m         \u001b[0;31m#sim_value = (minkowski_distance(TransPosed[var_x], TransPosed[var_y], 1))**inflation\u001b[0m\u001b[0;34m\u001b[0m\u001b[0;34m\u001b[0m\u001b[0m\n\u001b[0;32m---> 14\u001b[0;31m         \u001b[0msim_value\u001b[0m \u001b[0;34m=\u001b[0m \u001b[0mminkowski\u001b[0m\u001b[0;34m(\u001b[0m\u001b[0mu\u001b[0m \u001b[0;34m=\u001b[0m \u001b[0mTransPosed\u001b[0m\u001b[0;34m[\u001b[0m\u001b[0mvar_x\u001b[0m\u001b[0;34m]\u001b[0m\u001b[0;34m,\u001b[0m \u001b[0mv\u001b[0m \u001b[0;34m=\u001b[0m \u001b[0mTransPosed\u001b[0m\u001b[0;34m[\u001b[0m\u001b[0mvar_y\u001b[0m\u001b[0;34m]\u001b[0m\u001b[0;34m,\u001b[0m \u001b[0mp\u001b[0m \u001b[0;34m=\u001b[0m\u001b[0;36m1\u001b[0m\u001b[0;34m)\u001b[0m\u001b[0;34m\u001b[0m\u001b[0m\n\u001b[0m\u001b[1;32m     15\u001b[0m         \u001b[0mrow\u001b[0m\u001b[0;34m.\u001b[0m\u001b[0mappend\u001b[0m\u001b[0;34m(\u001b[0m\u001b[0msim_value\u001b[0m\u001b[0;34m)\u001b[0m\u001b[0;34m\u001b[0m\u001b[0m\n\u001b[1;32m     16\u001b[0m         \u001b[0mj\u001b[0m \u001b[0;34m=\u001b[0m \u001b[0mj\u001b[0m \u001b[0;34m+\u001b[0m \u001b[0;36m1\u001b[0m\u001b[0;34m\u001b[0m\u001b[0m\n",
      "\u001b[0;32m/usr/local/lib/python3.5/dist-packages/scipy/spatial/distance.py\u001b[0m in \u001b[0;36mminkowski\u001b[0;34m(u, v, p)\u001b[0m\n\u001b[1;32m    366\u001b[0m     \u001b[0;32mif\u001b[0m \u001b[0mp\u001b[0m \u001b[0;34m<\u001b[0m \u001b[0;36m1\u001b[0m\u001b[0;34m:\u001b[0m\u001b[0;34m\u001b[0m\u001b[0m\n\u001b[1;32m    367\u001b[0m         \u001b[0;32mraise\u001b[0m \u001b[0mValueError\u001b[0m\u001b[0;34m(\u001b[0m\u001b[0;34m\"p must be at least 1\"\u001b[0m\u001b[0;34m)\u001b[0m\u001b[0;34m\u001b[0m\u001b[0m\n\u001b[0;32m--> 368\u001b[0;31m     \u001b[0mdist\u001b[0m \u001b[0;34m=\u001b[0m \u001b[0mnorm\u001b[0m\u001b[0;34m(\u001b[0m\u001b[0mu\u001b[0m \u001b[0;34m-\u001b[0m \u001b[0mv\u001b[0m\u001b[0;34m,\u001b[0m \u001b[0mord\u001b[0m\u001b[0;34m=\u001b[0m\u001b[0mp\u001b[0m\u001b[0;34m)\u001b[0m\u001b[0;34m\u001b[0m\u001b[0m\n\u001b[0m\u001b[1;32m    369\u001b[0m     \u001b[0;32mreturn\u001b[0m \u001b[0mdist\u001b[0m\u001b[0;34m\u001b[0m\u001b[0m\n\u001b[1;32m    370\u001b[0m \u001b[0;34m\u001b[0m\u001b[0m\n",
      "\u001b[0;31mKeyboardInterrupt\u001b[0m: "
     ]
    }
   ],
   "source": [
    "VarList = TransPosed.keys()\n",
    "output = pandas.DataFrame()\n",
    "count = 0\n",
    "i = 0\n",
    "j = 0\n",
    "lim = len(VarList) \n",
    "inflation = 1\n",
    "start = time()\n",
    "for var_x in VarList:\n",
    "    row = []\n",
    "    j = 0\n",
    "    for var_y in VarList:\n",
    "        #sim_value = (minkowski_distance(TransPosed[var_x], TransPosed[var_y], 1))**inflation\n",
    "        sim_value = minkowski(u = TransPosed[var_x], v = TransPosed[var_y], p =1)\n",
    "        row.append(sim_value)        \n",
    "        j = j + 1\n",
    "        if(j>lim): break\n",
    "    i = i + 1\n",
    "    if(i>lim): break\n",
    "    count = count + 1\n",
    "    #print(\" Processed similarity for:\", var_x, len(VarList)-count, \" more to go\")\n",
    "    row_ts = pandas.Series(row)\n",
    "    row_ts.name = var_x\n",
    "    output = output.append(row_ts)\n",
    "print(\"runtime is\", time()-start)\n",
    "output.columns= VarList[:lim+1]\n",
    "output[:5]"
   ]
  },
  {
   "cell_type": "markdown",
   "metadata": {},
   "source": [
    "# Patient clustering"
   ]
  },
  {
   "cell_type": "code",
   "execution_count": 22,
   "metadata": {
    "collapsed": true
   },
   "outputs": [],
   "source": [
    "# get patient similarity\n",
    "#########################\n",
    "\n",
    "\n",
    "def patient_similarity(patient_matrix, sim_type = 'cosine', minkowski_dim = None, normalised = True, inflation = 1):\n",
    "    ''' Function to get similarity measures between patients  \n",
    "        Variables:\n",
    "            patient_matrix : dataframe with patient 1..N as columns and genome expressions 1..M as rows.\n",
    "            sim_type : type of similarity measure\n",
    "                values : 'cosine', 'manhattan', 'euclidian', 'minkowski', 'kendall', 'spearman', 'pearson',\n",
    "                ‘braycurtis’, ‘canberra’, ‘chebyshev’, ‘dice’,‘hamming’, ‘jaccard’, ‘kulsinski’, ‘mahalanobis’, \n",
    "                ‘matching’, ‘rogerstanimoto’, ‘russellrao’, ‘seuclidean’, ‘sokalmichener’, ‘sokalsneath’\n",
    "            minkowski_dim : dimensionality of minkowski space\n",
    "                values : 3,4...inf (1= is manhattan, 2=euclidian)\n",
    "            normalised : boolean\n",
    "        output : \n",
    "            similarity matrix (DataFrame)       \n",
    "    '''\n",
    "    \n",
    "    if len(patient_matrix<1000): \n",
    "        if (sim_type in ['cosine', 'manhattan', 'euclidian', 'minkowski', 'braycurtis', 'canberra', 'chebyshev', 'dice','hamming', 'jaccard', 'kulsinski', 'mahalanobis', \n",
    "                    'matching', 'rogerstanimoto', 'russellrao', 'seuclidean', '‘sokalmichener', 'sokalsneath']):\n",
    "            A = numpy.array(patient_matrix)\n",
    "        else:\n",
    "            A = None\n",
    "        VarList = patient_matrix.T.keys()\n",
    "        if(sim_type == 'cosine'):        \n",
    "            similarities = cdist(A, A, metric = 'cosine')\n",
    "            patient_similarity = pandas.DataFrame(similarities, index = VarList, columns = VarList)\n",
    "        elif(sim_type == 'manhattan'):\n",
    "            similarities = cdist(A, A, metric = 'cityblock')\n",
    "            patient_similarity = pandas.DataFrame(similarities, index = VarList, columns = VarList)        \n",
    "        elif(sim_type == 'euclidian'):\n",
    "            similarities = cdist(A, A, metric = 'euclidean')\n",
    "            patient_similarity = pandas.DataFrame(similarities, index = VarList, columns = VarList)\n",
    "        elif(sim_type == 'minkowski'):\n",
    "            if (minkowski_dim == None):\n",
    "                print(\"No Minkowski dimension given! Assuming minkowski dim is 3\")\n",
    "                minkowski_dim = 3\n",
    "            similarities = cdist(A, A, metric = 'minkowski', p = minkowski_dim)\n",
    "            patient_similarity = pandas.DataFrame(similarities, index = VarList, columns = VarList)       \n",
    "        elif(sim_type in ['kendall', 'spearman', 'pearson']):\n",
    "            patient_similarity = 1-patient_matrix.T.astype('float64').corr(method = sim_type)    \n",
    "        elif(sim_type in ['braycurtis', 'canberra', 'chebyshev', 'dice','hamming', 'jaccard', 'kulsinski', 'mahalanobis', \n",
    "                    'matching', 'rogerstanimoto', 'russellrao', 'seuclidean', '‘sokalmichener', 'sokalsneath']):\n",
    "            similarities = cdist(A, A, metric = sim_type)\n",
    "            patient_similarity = pandas.DataFrame(similarities, index = VarList, columns = VarList)       \n",
    "        ###\n",
    "        if inflation > 1:\n",
    "            patient_similarity = patient_similarity**inflation\n",
    "        ###                                                               \n",
    "        if normalised == True: # ! IMPROVE, not memory efficient\n",
    "            patient_similarity = (patient_similarity - min(patient_similarity.min()))/(max(patient_similarity.max())-min(patient_similarity.min()))\n",
    "\n",
    "        patient_similarity = 1 - patient_similarity\n",
    "    else:\n",
    "        raise ValueError('More than 1000 samples not supported at this moment')\n",
    "    ###\n",
    "    return patient_similarity"
   ]
  },
  {
   "cell_type": "code",
   "execution_count": 23,
   "metadata": {},
   "outputs": [
    {
     "data": {
      "text/plain": [
       "Series([], Name: 9827_corr2.CEL, dtype: float64)"
      ]
     },
     "execution_count": 23,
     "metadata": {},
     "output_type": "execute_result"
    }
   ],
   "source": [
    "patient_sim = patient_similarity(Normal, sim_type = 'cosine', normalised = True, inflation = 2, minkowski_dim=1)\n",
    "##### apply Markov clustering\n",
    "#######################\n",
    "# non-distributed, non-sparse version, only for small-sized problems (N is order 1000)\n",
    "e = 2\n",
    "r = 2 \n",
    "epsilon = 1e-7\n",
    "convergence = 0.001\n",
    "num_iter = 12\n",
    "Orientation = 'col' # columnwise or rowwise\n",
    "\n",
    "# add loop\n",
    "def add_loop(df_matrix, value=0): \n",
    "    for i in df_matrix.index:\n",
    "        df_matrix.loc[i, i] = value\n",
    "    return df_matrix\n",
    "patient_sim = add_loop(patient_sim, 1)\n",
    "patient_sim = patient_sim - epsilon\n",
    "\n",
    "def normalise(sim, type = 'col'):\n",
    "    if(type == 'col'):\n",
    "        # column normalisation\n",
    "        for variable in sim.keys():\n",
    "            col_vec = sim[variable]\n",
    "            sum_val = sum([p for p in col_vec])\n",
    "            sim[variable] = sim[variable]/sum_val\n",
    "    elif (type == 'row'):\n",
    "        # row normalisation\n",
    "        for variable in sim.keys():\n",
    "            row_vec = sim.loc[variable, :]\n",
    "            sum_val = sum([p for p in row_vec])\n",
    "            sim.loc[variable,:] = sim.loc[variable,:]/sum_val\n",
    "    return sim\n",
    "\n",
    "# step E: expansion, get the nth power of the matrix\n",
    "def expansion(sim):\n",
    "    X = numpy.array(sim)\n",
    "    VarList = sim.keys()\n",
    "    if e == 1:\n",
    "        return sim\n",
    "    elif e > 1:        \n",
    "        return pandas.DataFrame(numpy.linalg.matrix_power(X, e), index = VarList, columns = VarList)\n",
    "     \n",
    "# step I: inflation, per column raise by rth power and column normalise\n",
    "def inflation(sim, type = 'col'):    \n",
    "    if type == 'col':\n",
    "        Axis = 0\n",
    "    elif type == 'row':\n",
    "        Axis = 1\n",
    "    return sim.apply(lambda x: x**r/sum(x**r), axis = Axis)\n",
    "\n",
    "# remove weak connections, values < epsilon\n",
    "def clean(sim):\n",
    "    return sim.applymap(lambda x:0 if x<epsilon else x)\n",
    "    \n",
    "def difference(old, new):\n",
    "    # relative zeroes over entire array\n",
    "    #return (new.apply(lambda x: numpy.ceil(x-epsilon)) - old.apply(lambda x: numpy.ceil(x-epsilon))).sum().sum()/len(old)**2    \n",
    "    return abs(new - old).sum().sum()/len(old)**2    \n",
    "\n",
    "#patient_sim = normalise(patient_sim, type = Orientation)\n",
    "_sim_a = patient_sim\n",
    "for i in range(0,num_iter):\n",
    "    # repeat E and I until convergence, the row-wise elements form the clusters.\n",
    "    _sim_b = clean(inflation(expansion(_sim_a), type = Orientation))\n",
    "    #if ((difference(_sim_a, _sim_b)) < convergence) & (i>0):\n",
    "    #    print(difference(_sim_a, _sim_b))\n",
    "    #    print(\"CONVERGED after \", i, \" iterations\")\n",
    "    #    break;\n",
    "    _sim_a = _sim_b\n",
    "\n",
    "result_mcl = clean(_sim_b)\n",
    "result_mcl.loc[result_mcl.loc['9827_corr2.CEL',:]>epsilon, '9827_corr2.CEL']\n",
    "# fetch clusters\n",
    "#############\n",
    "\n"
   ]
  },
  {
   "cell_type": "code",
   "execution_count": 102,
   "metadata": {
    "scrolled": true
   },
   "outputs": [
    {
     "name": "stdout",
     "output_type": "stream",
     "text": [
      "Cluster centers: ['1509.CEL' '8639.CEL' '5515.CEL' '6278.CEL']\n",
      "[1 1 1 3 3 2 3 3 2 3 3 2 2 3 3 3 3 2 3 3 2 3 3 3 3 3 2 2 3 2 2 2 3 2 2 2 2\n",
      " 2 2 3 2 3 3 1 2 2 3 3 3 2 2 2 2 1 1 2 2 3 3 2 2 3 1 3 2 2 2 2 2 2 1 2 0 2\n",
      " 2 2 3 2 2 3 2 0 1 1 1 0 2 1 0 1 0 0 1 1 2 1 1 1 1 1 1 0 0 0 1 1 1 2 1 0 0\n",
      " 1 0 1 1 1 1 1 0 1 0 1 1 2 1 1 0 1 1 0 0 0 1 1 0 1 1 1 1 1 0 1 2 3 2 1 3 1\n",
      " 1 1 0 0 0 1 1 1 1 0 2 1 0 1 0 2 2 1 1 1 1 1 1 1 2 1 2 1 2 1 1 1 1 1 1 1 0\n",
      " 1 1 1 1 1 1 1 1 1 0 1 1 1 1 1 1 1 1 2 2 3 2 2 2 2 2 2 3 3 3 2 2 2 1 2 2 2\n",
      " 3 2 2 2 2 2 3 2 3 3 2 2 3 3 2 0 2 2 2 2 3 2 2 2 2 1 3 2 2 3 3 3 3 2 3 3 2\n",
      " 3 2 2 3 2 3 3 2 2 3 3 2 3 2 3 2 3 3 1 2 3 2 3 2 1 2 3 3 3 3 3 2 2 2 3 2 3\n",
      " 3 3 2 2 2 2 3 3 1 2 3 3 3 1 3]\n"
     ]
    }
   ],
   "source": [
    "patient_sim = patient_similarity(Normal, sim_type = 'euclidian', normalised = True, inflation=1, minkowski_dim=1)\n",
    "##### apply Affinity Propagation\n",
    "#######################\n",
    "X = numpy.array(patient_sim)\n",
    "af = AffinityPropagation(preference=-50).fit(X)\n",
    "cluster_centers_indices = af.cluster_centers_indices_\n",
    "cluster_labels = af.labels_\n",
    "n_clusters_ = len(cluster_centers_indices)\n",
    "print(\"Cluster centers:\",patient_sim.keys()[cluster_centers_indices].values)\n",
    "print(af.labels_)"
   ]
  },
  {
   "cell_type": "code",
   "execution_count": 116,
   "metadata": {},
   "outputs": [
    {
     "data": {
      "text/html": [
       "<div>\n",
       "<style>\n",
       "    .dataframe thead tr:only-child th {\n",
       "        text-align: right;\n",
       "    }\n",
       "\n",
       "    .dataframe thead th {\n",
       "        text-align: left;\n",
       "    }\n",
       "\n",
       "    .dataframe tbody tr th {\n",
       "        vertical-align: top;\n",
       "    }\n",
       "</style>\n",
       "<table border=\"1\" class=\"dataframe\">\n",
       "  <thead>\n",
       "    <tr style=\"text-align: right;\">\n",
       "      <th></th>\n",
       "      <th>FU_RFS</th>\n",
       "    </tr>\n",
       "  </thead>\n",
       "  <tbody>\n",
       "  </tbody>\n",
       "</table>\n",
       "</div>"
      ],
      "text/plain": [
       "Empty DataFrame\n",
       "Columns: [FU_RFS]\n",
       "Index: []"
      ]
     },
     "execution_count": 116,
     "metadata": {},
     "output_type": "execute_result"
    }
   ],
   "source": [
    "AggResults[AggResults['FU_RFS'].apply(lambda x: isnan(x) is False)].groupby(['Treatment risk group in ALL10', 'cluster_ap']).agg({'FU_RFS': numpy.mean })"
   ]
  },
  {
   "cell_type": "code",
   "execution_count": 117,
   "metadata": {},
   "outputs": [
    {
     "data": {
      "text/plain": [
       "1       75.000000\n",
       "2       64.000000\n",
       "3       64.000000\n",
       "4       72.000000\n",
       "5       31.000000\n",
       "6      183.000000\n",
       "7      141.000000\n",
       "8       67.000000\n",
       "9       86.000000\n",
       "10       2.000000\n",
       "11     139.000000\n",
       "12     111.000000\n",
       "13     114.000000\n",
       "14      14.000000\n",
       "15       9.000000\n",
       "16      19.000000\n",
       "17      62.000000\n",
       "18      63.000000\n",
       "19      13.000000\n",
       "20       9.000000\n",
       "21      83.000000\n",
       "22     132.000000\n",
       "23      12.000000\n",
       "24      87.000000\n",
       "25     136.000000\n",
       "26       8.000000\n",
       "27       8.000000\n",
       "28      74.000000\n",
       "29      74.000000\n",
       "30      37.000000\n",
       "          ...    \n",
       "101      7.000000\n",
       "102    106.849315\n",
       "103     94.093151\n",
       "104     37.972603\n",
       "105     67.594521\n",
       "106     78.115068\n",
       "107     61.512329\n",
       "108     11.802740\n",
       "109     11.704110\n",
       "110      9.000000\n",
       "111      9.000000\n",
       "112     99.682192\n",
       "113     19.002740\n",
       "114     19.002740\n",
       "115      0.821918\n",
       "116     48.427397\n",
       "117     55.232877\n",
       "118     13.446575\n",
       "119     85.216438\n",
       "120     63.090411\n",
       "121     95.572603\n",
       "122     83.605479\n",
       "123     82.290411\n",
       "124     79.167123\n",
       "125     50.235616\n",
       "126     37.742466\n",
       "127     82.389041\n",
       "128     82.389041\n",
       "129      6.410959\n",
       "134     22.553425\n",
       "Name: FU_RFS, Length: 130, dtype: float64"
      ]
     },
     "execution_count": 117,
     "metadata": {},
     "output_type": "execute_result"
    }
   ],
   "source": [
    "AggResults[AggResults['FU_RFS'].apply(lambda x: isnan(x) is False)]['FU_RFS']"
   ]
  },
  {
   "cell_type": "code",
   "execution_count": 115,
   "metadata": {},
   "outputs": [
    {
     "name": "stderr",
     "output_type": "stream",
     "text": [
      "c:\\users\\bramva~1\\envs\\worken~1\\lib\\site-packages\\ipykernel_launcher.py:4: SettingWithCopyWarning: \n",
      "A value is trying to be set on a copy of a slice from a DataFrame.\n",
      "Try using .loc[row_indexer,col_indexer] = value instead\n",
      "\n",
      "See the caveats in the documentation: http://pandas.pydata.org/pandas-docs/stable/indexing.html#indexing-view-versus-copy\n",
      "  after removing the cwd from sys.path.\n",
      "c:\\users\\bramva~1\\envs\\worken~1\\lib\\site-packages\\ipykernel_launcher.py:5: SettingWithCopyWarning: \n",
      "A value is trying to be set on a copy of a slice from a DataFrame.\n",
      "Try using .loc[row_indexer,col_indexer] = value instead\n",
      "\n",
      "See the caveats in the documentation: http://pandas.pydata.org/pandas-docs/stable/indexing.html#indexing-view-versus-copy\n",
      "  \"\"\"\n"
     ]
    },
    {
     "data": {
      "text/html": [
       "<div>\n",
       "<style>\n",
       "    .dataframe thead tr:only-child th {\n",
       "        text-align: right;\n",
       "    }\n",
       "\n",
       "    .dataframe thead th {\n",
       "        text-align: left;\n",
       "    }\n",
       "\n",
       "    .dataframe tbody tr th {\n",
       "        vertical-align: top;\n",
       "    }\n",
       "</style>\n",
       "<table border=\"1\" class=\"dataframe\">\n",
       "  <thead>\n",
       "    <tr style=\"text-align: right;\">\n",
       "      <th></th>\n",
       "      <th></th>\n",
       "      <th>FU_RFS</th>\n",
       "    </tr>\n",
       "    <tr>\n",
       "      <th>Treatment risk group in ALL10</th>\n",
       "      <th>cluster_ap</th>\n",
       "      <th></th>\n",
       "    </tr>\n",
       "  </thead>\n",
       "  <tbody>\n",
       "  </tbody>\n",
       "</table>\n",
       "</div>"
      ],
      "text/plain": [
       "Empty DataFrame\n",
       "Columns: [FU_RFS]\n",
       "Index: []"
      ]
     },
     "execution_count": 115,
     "metadata": {},
     "output_type": "execute_result"
    }
   ],
   "source": [
    "AggResults = Rocket.DATA_merged\n",
    "AggResults = _helpers._preprocess(AggResults)\n",
    "AggResults = _helpers._group_patients(AggResults, method = 'mean')\n",
    "AggResults['cluster_ap'] = cluster_labels\n",
    "AggResults['FU_RFS'] = pandas.to_numeric(AggResults['FU_RFS'])\n",
    "#AggResults.groupby(['Treatment risk group in ALL10', 'cluster_ap']).agg({'Microarray file': pandas.Series.nunique})\n",
    "AggResults[AggResults['FU_RFS'].apply(lambda x: isnan(x) is False)].groupby(['Treatment risk group in ALL10', 'cluster_ap']).agg({'FU_RFS': numpy.mean })"
   ]
  },
  {
   "cell_type": "code",
   "execution_count": 79,
   "metadata": {},
   "outputs": [
    {
     "name": "stdout",
     "output_type": "stream",
     "text": [
      "Cluster centers: ['KGK_Tall_JL_7415.CEL' '2113.CEL' '8639.CEL']\n",
      "[2 2 2 0 0 0 0 0 0 0 0 0 0 0 0 0 0 0 0 0 0 0 0 0 0 0 0 0 0 0 0 0 0 0 0 0 0\n",
      " 0 0 0 0 0 0 2 0 0 0 0 0 0 0 0 0 2 0 0 0 0 0 0 0 0 2 0 0 0 0 0 0 0 2 0 2 0\n",
      " 0 0 0 0 2 0 2 2 2 2 2 2 2 2 1 2 1 1 2 2 2 2 2 2 2 2 2 2 1 1 2 2 2 2 2 2 2\n",
      " 2 1 2 2 2 2 2 2 2 1 2 2 0 2 2 1 2 2 1 1 1 2 2 1 2 2 2 2 2 2 2 2 0 2 2 0 2\n",
      " 2 2 1 2 2 2 2 2 2 1 2 2 1 2 2 2 0 2 2 2 2 2 2 2 0 2 0 2 2 2 2 2 2 2 2 2 2\n",
      " 2 2 2 2 2 2 2 2 2 2 2 2 2 2 2 2 2 2 0 0 0 0 0 0 0 0 0 0 0 0 0 0 0 2 0 0 0\n",
      " 0 0 0 0 0 0 0 0 0 0 0 0 0 0 0 2 0 0 0 0 0 0 0 2 0 2 0 0 0 0 0 0 0 0 0 0 0\n",
      " 0 0 0 0 0 0 0 0 0 0 0 0 0 0 2 0 0 0 2 0 0 0 0 0 2 2 0 0 0 0 0 0 0 2 0 0 0\n",
      " 0 0 0 0 0 0 0 0 2 0 0 0 0 2 2]\n"
     ]
    },
    {
     "data": {
      "image/png": "[encoded data removed]",
      "text/plain": [
       "<matplotlib.figure.Figure at 0x1fc6152cb38>"
      ]
     },
     "metadata": {},
     "output_type": "display_data"
    }
   ],
   "source": [
    "print(\"Cluster centers:\",patient_sim.keys()[cluster_centers_indices].values)\n",
    "print(cluster_labels)\n",
    "\n",
    "plt.close('all')\n",
    "plt.figure(figsize=(14,9))\n",
    "plt.clf()\n",
    "\n",
    "colors = cycle('bgrcmykbgrcmykbgrcmykbgrcmyk')\n",
    "for k, col in zip(range(n_clusters_), colors):\n",
    "    class_members = cluster_labels == k\n",
    "    cluster_center = X[cluster_centers_indices[k]]\n",
    "    plt.plot(X[class_members, 0], X[class_members, 1], col + '.', \n",
    "             label = patient_sim.keys()[cluster_centers_indices[k]])\n",
    "    plt.plot(cluster_center[0], cluster_center[1], 'o', markerfacecolor=col,\n",
    "             markeredgecolor='k', markersize=14)\n",
    "    for x in X[class_members]:\n",
    "        plt.plot([cluster_center[0], x[0]], [cluster_center[1], x[1]], col)\n",
    "\n",
    "plt.legend()\n",
    "        \n",
    "plt.title('Estimated number of clusters from Affinity Propagation: %d' % n_clusters_)\n",
    "plt.show()"
   ]
  },
  {
   "cell_type": "code",
   "execution_count": 19,
   "metadata": {
    "collapsed": true
   },
   "outputs": [],
   "source": [
    "##### CREATE graph from similarity matrix\n",
    "##################\n",
    "# nodes\n",
    "VarList = TransPosed.keys()\n",
    "nodes = []\n",
    "node_index = 0\n",
    "for patient_name in VarList:\n",
    "    nodes.append((node_index, {'name': patient_name}))\n",
    "    node_index = node_index + 1\n",
    "\n",
    "edges = []\n",
    "# edges\n",
    "patient_sim = patient_similarity(Normal, sim_type = 'pearson', normalised = True, inflation=2)\n",
    "node_index_x = 0\n",
    "node_index_y = 0\n",
    "for patient_name_x in VarList:\n",
    "    for patient_name_y in VarList:        \n",
    "        edges.append((node_index_x, node_index_y, patient_sim.iloc[node_index_x, node_index_y]))\n",
    "        node_index_y = node_index_y + 1\n",
    "    node_index_x = node_index_x + 1\n",
    "    node_index_y = 0"
   ]
  },
  {
   "cell_type": "code",
   "execution_count": 20,
   "metadata": {
    "collapsed": true
   },
   "outputs": [],
   "source": [
    "import networkx as nx\n",
    "G = nx.Graph()\n",
    "G.add_nodes_from(nodes)\n",
    "G.add_weighted_edges_from(edges, weight = 'weight')"
   ]
  },
  {
   "cell_type": "code",
   "execution_count": 23,
   "metadata": {},
   "outputs": [
    {
     "name": "stderr",
     "output_type": "stream",
     "text": [
      "c:\\users\\bramva~1\\envs\\worken~1\\lib\\site-packages\\networkx\\drawing\\nx_pylab.py:126: MatplotlibDeprecationWarning: pyplot.hold is deprecated.\n",
      "    Future behavior will be consistent with the long-time default:\n",
      "    plot commands add elements without first clearing the\n",
      "    Axes and/or Figure.\n",
      "  b = plt.ishold()\n",
      "c:\\users\\bramva~1\\envs\\worken~1\\lib\\site-packages\\networkx\\drawing\\nx_pylab.py:138: MatplotlibDeprecationWarning: pyplot.hold is deprecated.\n",
      "    Future behavior will be consistent with the long-time default:\n",
      "    plot commands add elements without first clearing the\n",
      "    Axes and/or Figure.\n",
      "  plt.hold(b)\n",
      "c:\\users\\bramva~1\\envs\\worken~1\\lib\\site-packages\\matplotlib\\__init__.py:917: UserWarning: axes.hold is deprecated. Please remove it from your matplotlibrc and/or style files.\n",
      "  warnings.warn(self.msg_depr_set % key)\n",
      "c:\\users\\bramva~1\\envs\\worken~1\\lib\\site-packages\\matplotlib\\rcsetup.py:152: UserWarning: axes.hold is deprecated, will be removed in 3.0\n",
      "  warnings.warn(\"axes.hold is deprecated, will be removed in 3.0\")\n"
     ]
    },
    {
     "data": {
      "image/png": "[encoded data removed]",
      "text/plain": [
       "<matplotlib.figure.Figure at 0x1f31beac128>"
      ]
     },
     "metadata": {},
     "output_type": "display_data"
    }
   ],
   "source": [
    "##### apply Spring-force\n",
    "#######################\n",
    "pos = nx.spring_layout(G, k = None, dim = 3, scale = 1.0)\n",
    "nx.draw_spring(G, k = 30, dim = 2, scale = 1.0, iterations =1500)\n",
    "plt.show()"
   ]
  },
  {
   "cell_type": "code",
   "execution_count": null,
   "metadata": {
    "collapsed": true
   },
   "outputs": [],
   "source": [
    "##### APPLY community detector\n",
    "# maximize betweenness and modularity\n",
    "##################################\n"
   ]
  },
  {
   "cell_type": "code",
   "execution_count": 12,
   "metadata": {
    "collapsed": true
   },
   "outputs": [],
   "source": [
    "##### LOAD IN DATA\n",
    "###################\n",
    "# https://stackoverflow.com/questions/14529838/apply-multiple-functions-to-multiple-groupby-columns\n",
    "# "
   ]
  },
  {
   "cell_type": "code",
   "execution_count": 3,
   "metadata": {
    "collapsed": true
   },
   "outputs": [],
   "source": [
    "df = _helpers._preprocess(Rocket.DATA_merged) \n",
    "df = _helpers._group_patients(df, method = 'mean')"
   ]
  },
  {
   "cell_type": "code",
   "execution_count": 4,
   "metadata": {
    "collapsed": true
   },
   "outputs": [],
   "source": [
    "x,y =_helpers._get_matrix(df, features = 'genomic', target = 'Treatment risk group in ALL10')"
   ]
  },
  {
   "cell_type": "code",
   "execution_count": 8,
   "metadata": {
    "collapsed": true
   },
   "outputs": [],
   "source": [
    "import rvm"
   ]
  },
  {
   "cell_type": "code",
   "execution_count": 10,
   "metadata": {},
   "outputs": [
    {
     "name": "stdout",
     "output_type": "stream",
     "text": [
      "Initial alpha = [[ 0.06842466]]\n",
      "   1 - L=-533.8767583 - Gamma= 1.9999690 (M=   2) - s=0.0100\n",
      "   2 - L=-401.1326235 - Gamma= 2.9999013 (M=   3) - s=0.0100\n",
      "   3 - L=-314.6557264 - Gamma= 3.9998001 (M=   4) - s=0.0100\n",
      "   4 - L=-230.4649697 - Gamma= 4.9996848 (M=   5) - s=0.0100\n",
      "   5 - L=-168.4427812 - Gamma= 5.9995453 (M=   6) - s=0.0100\n",
      "   6 - L=-124.5886979 - Gamma= 6.9993379 (M=   7) - s=0.0100\n",
      "   7 - L=-85.6788568 - Gamma= 7.9991076 (M=   8) - s=0.0100\n",
      "   8 - L=-60.6315230 - Gamma= 8.9987308 (M=   9) - s=0.0100\n",
      "   9 - L=-39.5693949 - Gamma= 9.9982879 (M=  10) - s=0.0100\n",
      "  10 - L=-26.7530268 - Gamma=10.9975931 (M=  11) - s=0.0100\n",
      "  11 - L=-17.8198787 - Gamma=11.9964672 (M=  12) - s=0.0100\n",
      "  12 - L=-12.6658705 - Gamma=12.9947616 (M=  13) - s=0.0100\n",
      "  13 - L=-8.4645632 - Gamma=13.9925180 (M=  14) - s=0.0100\n",
      "  14 - L=-4.7573195 - Gamma=14.9898505 (M=  15) - s=0.0100\n",
      "  15 - L=-2.5663243 - Gamma=15.9856908 (M=  16) - s=0.0100\n",
      "  16 - L=-0.8421159 - Gamma=16.9804673 (M=  17) - s=0.0100\n",
      "  17 - L= 0.5714243 - Gamma=17.9741503 (M=  18) - s=0.0100\n",
      "  18 - L= 1.2816298 - Gamma=18.9624887 (M=  19) - s=0.0100\n",
      "  19 - L= 1.8082271 - Gamma=19.9465609 (M=  20) - s=0.0100\n",
      "  20 - L= 2.2483812 - Gamma=20.9230540 (M=  21) - s=0.0100\n",
      "  21 - L= 2.4766343 - Gamma=21.8889705 (M=  22) - s=0.0100\n",
      "  22 - L= 2.5986364 - Gamma=22.8306293 (M=  23) - s=0.0100\n",
      "  23 - L= 2.6870513 - Gamma=23.7493630 (M=  24) - s=0.0100\n",
      "  24 - L= 2.7451293 - Gamma=24.6466444 (M=  25) - s=0.0100\n",
      "  25 - L= 2.7863358 - Gamma=25.5103445 (M=  26) - s=0.0100\n",
      "  26 - L= 2.8008515 - Gamma=26.2567840 (M=  27) - s=0.0100\n",
      "  27 - L= 2.8043539 - Gamma=26.7784382 (M=  28) - s=0.0100\n",
      "  28 - L= 2.8071203 - Gamma=26.7839040 (M=  28) - s=0.0100\n",
      "  29 - L= 2.8099130 - Gamma=27.2546807 (M=  29) - s=0.0100\n",
      "  30 - L= 2.8127619 - Gamma=27.2561481 (M=  29) - s=0.0100\n",
      "  31 - L= 2.8154834 - Gamma=27.2562906 (M=  29) - s=0.0100\n",
      "  32 - L= 2.8175460 - Gamma=27.2575016 (M=  29) - s=0.0100\n",
      "  33 - L= 2.8191970 - Gamma=27.2578481 (M=  29) - s=0.0100\n",
      "  34 - L= 2.8208402 - Gamma=27.2579336 (M=  29) - s=0.0100\n",
      "  35 - L= 2.8223425 - Gamma=27.2655897 (M=  29) - s=0.0100\n",
      "  36 - L= 2.8234879 - Gamma=27.2650975 (M=  29) - s=0.0100\n",
      "  37 - L= 2.8246211 - Gamma=27.1623974 (M=  29) - s=0.0100\n",
      "  38 - L= 2.8255129 - Gamma=27.1645523 (M=  29) - s=0.0100\n",
      "  39 - L= 2.8262019 - Gamma=27.1245567 (M=  29) - s=0.0100\n",
      "  40 - L= 2.8267267 - Gamma=27.1257000 (M=  29) - s=0.0100\n",
      "  41 - L= 2.8272539 - Gamma=27.1437046 (M=  29) - s=0.0100\n",
      "  42 - L= 2.8277367 - Gamma=27.1438118 (M=  29) - s=0.0100\n",
      "  43 - L= 2.8282041 - Gamma=27.3852699 (M=  30) - s=0.0100\n",
      "  44 - L= 2.8286548 - Gamma=27.3852491 (M=  30) - s=0.0100\n",
      "  45 - L= 2.8289794 - Gamma=27.3884272 (M=  30) - s=0.0100\n",
      "  46 - L= 2.8291978 - Gamma=27.3884466 (M=  30) - s=0.0100\n",
      "  47 - L= 2.8293982 - Gamma=27.3923814 (M=  30) - s=0.0100\n",
      "  48 - L= 2.8295584 - Gamma=27.4098155 (M=  30) - s=0.0100\n",
      "  49 - L= 2.8296845 - Gamma=27.4099912 (M=  30) - s=0.0100\n",
      "  50 - L= 2.8298080 - Gamma=27.4107699 (M=  30) - s=0.0100\n",
      "  51 - L= 2.8299287 - Gamma=27.4107335 (M=  30) - s=0.0100\n",
      "  52 - L= 2.8300247 - Gamma=27.5279753 (M=  31) - s=0.0100\n",
      "  53 - L= 2.8301659 - Gamma=27.4401669 (M=  31) - s=0.0100\n",
      "  54 - L= 2.8302454 - Gamma=27.4401743 (M=  31) - s=0.0100\n",
      "  55 - L= 2.8303018 - Gamma=27.5193874 (M=  31) - s=0.0100\n",
      "  56 - L= 2.8303490 - Gamma=27.4917231 (M=  31) - s=0.0100\n",
      "  57 - L= 2.8304002 - Gamma=27.4414207 (M=  31) - s=0.0100\n",
      "  58 - L= 2.8304727 - Gamma=27.5192861 (M=  31) - s=0.0100\n",
      "  59 - L= 2.8305023 - Gamma=27.5890632 (M=  32) - s=0.0100\n",
      "  60 - L= 2.8305663 - Gamma=27.5264864 (M=  32) - s=0.0100\n",
      "  61 - L= 2.8306181 - Gamma=27.5942891 (M=  32) - s=0.0100\n",
      "  62 - L= 2.8307231 - Gamma=27.5056210 (M=  32) - s=0.0100\n",
      "  63 - L= 2.8307758 - Gamma=27.4732286 (M=  32) - s=0.0100\n",
      "  64 - L= 2.8308476 - Gamma=27.5437335 (M=  32) - s=0.0100\n",
      "  65 - L= 2.8309106 - Gamma=27.6355516 (M=  32) - s=0.0100\n",
      "  66 - L= 2.8310438 - Gamma=27.5314377 (M=  32) - s=0.0100\n",
      "  67 - L= 2.8311493 - Gamma=27.6124151 (M=  32) - s=0.0100\n",
      "  68 - L= 2.8312452 - Gamma=27.5619111 (M=  32) - s=0.0100\n",
      "  69 - L= 2.8313437 - Gamma=27.4565070 (M=  32) - s=0.0100\n",
      "  70 - L= 2.8314605 - Gamma=27.5678680 (M=  32) - s=0.0100\n",
      "  71 - L= 2.8315150 - Gamma=27.5001046 (M=  31) - s=0.0100\n",
      "  72 - L= 2.8316357 - Gamma=27.5788483 (M=  31) - s=0.0100\n",
      "  73 - L= 2.8318182 - Gamma=27.4361651 (M=  31) - s=0.0100\n",
      "  74 - L= 2.8319266 - Gamma=27.4427567 (M=  31) - s=0.0100\n",
      "  75 - L= 2.8320237 - Gamma=27.5103383 (M=  31) - s=0.0100\n",
      "  76 - L= 2.8321436 - Gamma=27.4425113 (M=  31) - s=0.0100\n",
      "  77 - L= 2.8322680 - Gamma=27.5101015 (M=  31) - s=0.0100\n",
      "  78 - L= 2.8323318 - Gamma=27.4113390 (M=  31) - s=0.0100\n",
      "  79 - L= 2.8323560 - Gamma=27.4385000 (M=  31) - s=0.0100\n",
      "  80 - L= 2.8323627 - Gamma=27.4213732 (M=  30) - s=0.0100\n",
      "  81 - L= 2.8323852 - Gamma=27.4183952 (M=  30) - s=0.0100\n",
      "  82 - L= 2.8324063 - Gamma=27.4618172 (M=  30) - s=0.0100\n",
      "  83 - L= 2.8324205 - Gamma=27.4618363 (M=  30) - s=0.0100\n",
      "  84 - L= 2.8324294 - Gamma=27.4415829 (M=  30) - s=0.0100\n",
      "  85 - L= 2.8324387 - Gamma=27.4433700 (M=  30) - s=0.0100"
     ]
    },
    {
     "name": "stderr",
     "output_type": "stream",
     "text": [
      "C:\\Users\\Bram van Es\\DEV\\RexR\\rvm.py:289: RuntimeWarning: invalid value encountered in log\n",
      "  change = np.abs(np.log(newAlpha) - np.log(self.Alpha[j]))\n"
     ]
    },
    {
     "name": "stdout",
     "output_type": "stream",
     "text": [
      "\n",
      "  86 - L= 2.8324476 - Gamma=27.4622424 (M=  30) - s=0.0100\n",
      "  87 - L= 2.8324558 - Gamma=27.4614683 (M=  30) - s=0.0100\n",
      "  88 - L= 2.8324634 - Gamma=27.4615825 (M=  30) - s=0.0100\n",
      "  89 - L= 2.8324696 - Gamma=27.4615289 (M=  30) - s=0.0100\n",
      "  90 - L= 2.8324757 - Gamma=27.4613217 (M=  30) - s=0.0100\n",
      "  91 - L= 2.8324812 - Gamma=27.4609163 (M=  30) - s=0.0100\n",
      "  92 - L= 2.8324858 - Gamma=27.4608718 (M=  30) - s=0.0100\n",
      "  93 - L= 2.8324892 - Gamma=27.4705609 (M=  30) - s=0.0100\n",
      "  94 - L= 2.8324915 - Gamma=27.4705833 (M=  30) - s=0.0100\n",
      "  95 - L= 2.8324937 - Gamma=27.4706085 (M=  30) - s=0.0100\n",
      "  96 - L= 2.8324957 - Gamma=27.4708329 (M=  30) - s=0.0100\n",
      "  97 - L= 2.8324974 - Gamma=27.4617622 (M=  30) - s=0.0100\n",
      "  98 - L= 2.8324988 - Gamma=27.4596321 (M=  30) - s=0.0100\n",
      "  99 - L= 2.8325002 - Gamma=27.4596375 (M=  30) - s=0.0100\n",
      " 100 - L= 2.8325015 - Gamma=27.4637607 (M=  30) - s=0.0100\n",
      " 101 - L= 2.8325028 - Gamma=27.4630076 (M=  30) - s=0.0100\n",
      " 102 - L= 2.8325039 - Gamma=27.4630000 (M=  30) - s=0.0100\n",
      " 103 - L= 2.8325047 - Gamma=27.4640836 (M=  30) - s=0.0100\n",
      " 104 - L= 2.8325052 - Gamma=27.4640852 (M=  30) - s=0.0100\n",
      " 105 - L= 2.8325054 - Gamma=27.4640866 (M=  30) - s=0.0100\n",
      " 106 - L= 2.8325056 - Gamma=27.4688489 (M=  31) - s=0.0100\n",
      " 107 - L= 2.8325057 - Gamma=27.4721512 (M=  31) - s=0.0100\n",
      " 108 - L= 2.8325058 - Gamma=27.4721516 (M=  31) - s=0.0100\n",
      " 109 - L= 2.8325059 - Gamma=27.4723415 (M=  31) - s=0.0100\n",
      " 110 - L= 2.8325060 - Gamma=27.4702776 (M=  31) - s=0.0100\n",
      " 111 - L= 2.8325061 - Gamma=27.4718388 (M=  31) - s=0.0100\n",
      " 112 - L= 2.8325061 - Gamma=27.4718539 (M=  31) - s=0.0100\n",
      " 113 - L= 2.8325062 - Gamma=27.4718581 (M=  31) - s=0.0100\n",
      " 114 - L= 2.8325062 - Gamma=27.4717502 (M=  31) - s=0.0100\n",
      " 115 - L= 2.8325062 - Gamma=27.4707878 (M=  31) - s=0.0100\n",
      " 116 - L= 2.8325063 - Gamma=27.4737859 (M=  31) - s=0.0100\n",
      " 117 - L= 2.8325063 - Gamma=27.4721696 (M=  31) - s=0.0100\n",
      " 118 - L= 2.8325064 - Gamma=27.4739362 (M=  31) - s=0.0100\n",
      " 119 - L= 2.8325064 - Gamma=27.4725595 (M=  31) - s=0.0100\n",
      " 120 - L= 2.8325064 - Gamma=27.4740999 (M=  31) - s=0.0100\n",
      " 121 - L= 2.8325065 - Gamma=27.4740696 (M=  31) - s=0.0100\n",
      " 122 - L= 2.8325065 - Gamma=27.4757638 (M=  31) - s=0.0100\n",
      " 123 - L= 2.8325065 - Gamma=27.4746604 (M=  31) - s=0.0100\n",
      " 124 - L= 2.8325065 - Gamma=27.4745566 (M=  31) - s=0.0100\n",
      " 125 - L= 2.8325066 - Gamma=27.4761395 (M=  31) - s=0.0100\n",
      " 126 - L= 2.8325066 - Gamma=27.4748588 (M=  31) - s=0.0100\n",
      " 127 - L= 2.8325066 - Gamma=27.4764258 (M=  31) - s=0.0100\n",
      " 128 - L= 2.8325066 - Gamma=27.4753714 (M=  31) - s=0.0100\n",
      " 129 - L= 2.8325067 - Gamma=27.4753632 (M=  31) - s=0.0100\n",
      " 130 - L= 2.8325067 - Gamma=27.4753682 (M=  31) - s=0.0100\n",
      " 131 - L= 2.8325067 - Gamma=27.4752251 (M=  31) - s=0.0100\n",
      " 132 - L= 2.8325067 - Gamma=27.4765468 (M=  31) - s=0.0100\n",
      " 133 - L= 2.8325067 - Gamma=27.4757348 (M=  31) - s=0.0100\n",
      " 134 - L= 2.8325067 - Gamma=27.4769563 (M=  31) - s=0.0100\n",
      " 135 - L= 2.8325067 - Gamma=27.4768893 (M=  31) - s=0.0100\n",
      " 136 - L= 2.8325067 - Gamma=27.4780722 (M=  31) - s=0.0100\n",
      " 137 - L= 2.8325068 - Gamma=27.4770917 (M=  31) - s=0.0100\n",
      " 138 - L= 2.8325068 - Gamma=27.4781446 (M=  31) - s=0.0100\n",
      " 139 - L= 2.8325068 - Gamma=27.4772730 (M=  31) - s=0.0100\n",
      " 140 - L= 2.8325068 - Gamma=27.4783286 (M=  31) - s=0.0100\n",
      " 141 - L= 2.8325068 - Gamma=27.4776629 (M=  31) - s=0.0100\n",
      " 142 - L= 2.8325068 - Gamma=27.4776866 (M=  31) - s=0.0100\n",
      " 143 - L= 2.8325068 - Gamma=27.4776848 (M=  31) - s=0.0100\n",
      " 144 - L= 2.8325068 - Gamma=27.4776860 (M=  31) - s=0.0100\n",
      " 145 - L= 2.8325068 - Gamma=27.4785316 (M=  31) - s=0.0100\n",
      " 146 - L= 2.8325068 - Gamma=27.4779527 (M=  31) - s=0.0100\n",
      " 147 - L= 2.8325069 - Gamma=27.4778970 (M=  31) - s=0.0100\n",
      " 148 - L= 2.8325069 - Gamma=27.4786338 (M=  31) - s=0.0100\n",
      " 149 - L= 2.8325069 - Gamma=27.4795040 (M=  31) - s=0.0100\n",
      " 150 - L= 2.8325069 - Gamma=27.4788642 (M=  31) - s=0.0100\n",
      " 151 - L= 2.8325069 - Gamma=27.4788513 (M=  31) - s=0.0100\n",
      " 152 - L= 2.8325069 - Gamma=27.4795590 (M=  31) - s=0.0100\n",
      " 153 - L= 2.8325069 - Gamma=27.4789480 (M=  31) - s=0.0100\n",
      " 154 - L= 2.8325069 - Gamma=27.4791919 (M=  31) - s=0.0100\n",
      " 155 - L= 2.8325069 - Gamma=27.4791919 (M=  31) - s=0.0100\n",
      "Stopping at iteration 155 - max_delta_ml=1.859414057909267e-07\n",
      "L=2.8325068949086107 - Gamma=27.479191946557293 (M=31) - s=0.01\n"
     ]
    }
   ],
   "source": [
    "model = rvm.rvm(x,y, noise = 0.01)\n",
    "model.iterateUntilConvergence()"
   ]
  },
  {
   "cell_type": "code",
   "execution_count": 19,
   "metadata": {},
   "outputs": [
    {
     "ename": "NameError",
     "evalue": "name 'x_test' is not defined",
     "output_type": "error",
     "traceback": [
      "\u001b[1;31m---------------------------------------------------------------------------\u001b[0m",
      "\u001b[1;31mNameError\u001b[0m                                 Traceback (most recent call last)",
      "\u001b[1;32m<ipython-input-19-8b3c345f1c72>\u001b[0m in \u001b[0;36m<module>\u001b[1;34m()\u001b[0m\n\u001b[1;32m----> 1\u001b[1;33m \u001b[0mpreds\u001b[0m \u001b[1;33m=\u001b[0m \u001b[0mnp\u001b[0m\u001b[1;33m.\u001b[0m\u001b[0mreshape\u001b[0m\u001b[1;33m(\u001b[0m\u001b[0mnp\u001b[0m\u001b[1;33m.\u001b[0m\u001b[0mdot\u001b[0m\u001b[1;33m(\u001b[0m\u001b[0mx_test\u001b[0m\u001b[1;33m,\u001b[0m \u001b[0mmodel\u001b[0m\u001b[1;33m.\u001b[0m\u001b[0mwInferred\u001b[0m\u001b[1;33m)\u001b[0m\u001b[1;33m,\u001b[0m \u001b[0mnewshape\u001b[0m\u001b[1;33m=\u001b[0m\u001b[1;33m[\u001b[0m\u001b[1;36m58\u001b[0m\u001b[1;33m,\u001b[0m\u001b[1;33m]\u001b[0m\u001b[1;33m)\u001b[0m\u001b[1;33m\u001b[0m\u001b[0m\n\u001b[0m",
      "\u001b[1;31mNameError\u001b[0m: name 'x_test' is not defined"
     ]
    }
   ],
   "source": [
    "preds = np.reshape(np.dot(x, model.wInferred), newshape=[58,])"
   ]
  },
  {
   "cell_type": "code",
   "execution_count": 5,
   "metadata": {
    "scrolled": true
   },
   "outputs": [
    {
     "name": "stdout",
     "output_type": "stream",
     "text": [
      "+ + + + + + + + + + + + + + + + + + + + + + + + + + + + + +  Prepping data, this may take a while..\n",
      "- - - - - - - - - - - - - - - - - - - - - - - - - - - - - -  Grouping probesets\n",
      "+ + + + + + + + + + + + + + + + + + + + + + + + + + + + + +  Creating X,y\n",
      "- - - - - - - - - - - - - - - - - - - - - - - - - - - - - -  Reducing dimensionality\n"
     ]
    },
    {
     "name": "stderr",
     "output_type": "stream",
     "text": [
      "c:\\users\\bramva~1\\envs\\worken~1\\lib\\site-packages\\sklearn\\discriminant_analysis.py:387: UserWarning: Variables are collinear.\n",
      "  warnings.warn(\"Variables are collinear.\")\n"
     ]
    },
    {
     "name": "stdout",
     "output_type": "stream",
     "text": [
      "++++++++++++++++++++++++++++++  RESULTS FOR CLASSIFICATION WITH GENOMIC DATA ++++++++++++++++++++++++++++++\n",
      "Initial alpha = [[ 0.22332277]]\n"
     ]
    },
    {
     "ename": "AttributeError",
     "evalue": "'rvm' object has no attribute 'wInferred'",
     "output_type": "error",
     "traceback": [
      "\u001b[1;31m---------------------------------------------------------------------------\u001b[0m",
      "\u001b[1;31mAttributeError\u001b[0m                            Traceback (most recent call last)",
      "\u001b[1;32m<ipython-input-5-1cc0017adf38>\u001b[0m in \u001b[0;36m<module>\u001b[1;34m()\u001b[0m\n\u001b[0;32m      5\u001b[0m                                               \u001b[0mreduction\u001b[0m \u001b[1;33m=\u001b[0m \u001b[1;34m'LDA'\u001b[0m\u001b[1;33m,\u001b[0m\u001b[1;33m\u001b[0m\u001b[0m\n\u001b[0;32m      6\u001b[0m                                               \u001b[0mn_comp\u001b[0m \u001b[1;33m=\u001b[0m \u001b[1;36m100\u001b[0m\u001b[1;33m,\u001b[0m\u001b[1;33m\u001b[0m\u001b[0m\n\u001b[1;32m----> 7\u001b[1;33m                                               re_normalise = True)\n\u001b[0m",
      "\u001b[1;32m~\\DEV\\RexR\\functions\\get_predictors.py\u001b[0m in \u001b[0;36mclassify_treatment\u001b[1;34m(self, model_type, features, grouping, n_splits, reduction, n_comp, re_normalise)\u001b[0m\n\u001b[0;32m    145\u001b[0m     \u001b[1;32mfor\u001b[0m \u001b[0mclf\u001b[0m \u001b[1;32min\u001b[0m \u001b[0mmodels\u001b[0m\u001b[1;33m:\u001b[0m\u001b[1;33m\u001b[0m\u001b[0m\n\u001b[0;32m    146\u001b[0m         \u001b[1;32mif\u001b[0m \u001b[0mclf\u001b[0m\u001b[1;33m[\u001b[0m\u001b[1;36m0\u001b[0m\u001b[1;33m]\u001b[0m \u001b[1;33m==\u001b[0m \u001b[1;34m'RVM'\u001b[0m\u001b[1;33m:\u001b[0m\u001b[1;33m\u001b[0m\u001b[0m\n\u001b[1;32m--> 147\u001b[1;33m             \u001b[0mpred\u001b[0m\u001b[1;33m,\u001b[0m \u001b[0macc\u001b[0m \u001b[1;33m=\u001b[0m \u001b[0m_helpers\u001b[0m\u001b[1;33m.\u001b[0m\u001b[0m_benchmark_classifier\u001b[0m\u001b[1;33m(\u001b[0m\u001b[0mclf\u001b[0m\u001b[1;33m,\u001b[0m \u001b[0mx\u001b[0m\u001b[1;33m,\u001b[0m \u001b[0my\u001b[0m\u001b[1;33m,\u001b[0m \u001b[0msplitter\u001b[0m\u001b[1;33m,\u001b[0m \u001b[0mself\u001b[0m\u001b[1;33m.\u001b[0m\u001b[0mSEED\u001b[0m\u001b[1;33m,\u001b[0m \u001b[0mframework\u001b[0m \u001b[1;33m=\u001b[0m \u001b[1;34m'custom_rvm'\u001b[0m\u001b[1;33m)\u001b[0m\u001b[1;33m\u001b[0m\u001b[0m\n\u001b[0m\u001b[0;32m    148\u001b[0m         \u001b[1;32melse\u001b[0m\u001b[1;33m:\u001b[0m\u001b[1;33m\u001b[0m\u001b[0m\n\u001b[0;32m    149\u001b[0m             \u001b[0mpred\u001b[0m\u001b[1;33m,\u001b[0m \u001b[0macc\u001b[0m \u001b[1;33m=\u001b[0m \u001b[0m_helpers\u001b[0m\u001b[1;33m.\u001b[0m\u001b[0m_benchmark_classifier\u001b[0m\u001b[1;33m(\u001b[0m\u001b[0mclf\u001b[0m\u001b[1;33m,\u001b[0m \u001b[0mx\u001b[0m\u001b[1;33m,\u001b[0m \u001b[0my\u001b[0m\u001b[1;33m,\u001b[0m \u001b[0msplitter\u001b[0m\u001b[1;33m,\u001b[0m \u001b[0mself\u001b[0m\u001b[1;33m.\u001b[0m\u001b[0mSEED\u001b[0m\u001b[1;33m,\u001b[0m \u001b[0mframework\u001b[0m \u001b[1;33m=\u001b[0m \u001b[1;34m'sklearn'\u001b[0m\u001b[1;33m)\u001b[0m\u001b[1;33m\u001b[0m\u001b[0m\n",
      "\u001b[1;32m~\\DEV\\RexR\\_helpers.py\u001b[0m in \u001b[0;36m_benchmark_classifier\u001b[1;34m(model, x, y, splitter, seed, framework)\u001b[0m\n\u001b[0;32m    203\u001b[0m \u001b[1;33m\u001b[0m\u001b[0m\n\u001b[0;32m    204\u001b[0m             \u001b[0mmodel\u001b[0m \u001b[1;33m=\u001b[0m \u001b[0mrvm\u001b[0m\u001b[1;33m.\u001b[0m\u001b[0mrvm\u001b[0m\u001b[1;33m(\u001b[0m\u001b[0mx\u001b[0m\u001b[1;33m,\u001b[0m \u001b[0my\u001b[0m\u001b[1;33m,\u001b[0m \u001b[0mnoise\u001b[0m \u001b[1;33m=\u001b[0m \u001b[1;36m0.01\u001b[0m\u001b[1;33m)\u001b[0m\u001b[1;33m\u001b[0m\u001b[0m\n\u001b[1;32m--> 205\u001b[1;33m             \u001b[0mpreds\u001b[0m \u001b[1;33m=\u001b[0m \u001b[0mnp\u001b[0m\u001b[1;33m.\u001b[0m\u001b[0mdot\u001b[0m\u001b[1;33m(\u001b[0m\u001b[0mx\u001b[0m\u001b[1;33m,\u001b[0m \u001b[0mmodel\u001b[0m\u001b[1;33m.\u001b[0m\u001b[0mwInferred\u001b[0m\u001b[1;33m)\u001b[0m\u001b[1;33m;\u001b[0m\u001b[1;33m\u001b[0m\u001b[0m\n\u001b[0m\u001b[0;32m    206\u001b[0m             \u001b[0mpred_\u001b[0m \u001b[1;33m=\u001b[0m \u001b[0mnp\u001b[0m\u001b[1;33m.\u001b[0m\u001b[0mappend\u001b[0m\u001b[1;33m(\u001b[0m\u001b[0mpreds\u001b[0m\u001b[1;33m,\u001b[0m \u001b[1;36m1\u001b[0m\u001b[1;33m-\u001b[0m\u001b[0mpreds\u001b[0m\u001b[1;33m[\u001b[0m\u001b[1;33m:\u001b[0m\u001b[1;33m]\u001b[0m\u001b[1;33m,\u001b[0m \u001b[1;36m1\u001b[0m\u001b[1;33m)\u001b[0m\u001b[1;33m\u001b[0m\u001b[0m\n\u001b[0;32m    207\u001b[0m             \u001b[0mpred\u001b[0m\u001b[1;33m[\u001b[0m\u001b[0mtest_index\u001b[0m\u001b[1;33m]\u001b[0m \u001b[1;33m=\u001b[0m \u001b[0mpred_\u001b[0m\u001b[1;33m\u001b[0m\u001b[0m\n",
      "\u001b[1;31mAttributeError\u001b[0m: 'rvm' object has no attribute 'wInferred'"
     ]
    }
   ],
   "source": [
    "preds, class_model = Rocket.classify_treatment(model_type = 'RVM', \n",
    "                                              features = 'all', \n",
    "                                              grouping= 'mean', \n",
    "                                              n_splits = 10, \n",
    "                                              reduction = 'LDA',\n",
    "                                              n_comp = 100,\n",
    "                                              re_normalise = True)"
   ]
  },
  {
   "cell_type": "code",
   "execution_count": 19,
   "metadata": {},
   "outputs": [
    {
     "ename": "IndexError",
     "evalue": "index 1 is out of bounds for axis 0 with size 1",
     "output_type": "error",
     "traceback": [
      "\u001b[1;31m---------------------------------------------------------------------------\u001b[0m",
      "\u001b[1;31mIndexError\u001b[0m                                Traceback (most recent call last)",
      "\u001b[1;32m<ipython-input-19-13023225bd76>\u001b[0m in \u001b[0;36m<module>\u001b[1;34m()\u001b[0m\n\u001b[1;32m----> 1\u001b[1;33m \u001b[0mpreds_rvm\u001b[0m \u001b[1;33m=\u001b[0m \u001b[1;33m[\u001b[0m\u001b[0mpred_\u001b[0m\u001b[1;33m[\u001b[0m\u001b[1;36m1\u001b[0m\u001b[1;33m]\u001b[0m\u001b[1;32mfor\u001b[0m \u001b[0mpred_\u001b[0m \u001b[1;32min\u001b[0m \u001b[0mpreds_rvm\u001b[0m\u001b[1;33m]\u001b[0m\u001b[1;33m\u001b[0m\u001b[0m\n\u001b[0m\u001b[0;32m      2\u001b[0m \u001b[1;31m#len(Rocket.DATA_merged[Rocket.DATA_merged[\"array-batch\"].isin([\"cohort 1\", \"cohort 2\", \"JB\", \"IA\", \"ALL-10\"])])\u001b[0m\u001b[1;33m\u001b[0m\u001b[1;33m\u001b[0m\u001b[0m\n\u001b[0;32m      3\u001b[0m \u001b[0mResults\u001b[0m \u001b[1;33m=\u001b[0m \u001b[0mRocket\u001b[0m\u001b[1;33m.\u001b[0m\u001b[0mDATA_merged_processed\u001b[0m\u001b[1;33m\u001b[0m\u001b[0m\n\u001b[0;32m      4\u001b[0m \u001b[0mResults\u001b[0m\u001b[1;33m[\u001b[0m\u001b[1;34m'pred'\u001b[0m\u001b[1;33m]\u001b[0m \u001b[1;33m=\u001b[0m \u001b[0mpreds\u001b[0m\u001b[1;33m\u001b[0m\u001b[0m\n\u001b[0;32m      5\u001b[0m \u001b[0mprint\u001b[0m\u001b[1;33m(\u001b[0m\u001b[0mResults\u001b[0m\u001b[1;33m[\u001b[0m\u001b[1;33m:\u001b[0m\u001b[1;36m311\u001b[0m\u001b[1;33m]\u001b[0m\u001b[1;33m[\u001b[0m\u001b[1;33m[\u001b[0m\u001b[1;34m'labnr patient'\u001b[0m\u001b[1;33m,\u001b[0m \u001b[1;34m'pred'\u001b[0m\u001b[1;33m,\u001b[0m \u001b[1;34m'Treatment risk group in ALL10'\u001b[0m\u001b[1;33m]\u001b[0m\u001b[1;33m]\u001b[0m\u001b[1;33m)\u001b[0m\u001b[1;33m\u001b[0m\u001b[0m\n",
      "\u001b[1;32m<ipython-input-19-13023225bd76>\u001b[0m in \u001b[0;36m<listcomp>\u001b[1;34m(.0)\u001b[0m\n\u001b[1;32m----> 1\u001b[1;33m \u001b[0mpreds_rvm\u001b[0m \u001b[1;33m=\u001b[0m \u001b[1;33m[\u001b[0m\u001b[0mpred_\u001b[0m\u001b[1;33m[\u001b[0m\u001b[1;36m1\u001b[0m\u001b[1;33m]\u001b[0m\u001b[1;32mfor\u001b[0m \u001b[0mpred_\u001b[0m \u001b[1;32min\u001b[0m \u001b[0mpreds_rvm\u001b[0m\u001b[1;33m]\u001b[0m\u001b[1;33m\u001b[0m\u001b[0m\n\u001b[0m\u001b[0;32m      2\u001b[0m \u001b[1;31m#len(Rocket.DATA_merged[Rocket.DATA_merged[\"array-batch\"].isin([\"cohort 1\", \"cohort 2\", \"JB\", \"IA\", \"ALL-10\"])])\u001b[0m\u001b[1;33m\u001b[0m\u001b[1;33m\u001b[0m\u001b[0m\n\u001b[0;32m      3\u001b[0m \u001b[0mResults\u001b[0m \u001b[1;33m=\u001b[0m \u001b[0mRocket\u001b[0m\u001b[1;33m.\u001b[0m\u001b[0mDATA_merged_processed\u001b[0m\u001b[1;33m\u001b[0m\u001b[0m\n\u001b[0;32m      4\u001b[0m \u001b[0mResults\u001b[0m\u001b[1;33m[\u001b[0m\u001b[1;34m'pred'\u001b[0m\u001b[1;33m]\u001b[0m \u001b[1;33m=\u001b[0m \u001b[0mpreds\u001b[0m\u001b[1;33m\u001b[0m\u001b[0m\n\u001b[0;32m      5\u001b[0m \u001b[0mprint\u001b[0m\u001b[1;33m(\u001b[0m\u001b[0mResults\u001b[0m\u001b[1;33m[\u001b[0m\u001b[1;33m:\u001b[0m\u001b[1;36m311\u001b[0m\u001b[1;33m]\u001b[0m\u001b[1;33m[\u001b[0m\u001b[1;33m[\u001b[0m\u001b[1;34m'labnr patient'\u001b[0m\u001b[1;33m,\u001b[0m \u001b[1;34m'pred'\u001b[0m\u001b[1;33m,\u001b[0m \u001b[1;34m'Treatment risk group in ALL10'\u001b[0m\u001b[1;33m]\u001b[0m\u001b[1;33m]\u001b[0m\u001b[1;33m)\u001b[0m\u001b[1;33m\u001b[0m\u001b[0m\n",
      "\u001b[1;31mIndexError\u001b[0m: index 1 is out of bounds for axis 0 with size 1"
     ]
    }
   ],
   "source": [
    "preds = [pred_[1]for pred_ in preds]\n",
    "#len(Rocket.DATA_merged[Rocket.DATA_merged[\"array-batch\"].isin([\"cohort 1\", \"cohort 2\", \"JB\", \"IA\", \"ALL-10\"])])\n",
    "Results = Rocket.DATA_merged_processed\n",
    "Results['pred'] = preds\n",
    "print(Results[:311][['labnr patient', 'pred', 'Treatment risk group in ALL10']])"
   ]
  },
  {
   "cell_type": "code",
   "execution_count": 13,
   "metadata": {},
   "outputs": [
    {
     "name": "stdout",
     "output_type": "stream",
     "text": [
      "727.576388889\n"
     ]
    }
   ],
   "source": [
    "# get top genes\n",
    "Rocket.get_top_genes(n = 100)"
   ]
  }
 ],
 "metadata": {
  "kernelspec": {
   "display_name": "Python 3",
   "language": "python",
   "name": "python3"
  },
  "language_info": {
   "codemirror_mode": {
    "name": "ipython",
    "version": 3
   },
   "file_extension": ".py",
   "mimetype": "text/x-python",
   "name": "python",
   "nbconvert_exporter": "python",
   "pygments_lexer": "ipython3",
   "version": "3.6.2"
  }
 },
 "nbformat": 4,
 "nbformat_minor": 2
}
