{
 "cells": [
  {
   "cell_type": "code",
   "execution_count": 1,
   "metadata": {
    "collapsed": false,
    "deletable": true,
    "editable": true
   },
   "outputs": [
    {
     "name": "stderr",
     "output_type": "stream",
     "text": [
      "/usr/local/lib/python3.5/dist-packages/sklearn/qda.py:6: DeprecationWarning: qda.QDA has been moved to discriminant_analysis.QuadraticDiscriminantAnalysis in 0.17 and will be removed in 0.19.\n",
      "  \"in 0.17 and will be removed in 0.19.\", DeprecationWarning)\n"
     ]
    },
    {
     "name": "stdout",
     "output_type": "stream",
     "text": [
      "++++++++++++++++++++++++++++++ Firing up RexR! ++++++++++++++++++++++++++++++\n"
     ]
    }
   ],
   "source": [
    "import pandas\n",
    "import numpy\n",
    "from RexR import *\n",
    "import _helpers\n",
    "Rocket = RexR(datalocation = '/home/bramiozo/DEV/RexR/_data/genomic_data/data.pkl', seed = 3123, debug = True)\n",
    "Rocket.load_probeset_data();"
   ]
  },
  {
   "cell_type": "code",
   "execution_count": 2,
   "metadata": {
    "collapsed": true,
    "deletable": true,
    "editable": true
   },
   "outputs": [],
   "source": [
    "##### LOAD IN DATA\n",
    "###################"
   ]
  },
  {
   "cell_type": "code",
   "execution_count": 2,
   "metadata": {
    "collapsed": false,
    "deletable": true,
    "editable": true,
    "scrolled": true
   },
   "outputs": [
    {
     "name": "stdout",
     "output_type": "stream",
     "text": [
      "+ + + + + + + + + + + + + + + + + + + + + + + + + + + + + +  Prepping data\n",
      "- - - - - - - - - - - - - - - - - - - - - - - - - - - - - -  Grouping probesets\n",
      "+ + + + + + + + + + + + + + + + + + + + + + + + + + + + + +  Creating X,y\n",
      "++++++++++++++++++++++++++++++  RESULTS FOR CLASSIFICATION WITH GENOMIC DATA ++++++++++++++++++++++++++++++\n",
      "MODEL: CART accuracy:  0.869565217391 +/-: 0.0143877336694\n",
      "++++++++++++++++++++++++++++++  Report ++++++++++++++++++++++++++++++\n",
      "             precision    recall  f1-score   support\n",
      "\n",
      "          0       0.88      0.90      0.89        40\n",
      "          1       0.86      0.83      0.84        29\n",
      "\n",
      "avg / total       0.87      0.87      0.87        69\n",
      "\n",
      "++++++++++++++++++++++++++++++++++++++++++++++++++\n",
      "++++++++++++++++++++++++++++++  RESULTS FOR CLASSIFICATION INCLUDING PATIENT DATA ++++++++++++++++++++++++++++++\n",
      "---------\n",
      "MODEL: CART accuracy:  0.782608695652 +/-: 0.0172682809734\n",
      "++++++++++++++++++++++++++++++  Report ++++++++++++++++++++++++++++++\n",
      "             precision    recall  f1-score   support\n",
      "\n",
      "          0       0.84      0.78      0.81        40\n",
      "          1       0.72      0.79      0.75        29\n",
      "\n",
      "avg / total       0.79      0.78      0.78        69\n",
      "\n"
     ]
    },
    {
     "name": "stderr",
     "output_type": "stream",
     "text": [
      "/usr/local/lib/python3.5/dist-packages/pandas/core/frame.py:2440: SettingWithCopyWarning: \n",
      "A value is trying to be set on a copy of a slice from a DataFrame.\n",
      "Try using .loc[row_indexer,col_indexer] = value instead\n",
      "\n",
      "See the caveats in the documentation: http://pandas.pydata.org/pandas-docs/stable/indexing.html#indexing-view-versus-copy\n",
      "  self[k1] = value[k2]\n"
     ]
    }
   ],
   "source": [
    "preds, class_model = Rocket.classify_treatment(model_type ='CART', \n",
    "                                              features = 'all', \n",
    "                                              grouping= 'mean', \n",
    "                                              n_splits = 10)"
   ]
  },
  {
   "cell_type": "code",
   "execution_count": 3,
   "metadata": {
    "collapsed": false,
    "deletable": true,
    "editable": true
   },
   "outputs": [
    {
     "name": "stdout",
     "output_type": "stream",
     "text": [
      "    labnr patient  pred Treatment risk group in ALL10\n",
      "1             258  0.00                           NaN\n",
      "2             531  0.00                           NaN\n",
      "3             531  1.00                           NaN\n",
      "4            2759  0.00                           NaN\n",
      "5            2774  0.00                           NaN\n",
      "6            1941  1.00                           NaN\n",
      "7            1960  1.00                           NaN\n",
      "8            2760  0.25                           NaN\n",
      "9            2751  0.50                           NaN\n",
      "10           2844  0.25                           NaN\n",
      "11           1949  0.25                           NaN\n",
      "12           2722  1.00                           NaN\n",
      "13           2788  0.50                           NaN\n",
      "14           2720  0.25                           NaN\n",
      "15           2750  0.00                           NaN\n",
      "16           2736  0.75                           NaN\n",
      "17            634  1.00                           NaN\n",
      "18            720  1.00                           NaN\n",
      "19           1179  0.00                           NaN\n",
      "20           2757  1.00                           NaN\n",
      "21           2772  1.00                           NaN\n",
      "22           2780  0.50                           NaN\n",
      "23           1946  1.00                           NaN\n",
      "24           2650  0.00                           NaN\n",
      "25           1954  0.00                           NaN\n",
      "26           2723  0.00                           NaN\n",
      "27           2723  1.00                           NaN\n",
      "28            419  0.25                           NaN\n",
      "29            419  0.25                           NaN\n",
      "30           2737  0.00                           NaN\n",
      "..            ...   ...                           ...\n",
      "282          7405  0.75                            HR\n",
      "283          7406  1.00                            HR\n",
      "284          7411  1.00                            HR\n",
      "285          7415  1.00                            HR\n",
      "286          7418  1.00                            HR\n",
      "287          7420  0.50                            ND\n",
      "288          7424  0.50                            MR\n",
      "289          7433  0.00                            MR\n",
      "290          7436  1.00                            HR\n",
      "291          7672  0.00                            MR\n",
      "292          7673  0.50                            HR\n",
      "293          7675  0.00                            MR\n",
      "294          7678  1.00                            HR\n",
      "295          7685  0.25                            MR\n",
      "296          7697  0.75                            HR\n",
      "297          7700  0.00                            MR\n",
      "298          7710  1.00                            HR\n",
      "299          7769  0.50                            MR\n",
      "300          7757  1.00                            HR\n",
      "301         77556  0.25                            HR\n",
      "302          7748  1.00                            HR\n",
      "303          7743  0.00                            SR\n",
      "304           NaN  0.00                           NaN\n",
      "305           NaN  0.50                           NaN\n",
      "306           NaN  0.50                           NaN\n",
      "307           NaN  0.50                           NaN\n",
      "308           NaN  0.50                           NaN\n",
      "309           NaN  0.50                           NaN\n",
      "310           NaN  0.50                           NaN\n",
      "311           NaN  0.50                           NaN\n",
      "\n",
      "[311 rows x 3 columns]\n"
     ]
    },
    {
     "name": "stderr",
     "output_type": "stream",
     "text": [
      "/usr/local/lib/python3.5/dist-packages/ipykernel/__main__.py:4: SettingWithCopyWarning: \n",
      "A value is trying to be set on a copy of a slice from a DataFrame.\n",
      "Try using .loc[row_indexer,col_indexer] = value instead\n",
      "\n",
      "See the caveats in the documentation: http://pandas.pydata.org/pandas-docs/stable/indexing.html#indexing-view-versus-copy\n"
     ]
    }
   ],
   "source": [
    "preds = [pred_[1]for pred_ in preds]\n",
    "#len(Rocket.DATA_merged[Rocket.DATA_merged[\"array-batch\"].isin([\"cohort 1\", \"cohort 2\", \"JB\", \"IA\", \"ALL-10\"])])\n",
    "Results = Rocket.DATA_merged_processed\n",
    "Results['pred'] = preds\n",
    "print(Results[:311][['labnr patient', 'pred', 'Treatment risk group in ALL10']])"
   ]
  },
  {
   "cell_type": "code",
   "execution_count": 13,
   "metadata": {
    "collapsed": false,
    "deletable": true,
    "editable": true
   },
   "outputs": [
    {
     "name": "stdout",
     "output_type": "stream",
     "text": [
      "727.576388889\n"
     ]
    }
   ],
   "source": [
    "nparr = numpy.array([[1,2,100],[1,1,1],[2,5,10],[2,4,2]])\n",
    "nparr2= nparr.var()\n",
    "print(nparr2)"
   ]
  }
 ],
 "metadata": {
  "kernelspec": {
   "display_name": "Python 3",
   "language": "python",
   "name": "python3"
  },
  "language_info": {
   "codemirror_mode": {
    "name": "ipython",
    "version": 3
   },
   "file_extension": ".py",
   "mimetype": "text/x-python",
   "name": "python",
   "nbconvert_exporter": "python",
   "pygments_lexer": "ipython3",
   "version": "3.5.2"
  }
 },
 "nbformat": 4,
 "nbformat_minor": 2
}
