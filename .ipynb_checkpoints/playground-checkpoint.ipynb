{
 "cells": [
  {
   "cell_type": "code",
   "execution_count": 1,
   "metadata": {
    "collapsed": false
   },
   "outputs": [
    {
     "name": "stdout",
     "output_type": "stream",
     "text": [
      "Firing up RexR!\n"
     ]
    }
   ],
   "source": [
    "import pandas\n",
    "from RexR import *\n",
    "import _helpers\n",
    "Rocket = RexR()"
   ]
  },
  {
   "cell_type": "code",
   "execution_count": null,
   "metadata": {
    "collapsed": true
   },
   "outputs": [],
   "source": [
    "##### LOAD IN DATA\n",
    "###################"
   ]
  },
  {
   "cell_type": "code",
   "execution_count": 2,
   "metadata": {
    "collapsed": false
   },
   "outputs": [],
   "source": [
    "Rocket.load_probeset_data();"
   ]
  },
  {
   "cell_type": "code",
   "execution_count": 3,
   "metadata": {
    "collapsed": false
   },
   "outputs": [
    {
     "name": "stdout",
     "output_type": "stream",
     "text": [
      "0.857142857143\n",
      "0.714285714286\n",
      "0.714285714286\n",
      "0.5\n",
      "0.5\n",
      "1.0\n",
      "0.6\n",
      "0.4\n",
      "0.8\n",
      "0.8\n"
     ]
    }
   ],
   "source": [
    "class_model = Rocket.classify_treatment_model(model='SVM', features = 'genomic', grouping= 'first', n_splits = 10)"
   ]
  },
  {
   "cell_type": "code",
   "execution_count": 4,
   "metadata": {
    "collapsed": false
   },
   "outputs": [
    {
     "name": "stdout",
     "output_type": "stream",
     "text": [
      "1.0\n",
      "0.857142857143\n",
      "0.571428571429\n",
      "0.714285714286\n",
      "0.571428571429\n",
      "0.571428571429\n",
      "0.857142857143\n",
      "0.285714285714\n",
      "0.428571428571\n",
      "0.833333333333\n"
     ]
    }
   ],
   "source": [
    "class_model2 = Rocket.classify_treatment_model(model='SVM', features = 'genomic', grouping = 'mean', n_splits = 10)"
   ]
  },
  {
   "cell_type": "code",
   "execution_count": 3,
   "metadata": {
    "collapsed": false
   },
   "outputs": [
    {
     "name": "stdout",
     "output_type": "stream",
     "text": [
      "1.0\n",
      "0.857142857143\n",
      "0.714285714286\n",
      "0.5\n",
      "0.333333333333\n",
      "1.0\n",
      "0.6\n",
      "0.4\n",
      "0.6\n",
      "0.8\n",
      "[[2 1]\n",
      " [0 2]]\n"
     ]
    }
   ],
   "source": [
    "class_model3 = Rocket.classify_treatment_model(model='SVM', features = 'genomic', grouping = 'min', n_splits = 10)"
   ]
  },
  {
   "cell_type": "code",
   "execution_count": null,
   "metadata": {
    "collapsed": false
   },
   "outputs": [],
   "source": [
    "class_model4 = Rocket.classify_treatment_model(model='SVM', features = 'genomic', grouping = 'max', n_splits = 10)"
   ]
  }
 ],
 "metadata": {
  "kernelspec": {
   "display_name": "py35",
   "language": "python",
   "name": "py35"
  },
  "language_info": {
   "codemirror_mode": {
    "name": "ipython",
    "version": 3
   },
   "file_extension": ".py",
   "mimetype": "text/x-python",
   "name": "python",
   "nbconvert_exporter": "python",
   "pygments_lexer": "ipython3",
   "version": "3.5.2"
  }
 },
 "nbformat": 4,
 "nbformat_minor": 2
}
